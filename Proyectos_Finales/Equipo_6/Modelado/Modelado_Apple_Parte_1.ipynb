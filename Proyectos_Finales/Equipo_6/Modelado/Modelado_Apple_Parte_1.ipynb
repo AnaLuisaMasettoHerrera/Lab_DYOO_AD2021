{
 "cells": [
  {
   "cell_type": "code",
   "execution_count": 4,
   "id": "28d4f085",
   "metadata": {},
   "outputs": [],
   "source": [
    "#Paqueterias\n",
    "import pandas as pd \n",
    "import matplotlib.pyplot as plt"
   ]
  },
  {
   "cell_type": "code",
   "execution_count": 5,
   "id": "92742882",
   "metadata": {},
   "outputs": [],
   "source": [
    "datos_modelo = pd.read_csv('Datos_completos.csv')"
   ]
  },
  {
   "cell_type": "code",
   "execution_count": 6,
   "id": "fb563cd8",
   "metadata": {},
   "outputs": [
    {
     "data": {
      "text/html": [
       "<div>\n",
       "<style scoped>\n",
       "    .dataframe tbody tr th:only-of-type {\n",
       "        vertical-align: middle;\n",
       "    }\n",
       "\n",
       "    .dataframe tbody tr th {\n",
       "        vertical-align: top;\n",
       "    }\n",
       "\n",
       "    .dataframe thead th {\n",
       "        text-align: right;\n",
       "    }\n",
       "</style>\n",
       "<table border=\"1\" class=\"dataframe\">\n",
       "  <thead>\n",
       "    <tr style=\"text-align: right;\">\n",
       "      <th></th>\n",
       "      <th>pdv_id</th>\n",
       "      <th>mes_id</th>\n",
       "      <th>sku_id</th>\n",
       "      <th>ventas_totales</th>\n",
       "      <th>y_ventas_siguiente_mes</th>\n",
       "      <th>ventas_totales_en_tienda_de_cada_mes</th>\n",
       "      <th>ventas_promedio_en_tienda_de_cada_mes</th>\n",
       "      <th>ventas_totales_en_tienda_de_cada_sku</th>\n",
       "      <th>ventas_promedio_en_tienda_de_cada_sku</th>\n",
       "      <th>ventas_totales_1_mes_pasado</th>\n",
       "      <th>...</th>\n",
       "      <th>ventas_totales_tienda_y_mes_3_pasado</th>\n",
       "      <th>ventas_promedio_tienda_y_mes_del_mes_pasado</th>\n",
       "      <th>ventas_promedio_tienda_y_mes_2_pasado</th>\n",
       "      <th>ventas_promedio_tienda_y_mes_3_pasado</th>\n",
       "      <th>ventas_totales_tienda_y_sku_del_mes_pasado</th>\n",
       "      <th>ventas_totales_tienda_y_sku_2_pasado</th>\n",
       "      <th>ventas_totales_tienda_y_sku_3_pasado</th>\n",
       "      <th>ventas_promedio_tienda_y_sku_del_mes_pasado</th>\n",
       "      <th>ventas_promedio_tienda_y_sku_2_pasado</th>\n",
       "      <th>ventas_promedio_tienda_y_sku_3_pasado</th>\n",
       "    </tr>\n",
       "  </thead>\n",
       "  <tbody>\n",
       "    <tr>\n",
       "      <th>0</th>\n",
       "      <td>1</td>\n",
       "      <td>0</td>\n",
       "      <td>1</td>\n",
       "      <td>1</td>\n",
       "      <td>1</td>\n",
       "      <td>1</td>\n",
       "      <td>0.033333</td>\n",
       "      <td>2087</td>\n",
       "      <td>1.260266</td>\n",
       "      <td>0</td>\n",
       "      <td>...</td>\n",
       "      <td>0</td>\n",
       "      <td>0.000000</td>\n",
       "      <td>0.000000</td>\n",
       "      <td>0.000000</td>\n",
       "      <td>0</td>\n",
       "      <td>0</td>\n",
       "      <td>0</td>\n",
       "      <td>0.000000</td>\n",
       "      <td>0.000000</td>\n",
       "      <td>0.000000</td>\n",
       "    </tr>\n",
       "    <tr>\n",
       "      <th>1</th>\n",
       "      <td>1</td>\n",
       "      <td>1</td>\n",
       "      <td>1</td>\n",
       "      <td>1</td>\n",
       "      <td>0</td>\n",
       "      <td>5</td>\n",
       "      <td>0.166667</td>\n",
       "      <td>2106</td>\n",
       "      <td>1.271739</td>\n",
       "      <td>1</td>\n",
       "      <td>...</td>\n",
       "      <td>0</td>\n",
       "      <td>0.033333</td>\n",
       "      <td>0.000000</td>\n",
       "      <td>0.000000</td>\n",
       "      <td>2087</td>\n",
       "      <td>0</td>\n",
       "      <td>0</td>\n",
       "      <td>1.260266</td>\n",
       "      <td>0.000000</td>\n",
       "      <td>0.000000</td>\n",
       "    </tr>\n",
       "    <tr>\n",
       "      <th>2</th>\n",
       "      <td>1</td>\n",
       "      <td>2</td>\n",
       "      <td>1</td>\n",
       "      <td>0</td>\n",
       "      <td>0</td>\n",
       "      <td>1</td>\n",
       "      <td>0.033333</td>\n",
       "      <td>2028</td>\n",
       "      <td>1.224638</td>\n",
       "      <td>1</td>\n",
       "      <td>...</td>\n",
       "      <td>0</td>\n",
       "      <td>0.166667</td>\n",
       "      <td>0.033333</td>\n",
       "      <td>0.000000</td>\n",
       "      <td>2106</td>\n",
       "      <td>2087</td>\n",
       "      <td>0</td>\n",
       "      <td>1.271739</td>\n",
       "      <td>1.260266</td>\n",
       "      <td>0.000000</td>\n",
       "    </tr>\n",
       "    <tr>\n",
       "      <th>3</th>\n",
       "      <td>1</td>\n",
       "      <td>3</td>\n",
       "      <td>1</td>\n",
       "      <td>0</td>\n",
       "      <td>0</td>\n",
       "      <td>1</td>\n",
       "      <td>0.033333</td>\n",
       "      <td>1187</td>\n",
       "      <td>0.716787</td>\n",
       "      <td>0</td>\n",
       "      <td>...</td>\n",
       "      <td>1</td>\n",
       "      <td>0.033333</td>\n",
       "      <td>0.166667</td>\n",
       "      <td>0.033333</td>\n",
       "      <td>2028</td>\n",
       "      <td>2106</td>\n",
       "      <td>2087</td>\n",
       "      <td>1.224638</td>\n",
       "      <td>1.271739</td>\n",
       "      <td>1.260266</td>\n",
       "    </tr>\n",
       "    <tr>\n",
       "      <th>4</th>\n",
       "      <td>1</td>\n",
       "      <td>4</td>\n",
       "      <td>1</td>\n",
       "      <td>0</td>\n",
       "      <td>0</td>\n",
       "      <td>0</td>\n",
       "      <td>0.000000</td>\n",
       "      <td>695</td>\n",
       "      <td>0.419686</td>\n",
       "      <td>0</td>\n",
       "      <td>...</td>\n",
       "      <td>5</td>\n",
       "      <td>0.033333</td>\n",
       "      <td>0.033333</td>\n",
       "      <td>0.166667</td>\n",
       "      <td>1187</td>\n",
       "      <td>2028</td>\n",
       "      <td>2106</td>\n",
       "      <td>0.716787</td>\n",
       "      <td>1.224638</td>\n",
       "      <td>1.271739</td>\n",
       "    </tr>\n",
       "  </tbody>\n",
       "</table>\n",
       "<p>5 rows × 24 columns</p>\n",
       "</div>"
      ],
      "text/plain": [
       "   pdv_id  mes_id  sku_id  ventas_totales  y_ventas_siguiente_mes  \\\n",
       "0       1       0       1               1                       1   \n",
       "1       1       1       1               1                       0   \n",
       "2       1       2       1               0                       0   \n",
       "3       1       3       1               0                       0   \n",
       "4       1       4       1               0                       0   \n",
       "\n",
       "   ventas_totales_en_tienda_de_cada_mes  \\\n",
       "0                                     1   \n",
       "1                                     5   \n",
       "2                                     1   \n",
       "3                                     1   \n",
       "4                                     0   \n",
       "\n",
       "   ventas_promedio_en_tienda_de_cada_mes  \\\n",
       "0                               0.033333   \n",
       "1                               0.166667   \n",
       "2                               0.033333   \n",
       "3                               0.033333   \n",
       "4                               0.000000   \n",
       "\n",
       "   ventas_totales_en_tienda_de_cada_sku  \\\n",
       "0                                  2087   \n",
       "1                                  2106   \n",
       "2                                  2028   \n",
       "3                                  1187   \n",
       "4                                   695   \n",
       "\n",
       "   ventas_promedio_en_tienda_de_cada_sku  ventas_totales_1_mes_pasado  ...  \\\n",
       "0                               1.260266                            0  ...   \n",
       "1                               1.271739                            1  ...   \n",
       "2                               1.224638                            1  ...   \n",
       "3                               0.716787                            0  ...   \n",
       "4                               0.419686                            0  ...   \n",
       "\n",
       "   ventas_totales_tienda_y_mes_3_pasado  \\\n",
       "0                                     0   \n",
       "1                                     0   \n",
       "2                                     0   \n",
       "3                                     1   \n",
       "4                                     5   \n",
       "\n",
       "   ventas_promedio_tienda_y_mes_del_mes_pasado  \\\n",
       "0                                     0.000000   \n",
       "1                                     0.033333   \n",
       "2                                     0.166667   \n",
       "3                                     0.033333   \n",
       "4                                     0.033333   \n",
       "\n",
       "   ventas_promedio_tienda_y_mes_2_pasado  \\\n",
       "0                               0.000000   \n",
       "1                               0.000000   \n",
       "2                               0.033333   \n",
       "3                               0.166667   \n",
       "4                               0.033333   \n",
       "\n",
       "   ventas_promedio_tienda_y_mes_3_pasado  \\\n",
       "0                               0.000000   \n",
       "1                               0.000000   \n",
       "2                               0.000000   \n",
       "3                               0.033333   \n",
       "4                               0.166667   \n",
       "\n",
       "   ventas_totales_tienda_y_sku_del_mes_pasado  \\\n",
       "0                                           0   \n",
       "1                                        2087   \n",
       "2                                        2106   \n",
       "3                                        2028   \n",
       "4                                        1187   \n",
       "\n",
       "   ventas_totales_tienda_y_sku_2_pasado  ventas_totales_tienda_y_sku_3_pasado  \\\n",
       "0                                     0                                     0   \n",
       "1                                     0                                     0   \n",
       "2                                  2087                                     0   \n",
       "3                                  2106                                  2087   \n",
       "4                                  2028                                  2106   \n",
       "\n",
       "   ventas_promedio_tienda_y_sku_del_mes_pasado  \\\n",
       "0                                     0.000000   \n",
       "1                                     1.260266   \n",
       "2                                     1.271739   \n",
       "3                                     1.224638   \n",
       "4                                     0.716787   \n",
       "\n",
       "   ventas_promedio_tienda_y_sku_2_pasado  \\\n",
       "0                               0.000000   \n",
       "1                               0.000000   \n",
       "2                               1.260266   \n",
       "3                               1.271739   \n",
       "4                               1.224638   \n",
       "\n",
       "   ventas_promedio_tienda_y_sku_3_pasado  \n",
       "0                               0.000000  \n",
       "1                               0.000000  \n",
       "2                               0.000000  \n",
       "3                               1.260266  \n",
       "4                               1.271739  \n",
       "\n",
       "[5 rows x 24 columns]"
      ]
     },
     "execution_count": 6,
     "metadata": {},
     "output_type": "execute_result"
    }
   ],
   "source": [
    "datos_modelo.head(5)"
   ]
  },
  {
   "cell_type": "code",
   "execution_count": 7,
   "id": "e9416c57",
   "metadata": {},
   "outputs": [
    {
     "data": {
      "text/plain": [
       "(447120, 24)"
      ]
     },
     "execution_count": 7,
     "metadata": {},
     "output_type": "execute_result"
    }
   ],
   "source": [
    "datos_modelo.shape"
   ]
  },
  {
   "cell_type": "code",
   "execution_count": 8,
   "id": "deb9ff06",
   "metadata": {},
   "outputs": [
    {
     "data": {
      "text/plain": [
       "Index(['pdv_id', 'mes_id', 'sku_id', 'ventas_totales',\n",
       "       'y_ventas_siguiente_mes', 'ventas_totales_en_tienda_de_cada_mes',\n",
       "       'ventas_promedio_en_tienda_de_cada_mes',\n",
       "       'ventas_totales_en_tienda_de_cada_sku',\n",
       "       'ventas_promedio_en_tienda_de_cada_sku', 'ventas_totales_1_mes_pasado',\n",
       "       'ventas_totales_2_meses_pasados', 'ventas_totales_3_meses_pasados',\n",
       "       'ventas_totales_tienda_y_mes_del_mes_pasado',\n",
       "       'ventas_totales_tienda_y_mes_2_pasado',\n",
       "       'ventas_totales_tienda_y_mes_3_pasado',\n",
       "       'ventas_promedio_tienda_y_mes_del_mes_pasado',\n",
       "       'ventas_promedio_tienda_y_mes_2_pasado',\n",
       "       'ventas_promedio_tienda_y_mes_3_pasado',\n",
       "       'ventas_totales_tienda_y_sku_del_mes_pasado',\n",
       "       'ventas_totales_tienda_y_sku_2_pasado',\n",
       "       'ventas_totales_tienda_y_sku_3_pasado',\n",
       "       'ventas_promedio_tienda_y_sku_del_mes_pasado',\n",
       "       'ventas_promedio_tienda_y_sku_2_pasado',\n",
       "       'ventas_promedio_tienda_y_sku_3_pasado'],\n",
       "      dtype='object')"
      ]
     },
     "execution_count": 8,
     "metadata": {},
     "output_type": "execute_result"
    }
   ],
   "source": [
    "datos_modelo.columns"
   ]
  },
  {
   "cell_type": "code",
   "execution_count": 9,
   "id": "4f898e27",
   "metadata": {},
   "outputs": [
    {
     "data": {
      "text/html": [
       "<div>\n",
       "<style scoped>\n",
       "    .dataframe tbody tr th:only-of-type {\n",
       "        vertical-align: middle;\n",
       "    }\n",
       "\n",
       "    .dataframe tbody tr th {\n",
       "        vertical-align: top;\n",
       "    }\n",
       "\n",
       "    .dataframe thead th {\n",
       "        text-align: right;\n",
       "    }\n",
       "</style>\n",
       "<table border=\"1\" class=\"dataframe\">\n",
       "  <thead>\n",
       "    <tr style=\"text-align: right;\">\n",
       "      <th></th>\n",
       "      <th>pdv_id</th>\n",
       "      <th>mes_id</th>\n",
       "      <th>sku_id</th>\n",
       "      <th>ventas_totales</th>\n",
       "      <th>y_ventas_siguiente_mes</th>\n",
       "      <th>ventas_totales_en_tienda_de_cada_mes</th>\n",
       "      <th>ventas_promedio_en_tienda_de_cada_mes</th>\n",
       "      <th>ventas_totales_en_tienda_de_cada_sku</th>\n",
       "      <th>ventas_promedio_en_tienda_de_cada_sku</th>\n",
       "      <th>ventas_totales_1_mes_pasado</th>\n",
       "      <th>...</th>\n",
       "      <th>ventas_totales_tienda_y_mes_3_pasado</th>\n",
       "      <th>ventas_promedio_tienda_y_mes_del_mes_pasado</th>\n",
       "      <th>ventas_promedio_tienda_y_mes_2_pasado</th>\n",
       "      <th>ventas_promedio_tienda_y_mes_3_pasado</th>\n",
       "      <th>ventas_totales_tienda_y_sku_del_mes_pasado</th>\n",
       "      <th>ventas_totales_tienda_y_sku_2_pasado</th>\n",
       "      <th>ventas_totales_tienda_y_sku_3_pasado</th>\n",
       "      <th>ventas_promedio_tienda_y_sku_del_mes_pasado</th>\n",
       "      <th>ventas_promedio_tienda_y_sku_2_pasado</th>\n",
       "      <th>ventas_promedio_tienda_y_sku_3_pasado</th>\n",
       "    </tr>\n",
       "  </thead>\n",
       "  <tbody>\n",
       "    <tr>\n",
       "      <th>0</th>\n",
       "      <td>1</td>\n",
       "      <td>0</td>\n",
       "      <td>1</td>\n",
       "      <td>1</td>\n",
       "      <td>1</td>\n",
       "      <td>1</td>\n",
       "      <td>0.033333</td>\n",
       "      <td>2087</td>\n",
       "      <td>1.260266</td>\n",
       "      <td>0</td>\n",
       "      <td>...</td>\n",
       "      <td>0</td>\n",
       "      <td>0.0</td>\n",
       "      <td>0.0</td>\n",
       "      <td>0.0</td>\n",
       "      <td>0</td>\n",
       "      <td>0</td>\n",
       "      <td>0</td>\n",
       "      <td>0.0</td>\n",
       "      <td>0.0</td>\n",
       "      <td>0.0</td>\n",
       "    </tr>\n",
       "  </tbody>\n",
       "</table>\n",
       "<p>1 rows × 24 columns</p>\n",
       "</div>"
      ],
      "text/plain": [
       "   pdv_id  mes_id  sku_id  ventas_totales  y_ventas_siguiente_mes  \\\n",
       "0       1       0       1               1                       1   \n",
       "\n",
       "   ventas_totales_en_tienda_de_cada_mes  \\\n",
       "0                                     1   \n",
       "\n",
       "   ventas_promedio_en_tienda_de_cada_mes  \\\n",
       "0                               0.033333   \n",
       "\n",
       "   ventas_totales_en_tienda_de_cada_sku  \\\n",
       "0                                  2087   \n",
       "\n",
       "   ventas_promedio_en_tienda_de_cada_sku  ventas_totales_1_mes_pasado  ...  \\\n",
       "0                               1.260266                            0  ...   \n",
       "\n",
       "   ventas_totales_tienda_y_mes_3_pasado  \\\n",
       "0                                     0   \n",
       "\n",
       "   ventas_promedio_tienda_y_mes_del_mes_pasado  \\\n",
       "0                                          0.0   \n",
       "\n",
       "   ventas_promedio_tienda_y_mes_2_pasado  \\\n",
       "0                                    0.0   \n",
       "\n",
       "   ventas_promedio_tienda_y_mes_3_pasado  \\\n",
       "0                                    0.0   \n",
       "\n",
       "   ventas_totales_tienda_y_sku_del_mes_pasado  \\\n",
       "0                                           0   \n",
       "\n",
       "   ventas_totales_tienda_y_sku_2_pasado  ventas_totales_tienda_y_sku_3_pasado  \\\n",
       "0                                     0                                     0   \n",
       "\n",
       "   ventas_promedio_tienda_y_sku_del_mes_pasado  \\\n",
       "0                                          0.0   \n",
       "\n",
       "   ventas_promedio_tienda_y_sku_2_pasado  \\\n",
       "0                                    0.0   \n",
       "\n",
       "   ventas_promedio_tienda_y_sku_3_pasado  \n",
       "0                                    0.0  \n",
       "\n",
       "[1 rows x 24 columns]"
      ]
     },
     "execution_count": 9,
     "metadata": {},
     "output_type": "execute_result"
    }
   ],
   "source": [
    "datos_modelo.head(1)"
   ]
  },
  {
   "cell_type": "markdown",
   "id": "f993eb31",
   "metadata": {},
   "source": [
    "Recordar como leer los datos:\n",
    "\n",
    "* En el punto de venta __1 (pdv_id = 1)__ , en el mes de __junio (mes_id = 0)__, el producto __1 (sku_id = 1)__, tuvo 2 ventas (ventas_totales = 2). \n",
    "\n",
    "* El pronóstico para el siguiente mes (julio - 1) tiene que ser lo más cercano a __0 (y_ventas_siguiente_mes = 0)__. \n",
    "\n",
    "* Las demás variables se leen de manera similar: El punto de venta __1 (pdv_id = 1)__ tuvo un total 23 ventas (ventas_totales_en_tienda_de_cada_mes = 23) en todo el mes de junio (sku_id = 1). \n",
    "\n",
    "* El 0 es un dato real, nosotros ya conocemos cuáles son las ventas para el siguiente mes porque contamos con históricos - nosotros construimos nuestra variable __Y__. \n",
    "\n",
    "* Ahora queremos contruir un modelo que nos permita estimar el valor de esta Y ->  __Y^__)"
   ]
  },
  {
   "cell_type": "markdown",
   "id": "d4e03fca",
   "metadata": {},
   "source": [
    "# Validación Cruzada"
   ]
  },
  {
   "cell_type": "code",
   "execution_count": 10,
   "id": "2edfcfe6",
   "metadata": {},
   "outputs": [],
   "source": [
    "#1. DIVIR DATOS EN ENTRENAMIENTO Y PRUEBA\n",
    "ent_1 = datos_modelo[datos_modelo['mes_id']==0]\n",
    "prueba_1 = datos_modelo[datos_modelo['mes_id']==1]"
   ]
  },
  {
   "cell_type": "code",
   "execution_count": 11,
   "id": "e13b89e5",
   "metadata": {},
   "outputs": [
    {
     "data": {
      "text/plain": [
       "(49680, 24)"
      ]
     },
     "execution_count": 11,
     "metadata": {},
     "output_type": "execute_result"
    }
   ],
   "source": [
    "ent_1.shape"
   ]
  },
  {
   "cell_type": "code",
   "execution_count": 12,
   "id": "724d61a3",
   "metadata": {},
   "outputs": [
    {
     "data": {
      "text/plain": [
       "(49680, 24)"
      ]
     },
     "execution_count": 12,
     "metadata": {},
     "output_type": "execute_result"
    }
   ],
   "source": [
    "prueba_1.shape"
   ]
  },
  {
   "cell_type": "code",
   "execution_count": 13,
   "id": "3c4444d9",
   "metadata": {},
   "outputs": [],
   "source": [
    "#2. GENERAR ÍNDICES EN PYTHON \n",
    "ent_1.set_index(['pdv_id', 'mes_id','sku_id'], inplace=True)\n",
    "prueba_1.set_index(['pdv_id', 'mes_id','sku_id'], inplace=True)"
   ]
  },
  {
   "cell_type": "code",
   "execution_count": 14,
   "id": "b3493981",
   "metadata": {},
   "outputs": [],
   "source": [
    "#head para ver datos de entrenamiento y prueba con índices "
   ]
  },
  {
   "cell_type": "code",
   "execution_count": 15,
   "id": "7e7ee020",
   "metadata": {},
   "outputs": [],
   "source": [
    "#3. DIVIDIR AMBOS CONJUNTOS (ENTRENAMIENTO Y PRUEBA) EN VARIABLES DE ENTRADA (X) Y VARIABLE REPSUESTA (Y)\n",
    "ent_x1 = ent_1.iloc[:, ent_1.columns != 'y_ventas_siguiente_mes']\n",
    "ent_y1 = ent_1.iloc[:, ent_1.columns == 'y_ventas_siguiente_mes']\n",
    "\n",
    "prueba_x1= prueba_1.iloc[:, prueba_1.columns != 'y_ventas_siguiente_mes']\n",
    "prueba_y1= prueba_1.iloc[:, prueba_1.columns == 'y_ventas_siguiente_mes']"
   ]
  },
  {
   "cell_type": "markdown",
   "id": "b1bca6eb",
   "metadata": {},
   "source": [
    "----------------------Segunda Partición-------------------------"
   ]
  },
  {
   "cell_type": "code",
   "execution_count": 16,
   "id": "78230cb3",
   "metadata": {},
   "outputs": [],
   "source": [
    "#1. DIVIR DATOS EN ENTRENAMIENTO Y PRUEBA\n",
    "ent_2 = datos_modelo[datos_modelo['mes_id']<=1]\n",
    "prueba_2 = datos_modelo[datos_modelo['mes_id']==2]"
   ]
  },
  {
   "cell_type": "code",
   "execution_count": 17,
   "id": "0773dbd9",
   "metadata": {},
   "outputs": [],
   "source": [
    "#2. GENERAR ÍNDICES EN PYTHON \n",
    "ent_2.set_index(['pdv_id', 'mes_id','sku_id'], inplace=True)\n",
    "prueba_2.set_index(['pdv_id', 'mes_id','sku_id'], inplace=True)"
   ]
  },
  {
   "cell_type": "code",
   "execution_count": 18,
   "id": "b73c6bbf",
   "metadata": {},
   "outputs": [],
   "source": [
    "#3. DIVIDIR AMBOS CONJUNTOS (ENTRENAMIENTO Y PRUEBA) EN VARIABLES DE ENTRADA (X) Y VARIABLE REPSUESTA (Y)\n",
    "ent_x2 = ent_2.iloc[:, ent_2.columns != 'y_ventas_siguiente_mes']\n",
    "ent_y2 = ent_2.iloc[:, ent_2.columns == 'y_ventas_siguiente_mes']\n",
    "\n",
    "prueba_x2= prueba_2.iloc[:, prueba_2.columns != 'y_ventas_siguiente_mes']\n",
    "prueba_y2= prueba_2.iloc[:, prueba_2.columns == 'y_ventas_siguiente_mes']"
   ]
  },
  {
   "cell_type": "markdown",
   "id": "c08edba0",
   "metadata": {},
   "source": [
    "----------------------Tercera Partición-------------------------"
   ]
  },
  {
   "cell_type": "code",
   "execution_count": 19,
   "id": "05414ca0",
   "metadata": {},
   "outputs": [],
   "source": [
    "ent_3 = datos_modelo[datos_modelo['mes_id']<=2]\n",
    "prueba_3 = datos_modelo[datos_modelo['mes_id']==3]"
   ]
  },
  {
   "cell_type": "code",
   "execution_count": 20,
   "id": "08b10b70",
   "metadata": {},
   "outputs": [],
   "source": [
    "ent_3.set_index(['pdv_id', 'mes_id','sku_id'], inplace=True)\n",
    "prueba_3.set_index(['pdv_id', 'mes_id','sku_id'], inplace=True)"
   ]
  },
  {
   "cell_type": "code",
   "execution_count": 21,
   "id": "755cd3f0",
   "metadata": {},
   "outputs": [],
   "source": [
    "ent_x3 = ent_3.iloc[:, ent_3.columns != 'y_ventas_siguiente_mes']\n",
    "ent_y3 = ent_3.iloc[:, ent_3.columns == 'y_ventas_siguiente_mes']\n",
    "\n",
    "prueba_x3= prueba_3.iloc[:, prueba_3.columns != 'y_ventas_siguiente_mes']\n",
    "prueba_y3= prueba_3.iloc[:, prueba_3.columns == 'y_ventas_siguiente_mes']"
   ]
  },
  {
   "cell_type": "markdown",
   "id": "5a6e0251",
   "metadata": {},
   "source": [
    "----------------------Cuarta Partición-------------------------"
   ]
  },
  {
   "cell_type": "code",
   "execution_count": 22,
   "id": "d7dc8005",
   "metadata": {},
   "outputs": [],
   "source": [
    "ent_4 = datos_modelo[datos_modelo['mes_id']<=3]\n",
    "prueba_4 = datos_modelo[datos_modelo['mes_id']==4]"
   ]
  },
  {
   "cell_type": "code",
   "execution_count": 23,
   "id": "7a9505f7",
   "metadata": {},
   "outputs": [],
   "source": [
    "ent_4.set_index(['pdv_id', 'mes_id','sku_id'], inplace=True)\n",
    "prueba_4.set_index(['pdv_id', 'mes_id','sku_id'], inplace=True)"
   ]
  },
  {
   "cell_type": "code",
   "execution_count": 24,
   "id": "deb062df",
   "metadata": {},
   "outputs": [],
   "source": [
    "ent_x4 = ent_4.iloc[:, ent_4.columns != 'y_ventas_siguiente_mes']\n",
    "ent_y4 = ent_4.iloc[:, ent_4.columns == 'y_ventas_siguiente_mes']\n",
    "\n",
    "prueba_x4= prueba_4.iloc[:, prueba_4.columns != 'y_ventas_siguiente_mes']\n",
    "prueba_y4= prueba_4.iloc[:, prueba_4.columns == 'y_ventas_siguiente_mes']"
   ]
  },
  {
   "cell_type": "markdown",
   "id": "d15d005a",
   "metadata": {},
   "source": [
    "----------------------Quinta Partición-------------------------"
   ]
  },
  {
   "cell_type": "code",
   "execution_count": 25,
   "id": "41136fbe",
   "metadata": {},
   "outputs": [],
   "source": [
    "ent_5 = datos_modelo[datos_modelo['mes_id']<=4]\n",
    "prueba_5 = datos_modelo[datos_modelo['mes_id']==5]"
   ]
  },
  {
   "cell_type": "code",
   "execution_count": 26,
   "id": "6eea781c",
   "metadata": {},
   "outputs": [],
   "source": [
    "ent_5.set_index(['pdv_id', 'mes_id','sku_id'], inplace=True)\n",
    "prueba_5.set_index(['pdv_id', 'mes_id','sku_id'], inplace=True)"
   ]
  },
  {
   "cell_type": "code",
   "execution_count": 27,
   "id": "4eaff26d",
   "metadata": {},
   "outputs": [],
   "source": [
    "ent_x5 = ent_5.iloc[:, ent_5.columns != 'y_ventas_siguiente_mes']\n",
    "ent_y5 = ent_5.iloc[:, ent_5.columns == 'y_ventas_siguiente_mes']\n",
    "\n",
    "prueba_x5= prueba_5.iloc[:, prueba_5.columns != 'y_ventas_siguiente_mes']\n",
    "prueba_y5= prueba_5.iloc[:, prueba_5.columns == 'y_ventas_siguiente_mes']"
   ]
  },
  {
   "cell_type": "markdown",
   "id": "43ee86c4",
   "metadata": {},
   "source": [
    "----------------------Sexta Partición-------------------------"
   ]
  },
  {
   "cell_type": "code",
   "execution_count": 28,
   "id": "97c2124f",
   "metadata": {},
   "outputs": [],
   "source": [
    "ent_6 = datos_modelo[datos_modelo['mes_id']<=5]\n",
    "prueba_6 = datos_modelo[datos_modelo['mes_id']==6]"
   ]
  },
  {
   "cell_type": "code",
   "execution_count": 29,
   "id": "93f6f562",
   "metadata": {},
   "outputs": [],
   "source": [
    "ent_6.set_index(['pdv_id', 'mes_id','sku_id'], inplace=True)\n",
    "prueba_6.set_index(['pdv_id', 'mes_id','sku_id'], inplace=True)"
   ]
  },
  {
   "cell_type": "code",
   "execution_count": 30,
   "id": "148839d7",
   "metadata": {},
   "outputs": [],
   "source": [
    "ent_x6 = ent_6.iloc[:, ent_6.columns != 'y_ventas_siguiente_mes']\n",
    "ent_y6 = ent_6.iloc[:, ent_6.columns == 'y_ventas_siguiente_mes']\n",
    "\n",
    "prueba_x6= prueba_6.iloc[:, prueba_6.columns != 'y_ventas_siguiente_mes']\n",
    "prueba_y6= prueba_6.iloc[:, prueba_6.columns == 'y_ventas_siguiente_mes']"
   ]
  },
  {
   "cell_type": "markdown",
   "id": "ccd999bf",
   "metadata": {},
   "source": [
    "----------------------Séptima Partición-------------------------"
   ]
  },
  {
   "cell_type": "code",
   "execution_count": 31,
   "id": "36728f40",
   "metadata": {},
   "outputs": [],
   "source": [
    "ent_7 = datos_modelo[datos_modelo['mes_id']<=6]\n",
    "prueba_7 = datos_modelo[datos_modelo['mes_id']==7]"
   ]
  },
  {
   "cell_type": "code",
   "execution_count": 32,
   "id": "9326a07a",
   "metadata": {},
   "outputs": [],
   "source": [
    "ent_7.set_index(['pdv_id', 'mes_id','sku_id'], inplace=True)\n",
    "prueba_7.set_index(['pdv_id', 'mes_id','sku_id'], inplace=True)"
   ]
  },
  {
   "cell_type": "code",
   "execution_count": 33,
   "id": "c7bb8839",
   "metadata": {},
   "outputs": [],
   "source": [
    "ent_x7 = ent_7.iloc[:, ent_7.columns != 'y_ventas_siguiente_mes']\n",
    "ent_y7 = ent_7.iloc[:, ent_7.columns == 'y_ventas_siguiente_mes']\n",
    "\n",
    "prueba_x7= prueba_7.iloc[:, prueba_7.columns != 'y_ventas_siguiente_mes']\n",
    "prueba_y7= prueba_7.iloc[:, prueba_7.columns == 'y_ventas_siguiente_mes']"
   ]
  },
  {
   "cell_type": "markdown",
   "id": "e7362ec6",
   "metadata": {},
   "source": [
    "----------------------Octava Partición-------------------------"
   ]
  },
  {
   "cell_type": "code",
   "execution_count": 34,
   "id": "9ecbe369",
   "metadata": {},
   "outputs": [],
   "source": [
    "ent_8 = datos_modelo[datos_modelo['mes_id']<=7]\n",
    "prueba_8 = datos_modelo[datos_modelo['mes_id']==8]"
   ]
  },
  {
   "cell_type": "code",
   "execution_count": 35,
   "id": "76f9b7e4",
   "metadata": {},
   "outputs": [],
   "source": [
    "ent_8.set_index(['pdv_id', 'mes_id','sku_id'], inplace=True)\n",
    "prueba_8.set_index(['pdv_id', 'mes_id','sku_id'], inplace=True)"
   ]
  },
  {
   "cell_type": "code",
   "execution_count": 36,
   "id": "9c6946b4",
   "metadata": {},
   "outputs": [],
   "source": [
    "ent_x8 = ent_8.iloc[:, ent_8.columns != 'y_ventas_siguiente_mes']\n",
    "ent_y8 = ent_8.iloc[:, ent_8.columns == 'y_ventas_siguiente_mes']\n",
    "\n",
    "prueba_x8= prueba_8.iloc[:, prueba_8.columns != 'y_ventas_siguiente_mes']\n",
    "prueba_y8= prueba_8.iloc[:, prueba_8.columns == 'y_ventas_siguiente_mes']"
   ]
  },
  {
   "cell_type": "markdown",
   "id": "f2086dfa",
   "metadata": {},
   "source": [
    "# Modelo Profundidad 1"
   ]
  },
  {
   "cell_type": "code",
   "execution_count": 37,
   "id": "c45b9c2e",
   "metadata": {},
   "outputs": [],
   "source": [
    "#!pip install numpy\n",
    "import numpy as np #determinar un rango de valores \"clip\"\n",
    "from sklearn import tree #importar función para construir árboles\n",
    "from sklearn.metrics import mean_squared_error, r2_score, mean_absolute_error #errores que queremos calcular \n",
    "#from scipy.stats import sem\n",
    "import warnings; warnings.simplefilter('ignore')#WARNING EN 3.3"
   ]
  },
  {
   "cell_type": "code",
   "execution_count": 154,
   "id": "f8a1333c",
   "metadata": {},
   "outputs": [],
   "source": [
    "# 1. CONSTRUIR MODELO\n",
    "modelo_1 = tree.DecisionTreeRegressor(max_depth=1)"
   ]
  },
  {
   "cell_type": "code",
   "execution_count": 155,
   "id": "5f7820e1",
   "metadata": {},
   "outputs": [
    {
     "data": {
      "text/plain": [
       "DecisionTreeRegressor(max_depth=1)"
      ]
     },
     "execution_count": 155,
     "metadata": {},
     "output_type": "execute_result"
    }
   ],
   "source": [
    "# 2. ENTRENAMOS EL MODELO (.FIT)\n",
    "modelo_1.fit(ent_x1, ent_y1)"
   ]
  },
  {
   "cell_type": "code",
   "execution_count": 156,
   "id": "db22facf",
   "metadata": {},
   "outputs": [
    {
     "data": {
      "text/plain": [
       "array([0.16563895, 0.16563895, 0.16563895, ..., 0.16563895, 0.16563895,\n",
       "       0.16563895])"
      ]
     },
     "execution_count": 156,
     "metadata": {},
     "output_type": "execute_result"
    }
   ],
   "source": [
    "# 3. HACER PREDICCIONES: CALCULAR ERROR DE ENTRENAMIENTO \n",
    "pred1_ent = modelo_1.predict(ent_x1) \n",
    "pred1_ent"
   ]
  },
  {
   "cell_type": "code",
   "execution_count": 41,
   "id": "82b6a1c9",
   "metadata": {},
   "outputs": [],
   "source": [
    "# 3.1 CALCULAR MÁXIMOS Y MÍNIMOS DE PREDICCIÓN (PARA VER RANGO DE PREDICCIÓN) - max() - min()"
   ]
  },
  {
   "cell_type": "code",
   "execution_count": 42,
   "id": "e0d8eaef",
   "metadata": {},
   "outputs": [
    {
     "data": {
      "text/plain": [
       "array([0., 0., 0., ..., 0., 0., 0.])"
      ]
     },
     "execution_count": 42,
     "metadata": {},
     "output_type": "execute_result"
    }
   ],
   "source": [
    "# 3.2 REDONDEAR Y AJUSTAR VALORES\n",
    "pred1_ent = np.clip(pred1_ent,0,20).round() #rango de valores \n",
    "pred1_ent"
   ]
  },
  {
   "cell_type": "code",
   "execution_count": 43,
   "id": "63830b05",
   "metadata": {},
   "outputs": [],
   "source": [
    "# 3.3 JUNTAR DATOS PARA PODER CALCULAR ERROR\n",
    "ent_1['ventas_por_mes_pred'] = pred1_ent"
   ]
  },
  {
   "cell_type": "code",
   "execution_count": 44,
   "id": "fc9ae44f",
   "metadata": {},
   "outputs": [
    {
     "data": {
      "text/html": [
       "<div>\n",
       "<style scoped>\n",
       "    .dataframe tbody tr th:only-of-type {\n",
       "        vertical-align: middle;\n",
       "    }\n",
       "\n",
       "    .dataframe tbody tr th {\n",
       "        vertical-align: top;\n",
       "    }\n",
       "\n",
       "    .dataframe thead th {\n",
       "        text-align: right;\n",
       "    }\n",
       "</style>\n",
       "<table border=\"1\" class=\"dataframe\">\n",
       "  <thead>\n",
       "    <tr style=\"text-align: right;\">\n",
       "      <th></th>\n",
       "      <th></th>\n",
       "      <th></th>\n",
       "      <th>ventas_totales</th>\n",
       "      <th>y_ventas_siguiente_mes</th>\n",
       "      <th>ventas_totales_en_tienda_de_cada_mes</th>\n",
       "      <th>ventas_promedio_en_tienda_de_cada_mes</th>\n",
       "      <th>ventas_totales_en_tienda_de_cada_sku</th>\n",
       "      <th>ventas_promedio_en_tienda_de_cada_sku</th>\n",
       "      <th>ventas_totales_1_mes_pasado</th>\n",
       "      <th>ventas_totales_2_meses_pasados</th>\n",
       "      <th>ventas_totales_3_meses_pasados</th>\n",
       "      <th>ventas_totales_tienda_y_mes_del_mes_pasado</th>\n",
       "      <th>...</th>\n",
       "      <th>ventas_promedio_tienda_y_mes_del_mes_pasado</th>\n",
       "      <th>ventas_promedio_tienda_y_mes_2_pasado</th>\n",
       "      <th>ventas_promedio_tienda_y_mes_3_pasado</th>\n",
       "      <th>ventas_totales_tienda_y_sku_del_mes_pasado</th>\n",
       "      <th>ventas_totales_tienda_y_sku_2_pasado</th>\n",
       "      <th>ventas_totales_tienda_y_sku_3_pasado</th>\n",
       "      <th>ventas_promedio_tienda_y_sku_del_mes_pasado</th>\n",
       "      <th>ventas_promedio_tienda_y_sku_2_pasado</th>\n",
       "      <th>ventas_promedio_tienda_y_sku_3_pasado</th>\n",
       "      <th>ventas_por_mes_pred</th>\n",
       "    </tr>\n",
       "    <tr>\n",
       "      <th>pdv_id</th>\n",
       "      <th>mes_id</th>\n",
       "      <th>sku_id</th>\n",
       "      <th></th>\n",
       "      <th></th>\n",
       "      <th></th>\n",
       "      <th></th>\n",
       "      <th></th>\n",
       "      <th></th>\n",
       "      <th></th>\n",
       "      <th></th>\n",
       "      <th></th>\n",
       "      <th></th>\n",
       "      <th></th>\n",
       "      <th></th>\n",
       "      <th></th>\n",
       "      <th></th>\n",
       "      <th></th>\n",
       "      <th></th>\n",
       "      <th></th>\n",
       "      <th></th>\n",
       "      <th></th>\n",
       "      <th></th>\n",
       "      <th></th>\n",
       "    </tr>\n",
       "  </thead>\n",
       "  <tbody>\n",
       "    <tr>\n",
       "      <th rowspan=\"5\" valign=\"top\">1</th>\n",
       "      <th rowspan=\"5\" valign=\"top\">0</th>\n",
       "      <th>1</th>\n",
       "      <td>1</td>\n",
       "      <td>1</td>\n",
       "      <td>1</td>\n",
       "      <td>0.033333</td>\n",
       "      <td>2087</td>\n",
       "      <td>1.260266</td>\n",
       "      <td>0</td>\n",
       "      <td>0</td>\n",
       "      <td>0</td>\n",
       "      <td>0</td>\n",
       "      <td>...</td>\n",
       "      <td>0.0</td>\n",
       "      <td>0.0</td>\n",
       "      <td>0.0</td>\n",
       "      <td>0</td>\n",
       "      <td>0</td>\n",
       "      <td>0</td>\n",
       "      <td>0.0</td>\n",
       "      <td>0.0</td>\n",
       "      <td>0.0</td>\n",
       "      <td>0.0</td>\n",
       "    </tr>\n",
       "    <tr>\n",
       "      <th>2</th>\n",
       "      <td>0</td>\n",
       "      <td>2</td>\n",
       "      <td>1</td>\n",
       "      <td>0.033333</td>\n",
       "      <td>888</td>\n",
       "      <td>0.536232</td>\n",
       "      <td>0</td>\n",
       "      <td>0</td>\n",
       "      <td>0</td>\n",
       "      <td>0</td>\n",
       "      <td>...</td>\n",
       "      <td>0.0</td>\n",
       "      <td>0.0</td>\n",
       "      <td>0.0</td>\n",
       "      <td>0</td>\n",
       "      <td>0</td>\n",
       "      <td>0</td>\n",
       "      <td>0.0</td>\n",
       "      <td>0.0</td>\n",
       "      <td>0.0</td>\n",
       "      <td>0.0</td>\n",
       "    </tr>\n",
       "    <tr>\n",
       "      <th>3</th>\n",
       "      <td>0</td>\n",
       "      <td>1</td>\n",
       "      <td>1</td>\n",
       "      <td>0.033333</td>\n",
       "      <td>1636</td>\n",
       "      <td>0.987923</td>\n",
       "      <td>0</td>\n",
       "      <td>0</td>\n",
       "      <td>0</td>\n",
       "      <td>0</td>\n",
       "      <td>...</td>\n",
       "      <td>0.0</td>\n",
       "      <td>0.0</td>\n",
       "      <td>0.0</td>\n",
       "      <td>0</td>\n",
       "      <td>0</td>\n",
       "      <td>0</td>\n",
       "      <td>0.0</td>\n",
       "      <td>0.0</td>\n",
       "      <td>0.0</td>\n",
       "      <td>0.0</td>\n",
       "    </tr>\n",
       "    <tr>\n",
       "      <th>4</th>\n",
       "      <td>0</td>\n",
       "      <td>1</td>\n",
       "      <td>1</td>\n",
       "      <td>0.033333</td>\n",
       "      <td>1250</td>\n",
       "      <td>0.754831</td>\n",
       "      <td>0</td>\n",
       "      <td>0</td>\n",
       "      <td>0</td>\n",
       "      <td>0</td>\n",
       "      <td>...</td>\n",
       "      <td>0.0</td>\n",
       "      <td>0.0</td>\n",
       "      <td>0.0</td>\n",
       "      <td>0</td>\n",
       "      <td>0</td>\n",
       "      <td>0</td>\n",
       "      <td>0.0</td>\n",
       "      <td>0.0</td>\n",
       "      <td>0.0</td>\n",
       "      <td>0.0</td>\n",
       "    </tr>\n",
       "    <tr>\n",
       "      <th>5</th>\n",
       "      <td>0</td>\n",
       "      <td>0</td>\n",
       "      <td>1</td>\n",
       "      <td>0.033333</td>\n",
       "      <td>607</td>\n",
       "      <td>0.366546</td>\n",
       "      <td>0</td>\n",
       "      <td>0</td>\n",
       "      <td>0</td>\n",
       "      <td>0</td>\n",
       "      <td>...</td>\n",
       "      <td>0.0</td>\n",
       "      <td>0.0</td>\n",
       "      <td>0.0</td>\n",
       "      <td>0</td>\n",
       "      <td>0</td>\n",
       "      <td>0</td>\n",
       "      <td>0.0</td>\n",
       "      <td>0.0</td>\n",
       "      <td>0.0</td>\n",
       "      <td>0.0</td>\n",
       "    </tr>\n",
       "  </tbody>\n",
       "</table>\n",
       "<p>5 rows × 22 columns</p>\n",
       "</div>"
      ],
      "text/plain": [
       "                      ventas_totales  y_ventas_siguiente_mes  \\\n",
       "pdv_id mes_id sku_id                                           \n",
       "1      0      1                    1                       1   \n",
       "              2                    0                       2   \n",
       "              3                    0                       1   \n",
       "              4                    0                       1   \n",
       "              5                    0                       0   \n",
       "\n",
       "                      ventas_totales_en_tienda_de_cada_mes  \\\n",
       "pdv_id mes_id sku_id                                         \n",
       "1      0      1                                          1   \n",
       "              2                                          1   \n",
       "              3                                          1   \n",
       "              4                                          1   \n",
       "              5                                          1   \n",
       "\n",
       "                      ventas_promedio_en_tienda_de_cada_mes  \\\n",
       "pdv_id mes_id sku_id                                          \n",
       "1      0      1                                    0.033333   \n",
       "              2                                    0.033333   \n",
       "              3                                    0.033333   \n",
       "              4                                    0.033333   \n",
       "              5                                    0.033333   \n",
       "\n",
       "                      ventas_totales_en_tienda_de_cada_sku  \\\n",
       "pdv_id mes_id sku_id                                         \n",
       "1      0      1                                       2087   \n",
       "              2                                        888   \n",
       "              3                                       1636   \n",
       "              4                                       1250   \n",
       "              5                                        607   \n",
       "\n",
       "                      ventas_promedio_en_tienda_de_cada_sku  \\\n",
       "pdv_id mes_id sku_id                                          \n",
       "1      0      1                                    1.260266   \n",
       "              2                                    0.536232   \n",
       "              3                                    0.987923   \n",
       "              4                                    0.754831   \n",
       "              5                                    0.366546   \n",
       "\n",
       "                      ventas_totales_1_mes_pasado  \\\n",
       "pdv_id mes_id sku_id                                \n",
       "1      0      1                                 0   \n",
       "              2                                 0   \n",
       "              3                                 0   \n",
       "              4                                 0   \n",
       "              5                                 0   \n",
       "\n",
       "                      ventas_totales_2_meses_pasados  \\\n",
       "pdv_id mes_id sku_id                                   \n",
       "1      0      1                                    0   \n",
       "              2                                    0   \n",
       "              3                                    0   \n",
       "              4                                    0   \n",
       "              5                                    0   \n",
       "\n",
       "                      ventas_totales_3_meses_pasados  \\\n",
       "pdv_id mes_id sku_id                                   \n",
       "1      0      1                                    0   \n",
       "              2                                    0   \n",
       "              3                                    0   \n",
       "              4                                    0   \n",
       "              5                                    0   \n",
       "\n",
       "                      ventas_totales_tienda_y_mes_del_mes_pasado  ...  \\\n",
       "pdv_id mes_id sku_id                                              ...   \n",
       "1      0      1                                                0  ...   \n",
       "              2                                                0  ...   \n",
       "              3                                                0  ...   \n",
       "              4                                                0  ...   \n",
       "              5                                                0  ...   \n",
       "\n",
       "                      ventas_promedio_tienda_y_mes_del_mes_pasado  \\\n",
       "pdv_id mes_id sku_id                                                \n",
       "1      0      1                                               0.0   \n",
       "              2                                               0.0   \n",
       "              3                                               0.0   \n",
       "              4                                               0.0   \n",
       "              5                                               0.0   \n",
       "\n",
       "                      ventas_promedio_tienda_y_mes_2_pasado  \\\n",
       "pdv_id mes_id sku_id                                          \n",
       "1      0      1                                         0.0   \n",
       "              2                                         0.0   \n",
       "              3                                         0.0   \n",
       "              4                                         0.0   \n",
       "              5                                         0.0   \n",
       "\n",
       "                      ventas_promedio_tienda_y_mes_3_pasado  \\\n",
       "pdv_id mes_id sku_id                                          \n",
       "1      0      1                                         0.0   \n",
       "              2                                         0.0   \n",
       "              3                                         0.0   \n",
       "              4                                         0.0   \n",
       "              5                                         0.0   \n",
       "\n",
       "                      ventas_totales_tienda_y_sku_del_mes_pasado  \\\n",
       "pdv_id mes_id sku_id                                               \n",
       "1      0      1                                                0   \n",
       "              2                                                0   \n",
       "              3                                                0   \n",
       "              4                                                0   \n",
       "              5                                                0   \n",
       "\n",
       "                      ventas_totales_tienda_y_sku_2_pasado  \\\n",
       "pdv_id mes_id sku_id                                         \n",
       "1      0      1                                          0   \n",
       "              2                                          0   \n",
       "              3                                          0   \n",
       "              4                                          0   \n",
       "              5                                          0   \n",
       "\n",
       "                      ventas_totales_tienda_y_sku_3_pasado  \\\n",
       "pdv_id mes_id sku_id                                         \n",
       "1      0      1                                          0   \n",
       "              2                                          0   \n",
       "              3                                          0   \n",
       "              4                                          0   \n",
       "              5                                          0   \n",
       "\n",
       "                      ventas_promedio_tienda_y_sku_del_mes_pasado  \\\n",
       "pdv_id mes_id sku_id                                                \n",
       "1      0      1                                               0.0   \n",
       "              2                                               0.0   \n",
       "              3                                               0.0   \n",
       "              4                                               0.0   \n",
       "              5                                               0.0   \n",
       "\n",
       "                      ventas_promedio_tienda_y_sku_2_pasado  \\\n",
       "pdv_id mes_id sku_id                                          \n",
       "1      0      1                                         0.0   \n",
       "              2                                         0.0   \n",
       "              3                                         0.0   \n",
       "              4                                         0.0   \n",
       "              5                                         0.0   \n",
       "\n",
       "                      ventas_promedio_tienda_y_sku_3_pasado  \\\n",
       "pdv_id mes_id sku_id                                          \n",
       "1      0      1                                         0.0   \n",
       "              2                                         0.0   \n",
       "              3                                         0.0   \n",
       "              4                                         0.0   \n",
       "              5                                         0.0   \n",
       "\n",
       "                      ventas_por_mes_pred  \n",
       "pdv_id mes_id sku_id                       \n",
       "1      0      1                       0.0  \n",
       "              2                       0.0  \n",
       "              3                       0.0  \n",
       "              4                       0.0  \n",
       "              5                       0.0  \n",
       "\n",
       "[5 rows x 22 columns]"
      ]
     },
     "execution_count": 44,
     "metadata": {},
     "output_type": "execute_result"
    }
   ],
   "source": [
    "ent_1.head(5)"
   ]
  },
  {
   "cell_type": "code",
   "execution_count": 45,
   "id": "c9d19421",
   "metadata": {},
   "outputs": [
    {
     "name": "stdout",
     "output_type": "stream",
     "text": [
      "Mean Absolute Error: 0.229267\n",
      "Mean Squared Error: 0.738406\n",
      "R-squared scores: 0.276197\n"
     ]
    }
   ],
   "source": [
    "# 3.4 CALCULAR ERRORES CON FUNCIONES DE PAQUETERÍA \n",
    "\n",
    "# Mean absolute error (MAE)\n",
    "ent1_mae = mean_absolute_error(ent_1.y_ventas_siguiente_mes, ent_1.ventas_por_mes_pred)\n",
    "\n",
    "# Mean squared error (MSE)\n",
    "ent1_mse = mean_squared_error(ent_1.y_ventas_siguiente_mes, ent_1.ventas_por_mes_pred)\n",
    "\n",
    "# R-squared scores\n",
    "ent1_r2 = r2_score(ent_1.y_ventas_siguiente_mes, ent_1.ventas_por_mes_pred)\n",
    "\n",
    "\n",
    "# Print metrics\n",
    "print('Mean Absolute Error:', round(ent1_mae, 6))\n",
    "print('Mean Squared Error:', round(ent1_mse, 6))\n",
    "print('R-squared scores:', round(ent1_r2, 6))"
   ]
  },
  {
   "cell_type": "markdown",
   "id": "9fbed0c4",
   "metadata": {},
   "source": [
    "----------------------Segunda Partición-------------------------"
   ]
  },
  {
   "cell_type": "code",
   "execution_count": 46,
   "id": "f0ed2c6f",
   "metadata": {},
   "outputs": [],
   "source": [
    "modelo_2 = tree.DecisionTreeRegressor(max_depth=1)"
   ]
  },
  {
   "cell_type": "code",
   "execution_count": 47,
   "id": "52210eba",
   "metadata": {},
   "outputs": [
    {
     "data": {
      "text/plain": [
       "DecisionTreeRegressor(max_depth=1)"
      ]
     },
     "execution_count": 47,
     "metadata": {},
     "output_type": "execute_result"
    }
   ],
   "source": [
    "modelo_2.fit(ent_x2, ent_y2)"
   ]
  },
  {
   "cell_type": "code",
   "execution_count": 48,
   "id": "b37e6d8e",
   "metadata": {},
   "outputs": [
    {
     "data": {
      "text/plain": [
       "array([0.15403151, 0.15403151, 0.15403151, ..., 0.15403151, 0.15403151,\n",
       "       0.15403151])"
      ]
     },
     "execution_count": 48,
     "metadata": {},
     "output_type": "execute_result"
    }
   ],
   "source": [
    "pred2_ent = modelo_2.predict(ent_x2) \n",
    "pred2_ent"
   ]
  },
  {
   "cell_type": "code",
   "execution_count": 49,
   "id": "78892020",
   "metadata": {},
   "outputs": [
    {
     "data": {
      "text/plain": [
       "array([0., 0., 0., ..., 0., 0., 0.])"
      ]
     },
     "execution_count": 49,
     "metadata": {},
     "output_type": "execute_result"
    }
   ],
   "source": [
    "pred2_ent = np.clip(pred2_ent,0,20).round() #rango de valores \n",
    "pred2_ent"
   ]
  },
  {
   "cell_type": "code",
   "execution_count": 50,
   "id": "46c0b207",
   "metadata": {},
   "outputs": [],
   "source": [
    "ent_2['ventas_por_mes_pred'] = pred2_ent"
   ]
  },
  {
   "cell_type": "code",
   "execution_count": 51,
   "id": "dc99acf3",
   "metadata": {},
   "outputs": [
    {
     "data": {
      "text/html": [
       "<div>\n",
       "<style scoped>\n",
       "    .dataframe tbody tr th:only-of-type {\n",
       "        vertical-align: middle;\n",
       "    }\n",
       "\n",
       "    .dataframe tbody tr th {\n",
       "        vertical-align: top;\n",
       "    }\n",
       "\n",
       "    .dataframe thead th {\n",
       "        text-align: right;\n",
       "    }\n",
       "</style>\n",
       "<table border=\"1\" class=\"dataframe\">\n",
       "  <thead>\n",
       "    <tr style=\"text-align: right;\">\n",
       "      <th></th>\n",
       "      <th></th>\n",
       "      <th></th>\n",
       "      <th>ventas_totales</th>\n",
       "      <th>y_ventas_siguiente_mes</th>\n",
       "      <th>ventas_totales_en_tienda_de_cada_mes</th>\n",
       "      <th>ventas_promedio_en_tienda_de_cada_mes</th>\n",
       "      <th>ventas_totales_en_tienda_de_cada_sku</th>\n",
       "      <th>ventas_promedio_en_tienda_de_cada_sku</th>\n",
       "      <th>ventas_totales_1_mes_pasado</th>\n",
       "      <th>ventas_totales_2_meses_pasados</th>\n",
       "      <th>ventas_totales_3_meses_pasados</th>\n",
       "      <th>ventas_totales_tienda_y_mes_del_mes_pasado</th>\n",
       "      <th>...</th>\n",
       "      <th>ventas_promedio_tienda_y_mes_del_mes_pasado</th>\n",
       "      <th>ventas_promedio_tienda_y_mes_2_pasado</th>\n",
       "      <th>ventas_promedio_tienda_y_mes_3_pasado</th>\n",
       "      <th>ventas_totales_tienda_y_sku_del_mes_pasado</th>\n",
       "      <th>ventas_totales_tienda_y_sku_2_pasado</th>\n",
       "      <th>ventas_totales_tienda_y_sku_3_pasado</th>\n",
       "      <th>ventas_promedio_tienda_y_sku_del_mes_pasado</th>\n",
       "      <th>ventas_promedio_tienda_y_sku_2_pasado</th>\n",
       "      <th>ventas_promedio_tienda_y_sku_3_pasado</th>\n",
       "      <th>ventas_por_mes_pred</th>\n",
       "    </tr>\n",
       "    <tr>\n",
       "      <th>pdv_id</th>\n",
       "      <th>mes_id</th>\n",
       "      <th>sku_id</th>\n",
       "      <th></th>\n",
       "      <th></th>\n",
       "      <th></th>\n",
       "      <th></th>\n",
       "      <th></th>\n",
       "      <th></th>\n",
       "      <th></th>\n",
       "      <th></th>\n",
       "      <th></th>\n",
       "      <th></th>\n",
       "      <th></th>\n",
       "      <th></th>\n",
       "      <th></th>\n",
       "      <th></th>\n",
       "      <th></th>\n",
       "      <th></th>\n",
       "      <th></th>\n",
       "      <th></th>\n",
       "      <th></th>\n",
       "      <th></th>\n",
       "      <th></th>\n",
       "    </tr>\n",
       "  </thead>\n",
       "  <tbody>\n",
       "    <tr>\n",
       "      <th rowspan=\"5\" valign=\"top\">1</th>\n",
       "      <th>0</th>\n",
       "      <th>1</th>\n",
       "      <td>1</td>\n",
       "      <td>1</td>\n",
       "      <td>1</td>\n",
       "      <td>0.033333</td>\n",
       "      <td>2087</td>\n",
       "      <td>1.260266</td>\n",
       "      <td>0</td>\n",
       "      <td>0</td>\n",
       "      <td>0</td>\n",
       "      <td>0</td>\n",
       "      <td>...</td>\n",
       "      <td>0.000000</td>\n",
       "      <td>0.0</td>\n",
       "      <td>0.0</td>\n",
       "      <td>0</td>\n",
       "      <td>0</td>\n",
       "      <td>0</td>\n",
       "      <td>0.000000</td>\n",
       "      <td>0.0</td>\n",
       "      <td>0.0</td>\n",
       "      <td>0.0</td>\n",
       "    </tr>\n",
       "    <tr>\n",
       "      <th>1</th>\n",
       "      <th>1</th>\n",
       "      <td>1</td>\n",
       "      <td>0</td>\n",
       "      <td>5</td>\n",
       "      <td>0.166667</td>\n",
       "      <td>2106</td>\n",
       "      <td>1.271739</td>\n",
       "      <td>1</td>\n",
       "      <td>0</td>\n",
       "      <td>0</td>\n",
       "      <td>1</td>\n",
       "      <td>...</td>\n",
       "      <td>0.033333</td>\n",
       "      <td>0.0</td>\n",
       "      <td>0.0</td>\n",
       "      <td>2087</td>\n",
       "      <td>0</td>\n",
       "      <td>0</td>\n",
       "      <td>1.260266</td>\n",
       "      <td>0.0</td>\n",
       "      <td>0.0</td>\n",
       "      <td>0.0</td>\n",
       "    </tr>\n",
       "    <tr>\n",
       "      <th>0</th>\n",
       "      <th>2</th>\n",
       "      <td>0</td>\n",
       "      <td>2</td>\n",
       "      <td>1</td>\n",
       "      <td>0.033333</td>\n",
       "      <td>888</td>\n",
       "      <td>0.536232</td>\n",
       "      <td>0</td>\n",
       "      <td>0</td>\n",
       "      <td>0</td>\n",
       "      <td>0</td>\n",
       "      <td>...</td>\n",
       "      <td>0.000000</td>\n",
       "      <td>0.0</td>\n",
       "      <td>0.0</td>\n",
       "      <td>0</td>\n",
       "      <td>0</td>\n",
       "      <td>0</td>\n",
       "      <td>0.000000</td>\n",
       "      <td>0.0</td>\n",
       "      <td>0.0</td>\n",
       "      <td>0.0</td>\n",
       "    </tr>\n",
       "    <tr>\n",
       "      <th>1</th>\n",
       "      <th>2</th>\n",
       "      <td>2</td>\n",
       "      <td>1</td>\n",
       "      <td>5</td>\n",
       "      <td>0.166667</td>\n",
       "      <td>888</td>\n",
       "      <td>0.536232</td>\n",
       "      <td>0</td>\n",
       "      <td>0</td>\n",
       "      <td>0</td>\n",
       "      <td>1</td>\n",
       "      <td>...</td>\n",
       "      <td>0.033333</td>\n",
       "      <td>0.0</td>\n",
       "      <td>0.0</td>\n",
       "      <td>888</td>\n",
       "      <td>0</td>\n",
       "      <td>0</td>\n",
       "      <td>0.536232</td>\n",
       "      <td>0.0</td>\n",
       "      <td>0.0</td>\n",
       "      <td>0.0</td>\n",
       "    </tr>\n",
       "    <tr>\n",
       "      <th>0</th>\n",
       "      <th>3</th>\n",
       "      <td>0</td>\n",
       "      <td>1</td>\n",
       "      <td>1</td>\n",
       "      <td>0.033333</td>\n",
       "      <td>1636</td>\n",
       "      <td>0.987923</td>\n",
       "      <td>0</td>\n",
       "      <td>0</td>\n",
       "      <td>0</td>\n",
       "      <td>0</td>\n",
       "      <td>...</td>\n",
       "      <td>0.000000</td>\n",
       "      <td>0.0</td>\n",
       "      <td>0.0</td>\n",
       "      <td>0</td>\n",
       "      <td>0</td>\n",
       "      <td>0</td>\n",
       "      <td>0.000000</td>\n",
       "      <td>0.0</td>\n",
       "      <td>0.0</td>\n",
       "      <td>0.0</td>\n",
       "    </tr>\n",
       "  </tbody>\n",
       "</table>\n",
       "<p>5 rows × 22 columns</p>\n",
       "</div>"
      ],
      "text/plain": [
       "                      ventas_totales  y_ventas_siguiente_mes  \\\n",
       "pdv_id mes_id sku_id                                           \n",
       "1      0      1                    1                       1   \n",
       "       1      1                    1                       0   \n",
       "       0      2                    0                       2   \n",
       "       1      2                    2                       1   \n",
       "       0      3                    0                       1   \n",
       "\n",
       "                      ventas_totales_en_tienda_de_cada_mes  \\\n",
       "pdv_id mes_id sku_id                                         \n",
       "1      0      1                                          1   \n",
       "       1      1                                          5   \n",
       "       0      2                                          1   \n",
       "       1      2                                          5   \n",
       "       0      3                                          1   \n",
       "\n",
       "                      ventas_promedio_en_tienda_de_cada_mes  \\\n",
       "pdv_id mes_id sku_id                                          \n",
       "1      0      1                                    0.033333   \n",
       "       1      1                                    0.166667   \n",
       "       0      2                                    0.033333   \n",
       "       1      2                                    0.166667   \n",
       "       0      3                                    0.033333   \n",
       "\n",
       "                      ventas_totales_en_tienda_de_cada_sku  \\\n",
       "pdv_id mes_id sku_id                                         \n",
       "1      0      1                                       2087   \n",
       "       1      1                                       2106   \n",
       "       0      2                                        888   \n",
       "       1      2                                        888   \n",
       "       0      3                                       1636   \n",
       "\n",
       "                      ventas_promedio_en_tienda_de_cada_sku  \\\n",
       "pdv_id mes_id sku_id                                          \n",
       "1      0      1                                    1.260266   \n",
       "       1      1                                    1.271739   \n",
       "       0      2                                    0.536232   \n",
       "       1      2                                    0.536232   \n",
       "       0      3                                    0.987923   \n",
       "\n",
       "                      ventas_totales_1_mes_pasado  \\\n",
       "pdv_id mes_id sku_id                                \n",
       "1      0      1                                 0   \n",
       "       1      1                                 1   \n",
       "       0      2                                 0   \n",
       "       1      2                                 0   \n",
       "       0      3                                 0   \n",
       "\n",
       "                      ventas_totales_2_meses_pasados  \\\n",
       "pdv_id mes_id sku_id                                   \n",
       "1      0      1                                    0   \n",
       "       1      1                                    0   \n",
       "       0      2                                    0   \n",
       "       1      2                                    0   \n",
       "       0      3                                    0   \n",
       "\n",
       "                      ventas_totales_3_meses_pasados  \\\n",
       "pdv_id mes_id sku_id                                   \n",
       "1      0      1                                    0   \n",
       "       1      1                                    0   \n",
       "       0      2                                    0   \n",
       "       1      2                                    0   \n",
       "       0      3                                    0   \n",
       "\n",
       "                      ventas_totales_tienda_y_mes_del_mes_pasado  ...  \\\n",
       "pdv_id mes_id sku_id                                              ...   \n",
       "1      0      1                                                0  ...   \n",
       "       1      1                                                1  ...   \n",
       "       0      2                                                0  ...   \n",
       "       1      2                                                1  ...   \n",
       "       0      3                                                0  ...   \n",
       "\n",
       "                      ventas_promedio_tienda_y_mes_del_mes_pasado  \\\n",
       "pdv_id mes_id sku_id                                                \n",
       "1      0      1                                          0.000000   \n",
       "       1      1                                          0.033333   \n",
       "       0      2                                          0.000000   \n",
       "       1      2                                          0.033333   \n",
       "       0      3                                          0.000000   \n",
       "\n",
       "                      ventas_promedio_tienda_y_mes_2_pasado  \\\n",
       "pdv_id mes_id sku_id                                          \n",
       "1      0      1                                         0.0   \n",
       "       1      1                                         0.0   \n",
       "       0      2                                         0.0   \n",
       "       1      2                                         0.0   \n",
       "       0      3                                         0.0   \n",
       "\n",
       "                      ventas_promedio_tienda_y_mes_3_pasado  \\\n",
       "pdv_id mes_id sku_id                                          \n",
       "1      0      1                                         0.0   \n",
       "       1      1                                         0.0   \n",
       "       0      2                                         0.0   \n",
       "       1      2                                         0.0   \n",
       "       0      3                                         0.0   \n",
       "\n",
       "                      ventas_totales_tienda_y_sku_del_mes_pasado  \\\n",
       "pdv_id mes_id sku_id                                               \n",
       "1      0      1                                                0   \n",
       "       1      1                                             2087   \n",
       "       0      2                                                0   \n",
       "       1      2                                              888   \n",
       "       0      3                                                0   \n",
       "\n",
       "                      ventas_totales_tienda_y_sku_2_pasado  \\\n",
       "pdv_id mes_id sku_id                                         \n",
       "1      0      1                                          0   \n",
       "       1      1                                          0   \n",
       "       0      2                                          0   \n",
       "       1      2                                          0   \n",
       "       0      3                                          0   \n",
       "\n",
       "                      ventas_totales_tienda_y_sku_3_pasado  \\\n",
       "pdv_id mes_id sku_id                                         \n",
       "1      0      1                                          0   \n",
       "       1      1                                          0   \n",
       "       0      2                                          0   \n",
       "       1      2                                          0   \n",
       "       0      3                                          0   \n",
       "\n",
       "                      ventas_promedio_tienda_y_sku_del_mes_pasado  \\\n",
       "pdv_id mes_id sku_id                                                \n",
       "1      0      1                                          0.000000   \n",
       "       1      1                                          1.260266   \n",
       "       0      2                                          0.000000   \n",
       "       1      2                                          0.536232   \n",
       "       0      3                                          0.000000   \n",
       "\n",
       "                      ventas_promedio_tienda_y_sku_2_pasado  \\\n",
       "pdv_id mes_id sku_id                                          \n",
       "1      0      1                                         0.0   \n",
       "       1      1                                         0.0   \n",
       "       0      2                                         0.0   \n",
       "       1      2                                         0.0   \n",
       "       0      3                                         0.0   \n",
       "\n",
       "                      ventas_promedio_tienda_y_sku_3_pasado  \\\n",
       "pdv_id mes_id sku_id                                          \n",
       "1      0      1                                         0.0   \n",
       "       1      1                                         0.0   \n",
       "       0      2                                         0.0   \n",
       "       1      2                                         0.0   \n",
       "       0      3                                         0.0   \n",
       "\n",
       "                      ventas_por_mes_pred  \n",
       "pdv_id mes_id sku_id                       \n",
       "1      0      1                       0.0  \n",
       "       1      1                       0.0  \n",
       "       0      2                       0.0  \n",
       "       1      2                       0.0  \n",
       "       0      3                       0.0  \n",
       "\n",
       "[5 rows x 22 columns]"
      ]
     },
     "execution_count": 51,
     "metadata": {},
     "output_type": "execute_result"
    }
   ],
   "source": [
    "ent_2.head(5)"
   ]
  },
  {
   "cell_type": "code",
   "execution_count": 52,
   "id": "ba60f9bc",
   "metadata": {},
   "outputs": [
    {
     "name": "stdout",
     "output_type": "stream",
     "text": [
      "Mean Absolute Error: 0.220179\n",
      "Mean Squared Error: 0.737107\n",
      "R-squared scores: 0.273425\n"
     ]
    }
   ],
   "source": [
    "# Mean absolute error (MAE)\n",
    "ent2_mae = mean_absolute_error(ent_2.y_ventas_siguiente_mes, ent_2.ventas_por_mes_pred)\n",
    "\n",
    "# Mean squared error (MSE)\n",
    "ent2_mse = mean_squared_error(ent_2.y_ventas_siguiente_mes, ent_2.ventas_por_mes_pred)\n",
    "\n",
    "# R-squared scores\n",
    "ent2_r2 = r2_score(ent_2.y_ventas_siguiente_mes, ent_2.ventas_por_mes_pred)\n",
    "\n",
    "\n",
    "# Print metrics\n",
    "print('Mean Absolute Error:', round(ent2_mae, 6))\n",
    "print('Mean Squared Error:', round(ent2_mse, 6))\n",
    "print('R-squared scores:', round(ent2_r2, 6))"
   ]
  },
  {
   "cell_type": "markdown",
   "id": "0c9f4e86",
   "metadata": {},
   "source": [
    "----------------------Tercera Partición-------------------------"
   ]
  },
  {
   "cell_type": "code",
   "execution_count": 53,
   "id": "81aa7fd2",
   "metadata": {},
   "outputs": [],
   "source": [
    "modelo_3 = tree.DecisionTreeRegressor(max_depth=1)"
   ]
  },
  {
   "cell_type": "code",
   "execution_count": 54,
   "id": "7f8d9548",
   "metadata": {},
   "outputs": [
    {
     "data": {
      "text/plain": [
       "DecisionTreeRegressor(max_depth=1)"
      ]
     },
     "execution_count": 54,
     "metadata": {},
     "output_type": "execute_result"
    }
   ],
   "source": [
    "modelo_3.fit(ent_x3, ent_y3)"
   ]
  },
  {
   "cell_type": "code",
   "execution_count": 55,
   "id": "21610bad",
   "metadata": {},
   "outputs": [
    {
     "data": {
      "text/plain": [
       "array([0.14773128, 0.14773128, 0.14773128, ..., 0.14773128, 0.14773128,\n",
       "       0.14773128])"
      ]
     },
     "execution_count": 55,
     "metadata": {},
     "output_type": "execute_result"
    }
   ],
   "source": [
    "pred3_ent = modelo_3.predict(ent_x3) \n",
    "pred3_ent"
   ]
  },
  {
   "cell_type": "code",
   "execution_count": 56,
   "id": "f16603fb",
   "metadata": {},
   "outputs": [
    {
     "data": {
      "text/plain": [
       "array([0., 0., 0., ..., 0., 0., 0.])"
      ]
     },
     "execution_count": 56,
     "metadata": {},
     "output_type": "execute_result"
    }
   ],
   "source": [
    "pred3_ent = np.clip(pred3_ent,0,20).round() #rango de valores \n",
    "pred3_ent"
   ]
  },
  {
   "cell_type": "code",
   "execution_count": 57,
   "id": "3b6b1f34",
   "metadata": {},
   "outputs": [],
   "source": [
    "ent_3['ventas_por_mes_pred'] = pred3_ent"
   ]
  },
  {
   "cell_type": "code",
   "execution_count": 58,
   "id": "4bb373d5",
   "metadata": {},
   "outputs": [
    {
     "name": "stdout",
     "output_type": "stream",
     "text": [
      "Mean Absolute Error: 0.207931\n",
      "Mean Squared Error: 0.640888\n",
      "R-squared scores: 0.248864\n"
     ]
    }
   ],
   "source": [
    "# Mean absolute error (MAE)\n",
    "ent3_mae = mean_absolute_error(ent_3.y_ventas_siguiente_mes, ent_3.ventas_por_mes_pred)\n",
    "\n",
    "# Mean squared error (MSE)\n",
    "ent3_mse = mean_squared_error(ent_3.y_ventas_siguiente_mes, ent_3.ventas_por_mes_pred)\n",
    "\n",
    "# R-squared scores\n",
    "ent3_r2 = r2_score(ent_3.y_ventas_siguiente_mes, ent_3.ventas_por_mes_pred)\n",
    "\n",
    "\n",
    "# Print metrics\n",
    "print('Mean Absolute Error:', round(ent3_mae, 6))\n",
    "print('Mean Squared Error:', round(ent3_mse, 6))\n",
    "print('R-squared scores:', round(ent3_r2, 6))"
   ]
  },
  {
   "cell_type": "markdown",
   "id": "18bcbbc4",
   "metadata": {},
   "source": [
    "----------------------Cuarta Partición-------------------------"
   ]
  },
  {
   "cell_type": "code",
   "execution_count": 59,
   "id": "9d17a243",
   "metadata": {},
   "outputs": [],
   "source": [
    "modelo_4 = tree.DecisionTreeRegressor(max_depth=1)"
   ]
  },
  {
   "cell_type": "code",
   "execution_count": 60,
   "id": "f0a4c0e4",
   "metadata": {},
   "outputs": [
    {
     "data": {
      "text/plain": [
       "DecisionTreeRegressor(max_depth=1)"
      ]
     },
     "execution_count": 60,
     "metadata": {},
     "output_type": "execute_result"
    }
   ],
   "source": [
    "modelo_4.fit(ent_x4, ent_y4)"
   ]
  },
  {
   "cell_type": "code",
   "execution_count": 61,
   "id": "4ba5cce7",
   "metadata": {},
   "outputs": [
    {
     "data": {
      "text/plain": [
       "array([0.15369646, 0.15369646, 0.15369646, ..., 0.15369646, 0.15369646,\n",
       "       0.15369646])"
      ]
     },
     "execution_count": 61,
     "metadata": {},
     "output_type": "execute_result"
    }
   ],
   "source": [
    "pred4_ent = modelo_4.predict(ent_x4) \n",
    "pred4_ent"
   ]
  },
  {
   "cell_type": "code",
   "execution_count": 62,
   "id": "ed1648d4",
   "metadata": {},
   "outputs": [
    {
     "data": {
      "text/plain": [
       "array([0., 0., 0., ..., 0., 0., 0.])"
      ]
     },
     "execution_count": 62,
     "metadata": {},
     "output_type": "execute_result"
    }
   ],
   "source": [
    "pred4_ent = np.clip(pred4_ent,0,20).round() #rango de valores \n",
    "pred4_ent"
   ]
  },
  {
   "cell_type": "code",
   "execution_count": 63,
   "id": "6afd4ab8",
   "metadata": {},
   "outputs": [],
   "source": [
    "ent_4['ventas_por_mes_pred'] = pred4_ent"
   ]
  },
  {
   "cell_type": "code",
   "execution_count": 64,
   "id": "c69b4b90",
   "metadata": {},
   "outputs": [
    {
     "name": "stdout",
     "output_type": "stream",
     "text": [
      "Mean Absolute Error: 0.207614\n",
      "Mean Squared Error: 0.602058\n",
      "R-squared scores: 0.216246\n"
     ]
    }
   ],
   "source": [
    "# Mean absolute error (MAE)\n",
    "ent4_mae = mean_absolute_error(ent_4.y_ventas_siguiente_mes, ent_4.ventas_por_mes_pred)\n",
    "\n",
    "# Mean squared error (MSE)\n",
    "ent4_mse = mean_squared_error(ent_4.y_ventas_siguiente_mes, ent_4.ventas_por_mes_pred)\n",
    "\n",
    "# R-squared scores\n",
    "ent4_r2 = r2_score(ent_4.y_ventas_siguiente_mes, ent_4.ventas_por_mes_pred)\n",
    "\n",
    "\n",
    "# Print metrics\n",
    "print('Mean Absolute Error:', round(ent4_mae, 6))\n",
    "print('Mean Squared Error:', round(ent4_mse, 6))\n",
    "print('R-squared scores:', round(ent4_r2, 6))"
   ]
  },
  {
   "cell_type": "markdown",
   "id": "a6f2e29a",
   "metadata": {},
   "source": [
    "----------------------Quinta Partición-------------------------"
   ]
  },
  {
   "cell_type": "code",
   "execution_count": 65,
   "id": "7a4d38c6",
   "metadata": {},
   "outputs": [],
   "source": [
    "modelo_5 = tree.DecisionTreeRegressor(max_depth=1)"
   ]
  },
  {
   "cell_type": "code",
   "execution_count": 66,
   "id": "a711794e",
   "metadata": {},
   "outputs": [
    {
     "data": {
      "text/plain": [
       "DecisionTreeRegressor(max_depth=1)"
      ]
     },
     "execution_count": 66,
     "metadata": {},
     "output_type": "execute_result"
    }
   ],
   "source": [
    "modelo_5.fit(ent_x5, ent_y5)"
   ]
  },
  {
   "cell_type": "code",
   "execution_count": 67,
   "id": "6edb4eb7",
   "metadata": {},
   "outputs": [
    {
     "data": {
      "text/plain": [
       "array([0.13666269, 0.13666269, 0.13666269, ..., 0.13666269, 0.13666269,\n",
       "       0.13666269])"
      ]
     },
     "execution_count": 67,
     "metadata": {},
     "output_type": "execute_result"
    }
   ],
   "source": [
    "pred5_ent = modelo_5.predict(ent_x5) \n",
    "pred5_ent"
   ]
  },
  {
   "cell_type": "code",
   "execution_count": 68,
   "id": "760a77ff",
   "metadata": {},
   "outputs": [
    {
     "data": {
      "text/plain": [
       "array([0., 0., 0., ..., 0., 0., 0.])"
      ]
     },
     "execution_count": 68,
     "metadata": {},
     "output_type": "execute_result"
    }
   ],
   "source": [
    "pred5_ent = np.clip(pred5_ent,0,20).round() #rango de valores \n",
    "pred5_ent"
   ]
  },
  {
   "cell_type": "code",
   "execution_count": 69,
   "id": "ac2bcd49",
   "metadata": {},
   "outputs": [],
   "source": [
    "ent_5['ventas_por_mes_pred'] = pred5_ent"
   ]
  },
  {
   "cell_type": "code",
   "execution_count": 70,
   "id": "e1ab69a0",
   "metadata": {},
   "outputs": [
    {
     "name": "stdout",
     "output_type": "stream",
     "text": [
      "Mean Absolute Error: 0.214251\n",
      "Mean Squared Error: 0.584122\n",
      "R-squared scores: 0.200806\n"
     ]
    }
   ],
   "source": [
    "# Mean absolute error (MAE)\n",
    "ent5_mae = mean_absolute_error(ent_5.y_ventas_siguiente_mes, ent_5.ventas_por_mes_pred)\n",
    "\n",
    "# Mean squared error (MSE)\n",
    "ent5_mse = mean_squared_error(ent_5.y_ventas_siguiente_mes, ent_5.ventas_por_mes_pred)\n",
    "\n",
    "# R-squared scores\n",
    "ent5_r2 = r2_score(ent_5.y_ventas_siguiente_mes, ent_5.ventas_por_mes_pred)\n",
    "\n",
    "\n",
    "# Print metrics\n",
    "print('Mean Absolute Error:', round(ent5_mae, 6))\n",
    "print('Mean Squared Error:', round(ent5_mse, 6))\n",
    "print('R-squared scores:', round(ent5_r2, 6))"
   ]
  },
  {
   "cell_type": "markdown",
   "id": "90b27f5b",
   "metadata": {},
   "source": [
    "----------------------Sexta Partición-------------------------"
   ]
  },
  {
   "cell_type": "code",
   "execution_count": 71,
   "id": "6eb770b1",
   "metadata": {},
   "outputs": [],
   "source": [
    "modelo_6 = tree.DecisionTreeRegressor(max_depth=1)"
   ]
  },
  {
   "cell_type": "code",
   "execution_count": 72,
   "id": "9ee1242d",
   "metadata": {},
   "outputs": [
    {
     "data": {
      "text/plain": [
       "DecisionTreeRegressor(max_depth=1)"
      ]
     },
     "execution_count": 72,
     "metadata": {},
     "output_type": "execute_result"
    }
   ],
   "source": [
    "modelo_6.fit(ent_x6, ent_y6)"
   ]
  },
  {
   "cell_type": "code",
   "execution_count": 73,
   "id": "9936b1b5",
   "metadata": {},
   "outputs": [
    {
     "data": {
      "text/plain": [
       "array([0.14527089, 0.14527089, 0.14527089, ..., 0.14527089, 0.14527089,\n",
       "       0.14527089])"
      ]
     },
     "execution_count": 73,
     "metadata": {},
     "output_type": "execute_result"
    }
   ],
   "source": [
    "pred6_ent = modelo_6.predict(ent_x6) \n",
    "pred6_ent"
   ]
  },
  {
   "cell_type": "code",
   "execution_count": 74,
   "id": "a8455bb8",
   "metadata": {},
   "outputs": [
    {
     "data": {
      "text/plain": [
       "array([0., 0., 0., ..., 0., 0., 0.])"
      ]
     },
     "execution_count": 74,
     "metadata": {},
     "output_type": "execute_result"
    }
   ],
   "source": [
    "pred6_ent = np.clip(pred6_ent,0,20).round() #rango de valores \n",
    "pred6_ent"
   ]
  },
  {
   "cell_type": "code",
   "execution_count": 75,
   "id": "814ec5b3",
   "metadata": {},
   "outputs": [],
   "source": [
    "ent_6['ventas_por_mes_pred'] = pred6_ent"
   ]
  },
  {
   "cell_type": "code",
   "execution_count": 76,
   "id": "d5bdcd58",
   "metadata": {},
   "outputs": [
    {
     "name": "stdout",
     "output_type": "stream",
     "text": [
      "Mean Absolute Error: 0.221045\n",
      "Mean Squared Error: 0.575788\n",
      "R-squared scores: 0.190119\n"
     ]
    }
   ],
   "source": [
    "# Mean absolute error (MAE)\n",
    "ent6_mae = mean_absolute_error(ent_6.y_ventas_siguiente_mes, ent_6.ventas_por_mes_pred)\n",
    "\n",
    "# Mean squared error (MSE)\n",
    "ent6_mse = mean_squared_error(ent_6.y_ventas_siguiente_mes, ent_6.ventas_por_mes_pred)\n",
    "\n",
    "# R-squared scores\n",
    "ent6_r2 = r2_score(ent_6.y_ventas_siguiente_mes, ent_6.ventas_por_mes_pred)\n",
    "\n",
    "\n",
    "# Print metrics\n",
    "print('Mean Absolute Error:', round(ent6_mae, 6))\n",
    "print('Mean Squared Error:', round(ent6_mse, 6))\n",
    "print('R-squared scores:', round(ent6_r2, 6))"
   ]
  },
  {
   "cell_type": "markdown",
   "id": "1f8aadac",
   "metadata": {},
   "source": [
    "----------------------Séptima Partición-------------------------"
   ]
  },
  {
   "cell_type": "code",
   "execution_count": 77,
   "id": "176e2c20",
   "metadata": {},
   "outputs": [],
   "source": [
    "modelo_7 = tree.DecisionTreeRegressor(max_depth=1)"
   ]
  },
  {
   "cell_type": "code",
   "execution_count": 78,
   "id": "65d1ff2e",
   "metadata": {},
   "outputs": [
    {
     "data": {
      "text/plain": [
       "DecisionTreeRegressor(max_depth=1)"
      ]
     },
     "execution_count": 78,
     "metadata": {},
     "output_type": "execute_result"
    }
   ],
   "source": [
    "modelo_7.fit(ent_x7, ent_y7)"
   ]
  },
  {
   "cell_type": "code",
   "execution_count": 79,
   "id": "34784261",
   "metadata": {},
   "outputs": [
    {
     "data": {
      "text/plain": [
       "array([0.14314575, 0.14314575, 0.14314575, ..., 0.14314575, 0.14314575,\n",
       "       0.14314575])"
      ]
     },
     "execution_count": 79,
     "metadata": {},
     "output_type": "execute_result"
    }
   ],
   "source": [
    "pred7_ent = modelo_7.predict(ent_x7) \n",
    "pred7_ent"
   ]
  },
  {
   "cell_type": "code",
   "execution_count": 80,
   "id": "7f37fad0",
   "metadata": {},
   "outputs": [
    {
     "data": {
      "text/plain": [
       "array([0., 0., 0., ..., 0., 0., 0.])"
      ]
     },
     "execution_count": 80,
     "metadata": {},
     "output_type": "execute_result"
    }
   ],
   "source": [
    "pred7_ent = np.clip(pred7_ent,0,20).round() #rango de valores \n",
    "pred7_ent"
   ]
  },
  {
   "cell_type": "code",
   "execution_count": 81,
   "id": "89f17921",
   "metadata": {},
   "outputs": [],
   "source": [
    "ent_7['ventas_por_mes_pred'] = pred7_ent"
   ]
  },
  {
   "cell_type": "code",
   "execution_count": 82,
   "id": "1d967564",
   "metadata": {},
   "outputs": [
    {
     "name": "stdout",
     "output_type": "stream",
     "text": [
      "Mean Absolute Error: 0.218933\n",
      "Mean Squared Error: 0.548108\n",
      "R-squared scores: 0.177641\n"
     ]
    }
   ],
   "source": [
    "# Mean absolute error (MAE)\n",
    "ent7_mae = mean_absolute_error(ent_7.y_ventas_siguiente_mes, ent_7.ventas_por_mes_pred)\n",
    "\n",
    "# Mean squared error (MSE)\n",
    "ent7_mse = mean_squared_error(ent_7.y_ventas_siguiente_mes, ent_7.ventas_por_mes_pred)\n",
    "\n",
    "# R-squared scores\n",
    "ent7_r2 = r2_score(ent_7.y_ventas_siguiente_mes, ent_7.ventas_por_mes_pred)\n",
    "\n",
    "\n",
    "# Print metrics\n",
    "print('Mean Absolute Error:', round(ent7_mae, 6))\n",
    "print('Mean Squared Error:', round(ent7_mse, 6))\n",
    "print('R-squared scores:', round(ent7_r2, 6))"
   ]
  },
  {
   "cell_type": "markdown",
   "id": "c9dbc416",
   "metadata": {},
   "source": [
    "----------------------Octava Partición-------------------------"
   ]
  },
  {
   "cell_type": "code",
   "execution_count": 83,
   "id": "bbbeb2a5",
   "metadata": {},
   "outputs": [],
   "source": [
    "modelo_8 = tree.DecisionTreeRegressor(max_depth=1)"
   ]
  },
  {
   "cell_type": "code",
   "execution_count": 84,
   "id": "c7c13181",
   "metadata": {},
   "outputs": [
    {
     "data": {
      "text/plain": [
       "DecisionTreeRegressor(max_depth=1)"
      ]
     },
     "execution_count": 84,
     "metadata": {},
     "output_type": "execute_result"
    }
   ],
   "source": [
    "modelo_8.fit(ent_x8, ent_y8)"
   ]
  },
  {
   "cell_type": "code",
   "execution_count": 85,
   "id": "7ae7f43d",
   "metadata": {},
   "outputs": [
    {
     "data": {
      "text/plain": [
       "array([0.13826532, 0.13826532, 0.13826532, ..., 0.13826532, 0.13826532,\n",
       "       0.13826532])"
      ]
     },
     "execution_count": 85,
     "metadata": {},
     "output_type": "execute_result"
    }
   ],
   "source": [
    "pred8_ent = modelo_8.predict(ent_x8) \n",
    "pred8_ent"
   ]
  },
  {
   "cell_type": "code",
   "execution_count": 86,
   "id": "413763b7",
   "metadata": {},
   "outputs": [
    {
     "data": {
      "text/plain": [
       "array([0., 0., 0., ..., 0., 0., 0.])"
      ]
     },
     "execution_count": 86,
     "metadata": {},
     "output_type": "execute_result"
    }
   ],
   "source": [
    "pred8_ent = np.clip(pred8_ent,0,20).round() #rango de valores \n",
    "pred8_ent"
   ]
  },
  {
   "cell_type": "code",
   "execution_count": 87,
   "id": "08d75aff",
   "metadata": {},
   "outputs": [],
   "source": [
    "ent_8['ventas_por_mes_pred'] = pred8_ent"
   ]
  },
  {
   "cell_type": "code",
   "execution_count": 88,
   "id": "b73c126f",
   "metadata": {},
   "outputs": [
    {
     "name": "stdout",
     "output_type": "stream",
     "text": [
      "Mean Absolute Error: 0.211171\n",
      "Mean Squared Error: 0.512887\n",
      "R-squared scores: 0.165375\n"
     ]
    }
   ],
   "source": [
    "# Mean absolute error (MAE)\n",
    "ent8_mae = mean_absolute_error(ent_8.y_ventas_siguiente_mes, ent_8.ventas_por_mes_pred)\n",
    "\n",
    "# Mean squared error (MSE)\n",
    "ent8_mse = mean_squared_error(ent_8.y_ventas_siguiente_mes, ent_8.ventas_por_mes_pred)\n",
    "\n",
    "# R-squared scores\n",
    "ent8_r2 = r2_score(ent_8.y_ventas_siguiente_mes, ent_8.ventas_por_mes_pred)\n",
    "\n",
    "\n",
    "# Print metrics\n",
    "print('Mean Absolute Error:', round(ent8_mae, 6))\n",
    "print('Mean Squared Error:', round(ent8_mse, 6))\n",
    "print('R-squared scores:', round(ent8_r2, 6))"
   ]
  },
  {
   "cell_type": "markdown",
   "id": "3d9d15ea",
   "metadata": {},
   "source": [
    "# Prueba de Modelo"
   ]
  },
  {
   "cell_type": "code",
   "execution_count": 89,
   "id": "858dabf1",
   "metadata": {},
   "outputs": [
    {
     "data": {
      "text/plain": [
       "array([0.16563895, 0.16563895, 0.16563895, ..., 0.16563895, 0.16563895,\n",
       "       0.16563895])"
      ]
     },
     "execution_count": 89,
     "metadata": {},
     "output_type": "execute_result"
    }
   ],
   "source": [
    "# 1. HACER PREDICCIONES: CALCULAR ERROR DE PRUEBA\n",
    "pred1_prueba = modelo_1.predict(prueba_x1) \n",
    "pred1_prueba"
   ]
  },
  {
   "cell_type": "code",
   "execution_count": 90,
   "id": "6560f13f",
   "metadata": {},
   "outputs": [
    {
     "data": {
      "text/plain": [
       "array([0., 0., 0., ..., 0., 0., 0.])"
      ]
     },
     "execution_count": 90,
     "metadata": {},
     "output_type": "execute_result"
    }
   ],
   "source": [
    "# 2. REDONDEAR Y AJUSTAR VALORES\n",
    "pred1_prueba = np.clip(pred1_prueba,0,20).round() #rango de valores \n",
    "pred1_prueba"
   ]
  },
  {
   "cell_type": "code",
   "execution_count": 91,
   "id": "de16199b",
   "metadata": {},
   "outputs": [
    {
     "data": {
      "text/plain": [
       "4698.0"
      ]
     },
     "execution_count": 91,
     "metadata": {},
     "output_type": "execute_result"
    }
   ],
   "source": [
    "# ¿Cuántas unidades se van a vender (prediccoión) en ese mes de prueba (en todos los puntos de venta , considerando todos los productos)?\n",
    "pred1_prueba.sum()"
   ]
  },
  {
   "cell_type": "code",
   "execution_count": 92,
   "id": "7e221d4a",
   "metadata": {},
   "outputs": [],
   "source": [
    "# 3. JUNTAR DATOS PARA PODER CALCULAR ERROR\n",
    "prueba_1['ventas_por_mes_pred'] = pred1_prueba"
   ]
  },
  {
   "cell_type": "code",
   "execution_count": 93,
   "id": "aefc1a2f",
   "metadata": {},
   "outputs": [
    {
     "data": {
      "text/html": [
       "<div>\n",
       "<style scoped>\n",
       "    .dataframe tbody tr th:only-of-type {\n",
       "        vertical-align: middle;\n",
       "    }\n",
       "\n",
       "    .dataframe tbody tr th {\n",
       "        vertical-align: top;\n",
       "    }\n",
       "\n",
       "    .dataframe thead th {\n",
       "        text-align: right;\n",
       "    }\n",
       "</style>\n",
       "<table border=\"1\" class=\"dataframe\">\n",
       "  <thead>\n",
       "    <tr style=\"text-align: right;\">\n",
       "      <th></th>\n",
       "      <th></th>\n",
       "      <th></th>\n",
       "      <th>ventas_totales</th>\n",
       "      <th>y_ventas_siguiente_mes</th>\n",
       "      <th>ventas_totales_en_tienda_de_cada_mes</th>\n",
       "      <th>ventas_promedio_en_tienda_de_cada_mes</th>\n",
       "      <th>ventas_totales_en_tienda_de_cada_sku</th>\n",
       "      <th>ventas_promedio_en_tienda_de_cada_sku</th>\n",
       "      <th>ventas_totales_1_mes_pasado</th>\n",
       "      <th>ventas_totales_2_meses_pasados</th>\n",
       "      <th>ventas_totales_3_meses_pasados</th>\n",
       "      <th>ventas_totales_tienda_y_mes_del_mes_pasado</th>\n",
       "      <th>...</th>\n",
       "      <th>ventas_promedio_tienda_y_mes_del_mes_pasado</th>\n",
       "      <th>ventas_promedio_tienda_y_mes_2_pasado</th>\n",
       "      <th>ventas_promedio_tienda_y_mes_3_pasado</th>\n",
       "      <th>ventas_totales_tienda_y_sku_del_mes_pasado</th>\n",
       "      <th>ventas_totales_tienda_y_sku_2_pasado</th>\n",
       "      <th>ventas_totales_tienda_y_sku_3_pasado</th>\n",
       "      <th>ventas_promedio_tienda_y_sku_del_mes_pasado</th>\n",
       "      <th>ventas_promedio_tienda_y_sku_2_pasado</th>\n",
       "      <th>ventas_promedio_tienda_y_sku_3_pasado</th>\n",
       "      <th>ventas_por_mes_pred</th>\n",
       "    </tr>\n",
       "    <tr>\n",
       "      <th>pdv_id</th>\n",
       "      <th>mes_id</th>\n",
       "      <th>sku_id</th>\n",
       "      <th></th>\n",
       "      <th></th>\n",
       "      <th></th>\n",
       "      <th></th>\n",
       "      <th></th>\n",
       "      <th></th>\n",
       "      <th></th>\n",
       "      <th></th>\n",
       "      <th></th>\n",
       "      <th></th>\n",
       "      <th></th>\n",
       "      <th></th>\n",
       "      <th></th>\n",
       "      <th></th>\n",
       "      <th></th>\n",
       "      <th></th>\n",
       "      <th></th>\n",
       "      <th></th>\n",
       "      <th></th>\n",
       "      <th></th>\n",
       "      <th></th>\n",
       "    </tr>\n",
       "  </thead>\n",
       "  <tbody>\n",
       "    <tr>\n",
       "      <th rowspan=\"5\" valign=\"top\">1</th>\n",
       "      <th rowspan=\"5\" valign=\"top\">1</th>\n",
       "      <th>1</th>\n",
       "      <td>1</td>\n",
       "      <td>0</td>\n",
       "      <td>5</td>\n",
       "      <td>0.166667</td>\n",
       "      <td>2106</td>\n",
       "      <td>1.271739</td>\n",
       "      <td>1</td>\n",
       "      <td>0</td>\n",
       "      <td>0</td>\n",
       "      <td>1</td>\n",
       "      <td>...</td>\n",
       "      <td>0.033333</td>\n",
       "      <td>0.0</td>\n",
       "      <td>0.0</td>\n",
       "      <td>2087</td>\n",
       "      <td>0</td>\n",
       "      <td>0</td>\n",
       "      <td>1.260266</td>\n",
       "      <td>0.0</td>\n",
       "      <td>0.0</td>\n",
       "      <td>0.0</td>\n",
       "    </tr>\n",
       "    <tr>\n",
       "      <th>2</th>\n",
       "      <td>2</td>\n",
       "      <td>1</td>\n",
       "      <td>5</td>\n",
       "      <td>0.166667</td>\n",
       "      <td>888</td>\n",
       "      <td>0.536232</td>\n",
       "      <td>0</td>\n",
       "      <td>0</td>\n",
       "      <td>0</td>\n",
       "      <td>1</td>\n",
       "      <td>...</td>\n",
       "      <td>0.033333</td>\n",
       "      <td>0.0</td>\n",
       "      <td>0.0</td>\n",
       "      <td>888</td>\n",
       "      <td>0</td>\n",
       "      <td>0</td>\n",
       "      <td>0.536232</td>\n",
       "      <td>0.0</td>\n",
       "      <td>0.0</td>\n",
       "      <td>0.0</td>\n",
       "    </tr>\n",
       "    <tr>\n",
       "      <th>3</th>\n",
       "      <td>1</td>\n",
       "      <td>0</td>\n",
       "      <td>5</td>\n",
       "      <td>0.166667</td>\n",
       "      <td>1808</td>\n",
       "      <td>1.091787</td>\n",
       "      <td>0</td>\n",
       "      <td>0</td>\n",
       "      <td>0</td>\n",
       "      <td>1</td>\n",
       "      <td>...</td>\n",
       "      <td>0.033333</td>\n",
       "      <td>0.0</td>\n",
       "      <td>0.0</td>\n",
       "      <td>1636</td>\n",
       "      <td>0</td>\n",
       "      <td>0</td>\n",
       "      <td>0.987923</td>\n",
       "      <td>0.0</td>\n",
       "      <td>0.0</td>\n",
       "      <td>0.0</td>\n",
       "    </tr>\n",
       "    <tr>\n",
       "      <th>4</th>\n",
       "      <td>1</td>\n",
       "      <td>0</td>\n",
       "      <td>5</td>\n",
       "      <td>0.166667</td>\n",
       "      <td>1338</td>\n",
       "      <td>0.807971</td>\n",
       "      <td>0</td>\n",
       "      <td>0</td>\n",
       "      <td>0</td>\n",
       "      <td>1</td>\n",
       "      <td>...</td>\n",
       "      <td>0.033333</td>\n",
       "      <td>0.0</td>\n",
       "      <td>0.0</td>\n",
       "      <td>1250</td>\n",
       "      <td>0</td>\n",
       "      <td>0</td>\n",
       "      <td>0.754831</td>\n",
       "      <td>0.0</td>\n",
       "      <td>0.0</td>\n",
       "      <td>0.0</td>\n",
       "    </tr>\n",
       "    <tr>\n",
       "      <th>5</th>\n",
       "      <td>0</td>\n",
       "      <td>0</td>\n",
       "      <td>5</td>\n",
       "      <td>0.166667</td>\n",
       "      <td>689</td>\n",
       "      <td>0.416063</td>\n",
       "      <td>0</td>\n",
       "      <td>0</td>\n",
       "      <td>0</td>\n",
       "      <td>1</td>\n",
       "      <td>...</td>\n",
       "      <td>0.033333</td>\n",
       "      <td>0.0</td>\n",
       "      <td>0.0</td>\n",
       "      <td>607</td>\n",
       "      <td>0</td>\n",
       "      <td>0</td>\n",
       "      <td>0.366546</td>\n",
       "      <td>0.0</td>\n",
       "      <td>0.0</td>\n",
       "      <td>0.0</td>\n",
       "    </tr>\n",
       "  </tbody>\n",
       "</table>\n",
       "<p>5 rows × 22 columns</p>\n",
       "</div>"
      ],
      "text/plain": [
       "                      ventas_totales  y_ventas_siguiente_mes  \\\n",
       "pdv_id mes_id sku_id                                           \n",
       "1      1      1                    1                       0   \n",
       "              2                    2                       1   \n",
       "              3                    1                       0   \n",
       "              4                    1                       0   \n",
       "              5                    0                       0   \n",
       "\n",
       "                      ventas_totales_en_tienda_de_cada_mes  \\\n",
       "pdv_id mes_id sku_id                                         \n",
       "1      1      1                                          5   \n",
       "              2                                          5   \n",
       "              3                                          5   \n",
       "              4                                          5   \n",
       "              5                                          5   \n",
       "\n",
       "                      ventas_promedio_en_tienda_de_cada_mes  \\\n",
       "pdv_id mes_id sku_id                                          \n",
       "1      1      1                                    0.166667   \n",
       "              2                                    0.166667   \n",
       "              3                                    0.166667   \n",
       "              4                                    0.166667   \n",
       "              5                                    0.166667   \n",
       "\n",
       "                      ventas_totales_en_tienda_de_cada_sku  \\\n",
       "pdv_id mes_id sku_id                                         \n",
       "1      1      1                                       2106   \n",
       "              2                                        888   \n",
       "              3                                       1808   \n",
       "              4                                       1338   \n",
       "              5                                        689   \n",
       "\n",
       "                      ventas_promedio_en_tienda_de_cada_sku  \\\n",
       "pdv_id mes_id sku_id                                          \n",
       "1      1      1                                    1.271739   \n",
       "              2                                    0.536232   \n",
       "              3                                    1.091787   \n",
       "              4                                    0.807971   \n",
       "              5                                    0.416063   \n",
       "\n",
       "                      ventas_totales_1_mes_pasado  \\\n",
       "pdv_id mes_id sku_id                                \n",
       "1      1      1                                 1   \n",
       "              2                                 0   \n",
       "              3                                 0   \n",
       "              4                                 0   \n",
       "              5                                 0   \n",
       "\n",
       "                      ventas_totales_2_meses_pasados  \\\n",
       "pdv_id mes_id sku_id                                   \n",
       "1      1      1                                    0   \n",
       "              2                                    0   \n",
       "              3                                    0   \n",
       "              4                                    0   \n",
       "              5                                    0   \n",
       "\n",
       "                      ventas_totales_3_meses_pasados  \\\n",
       "pdv_id mes_id sku_id                                   \n",
       "1      1      1                                    0   \n",
       "              2                                    0   \n",
       "              3                                    0   \n",
       "              4                                    0   \n",
       "              5                                    0   \n",
       "\n",
       "                      ventas_totales_tienda_y_mes_del_mes_pasado  ...  \\\n",
       "pdv_id mes_id sku_id                                              ...   \n",
       "1      1      1                                                1  ...   \n",
       "              2                                                1  ...   \n",
       "              3                                                1  ...   \n",
       "              4                                                1  ...   \n",
       "              5                                                1  ...   \n",
       "\n",
       "                      ventas_promedio_tienda_y_mes_del_mes_pasado  \\\n",
       "pdv_id mes_id sku_id                                                \n",
       "1      1      1                                          0.033333   \n",
       "              2                                          0.033333   \n",
       "              3                                          0.033333   \n",
       "              4                                          0.033333   \n",
       "              5                                          0.033333   \n",
       "\n",
       "                      ventas_promedio_tienda_y_mes_2_pasado  \\\n",
       "pdv_id mes_id sku_id                                          \n",
       "1      1      1                                         0.0   \n",
       "              2                                         0.0   \n",
       "              3                                         0.0   \n",
       "              4                                         0.0   \n",
       "              5                                         0.0   \n",
       "\n",
       "                      ventas_promedio_tienda_y_mes_3_pasado  \\\n",
       "pdv_id mes_id sku_id                                          \n",
       "1      1      1                                         0.0   \n",
       "              2                                         0.0   \n",
       "              3                                         0.0   \n",
       "              4                                         0.0   \n",
       "              5                                         0.0   \n",
       "\n",
       "                      ventas_totales_tienda_y_sku_del_mes_pasado  \\\n",
       "pdv_id mes_id sku_id                                               \n",
       "1      1      1                                             2087   \n",
       "              2                                              888   \n",
       "              3                                             1636   \n",
       "              4                                             1250   \n",
       "              5                                              607   \n",
       "\n",
       "                      ventas_totales_tienda_y_sku_2_pasado  \\\n",
       "pdv_id mes_id sku_id                                         \n",
       "1      1      1                                          0   \n",
       "              2                                          0   \n",
       "              3                                          0   \n",
       "              4                                          0   \n",
       "              5                                          0   \n",
       "\n",
       "                      ventas_totales_tienda_y_sku_3_pasado  \\\n",
       "pdv_id mes_id sku_id                                         \n",
       "1      1      1                                          0   \n",
       "              2                                          0   \n",
       "              3                                          0   \n",
       "              4                                          0   \n",
       "              5                                          0   \n",
       "\n",
       "                      ventas_promedio_tienda_y_sku_del_mes_pasado  \\\n",
       "pdv_id mes_id sku_id                                                \n",
       "1      1      1                                          1.260266   \n",
       "              2                                          0.536232   \n",
       "              3                                          0.987923   \n",
       "              4                                          0.754831   \n",
       "              5                                          0.366546   \n",
       "\n",
       "                      ventas_promedio_tienda_y_sku_2_pasado  \\\n",
       "pdv_id mes_id sku_id                                          \n",
       "1      1      1                                         0.0   \n",
       "              2                                         0.0   \n",
       "              3                                         0.0   \n",
       "              4                                         0.0   \n",
       "              5                                         0.0   \n",
       "\n",
       "                      ventas_promedio_tienda_y_sku_3_pasado  \\\n",
       "pdv_id mes_id sku_id                                          \n",
       "1      1      1                                         0.0   \n",
       "              2                                         0.0   \n",
       "              3                                         0.0   \n",
       "              4                                         0.0   \n",
       "              5                                         0.0   \n",
       "\n",
       "                      ventas_por_mes_pred  \n",
       "pdv_id mes_id sku_id                       \n",
       "1      1      1                       0.0  \n",
       "              2                       0.0  \n",
       "              3                       0.0  \n",
       "              4                       0.0  \n",
       "              5                       0.0  \n",
       "\n",
       "[5 rows x 22 columns]"
      ]
     },
     "execution_count": 93,
     "metadata": {},
     "output_type": "execute_result"
    }
   ],
   "source": [
    "prueba_1.head(5)"
   ]
  },
  {
   "cell_type": "code",
   "execution_count": 94,
   "id": "c268874c",
   "metadata": {},
   "outputs": [
    {
     "name": "stdout",
     "output_type": "stream",
     "text": [
      "Mean Absolute Error: 0.211091\n",
      "Mean Squared Error: 0.735809\n",
      "R-squared scores: 0.2704\n"
     ]
    }
   ],
   "source": [
    "# 4. CALCULAR ERRORES CON FUNCIONES DE PAQUETERÍA\n",
    "\n",
    "# Mean absolute error (MAE)\n",
    "prueba1_mae = mean_absolute_error(prueba_1.y_ventas_siguiente_mes, prueba_1.ventas_por_mes_pred)\n",
    "\n",
    "# Mean squared error (MSE)\n",
    "prueba1_mse = mean_squared_error(prueba_1.y_ventas_siguiente_mes, prueba_1.ventas_por_mes_pred)\n",
    "\n",
    "# R-squared scores\n",
    "prueba1_r2 = r2_score(prueba_1.y_ventas_siguiente_mes, prueba_1.ventas_por_mes_pred)\n",
    "\n",
    "\n",
    "# Print metrics\n",
    "print('Mean Absolute Error:', round(prueba1_mae, 6))\n",
    "print('Mean Squared Error:', round(prueba1_mse, 6))\n",
    "print('R-squared scores:', round(prueba1_r2, 6))"
   ]
  },
  {
   "cell_type": "markdown",
   "id": "9bc6af16",
   "metadata": {},
   "source": [
    "----------------------Segunda Partición-------------------------"
   ]
  },
  {
   "cell_type": "code",
   "execution_count": 95,
   "id": "f52145a3",
   "metadata": {},
   "outputs": [
    {
     "data": {
      "text/plain": [
       "array([0.15403151, 0.15403151, 0.15403151, ..., 0.15403151, 0.15403151,\n",
       "       0.15403151])"
      ]
     },
     "execution_count": 95,
     "metadata": {},
     "output_type": "execute_result"
    }
   ],
   "source": [
    "pred2_prueba = modelo_2.predict(prueba_x2) \n",
    "pred2_prueba"
   ]
  },
  {
   "cell_type": "code",
   "execution_count": 96,
   "id": "754d7201",
   "metadata": {},
   "outputs": [
    {
     "data": {
      "text/plain": [
       "array([0., 0., 0., ..., 0., 0., 0.])"
      ]
     },
     "execution_count": 96,
     "metadata": {},
     "output_type": "execute_result"
    }
   ],
   "source": [
    "pred2_prueba = np.clip(pred2_prueba,0,20).round() #rango de valores \n",
    "pred2_prueba"
   ]
  },
  {
   "cell_type": "code",
   "execution_count": 97,
   "id": "096b1bed",
   "metadata": {},
   "outputs": [
    {
     "data": {
      "text/plain": [
       "4218.0"
      ]
     },
     "execution_count": 97,
     "metadata": {},
     "output_type": "execute_result"
    }
   ],
   "source": [
    "pred2_prueba.sum()"
   ]
  },
  {
   "cell_type": "code",
   "execution_count": 98,
   "id": "8a07abdc",
   "metadata": {},
   "outputs": [],
   "source": [
    "prueba_2['ventas_por_mes_pred'] = pred2_prueba"
   ]
  },
  {
   "cell_type": "code",
   "execution_count": 99,
   "id": "a91ff00e",
   "metadata": {},
   "outputs": [
    {
     "name": "stdout",
     "output_type": "stream",
     "text": [
      "Mean Absolute Error: 0.183434\n",
      "Mean Squared Error: 0.44845\n",
      "R-squared scores: 0.151211\n"
     ]
    }
   ],
   "source": [
    "# Mean absolute error (MAE)\n",
    "prueba2_mae = mean_absolute_error(prueba_2.y_ventas_siguiente_mes, prueba_2.ventas_por_mes_pred)\n",
    "\n",
    "# Mean squared error (MSE)\n",
    "prueba2_mse = mean_squared_error(prueba_2.y_ventas_siguiente_mes, prueba_2.ventas_por_mes_pred)\n",
    "\n",
    "# R-squared scores\n",
    "prueba2_r2 = r2_score(prueba_2.y_ventas_siguiente_mes, prueba_2.ventas_por_mes_pred)\n",
    "\n",
    "\n",
    "# Print metrics\n",
    "print('Mean Absolute Error:', round(prueba2_mae, 6))\n",
    "print('Mean Squared Error:', round(prueba2_mse, 6))\n",
    "print('R-squared scores:', round(prueba2_r2, 6))"
   ]
  },
  {
   "cell_type": "markdown",
   "id": "1281d111",
   "metadata": {},
   "source": [
    "----------------------Tercera Partición-------------------------"
   ]
  },
  {
   "cell_type": "code",
   "execution_count": 100,
   "id": "3d1a9848",
   "metadata": {},
   "outputs": [
    {
     "data": {
      "text/plain": [
       "array([0.14773128, 0.14773128, 0.14773128, ..., 0.14773128, 0.14773128,\n",
       "       0.14773128])"
      ]
     },
     "execution_count": 100,
     "metadata": {},
     "output_type": "execute_result"
    }
   ],
   "source": [
    "pred3_prueba = modelo_3.predict(prueba_x3) \n",
    "pred3_prueba"
   ]
  },
  {
   "cell_type": "code",
   "execution_count": 101,
   "id": "fc007b57",
   "metadata": {},
   "outputs": [
    {
     "data": {
      "text/plain": [
       "array([0., 0., 0., ..., 0., 0., 0.])"
      ]
     },
     "execution_count": 101,
     "metadata": {},
     "output_type": "execute_result"
    }
   ],
   "source": [
    "pred3_prueba = np.clip(pred3_prueba,0,20).round() #rango de valores \n",
    "pred3_prueba"
   ]
  },
  {
   "cell_type": "code",
   "execution_count": 102,
   "id": "f059e6ae",
   "metadata": {},
   "outputs": [
    {
     "data": {
      "text/plain": [
       "3063.0"
      ]
     },
     "execution_count": 102,
     "metadata": {},
     "output_type": "execute_result"
    }
   ],
   "source": [
    "pred3_prueba.sum()"
   ]
  },
  {
   "cell_type": "code",
   "execution_count": 103,
   "id": "cf6d29f2",
   "metadata": {},
   "outputs": [],
   "source": [
    "prueba_3['ventas_por_mes_pred'] = pred3_prueba"
   ]
  },
  {
   "cell_type": "code",
   "execution_count": 104,
   "id": "9a4a2124",
   "metadata": {},
   "outputs": [
    {
     "name": "stdout",
     "output_type": "stream",
     "text": [
      "Mean Absolute Error: 0.206663\n",
      "Mean Squared Error: 0.485568\n",
      "R-squared scores: 0.052811\n"
     ]
    }
   ],
   "source": [
    "# Mean absolute error (MAE)\n",
    "prueba3_mae = mean_absolute_error(prueba_3.y_ventas_siguiente_mes, prueba_3.ventas_por_mes_pred)\n",
    "\n",
    "# Mean squared error (MSE)\n",
    "prueba3_mse = mean_squared_error(prueba_3.y_ventas_siguiente_mes, prueba_3.ventas_por_mes_pred)\n",
    "\n",
    "# R-squared scores\n",
    "prueba3_r2 = r2_score(prueba_3.y_ventas_siguiente_mes, prueba_3.ventas_por_mes_pred)\n",
    "\n",
    "\n",
    "# Print metrics\n",
    "print('Mean Absolute Error:', round(prueba3_mae, 6))\n",
    "print('Mean Squared Error:', round(prueba3_mse, 6))\n",
    "print('R-squared scores:', round(prueba3_r2, 6))"
   ]
  },
  {
   "cell_type": "markdown",
   "id": "fcfe0e91",
   "metadata": {},
   "source": [
    "----------------------Cuarta Partición-------------------------"
   ]
  },
  {
   "cell_type": "code",
   "execution_count": 105,
   "id": "4ae4a274",
   "metadata": {},
   "outputs": [
    {
     "data": {
      "text/plain": [
       "array([0.15369646, 0.15369646, 0.15369646, ..., 0.15369646, 0.15369646,\n",
       "       0.15369646])"
      ]
     },
     "execution_count": 105,
     "metadata": {},
     "output_type": "execute_result"
    }
   ],
   "source": [
    "pred4_prueba = modelo_4.predict(prueba_x4) \n",
    "pred4_prueba"
   ]
  },
  {
   "cell_type": "code",
   "execution_count": 106,
   "id": "e75be8d4",
   "metadata": {},
   "outputs": [
    {
     "data": {
      "text/plain": [
       "array([0., 0., 0., ..., 0., 0., 0.])"
      ]
     },
     "execution_count": 106,
     "metadata": {},
     "output_type": "execute_result"
    }
   ],
   "source": [
    "pred4_prueba = np.clip(pred4_prueba,0,20).round() #rango de valores \n",
    "pred4_prueba"
   ]
  },
  {
   "cell_type": "code",
   "execution_count": 107,
   "id": "5da00a20",
   "metadata": {},
   "outputs": [
    {
     "data": {
      "text/plain": [
       "2955.0"
      ]
     },
     "execution_count": 107,
     "metadata": {},
     "output_type": "execute_result"
    }
   ],
   "source": [
    "pred4_prueba.sum()"
   ]
  },
  {
   "cell_type": "code",
   "execution_count": 108,
   "id": "3991da68",
   "metadata": {},
   "outputs": [],
   "source": [
    "prueba_4['ventas_por_mes_pred'] = pred4_prueba"
   ]
  },
  {
   "cell_type": "code",
   "execution_count": 109,
   "id": "2064db7b",
   "metadata": {},
   "outputs": [
    {
     "name": "stdout",
     "output_type": "stream",
     "text": [
      "Mean Absolute Error: 0.244887\n",
      "Mean Squared Error: 0.581602\n",
      "R-squared scores: -0.000113\n"
     ]
    }
   ],
   "source": [
    "# Mean absolute error (MAE)\n",
    "prueba4_mae = mean_absolute_error(prueba_4.y_ventas_siguiente_mes, prueba_4.ventas_por_mes_pred)\n",
    "\n",
    "# Mean squared error (MSE)\n",
    "prueba4_mse = mean_squared_error(prueba_4.y_ventas_siguiente_mes, prueba_4.ventas_por_mes_pred)\n",
    "\n",
    "# R-squared scores\n",
    "prueba4_r2 = r2_score(prueba_4.y_ventas_siguiente_mes, prueba_4.ventas_por_mes_pred)\n",
    "\n",
    "\n",
    "# Print metrics\n",
    "print('Mean Absolute Error:', round(prueba4_mae, 6))\n",
    "print('Mean Squared Error:', round(prueba4_mse, 6))\n",
    "print('R-squared scores:', round(prueba4_r2, 6))"
   ]
  },
  {
   "cell_type": "markdown",
   "id": "b50a5169",
   "metadata": {},
   "source": [
    "----------------------Quinta Partición-------------------------"
   ]
  },
  {
   "cell_type": "code",
   "execution_count": 110,
   "id": "7ecad41e",
   "metadata": {},
   "outputs": [
    {
     "data": {
      "text/plain": [
       "array([0.13666269, 0.13666269, 0.13666269, ..., 0.13666269, 0.13666269,\n",
       "       0.13666269])"
      ]
     },
     "execution_count": 110,
     "metadata": {},
     "output_type": "execute_result"
    }
   ],
   "source": [
    "pred5_prueba = modelo_5.predict(prueba_x5) \n",
    "pred5_prueba"
   ]
  },
  {
   "cell_type": "code",
   "execution_count": 111,
   "id": "d7c20897",
   "metadata": {},
   "outputs": [
    {
     "data": {
      "text/plain": [
       "array([0., 0., 0., ..., 0., 0., 0.])"
      ]
     },
     "execution_count": 111,
     "metadata": {},
     "output_type": "execute_result"
    }
   ],
   "source": [
    "pred5_prueba = np.clip(pred5_prueba,0,20).round() #rango de valores \n",
    "pred5_prueba"
   ]
  },
  {
   "cell_type": "code",
   "execution_count": 112,
   "id": "79d7a142",
   "metadata": {},
   "outputs": [
    {
     "data": {
      "text/plain": [
       "5154.0"
      ]
     },
     "execution_count": 112,
     "metadata": {},
     "output_type": "execute_result"
    }
   ],
   "source": [
    "pred5_prueba.sum()"
   ]
  },
  {
   "cell_type": "code",
   "execution_count": 113,
   "id": "fa530ef5",
   "metadata": {},
   "outputs": [],
   "source": [
    "prueba_5['ventas_por_mes_pred'] = pred5_prueba"
   ]
  },
  {
   "cell_type": "code",
   "execution_count": 114,
   "id": "e563e867",
   "metadata": {},
   "outputs": [
    {
     "name": "stdout",
     "output_type": "stream",
     "text": [
      "Mean Absolute Error: 0.255012\n",
      "Mean Squared Error: 0.534118\n",
      "R-squared scores: 0.124621\n"
     ]
    }
   ],
   "source": [
    "# Mean absolute error (MAE)\n",
    "prueba5_mae = mean_absolute_error(prueba_5.y_ventas_siguiente_mes, prueba_5.ventas_por_mes_pred)\n",
    "\n",
    "# Mean squared error (MSE)\n",
    "prueba5_mse = mean_squared_error(prueba_5.y_ventas_siguiente_mes, prueba_5.ventas_por_mes_pred)\n",
    "\n",
    "# R-squared scores\n",
    "prueba5_r2 = r2_score(prueba_5.y_ventas_siguiente_mes, prueba_5.ventas_por_mes_pred)\n",
    "\n",
    "\n",
    "# Print metrics\n",
    "print('Mean Absolute Error:', round(prueba5_mae, 6))\n",
    "print('Mean Squared Error:', round(prueba5_mse, 6))\n",
    "print('R-squared scores:', round(prueba5_r2, 6))"
   ]
  },
  {
   "cell_type": "markdown",
   "id": "cb5c4dc2",
   "metadata": {},
   "source": [
    "----------------------Sexta Partición-------------------------"
   ]
  },
  {
   "cell_type": "code",
   "execution_count": 115,
   "id": "a1927eb8",
   "metadata": {},
   "outputs": [
    {
     "data": {
      "text/plain": [
       "array([0.14527089, 0.14527089, 0.14527089, ..., 0.14527089, 0.14527089,\n",
       "       0.14527089])"
      ]
     },
     "execution_count": 115,
     "metadata": {},
     "output_type": "execute_result"
    }
   ],
   "source": [
    "pred6_prueba = modelo_6.predict(prueba_x6) \n",
    "pred6_prueba"
   ]
  },
  {
   "cell_type": "code",
   "execution_count": 116,
   "id": "eb2526fe",
   "metadata": {},
   "outputs": [
    {
     "data": {
      "text/plain": [
       "array([0., 0., 0., ..., 0., 0., 0.])"
      ]
     },
     "execution_count": 116,
     "metadata": {},
     "output_type": "execute_result"
    }
   ],
   "source": [
    "pred6_prueba = np.clip(pred6_prueba,0,20).round() #rango de valores \n",
    "pred6_prueba"
   ]
  },
  {
   "cell_type": "code",
   "execution_count": 117,
   "id": "1c0f76f6",
   "metadata": {},
   "outputs": [
    {
     "data": {
      "text/plain": [
       "5720.0"
      ]
     },
     "execution_count": 117,
     "metadata": {},
     "output_type": "execute_result"
    }
   ],
   "source": [
    "pred6_prueba.sum()"
   ]
  },
  {
   "cell_type": "code",
   "execution_count": 118,
   "id": "33cccc95",
   "metadata": {},
   "outputs": [],
   "source": [
    "prueba_6['ventas_por_mes_pred'] = pred6_prueba"
   ]
  },
  {
   "cell_type": "code",
   "execution_count": 119,
   "id": "51d33a8a",
   "metadata": {},
   "outputs": [
    {
     "name": "stdout",
     "output_type": "stream",
     "text": [
      "Mean Absolute Error: 0.20626\n",
      "Mean Squared Error: 0.382025\n",
      "R-squared scores: 0.040724\n"
     ]
    }
   ],
   "source": [
    "# Mean absolute error (MAE)\n",
    "prueba6_mae = mean_absolute_error(prueba_6.y_ventas_siguiente_mes, prueba_6.ventas_por_mes_pred)\n",
    "\n",
    "# Mean squared error (MSE)\n",
    "prueba6_mse = mean_squared_error(prueba_6.y_ventas_siguiente_mes, prueba_6.ventas_por_mes_pred)\n",
    "\n",
    "# R-squared scores\n",
    "prueba6_r2 = r2_score(prueba_6.y_ventas_siguiente_mes, prueba_6.ventas_por_mes_pred)\n",
    "\n",
    "\n",
    "# Print metrics\n",
    "print('Mean Absolute Error:', round(prueba6_mae, 6))\n",
    "print('Mean Squared Error:', round(prueba6_mse, 6))\n",
    "print('R-squared scores:', round(prueba6_r2, 6))"
   ]
  },
  {
   "cell_type": "markdown",
   "id": "a6776386",
   "metadata": {},
   "source": [
    "----------------------Séptima Partición-------------------------"
   ]
  },
  {
   "cell_type": "code",
   "execution_count": 120,
   "id": "f9f31a9b",
   "metadata": {},
   "outputs": [
    {
     "data": {
      "text/plain": [
       "array([0.14314575, 0.14314575, 0.14314575, ..., 0.14314575, 0.14314575,\n",
       "       0.14314575])"
      ]
     },
     "execution_count": 120,
     "metadata": {},
     "output_type": "execute_result"
    }
   ],
   "source": [
    "pred7_prueba = modelo_7.predict(prueba_x7) \n",
    "pred7_prueba"
   ]
  },
  {
   "cell_type": "code",
   "execution_count": 121,
   "id": "6c020246",
   "metadata": {},
   "outputs": [
    {
     "data": {
      "text/plain": [
       "array([0., 0., 0., ..., 0., 0., 0.])"
      ]
     },
     "execution_count": 121,
     "metadata": {},
     "output_type": "execute_result"
    }
   ],
   "source": [
    "pred7_prueba = np.clip(pred7_prueba,0,20).round() #rango de valores \n",
    "pred7_prueba"
   ]
  },
  {
   "cell_type": "code",
   "execution_count": 122,
   "id": "88255fdd",
   "metadata": {},
   "outputs": [
    {
     "data": {
      "text/plain": [
       "3806.0"
      ]
     },
     "execution_count": 122,
     "metadata": {},
     "output_type": "execute_result"
    }
   ],
   "source": [
    "pred7_prueba.sum()"
   ]
  },
  {
   "cell_type": "code",
   "execution_count": 123,
   "id": "81577d8c",
   "metadata": {},
   "outputs": [],
   "source": [
    "prueba_7['ventas_por_mes_pred'] = pred7_prueba"
   ]
  },
  {
   "cell_type": "code",
   "execution_count": 124,
   "id": "6c33af0f",
   "metadata": {},
   "outputs": [
    {
     "name": "stdout",
     "output_type": "stream",
     "text": [
      "Mean Absolute Error: 0.156844\n",
      "Mean Squared Error: 0.266345\n",
      "R-squared scores: -0.096035\n"
     ]
    }
   ],
   "source": [
    "# Mean absolute error (MAE)\n",
    "prueba7_mae = mean_absolute_error(prueba_7.y_ventas_siguiente_mes, prueba_7.ventas_por_mes_pred)\n",
    "\n",
    "# Mean squared error (MSE)\n",
    "prueba7_mse = mean_squared_error(prueba_7.y_ventas_siguiente_mes, prueba_7.ventas_por_mes_pred)\n",
    "\n",
    "# R-squared scores\n",
    "prueba7_r2 = r2_score(prueba_7.y_ventas_siguiente_mes, prueba_7.ventas_por_mes_pred)\n",
    "\n",
    "\n",
    "# Print metrics\n",
    "print('Mean Absolute Error:', round(prueba7_mae, 6))\n",
    "print('Mean Squared Error:', round(prueba7_mse, 6))\n",
    "print('R-squared scores:', round(prueba7_r2, 6))"
   ]
  },
  {
   "cell_type": "markdown",
   "id": "ec6d0930",
   "metadata": {},
   "source": [
    "----------------------Octava Partición-------------------------"
   ]
  },
  {
   "cell_type": "code",
   "execution_count": 125,
   "id": "6d12b720",
   "metadata": {},
   "outputs": [
    {
     "data": {
      "text/plain": [
       "array([0.13826532, 0.13826532, 0.13826532, ..., 0.13826532, 0.13826532,\n",
       "       0.13826532])"
      ]
     },
     "execution_count": 125,
     "metadata": {},
     "output_type": "execute_result"
    }
   ],
   "source": [
    "pred8_prueba = modelo_8.predict(prueba_x8) \n",
    "pred8_prueba"
   ]
  },
  {
   "cell_type": "code",
   "execution_count": 126,
   "id": "4a820ffb",
   "metadata": {},
   "outputs": [
    {
     "data": {
      "text/plain": [
       "array([0., 0., 0., ..., 0., 0., 0.])"
      ]
     },
     "execution_count": 126,
     "metadata": {},
     "output_type": "execute_result"
    }
   ],
   "source": [
    "pred8_prueba = np.clip(pred8_prueba,0,20).round() #rango de valores \n",
    "pred8_prueba"
   ]
  },
  {
   "cell_type": "code",
   "execution_count": 127,
   "id": "627a8584",
   "metadata": {},
   "outputs": [
    {
     "data": {
      "text/plain": [
       "2462.0"
      ]
     },
     "execution_count": 127,
     "metadata": {},
     "output_type": "execute_result"
    }
   ],
   "source": [
    "pred8_prueba.sum()"
   ]
  },
  {
   "cell_type": "code",
   "execution_count": 128,
   "id": "d68df3fd",
   "metadata": {},
   "outputs": [],
   "source": [
    "prueba_8['ventas_por_mes_pred'] = pred8_prueba"
   ]
  },
  {
   "cell_type": "code",
   "execution_count": 129,
   "id": "555ec1be",
   "metadata": {},
   "outputs": [
    {
     "name": "stdout",
     "output_type": "stream",
     "text": [
      "Mean Absolute Error: 0.094082\n",
      "Mean Squared Error: 0.15467\n",
      "R-squared scores: -0.594269\n"
     ]
    }
   ],
   "source": [
    "# Mean absolute error (MAE)\n",
    "prueba8_mae = mean_absolute_error(prueba_8.y_ventas_siguiente_mes, prueba_8.ventas_por_mes_pred)\n",
    "\n",
    "# Mean squared error (MSE)\n",
    "prueba8_mse = mean_squared_error(prueba_8.y_ventas_siguiente_mes, prueba_8.ventas_por_mes_pred)\n",
    "\n",
    "# R-squared scores\n",
    "prueba8_r2 = r2_score(prueba_8.y_ventas_siguiente_mes, prueba_8.ventas_por_mes_pred)\n",
    "\n",
    "\n",
    "# Print metrics\n",
    "print('Mean Absolute Error:', round(prueba8_mae, 6))\n",
    "print('Mean Squared Error:', round(prueba8_mse, 6))\n",
    "print('R-squared scores:', round(prueba8_r2, 6))"
   ]
  },
  {
   "cell_type": "markdown",
   "id": "43c7385f",
   "metadata": {},
   "source": [
    "# Fin Parte 1"
   ]
  },
  {
   "cell_type": "code",
   "execution_count": null,
   "id": "753b7060",
   "metadata": {},
   "outputs": [],
   "source": []
  }
 ],
 "metadata": {
  "kernelspec": {
   "display_name": "Python 3",
   "language": "python",
   "name": "python3"
  },
  "language_info": {
   "codemirror_mode": {
    "name": "ipython",
    "version": 3
   },
   "file_extension": ".py",
   "mimetype": "text/x-python",
   "name": "python",
   "nbconvert_exporter": "python",
   "pygments_lexer": "ipython3",
   "version": "3.8.8"
  }
 },
 "nbformat": 4,
 "nbformat_minor": 5
}
