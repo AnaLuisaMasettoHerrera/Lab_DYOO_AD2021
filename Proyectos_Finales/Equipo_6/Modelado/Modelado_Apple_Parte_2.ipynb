{
 "cells": [
  {
   "cell_type": "code",
   "execution_count": 1,
   "id": "28d4f085",
   "metadata": {},
   "outputs": [],
   "source": [
    "#Paqueterias\n",
    "import pandas as pd \n",
    "import matplotlib.pyplot as plt"
   ]
  },
  {
   "cell_type": "code",
   "execution_count": 2,
   "id": "92742882",
   "metadata": {},
   "outputs": [],
   "source": [
    "datos_modelo = pd.read_csv('Datos_completos.csv')"
   ]
  },
  {
   "cell_type": "code",
   "execution_count": 3,
   "id": "fb563cd8",
   "metadata": {},
   "outputs": [
    {
     "data": {
      "text/html": [
       "<div>\n",
       "<style scoped>\n",
       "    .dataframe tbody tr th:only-of-type {\n",
       "        vertical-align: middle;\n",
       "    }\n",
       "\n",
       "    .dataframe tbody tr th {\n",
       "        vertical-align: top;\n",
       "    }\n",
       "\n",
       "    .dataframe thead th {\n",
       "        text-align: right;\n",
       "    }\n",
       "</style>\n",
       "<table border=\"1\" class=\"dataframe\">\n",
       "  <thead>\n",
       "    <tr style=\"text-align: right;\">\n",
       "      <th></th>\n",
       "      <th>pdv_id</th>\n",
       "      <th>mes_id</th>\n",
       "      <th>sku_id</th>\n",
       "      <th>ventas_totales</th>\n",
       "      <th>y_ventas_siguiente_mes</th>\n",
       "      <th>ventas_totales_en_tienda_de_cada_mes</th>\n",
       "      <th>ventas_promedio_en_tienda_de_cada_mes</th>\n",
       "      <th>ventas_totales_en_tienda_de_cada_sku</th>\n",
       "      <th>ventas_promedio_en_tienda_de_cada_sku</th>\n",
       "      <th>ventas_totales_1_mes_pasado</th>\n",
       "      <th>...</th>\n",
       "      <th>ventas_totales_tienda_y_mes_3_pasado</th>\n",
       "      <th>ventas_promedio_tienda_y_mes_del_mes_pasado</th>\n",
       "      <th>ventas_promedio_tienda_y_mes_2_pasado</th>\n",
       "      <th>ventas_promedio_tienda_y_mes_3_pasado</th>\n",
       "      <th>ventas_totales_tienda_y_sku_del_mes_pasado</th>\n",
       "      <th>ventas_totales_tienda_y_sku_2_pasado</th>\n",
       "      <th>ventas_totales_tienda_y_sku_3_pasado</th>\n",
       "      <th>ventas_promedio_tienda_y_sku_del_mes_pasado</th>\n",
       "      <th>ventas_promedio_tienda_y_sku_2_pasado</th>\n",
       "      <th>ventas_promedio_tienda_y_sku_3_pasado</th>\n",
       "    </tr>\n",
       "  </thead>\n",
       "  <tbody>\n",
       "    <tr>\n",
       "      <th>0</th>\n",
       "      <td>1</td>\n",
       "      <td>0</td>\n",
       "      <td>1</td>\n",
       "      <td>1</td>\n",
       "      <td>1</td>\n",
       "      <td>1</td>\n",
       "      <td>0.033333</td>\n",
       "      <td>2087</td>\n",
       "      <td>1.260266</td>\n",
       "      <td>0</td>\n",
       "      <td>...</td>\n",
       "      <td>0</td>\n",
       "      <td>0.000000</td>\n",
       "      <td>0.000000</td>\n",
       "      <td>0.000000</td>\n",
       "      <td>0</td>\n",
       "      <td>0</td>\n",
       "      <td>0</td>\n",
       "      <td>0.000000</td>\n",
       "      <td>0.000000</td>\n",
       "      <td>0.000000</td>\n",
       "    </tr>\n",
       "    <tr>\n",
       "      <th>1</th>\n",
       "      <td>1</td>\n",
       "      <td>1</td>\n",
       "      <td>1</td>\n",
       "      <td>1</td>\n",
       "      <td>0</td>\n",
       "      <td>5</td>\n",
       "      <td>0.166667</td>\n",
       "      <td>2106</td>\n",
       "      <td>1.271739</td>\n",
       "      <td>1</td>\n",
       "      <td>...</td>\n",
       "      <td>0</td>\n",
       "      <td>0.033333</td>\n",
       "      <td>0.000000</td>\n",
       "      <td>0.000000</td>\n",
       "      <td>2087</td>\n",
       "      <td>0</td>\n",
       "      <td>0</td>\n",
       "      <td>1.260266</td>\n",
       "      <td>0.000000</td>\n",
       "      <td>0.000000</td>\n",
       "    </tr>\n",
       "    <tr>\n",
       "      <th>2</th>\n",
       "      <td>1</td>\n",
       "      <td>2</td>\n",
       "      <td>1</td>\n",
       "      <td>0</td>\n",
       "      <td>0</td>\n",
       "      <td>1</td>\n",
       "      <td>0.033333</td>\n",
       "      <td>2028</td>\n",
       "      <td>1.224638</td>\n",
       "      <td>1</td>\n",
       "      <td>...</td>\n",
       "      <td>0</td>\n",
       "      <td>0.166667</td>\n",
       "      <td>0.033333</td>\n",
       "      <td>0.000000</td>\n",
       "      <td>2106</td>\n",
       "      <td>2087</td>\n",
       "      <td>0</td>\n",
       "      <td>1.271739</td>\n",
       "      <td>1.260266</td>\n",
       "      <td>0.000000</td>\n",
       "    </tr>\n",
       "    <tr>\n",
       "      <th>3</th>\n",
       "      <td>1</td>\n",
       "      <td>3</td>\n",
       "      <td>1</td>\n",
       "      <td>0</td>\n",
       "      <td>0</td>\n",
       "      <td>1</td>\n",
       "      <td>0.033333</td>\n",
       "      <td>1187</td>\n",
       "      <td>0.716787</td>\n",
       "      <td>0</td>\n",
       "      <td>...</td>\n",
       "      <td>1</td>\n",
       "      <td>0.033333</td>\n",
       "      <td>0.166667</td>\n",
       "      <td>0.033333</td>\n",
       "      <td>2028</td>\n",
       "      <td>2106</td>\n",
       "      <td>2087</td>\n",
       "      <td>1.224638</td>\n",
       "      <td>1.271739</td>\n",
       "      <td>1.260266</td>\n",
       "    </tr>\n",
       "    <tr>\n",
       "      <th>4</th>\n",
       "      <td>1</td>\n",
       "      <td>4</td>\n",
       "      <td>1</td>\n",
       "      <td>0</td>\n",
       "      <td>0</td>\n",
       "      <td>0</td>\n",
       "      <td>0.000000</td>\n",
       "      <td>695</td>\n",
       "      <td>0.419686</td>\n",
       "      <td>0</td>\n",
       "      <td>...</td>\n",
       "      <td>5</td>\n",
       "      <td>0.033333</td>\n",
       "      <td>0.033333</td>\n",
       "      <td>0.166667</td>\n",
       "      <td>1187</td>\n",
       "      <td>2028</td>\n",
       "      <td>2106</td>\n",
       "      <td>0.716787</td>\n",
       "      <td>1.224638</td>\n",
       "      <td>1.271739</td>\n",
       "    </tr>\n",
       "  </tbody>\n",
       "</table>\n",
       "<p>5 rows × 24 columns</p>\n",
       "</div>"
      ],
      "text/plain": [
       "   pdv_id  mes_id  sku_id  ventas_totales  y_ventas_siguiente_mes  \\\n",
       "0       1       0       1               1                       1   \n",
       "1       1       1       1               1                       0   \n",
       "2       1       2       1               0                       0   \n",
       "3       1       3       1               0                       0   \n",
       "4       1       4       1               0                       0   \n",
       "\n",
       "   ventas_totales_en_tienda_de_cada_mes  \\\n",
       "0                                     1   \n",
       "1                                     5   \n",
       "2                                     1   \n",
       "3                                     1   \n",
       "4                                     0   \n",
       "\n",
       "   ventas_promedio_en_tienda_de_cada_mes  \\\n",
       "0                               0.033333   \n",
       "1                               0.166667   \n",
       "2                               0.033333   \n",
       "3                               0.033333   \n",
       "4                               0.000000   \n",
       "\n",
       "   ventas_totales_en_tienda_de_cada_sku  \\\n",
       "0                                  2087   \n",
       "1                                  2106   \n",
       "2                                  2028   \n",
       "3                                  1187   \n",
       "4                                   695   \n",
       "\n",
       "   ventas_promedio_en_tienda_de_cada_sku  ventas_totales_1_mes_pasado  ...  \\\n",
       "0                               1.260266                            0  ...   \n",
       "1                               1.271739                            1  ...   \n",
       "2                               1.224638                            1  ...   \n",
       "3                               0.716787                            0  ...   \n",
       "4                               0.419686                            0  ...   \n",
       "\n",
       "   ventas_totales_tienda_y_mes_3_pasado  \\\n",
       "0                                     0   \n",
       "1                                     0   \n",
       "2                                     0   \n",
       "3                                     1   \n",
       "4                                     5   \n",
       "\n",
       "   ventas_promedio_tienda_y_mes_del_mes_pasado  \\\n",
       "0                                     0.000000   \n",
       "1                                     0.033333   \n",
       "2                                     0.166667   \n",
       "3                                     0.033333   \n",
       "4                                     0.033333   \n",
       "\n",
       "   ventas_promedio_tienda_y_mes_2_pasado  \\\n",
       "0                               0.000000   \n",
       "1                               0.000000   \n",
       "2                               0.033333   \n",
       "3                               0.166667   \n",
       "4                               0.033333   \n",
       "\n",
       "   ventas_promedio_tienda_y_mes_3_pasado  \\\n",
       "0                               0.000000   \n",
       "1                               0.000000   \n",
       "2                               0.000000   \n",
       "3                               0.033333   \n",
       "4                               0.166667   \n",
       "\n",
       "   ventas_totales_tienda_y_sku_del_mes_pasado  \\\n",
       "0                                           0   \n",
       "1                                        2087   \n",
       "2                                        2106   \n",
       "3                                        2028   \n",
       "4                                        1187   \n",
       "\n",
       "   ventas_totales_tienda_y_sku_2_pasado  ventas_totales_tienda_y_sku_3_pasado  \\\n",
       "0                                     0                                     0   \n",
       "1                                     0                                     0   \n",
       "2                                  2087                                     0   \n",
       "3                                  2106                                  2087   \n",
       "4                                  2028                                  2106   \n",
       "\n",
       "   ventas_promedio_tienda_y_sku_del_mes_pasado  \\\n",
       "0                                     0.000000   \n",
       "1                                     1.260266   \n",
       "2                                     1.271739   \n",
       "3                                     1.224638   \n",
       "4                                     0.716787   \n",
       "\n",
       "   ventas_promedio_tienda_y_sku_2_pasado  \\\n",
       "0                               0.000000   \n",
       "1                               0.000000   \n",
       "2                               1.260266   \n",
       "3                               1.271739   \n",
       "4                               1.224638   \n",
       "\n",
       "   ventas_promedio_tienda_y_sku_3_pasado  \n",
       "0                               0.000000  \n",
       "1                               0.000000  \n",
       "2                               0.000000  \n",
       "3                               1.260266  \n",
       "4                               1.271739  \n",
       "\n",
       "[5 rows x 24 columns]"
      ]
     },
     "execution_count": 3,
     "metadata": {},
     "output_type": "execute_result"
    }
   ],
   "source": [
    "datos_modelo.head(5)"
   ]
  },
  {
   "cell_type": "code",
   "execution_count": 4,
   "id": "e9416c57",
   "metadata": {},
   "outputs": [
    {
     "data": {
      "text/plain": [
       "(447120, 24)"
      ]
     },
     "execution_count": 4,
     "metadata": {},
     "output_type": "execute_result"
    }
   ],
   "source": [
    "datos_modelo.shape"
   ]
  },
  {
   "cell_type": "code",
   "execution_count": 5,
   "id": "deb9ff06",
   "metadata": {},
   "outputs": [
    {
     "data": {
      "text/plain": [
       "Index(['pdv_id', 'mes_id', 'sku_id', 'ventas_totales',\n",
       "       'y_ventas_siguiente_mes', 'ventas_totales_en_tienda_de_cada_mes',\n",
       "       'ventas_promedio_en_tienda_de_cada_mes',\n",
       "       'ventas_totales_en_tienda_de_cada_sku',\n",
       "       'ventas_promedio_en_tienda_de_cada_sku', 'ventas_totales_1_mes_pasado',\n",
       "       'ventas_totales_2_meses_pasados', 'ventas_totales_3_meses_pasados',\n",
       "       'ventas_totales_tienda_y_mes_del_mes_pasado',\n",
       "       'ventas_totales_tienda_y_mes_2_pasado',\n",
       "       'ventas_totales_tienda_y_mes_3_pasado',\n",
       "       'ventas_promedio_tienda_y_mes_del_mes_pasado',\n",
       "       'ventas_promedio_tienda_y_mes_2_pasado',\n",
       "       'ventas_promedio_tienda_y_mes_3_pasado',\n",
       "       'ventas_totales_tienda_y_sku_del_mes_pasado',\n",
       "       'ventas_totales_tienda_y_sku_2_pasado',\n",
       "       'ventas_totales_tienda_y_sku_3_pasado',\n",
       "       'ventas_promedio_tienda_y_sku_del_mes_pasado',\n",
       "       'ventas_promedio_tienda_y_sku_2_pasado',\n",
       "       'ventas_promedio_tienda_y_sku_3_pasado'],\n",
       "      dtype='object')"
      ]
     },
     "execution_count": 5,
     "metadata": {},
     "output_type": "execute_result"
    }
   ],
   "source": [
    "datos_modelo.columns"
   ]
  },
  {
   "cell_type": "code",
   "execution_count": 6,
   "id": "4f898e27",
   "metadata": {},
   "outputs": [
    {
     "data": {
      "text/html": [
       "<div>\n",
       "<style scoped>\n",
       "    .dataframe tbody tr th:only-of-type {\n",
       "        vertical-align: middle;\n",
       "    }\n",
       "\n",
       "    .dataframe tbody tr th {\n",
       "        vertical-align: top;\n",
       "    }\n",
       "\n",
       "    .dataframe thead th {\n",
       "        text-align: right;\n",
       "    }\n",
       "</style>\n",
       "<table border=\"1\" class=\"dataframe\">\n",
       "  <thead>\n",
       "    <tr style=\"text-align: right;\">\n",
       "      <th></th>\n",
       "      <th>pdv_id</th>\n",
       "      <th>mes_id</th>\n",
       "      <th>sku_id</th>\n",
       "      <th>ventas_totales</th>\n",
       "      <th>y_ventas_siguiente_mes</th>\n",
       "      <th>ventas_totales_en_tienda_de_cada_mes</th>\n",
       "      <th>ventas_promedio_en_tienda_de_cada_mes</th>\n",
       "      <th>ventas_totales_en_tienda_de_cada_sku</th>\n",
       "      <th>ventas_promedio_en_tienda_de_cada_sku</th>\n",
       "      <th>ventas_totales_1_mes_pasado</th>\n",
       "      <th>...</th>\n",
       "      <th>ventas_totales_tienda_y_mes_3_pasado</th>\n",
       "      <th>ventas_promedio_tienda_y_mes_del_mes_pasado</th>\n",
       "      <th>ventas_promedio_tienda_y_mes_2_pasado</th>\n",
       "      <th>ventas_promedio_tienda_y_mes_3_pasado</th>\n",
       "      <th>ventas_totales_tienda_y_sku_del_mes_pasado</th>\n",
       "      <th>ventas_totales_tienda_y_sku_2_pasado</th>\n",
       "      <th>ventas_totales_tienda_y_sku_3_pasado</th>\n",
       "      <th>ventas_promedio_tienda_y_sku_del_mes_pasado</th>\n",
       "      <th>ventas_promedio_tienda_y_sku_2_pasado</th>\n",
       "      <th>ventas_promedio_tienda_y_sku_3_pasado</th>\n",
       "    </tr>\n",
       "  </thead>\n",
       "  <tbody>\n",
       "    <tr>\n",
       "      <th>0</th>\n",
       "      <td>1</td>\n",
       "      <td>0</td>\n",
       "      <td>1</td>\n",
       "      <td>1</td>\n",
       "      <td>1</td>\n",
       "      <td>1</td>\n",
       "      <td>0.033333</td>\n",
       "      <td>2087</td>\n",
       "      <td>1.260266</td>\n",
       "      <td>0</td>\n",
       "      <td>...</td>\n",
       "      <td>0</td>\n",
       "      <td>0.0</td>\n",
       "      <td>0.0</td>\n",
       "      <td>0.0</td>\n",
       "      <td>0</td>\n",
       "      <td>0</td>\n",
       "      <td>0</td>\n",
       "      <td>0.0</td>\n",
       "      <td>0.0</td>\n",
       "      <td>0.0</td>\n",
       "    </tr>\n",
       "  </tbody>\n",
       "</table>\n",
       "<p>1 rows × 24 columns</p>\n",
       "</div>"
      ],
      "text/plain": [
       "   pdv_id  mes_id  sku_id  ventas_totales  y_ventas_siguiente_mes  \\\n",
       "0       1       0       1               1                       1   \n",
       "\n",
       "   ventas_totales_en_tienda_de_cada_mes  \\\n",
       "0                                     1   \n",
       "\n",
       "   ventas_promedio_en_tienda_de_cada_mes  \\\n",
       "0                               0.033333   \n",
       "\n",
       "   ventas_totales_en_tienda_de_cada_sku  \\\n",
       "0                                  2087   \n",
       "\n",
       "   ventas_promedio_en_tienda_de_cada_sku  ventas_totales_1_mes_pasado  ...  \\\n",
       "0                               1.260266                            0  ...   \n",
       "\n",
       "   ventas_totales_tienda_y_mes_3_pasado  \\\n",
       "0                                     0   \n",
       "\n",
       "   ventas_promedio_tienda_y_mes_del_mes_pasado  \\\n",
       "0                                          0.0   \n",
       "\n",
       "   ventas_promedio_tienda_y_mes_2_pasado  \\\n",
       "0                                    0.0   \n",
       "\n",
       "   ventas_promedio_tienda_y_mes_3_pasado  \\\n",
       "0                                    0.0   \n",
       "\n",
       "   ventas_totales_tienda_y_sku_del_mes_pasado  \\\n",
       "0                                           0   \n",
       "\n",
       "   ventas_totales_tienda_y_sku_2_pasado  ventas_totales_tienda_y_sku_3_pasado  \\\n",
       "0                                     0                                     0   \n",
       "\n",
       "   ventas_promedio_tienda_y_sku_del_mes_pasado  \\\n",
       "0                                          0.0   \n",
       "\n",
       "   ventas_promedio_tienda_y_sku_2_pasado  \\\n",
       "0                                    0.0   \n",
       "\n",
       "   ventas_promedio_tienda_y_sku_3_pasado  \n",
       "0                                    0.0  \n",
       "\n",
       "[1 rows x 24 columns]"
      ]
     },
     "execution_count": 6,
     "metadata": {},
     "output_type": "execute_result"
    }
   ],
   "source": [
    "datos_modelo.head(1)"
   ]
  },
  {
   "cell_type": "markdown",
   "id": "f993eb31",
   "metadata": {},
   "source": [
    "Recordar como leer los datos:\n",
    "\n",
    "* En el punto de venta __1 (pdv_id = 1)__ , en el mes de __junio (mes_id = 0)__, el producto __1 (sku_id = 1)__, tuvo 2 ventas (ventas_totales = 2). \n",
    "\n",
    "* El pronóstico para el siguiente mes (julio - 1) tiene que ser lo más cercano a __0 (y_ventas_siguiente_mes = 0)__. \n",
    "\n",
    "* Las demás variables se leen de manera similar: El punto de venta __1 (pdv_id = 1)__ tuvo un total 23 ventas (ventas_totales_en_tienda_de_cada_mes = 23) en todo el mes de junio (sku_id = 1). \n",
    "\n",
    "* El 0 es un dato real, nosotros ya conocemos cuáles son las ventas para el siguiente mes porque contamos con históricos - nosotros construimos nuestra variable __Y__. \n",
    "\n",
    "* Ahora queremos contruir un modelo que nos permita estimar el valor de esta Y ->  __Y^__)"
   ]
  },
  {
   "cell_type": "markdown",
   "id": "d4e03fca",
   "metadata": {},
   "source": [
    "# Validación Cruzada"
   ]
  },
  {
   "cell_type": "code",
   "execution_count": 7,
   "id": "2edfcfe6",
   "metadata": {},
   "outputs": [],
   "source": [
    "#1. DIVIR DATOS EN ENTRENAMIENTO Y PRUEBA\n",
    "ent_1 = datos_modelo[datos_modelo['mes_id']==0]\n",
    "prueba_1 = datos_modelo[datos_modelo['mes_id']==1]"
   ]
  },
  {
   "cell_type": "code",
   "execution_count": 8,
   "id": "e13b89e5",
   "metadata": {},
   "outputs": [
    {
     "data": {
      "text/plain": [
       "(49680, 24)"
      ]
     },
     "execution_count": 8,
     "metadata": {},
     "output_type": "execute_result"
    }
   ],
   "source": [
    "ent_1.shape"
   ]
  },
  {
   "cell_type": "code",
   "execution_count": 9,
   "id": "724d61a3",
   "metadata": {},
   "outputs": [
    {
     "data": {
      "text/plain": [
       "(49680, 24)"
      ]
     },
     "execution_count": 9,
     "metadata": {},
     "output_type": "execute_result"
    }
   ],
   "source": [
    "prueba_1.shape"
   ]
  },
  {
   "cell_type": "code",
   "execution_count": 10,
   "id": "3c4444d9",
   "metadata": {},
   "outputs": [],
   "source": [
    "#2. GENERAR ÍNDICES EN PYTHON \n",
    "ent_1.set_index(['pdv_id', 'mes_id','sku_id'], inplace=True)\n",
    "prueba_1.set_index(['pdv_id', 'mes_id','sku_id'], inplace=True)"
   ]
  },
  {
   "cell_type": "code",
   "execution_count": 11,
   "id": "b3493981",
   "metadata": {},
   "outputs": [],
   "source": [
    "#head para ver datos de entrenamiento y prueba con índices "
   ]
  },
  {
   "cell_type": "code",
   "execution_count": 12,
   "id": "7e7ee020",
   "metadata": {},
   "outputs": [],
   "source": [
    "#3. DIVIDIR AMBOS CONJUNTOS (ENTRENAMIENTO Y PRUEBA) EN VARIABLES DE ENTRADA (X) Y VARIABLE REPSUESTA (Y)\n",
    "ent_x1 = ent_1.iloc[:, ent_1.columns != 'y_ventas_siguiente_mes']\n",
    "ent_y1 = ent_1.iloc[:, ent_1.columns == 'y_ventas_siguiente_mes']\n",
    "\n",
    "prueba_x1= prueba_1.iloc[:, prueba_1.columns != 'y_ventas_siguiente_mes']\n",
    "prueba_y1= prueba_1.iloc[:, prueba_1.columns == 'y_ventas_siguiente_mes']"
   ]
  },
  {
   "cell_type": "markdown",
   "id": "b1bca6eb",
   "metadata": {},
   "source": [
    "----------------------Segunda Partición-------------------------"
   ]
  },
  {
   "cell_type": "code",
   "execution_count": 13,
   "id": "78230cb3",
   "metadata": {},
   "outputs": [],
   "source": [
    "#1. DIVIR DATOS EN ENTRENAMIENTO Y PRUEBA\n",
    "ent_2 = datos_modelo[datos_modelo['mes_id']<=1]\n",
    "prueba_2 = datos_modelo[datos_modelo['mes_id']==2]"
   ]
  },
  {
   "cell_type": "code",
   "execution_count": 14,
   "id": "0773dbd9",
   "metadata": {},
   "outputs": [],
   "source": [
    "#2. GENERAR ÍNDICES EN PYTHON \n",
    "ent_2.set_index(['pdv_id', 'mes_id','sku_id'], inplace=True)\n",
    "prueba_2.set_index(['pdv_id', 'mes_id','sku_id'], inplace=True)"
   ]
  },
  {
   "cell_type": "code",
   "execution_count": 15,
   "id": "b73c6bbf",
   "metadata": {},
   "outputs": [],
   "source": [
    "#3. DIVIDIR AMBOS CONJUNTOS (ENTRENAMIENTO Y PRUEBA) EN VARIABLES DE ENTRADA (X) Y VARIABLE REPSUESTA (Y)\n",
    "ent_x2 = ent_2.iloc[:, ent_2.columns != 'y_ventas_siguiente_mes']\n",
    "ent_y2 = ent_2.iloc[:, ent_2.columns == 'y_ventas_siguiente_mes']\n",
    "\n",
    "prueba_x2= prueba_2.iloc[:, prueba_2.columns != 'y_ventas_siguiente_mes']\n",
    "prueba_y2= prueba_2.iloc[:, prueba_2.columns == 'y_ventas_siguiente_mes']"
   ]
  },
  {
   "cell_type": "markdown",
   "id": "c08edba0",
   "metadata": {},
   "source": [
    "----------------------Tercera Partición-------------------------"
   ]
  },
  {
   "cell_type": "code",
   "execution_count": 16,
   "id": "05414ca0",
   "metadata": {},
   "outputs": [],
   "source": [
    "ent_3 = datos_modelo[datos_modelo['mes_id']<=2]\n",
    "prueba_3 = datos_modelo[datos_modelo['mes_id']==3]"
   ]
  },
  {
   "cell_type": "code",
   "execution_count": 17,
   "id": "08b10b70",
   "metadata": {},
   "outputs": [],
   "source": [
    "ent_3.set_index(['pdv_id', 'mes_id','sku_id'], inplace=True)\n",
    "prueba_3.set_index(['pdv_id', 'mes_id','sku_id'], inplace=True)"
   ]
  },
  {
   "cell_type": "code",
   "execution_count": 18,
   "id": "755cd3f0",
   "metadata": {},
   "outputs": [],
   "source": [
    "ent_x3 = ent_3.iloc[:, ent_3.columns != 'y_ventas_siguiente_mes']\n",
    "ent_y3 = ent_3.iloc[:, ent_3.columns == 'y_ventas_siguiente_mes']\n",
    "\n",
    "prueba_x3= prueba_3.iloc[:, prueba_3.columns != 'y_ventas_siguiente_mes']\n",
    "prueba_y3= prueba_3.iloc[:, prueba_3.columns == 'y_ventas_siguiente_mes']"
   ]
  },
  {
   "cell_type": "markdown",
   "id": "5a6e0251",
   "metadata": {},
   "source": [
    "----------------------Cuarta Partición-------------------------"
   ]
  },
  {
   "cell_type": "code",
   "execution_count": 19,
   "id": "d7dc8005",
   "metadata": {},
   "outputs": [],
   "source": [
    "ent_4 = datos_modelo[datos_modelo['mes_id']<=3]\n",
    "prueba_4 = datos_modelo[datos_modelo['mes_id']==4]"
   ]
  },
  {
   "cell_type": "code",
   "execution_count": 20,
   "id": "7a9505f7",
   "metadata": {},
   "outputs": [],
   "source": [
    "ent_4.set_index(['pdv_id', 'mes_id','sku_id'], inplace=True)\n",
    "prueba_4.set_index(['pdv_id', 'mes_id','sku_id'], inplace=True)"
   ]
  },
  {
   "cell_type": "code",
   "execution_count": 21,
   "id": "deb062df",
   "metadata": {},
   "outputs": [],
   "source": [
    "ent_x4 = ent_4.iloc[:, ent_4.columns != 'y_ventas_siguiente_mes']\n",
    "ent_y4 = ent_4.iloc[:, ent_4.columns == 'y_ventas_siguiente_mes']\n",
    "\n",
    "prueba_x4= prueba_4.iloc[:, prueba_4.columns != 'y_ventas_siguiente_mes']\n",
    "prueba_y4= prueba_4.iloc[:, prueba_4.columns == 'y_ventas_siguiente_mes']"
   ]
  },
  {
   "cell_type": "markdown",
   "id": "d15d005a",
   "metadata": {},
   "source": [
    "----------------------Quinta Partición-------------------------"
   ]
  },
  {
   "cell_type": "code",
   "execution_count": 22,
   "id": "41136fbe",
   "metadata": {},
   "outputs": [],
   "source": [
    "ent_5 = datos_modelo[datos_modelo['mes_id']<=4]\n",
    "prueba_5 = datos_modelo[datos_modelo['mes_id']==5]"
   ]
  },
  {
   "cell_type": "code",
   "execution_count": 23,
   "id": "6eea781c",
   "metadata": {},
   "outputs": [],
   "source": [
    "ent_5.set_index(['pdv_id', 'mes_id','sku_id'], inplace=True)\n",
    "prueba_5.set_index(['pdv_id', 'mes_id','sku_id'], inplace=True)"
   ]
  },
  {
   "cell_type": "code",
   "execution_count": 24,
   "id": "4eaff26d",
   "metadata": {},
   "outputs": [],
   "source": [
    "ent_x5 = ent_5.iloc[:, ent_5.columns != 'y_ventas_siguiente_mes']\n",
    "ent_y5 = ent_5.iloc[:, ent_5.columns == 'y_ventas_siguiente_mes']\n",
    "\n",
    "prueba_x5= prueba_5.iloc[:, prueba_5.columns != 'y_ventas_siguiente_mes']\n",
    "prueba_y5= prueba_5.iloc[:, prueba_5.columns == 'y_ventas_siguiente_mes']"
   ]
  },
  {
   "cell_type": "markdown",
   "id": "43ee86c4",
   "metadata": {},
   "source": [
    "----------------------Sexta Partición-------------------------"
   ]
  },
  {
   "cell_type": "code",
   "execution_count": 25,
   "id": "97c2124f",
   "metadata": {},
   "outputs": [],
   "source": [
    "ent_6 = datos_modelo[datos_modelo['mes_id']<=5]\n",
    "prueba_6 = datos_modelo[datos_modelo['mes_id']==6]"
   ]
  },
  {
   "cell_type": "code",
   "execution_count": 26,
   "id": "93f6f562",
   "metadata": {},
   "outputs": [],
   "source": [
    "ent_6.set_index(['pdv_id', 'mes_id','sku_id'], inplace=True)\n",
    "prueba_6.set_index(['pdv_id', 'mes_id','sku_id'], inplace=True)"
   ]
  },
  {
   "cell_type": "code",
   "execution_count": 27,
   "id": "148839d7",
   "metadata": {},
   "outputs": [],
   "source": [
    "ent_x6 = ent_6.iloc[:, ent_6.columns != 'y_ventas_siguiente_mes']\n",
    "ent_y6 = ent_6.iloc[:, ent_6.columns == 'y_ventas_siguiente_mes']\n",
    "\n",
    "prueba_x6= prueba_6.iloc[:, prueba_6.columns != 'y_ventas_siguiente_mes']\n",
    "prueba_y6= prueba_6.iloc[:, prueba_6.columns == 'y_ventas_siguiente_mes']"
   ]
  },
  {
   "cell_type": "markdown",
   "id": "ccd999bf",
   "metadata": {},
   "source": [
    "----------------------Séptima Partición-------------------------"
   ]
  },
  {
   "cell_type": "code",
   "execution_count": 28,
   "id": "36728f40",
   "metadata": {},
   "outputs": [],
   "source": [
    "ent_7 = datos_modelo[datos_modelo['mes_id']<=6]\n",
    "prueba_7 = datos_modelo[datos_modelo['mes_id']==7]"
   ]
  },
  {
   "cell_type": "code",
   "execution_count": 29,
   "id": "9326a07a",
   "metadata": {},
   "outputs": [],
   "source": [
    "ent_7.set_index(['pdv_id', 'mes_id','sku_id'], inplace=True)\n",
    "prueba_7.set_index(['pdv_id', 'mes_id','sku_id'], inplace=True)"
   ]
  },
  {
   "cell_type": "code",
   "execution_count": 30,
   "id": "c7bb8839",
   "metadata": {},
   "outputs": [],
   "source": [
    "ent_x7 = ent_7.iloc[:, ent_7.columns != 'y_ventas_siguiente_mes']\n",
    "ent_y7 = ent_7.iloc[:, ent_7.columns == 'y_ventas_siguiente_mes']\n",
    "\n",
    "prueba_x7= prueba_7.iloc[:, prueba_7.columns != 'y_ventas_siguiente_mes']\n",
    "prueba_y7= prueba_7.iloc[:, prueba_7.columns == 'y_ventas_siguiente_mes']"
   ]
  },
  {
   "cell_type": "markdown",
   "id": "e7362ec6",
   "metadata": {},
   "source": [
    "----------------------Octava Partición-------------------------"
   ]
  },
  {
   "cell_type": "code",
   "execution_count": 31,
   "id": "9ecbe369",
   "metadata": {},
   "outputs": [],
   "source": [
    "ent_8 = datos_modelo[datos_modelo['mes_id']<=7]\n",
    "prueba_8 = datos_modelo[datos_modelo['mes_id']==8]"
   ]
  },
  {
   "cell_type": "code",
   "execution_count": 32,
   "id": "76f9b7e4",
   "metadata": {},
   "outputs": [],
   "source": [
    "ent_8.set_index(['pdv_id', 'mes_id','sku_id'], inplace=True)\n",
    "prueba_8.set_index(['pdv_id', 'mes_id','sku_id'], inplace=True)"
   ]
  },
  {
   "cell_type": "code",
   "execution_count": 33,
   "id": "9c6946b4",
   "metadata": {},
   "outputs": [],
   "source": [
    "ent_x8 = ent_8.iloc[:, ent_8.columns != 'y_ventas_siguiente_mes']\n",
    "ent_y8 = ent_8.iloc[:, ent_8.columns == 'y_ventas_siguiente_mes']\n",
    "\n",
    "prueba_x8= prueba_8.iloc[:, prueba_8.columns != 'y_ventas_siguiente_mes']\n",
    "prueba_y8= prueba_8.iloc[:, prueba_8.columns == 'y_ventas_siguiente_mes']"
   ]
  },
  {
   "cell_type": "markdown",
   "id": "f2086dfa",
   "metadata": {},
   "source": [
    "# Modelo Profundidad 1"
   ]
  },
  {
   "cell_type": "code",
   "execution_count": 34,
   "id": "c45b9c2e",
   "metadata": {},
   "outputs": [],
   "source": [
    "#!pip install numpy\n",
    "import numpy as np #determinar un rango de valores \"clip\"\n",
    "from sklearn import tree #importar función para construir árboles\n",
    "from sklearn.metrics import mean_squared_error, r2_score, mean_absolute_error #errores que queremos calcular \n",
    "#from scipy.stats import sem\n",
    "import warnings; warnings.simplefilter('ignore')#WARNING EN 3.3"
   ]
  },
  {
   "cell_type": "code",
   "execution_count": 35,
   "id": "f8a1333c",
   "metadata": {},
   "outputs": [],
   "source": [
    "# 1. CONSTRUIR MODELO\n",
    "modelo_1 = tree.DecisionTreeRegressor(max_depth=4)"
   ]
  },
  {
   "cell_type": "code",
   "execution_count": 36,
   "id": "5f7820e1",
   "metadata": {},
   "outputs": [
    {
     "data": {
      "text/plain": [
       "DecisionTreeRegressor(max_depth=4)"
      ]
     },
     "execution_count": 36,
     "metadata": {},
     "output_type": "execute_result"
    }
   ],
   "source": [
    "# 2. ENTRENAMOS EL MODELO (.FIT)\n",
    "modelo_1.fit(ent_x1, ent_y1)"
   ]
  },
  {
   "cell_type": "code",
   "execution_count": 37,
   "id": "db22facf",
   "metadata": {},
   "outputs": [
    {
     "data": {
      "text/plain": [
       "array([0.47356828, 0.19358491, 0.19358491, ..., 0.05436893, 0.        ,\n",
       "       0.        ])"
      ]
     },
     "execution_count": 37,
     "metadata": {},
     "output_type": "execute_result"
    }
   ],
   "source": [
    "# 3. HACER PREDICCIONES: CALCULAR ERROR DE ENTRENAMIENTO \n",
    "pred1_ent = modelo_1.predict(ent_x1) \n",
    "pred1_ent"
   ]
  },
  {
   "cell_type": "code",
   "execution_count": 38,
   "id": "82b6a1c9",
   "metadata": {},
   "outputs": [],
   "source": [
    "# 3.1 CALCULAR MÁXIMOS Y MÍNIMOS DE PREDICCIÓN (PARA VER RANGO DE PREDICCIÓN) - max() - min()"
   ]
  },
  {
   "cell_type": "code",
   "execution_count": 39,
   "id": "e0d8eaef",
   "metadata": {},
   "outputs": [
    {
     "data": {
      "text/plain": [
       "array([0., 0., 0., ..., 0., 0., 0.])"
      ]
     },
     "execution_count": 39,
     "metadata": {},
     "output_type": "execute_result"
    }
   ],
   "source": [
    "# 3.2 REDONDEAR Y AJUSTAR VALORES\n",
    "pred1_ent = np.clip(pred1_ent,0,20).round() #rango de valores \n",
    "pred1_ent"
   ]
  },
  {
   "cell_type": "code",
   "execution_count": 40,
   "id": "63830b05",
   "metadata": {},
   "outputs": [],
   "source": [
    "# 3.3 JUNTAR DATOS PARA PODER CALCULAR ERROR\n",
    "ent_1['ventas_por_mes_pred'] = pred1_ent"
   ]
  },
  {
   "cell_type": "code",
   "execution_count": 41,
   "id": "fc9ae44f",
   "metadata": {},
   "outputs": [
    {
     "data": {
      "text/html": [
       "<div>\n",
       "<style scoped>\n",
       "    .dataframe tbody tr th:only-of-type {\n",
       "        vertical-align: middle;\n",
       "    }\n",
       "\n",
       "    .dataframe tbody tr th {\n",
       "        vertical-align: top;\n",
       "    }\n",
       "\n",
       "    .dataframe thead th {\n",
       "        text-align: right;\n",
       "    }\n",
       "</style>\n",
       "<table border=\"1\" class=\"dataframe\">\n",
       "  <thead>\n",
       "    <tr style=\"text-align: right;\">\n",
       "      <th></th>\n",
       "      <th></th>\n",
       "      <th></th>\n",
       "      <th>ventas_totales</th>\n",
       "      <th>y_ventas_siguiente_mes</th>\n",
       "      <th>ventas_totales_en_tienda_de_cada_mes</th>\n",
       "      <th>ventas_promedio_en_tienda_de_cada_mes</th>\n",
       "      <th>ventas_totales_en_tienda_de_cada_sku</th>\n",
       "      <th>ventas_promedio_en_tienda_de_cada_sku</th>\n",
       "      <th>ventas_totales_1_mes_pasado</th>\n",
       "      <th>ventas_totales_2_meses_pasados</th>\n",
       "      <th>ventas_totales_3_meses_pasados</th>\n",
       "      <th>ventas_totales_tienda_y_mes_del_mes_pasado</th>\n",
       "      <th>...</th>\n",
       "      <th>ventas_promedio_tienda_y_mes_del_mes_pasado</th>\n",
       "      <th>ventas_promedio_tienda_y_mes_2_pasado</th>\n",
       "      <th>ventas_promedio_tienda_y_mes_3_pasado</th>\n",
       "      <th>ventas_totales_tienda_y_sku_del_mes_pasado</th>\n",
       "      <th>ventas_totales_tienda_y_sku_2_pasado</th>\n",
       "      <th>ventas_totales_tienda_y_sku_3_pasado</th>\n",
       "      <th>ventas_promedio_tienda_y_sku_del_mes_pasado</th>\n",
       "      <th>ventas_promedio_tienda_y_sku_2_pasado</th>\n",
       "      <th>ventas_promedio_tienda_y_sku_3_pasado</th>\n",
       "      <th>ventas_por_mes_pred</th>\n",
       "    </tr>\n",
       "    <tr>\n",
       "      <th>pdv_id</th>\n",
       "      <th>mes_id</th>\n",
       "      <th>sku_id</th>\n",
       "      <th></th>\n",
       "      <th></th>\n",
       "      <th></th>\n",
       "      <th></th>\n",
       "      <th></th>\n",
       "      <th></th>\n",
       "      <th></th>\n",
       "      <th></th>\n",
       "      <th></th>\n",
       "      <th></th>\n",
       "      <th></th>\n",
       "      <th></th>\n",
       "      <th></th>\n",
       "      <th></th>\n",
       "      <th></th>\n",
       "      <th></th>\n",
       "      <th></th>\n",
       "      <th></th>\n",
       "      <th></th>\n",
       "      <th></th>\n",
       "      <th></th>\n",
       "    </tr>\n",
       "  </thead>\n",
       "  <tbody>\n",
       "    <tr>\n",
       "      <th rowspan=\"5\" valign=\"top\">1</th>\n",
       "      <th rowspan=\"5\" valign=\"top\">0</th>\n",
       "      <th>1</th>\n",
       "      <td>1</td>\n",
       "      <td>1</td>\n",
       "      <td>1</td>\n",
       "      <td>0.033333</td>\n",
       "      <td>2087</td>\n",
       "      <td>1.260266</td>\n",
       "      <td>0</td>\n",
       "      <td>0</td>\n",
       "      <td>0</td>\n",
       "      <td>0</td>\n",
       "      <td>...</td>\n",
       "      <td>0.0</td>\n",
       "      <td>0.0</td>\n",
       "      <td>0.0</td>\n",
       "      <td>0</td>\n",
       "      <td>0</td>\n",
       "      <td>0</td>\n",
       "      <td>0.0</td>\n",
       "      <td>0.0</td>\n",
       "      <td>0.0</td>\n",
       "      <td>0.0</td>\n",
       "    </tr>\n",
       "    <tr>\n",
       "      <th>2</th>\n",
       "      <td>0</td>\n",
       "      <td>2</td>\n",
       "      <td>1</td>\n",
       "      <td>0.033333</td>\n",
       "      <td>888</td>\n",
       "      <td>0.536232</td>\n",
       "      <td>0</td>\n",
       "      <td>0</td>\n",
       "      <td>0</td>\n",
       "      <td>0</td>\n",
       "      <td>...</td>\n",
       "      <td>0.0</td>\n",
       "      <td>0.0</td>\n",
       "      <td>0.0</td>\n",
       "      <td>0</td>\n",
       "      <td>0</td>\n",
       "      <td>0</td>\n",
       "      <td>0.0</td>\n",
       "      <td>0.0</td>\n",
       "      <td>0.0</td>\n",
       "      <td>0.0</td>\n",
       "    </tr>\n",
       "    <tr>\n",
       "      <th>3</th>\n",
       "      <td>0</td>\n",
       "      <td>1</td>\n",
       "      <td>1</td>\n",
       "      <td>0.033333</td>\n",
       "      <td>1636</td>\n",
       "      <td>0.987923</td>\n",
       "      <td>0</td>\n",
       "      <td>0</td>\n",
       "      <td>0</td>\n",
       "      <td>0</td>\n",
       "      <td>...</td>\n",
       "      <td>0.0</td>\n",
       "      <td>0.0</td>\n",
       "      <td>0.0</td>\n",
       "      <td>0</td>\n",
       "      <td>0</td>\n",
       "      <td>0</td>\n",
       "      <td>0.0</td>\n",
       "      <td>0.0</td>\n",
       "      <td>0.0</td>\n",
       "      <td>0.0</td>\n",
       "    </tr>\n",
       "    <tr>\n",
       "      <th>4</th>\n",
       "      <td>0</td>\n",
       "      <td>1</td>\n",
       "      <td>1</td>\n",
       "      <td>0.033333</td>\n",
       "      <td>1250</td>\n",
       "      <td>0.754831</td>\n",
       "      <td>0</td>\n",
       "      <td>0</td>\n",
       "      <td>0</td>\n",
       "      <td>0</td>\n",
       "      <td>...</td>\n",
       "      <td>0.0</td>\n",
       "      <td>0.0</td>\n",
       "      <td>0.0</td>\n",
       "      <td>0</td>\n",
       "      <td>0</td>\n",
       "      <td>0</td>\n",
       "      <td>0.0</td>\n",
       "      <td>0.0</td>\n",
       "      <td>0.0</td>\n",
       "      <td>0.0</td>\n",
       "    </tr>\n",
       "    <tr>\n",
       "      <th>5</th>\n",
       "      <td>0</td>\n",
       "      <td>0</td>\n",
       "      <td>1</td>\n",
       "      <td>0.033333</td>\n",
       "      <td>607</td>\n",
       "      <td>0.366546</td>\n",
       "      <td>0</td>\n",
       "      <td>0</td>\n",
       "      <td>0</td>\n",
       "      <td>0</td>\n",
       "      <td>...</td>\n",
       "      <td>0.0</td>\n",
       "      <td>0.0</td>\n",
       "      <td>0.0</td>\n",
       "      <td>0</td>\n",
       "      <td>0</td>\n",
       "      <td>0</td>\n",
       "      <td>0.0</td>\n",
       "      <td>0.0</td>\n",
       "      <td>0.0</td>\n",
       "      <td>0.0</td>\n",
       "    </tr>\n",
       "  </tbody>\n",
       "</table>\n",
       "<p>5 rows × 22 columns</p>\n",
       "</div>"
      ],
      "text/plain": [
       "                      ventas_totales  y_ventas_siguiente_mes  \\\n",
       "pdv_id mes_id sku_id                                           \n",
       "1      0      1                    1                       1   \n",
       "              2                    0                       2   \n",
       "              3                    0                       1   \n",
       "              4                    0                       1   \n",
       "              5                    0                       0   \n",
       "\n",
       "                      ventas_totales_en_tienda_de_cada_mes  \\\n",
       "pdv_id mes_id sku_id                                         \n",
       "1      0      1                                          1   \n",
       "              2                                          1   \n",
       "              3                                          1   \n",
       "              4                                          1   \n",
       "              5                                          1   \n",
       "\n",
       "                      ventas_promedio_en_tienda_de_cada_mes  \\\n",
       "pdv_id mes_id sku_id                                          \n",
       "1      0      1                                    0.033333   \n",
       "              2                                    0.033333   \n",
       "              3                                    0.033333   \n",
       "              4                                    0.033333   \n",
       "              5                                    0.033333   \n",
       "\n",
       "                      ventas_totales_en_tienda_de_cada_sku  \\\n",
       "pdv_id mes_id sku_id                                         \n",
       "1      0      1                                       2087   \n",
       "              2                                        888   \n",
       "              3                                       1636   \n",
       "              4                                       1250   \n",
       "              5                                        607   \n",
       "\n",
       "                      ventas_promedio_en_tienda_de_cada_sku  \\\n",
       "pdv_id mes_id sku_id                                          \n",
       "1      0      1                                    1.260266   \n",
       "              2                                    0.536232   \n",
       "              3                                    0.987923   \n",
       "              4                                    0.754831   \n",
       "              5                                    0.366546   \n",
       "\n",
       "                      ventas_totales_1_mes_pasado  \\\n",
       "pdv_id mes_id sku_id                                \n",
       "1      0      1                                 0   \n",
       "              2                                 0   \n",
       "              3                                 0   \n",
       "              4                                 0   \n",
       "              5                                 0   \n",
       "\n",
       "                      ventas_totales_2_meses_pasados  \\\n",
       "pdv_id mes_id sku_id                                   \n",
       "1      0      1                                    0   \n",
       "              2                                    0   \n",
       "              3                                    0   \n",
       "              4                                    0   \n",
       "              5                                    0   \n",
       "\n",
       "                      ventas_totales_3_meses_pasados  \\\n",
       "pdv_id mes_id sku_id                                   \n",
       "1      0      1                                    0   \n",
       "              2                                    0   \n",
       "              3                                    0   \n",
       "              4                                    0   \n",
       "              5                                    0   \n",
       "\n",
       "                      ventas_totales_tienda_y_mes_del_mes_pasado  ...  \\\n",
       "pdv_id mes_id sku_id                                              ...   \n",
       "1      0      1                                                0  ...   \n",
       "              2                                                0  ...   \n",
       "              3                                                0  ...   \n",
       "              4                                                0  ...   \n",
       "              5                                                0  ...   \n",
       "\n",
       "                      ventas_promedio_tienda_y_mes_del_mes_pasado  \\\n",
       "pdv_id mes_id sku_id                                                \n",
       "1      0      1                                               0.0   \n",
       "              2                                               0.0   \n",
       "              3                                               0.0   \n",
       "              4                                               0.0   \n",
       "              5                                               0.0   \n",
       "\n",
       "                      ventas_promedio_tienda_y_mes_2_pasado  \\\n",
       "pdv_id mes_id sku_id                                          \n",
       "1      0      1                                         0.0   \n",
       "              2                                         0.0   \n",
       "              3                                         0.0   \n",
       "              4                                         0.0   \n",
       "              5                                         0.0   \n",
       "\n",
       "                      ventas_promedio_tienda_y_mes_3_pasado  \\\n",
       "pdv_id mes_id sku_id                                          \n",
       "1      0      1                                         0.0   \n",
       "              2                                         0.0   \n",
       "              3                                         0.0   \n",
       "              4                                         0.0   \n",
       "              5                                         0.0   \n",
       "\n",
       "                      ventas_totales_tienda_y_sku_del_mes_pasado  \\\n",
       "pdv_id mes_id sku_id                                               \n",
       "1      0      1                                                0   \n",
       "              2                                                0   \n",
       "              3                                                0   \n",
       "              4                                                0   \n",
       "              5                                                0   \n",
       "\n",
       "                      ventas_totales_tienda_y_sku_2_pasado  \\\n",
       "pdv_id mes_id sku_id                                         \n",
       "1      0      1                                          0   \n",
       "              2                                          0   \n",
       "              3                                          0   \n",
       "              4                                          0   \n",
       "              5                                          0   \n",
       "\n",
       "                      ventas_totales_tienda_y_sku_3_pasado  \\\n",
       "pdv_id mes_id sku_id                                         \n",
       "1      0      1                                          0   \n",
       "              2                                          0   \n",
       "              3                                          0   \n",
       "              4                                          0   \n",
       "              5                                          0   \n",
       "\n",
       "                      ventas_promedio_tienda_y_sku_del_mes_pasado  \\\n",
       "pdv_id mes_id sku_id                                                \n",
       "1      0      1                                               0.0   \n",
       "              2                                               0.0   \n",
       "              3                                               0.0   \n",
       "              4                                               0.0   \n",
       "              5                                               0.0   \n",
       "\n",
       "                      ventas_promedio_tienda_y_sku_2_pasado  \\\n",
       "pdv_id mes_id sku_id                                          \n",
       "1      0      1                                         0.0   \n",
       "              2                                         0.0   \n",
       "              3                                         0.0   \n",
       "              4                                         0.0   \n",
       "              5                                         0.0   \n",
       "\n",
       "                      ventas_promedio_tienda_y_sku_3_pasado  \\\n",
       "pdv_id mes_id sku_id                                          \n",
       "1      0      1                                         0.0   \n",
       "              2                                         0.0   \n",
       "              3                                         0.0   \n",
       "              4                                         0.0   \n",
       "              5                                         0.0   \n",
       "\n",
       "                      ventas_por_mes_pred  \n",
       "pdv_id mes_id sku_id                       \n",
       "1      0      1                       0.0  \n",
       "              2                       0.0  \n",
       "              3                       0.0  \n",
       "              4                       0.0  \n",
       "              5                       0.0  \n",
       "\n",
       "[5 rows x 22 columns]"
      ]
     },
     "execution_count": 41,
     "metadata": {},
     "output_type": "execute_result"
    }
   ],
   "source": [
    "ent_1.head(5)"
   ]
  },
  {
   "cell_type": "code",
   "execution_count": 42,
   "id": "c9d19421",
   "metadata": {},
   "outputs": [
    {
     "name": "stdout",
     "output_type": "stream",
     "text": [
      "Mean Absolute Error: 0.200705\n",
      "Mean Squared Error: 0.480978\n",
      "R-squared scores: 0.528534\n"
     ]
    }
   ],
   "source": [
    "# 3.4 CALCULAR ERRORES CON FUNCIONES DE PAQUETERÍA \n",
    "\n",
    "# Mean absolute error (MAE)\n",
    "ent1_mae = mean_absolute_error(ent_1.y_ventas_siguiente_mes, ent_1.ventas_por_mes_pred)\n",
    "\n",
    "# Mean squared error (MSE)\n",
    "ent1_mse = mean_squared_error(ent_1.y_ventas_siguiente_mes, ent_1.ventas_por_mes_pred)\n",
    "\n",
    "# R-squared scores\n",
    "ent1_r2 = r2_score(ent_1.y_ventas_siguiente_mes, ent_1.ventas_por_mes_pred)\n",
    "\n",
    "\n",
    "# Print metrics\n",
    "print('Mean Absolute Error:', round(ent1_mae, 6))\n",
    "print('Mean Squared Error:', round(ent1_mse, 6))\n",
    "print('R-squared scores:', round(ent1_r2, 6))"
   ]
  },
  {
   "cell_type": "markdown",
   "id": "9fbed0c4",
   "metadata": {},
   "source": [
    "----------------------Segunda Partición-------------------------"
   ]
  },
  {
   "cell_type": "code",
   "execution_count": 67,
   "id": "f0ed2c6f",
   "metadata": {},
   "outputs": [],
   "source": [
    "modelo_2 = tree.DecisionTreeRegressor(max_depth=4)"
   ]
  },
  {
   "cell_type": "code",
   "execution_count": 68,
   "id": "52210eba",
   "metadata": {},
   "outputs": [
    {
     "data": {
      "text/plain": [
       "DecisionTreeRegressor(max_depth=4)"
      ]
     },
     "execution_count": 68,
     "metadata": {},
     "output_type": "execute_result"
    }
   ],
   "source": [
    "modelo_2.fit(ent_x2, ent_y2)"
   ]
  },
  {
   "cell_type": "code",
   "execution_count": 69,
   "id": "b37e6d8e",
   "metadata": {},
   "outputs": [
    {
     "data": {
      "text/plain": [
       "array([0.47293535, 0.47293535, 0.1526119 , ..., 0.        , 0.        ,\n",
       "       0.        ])"
      ]
     },
     "execution_count": 69,
     "metadata": {},
     "output_type": "execute_result"
    }
   ],
   "source": [
    "pred2_ent = modelo_2.predict(ent_x2) \n",
    "pred2_ent"
   ]
  },
  {
   "cell_type": "code",
   "execution_count": 70,
   "id": "78892020",
   "metadata": {},
   "outputs": [
    {
     "data": {
      "text/plain": [
       "array([0., 0., 0., ..., 0., 0., 0.])"
      ]
     },
     "execution_count": 70,
     "metadata": {},
     "output_type": "execute_result"
    }
   ],
   "source": [
    "pred2_ent = np.clip(pred2_ent,0,20).round() #rango de valores \n",
    "pred2_ent"
   ]
  },
  {
   "cell_type": "code",
   "execution_count": 71,
   "id": "46c0b207",
   "metadata": {},
   "outputs": [],
   "source": [
    "ent_2['ventas_por_mes_pred'] = pred2_ent"
   ]
  },
  {
   "cell_type": "code",
   "execution_count": 72,
   "id": "dc99acf3",
   "metadata": {},
   "outputs": [
    {
     "data": {
      "text/html": [
       "<div>\n",
       "<style scoped>\n",
       "    .dataframe tbody tr th:only-of-type {\n",
       "        vertical-align: middle;\n",
       "    }\n",
       "\n",
       "    .dataframe tbody tr th {\n",
       "        vertical-align: top;\n",
       "    }\n",
       "\n",
       "    .dataframe thead th {\n",
       "        text-align: right;\n",
       "    }\n",
       "</style>\n",
       "<table border=\"1\" class=\"dataframe\">\n",
       "  <thead>\n",
       "    <tr style=\"text-align: right;\">\n",
       "      <th></th>\n",
       "      <th></th>\n",
       "      <th></th>\n",
       "      <th>ventas_totales</th>\n",
       "      <th>y_ventas_siguiente_mes</th>\n",
       "      <th>ventas_totales_en_tienda_de_cada_mes</th>\n",
       "      <th>ventas_promedio_en_tienda_de_cada_mes</th>\n",
       "      <th>ventas_totales_en_tienda_de_cada_sku</th>\n",
       "      <th>ventas_promedio_en_tienda_de_cada_sku</th>\n",
       "      <th>ventas_totales_1_mes_pasado</th>\n",
       "      <th>ventas_totales_2_meses_pasados</th>\n",
       "      <th>ventas_totales_3_meses_pasados</th>\n",
       "      <th>ventas_totales_tienda_y_mes_del_mes_pasado</th>\n",
       "      <th>...</th>\n",
       "      <th>ventas_promedio_tienda_y_mes_del_mes_pasado</th>\n",
       "      <th>ventas_promedio_tienda_y_mes_2_pasado</th>\n",
       "      <th>ventas_promedio_tienda_y_mes_3_pasado</th>\n",
       "      <th>ventas_totales_tienda_y_sku_del_mes_pasado</th>\n",
       "      <th>ventas_totales_tienda_y_sku_2_pasado</th>\n",
       "      <th>ventas_totales_tienda_y_sku_3_pasado</th>\n",
       "      <th>ventas_promedio_tienda_y_sku_del_mes_pasado</th>\n",
       "      <th>ventas_promedio_tienda_y_sku_2_pasado</th>\n",
       "      <th>ventas_promedio_tienda_y_sku_3_pasado</th>\n",
       "      <th>ventas_por_mes_pred</th>\n",
       "    </tr>\n",
       "    <tr>\n",
       "      <th>pdv_id</th>\n",
       "      <th>mes_id</th>\n",
       "      <th>sku_id</th>\n",
       "      <th></th>\n",
       "      <th></th>\n",
       "      <th></th>\n",
       "      <th></th>\n",
       "      <th></th>\n",
       "      <th></th>\n",
       "      <th></th>\n",
       "      <th></th>\n",
       "      <th></th>\n",
       "      <th></th>\n",
       "      <th></th>\n",
       "      <th></th>\n",
       "      <th></th>\n",
       "      <th></th>\n",
       "      <th></th>\n",
       "      <th></th>\n",
       "      <th></th>\n",
       "      <th></th>\n",
       "      <th></th>\n",
       "      <th></th>\n",
       "      <th></th>\n",
       "    </tr>\n",
       "  </thead>\n",
       "  <tbody>\n",
       "    <tr>\n",
       "      <th rowspan=\"5\" valign=\"top\">1</th>\n",
       "      <th>0</th>\n",
       "      <th>1</th>\n",
       "      <td>1</td>\n",
       "      <td>1</td>\n",
       "      <td>1</td>\n",
       "      <td>0.033333</td>\n",
       "      <td>2087</td>\n",
       "      <td>1.260266</td>\n",
       "      <td>0</td>\n",
       "      <td>0</td>\n",
       "      <td>0</td>\n",
       "      <td>0</td>\n",
       "      <td>...</td>\n",
       "      <td>0.000000</td>\n",
       "      <td>0.0</td>\n",
       "      <td>0.0</td>\n",
       "      <td>0</td>\n",
       "      <td>0</td>\n",
       "      <td>0</td>\n",
       "      <td>0.000000</td>\n",
       "      <td>0.0</td>\n",
       "      <td>0.0</td>\n",
       "      <td>0.0</td>\n",
       "    </tr>\n",
       "    <tr>\n",
       "      <th>1</th>\n",
       "      <th>1</th>\n",
       "      <td>1</td>\n",
       "      <td>0</td>\n",
       "      <td>5</td>\n",
       "      <td>0.166667</td>\n",
       "      <td>2106</td>\n",
       "      <td>1.271739</td>\n",
       "      <td>1</td>\n",
       "      <td>0</td>\n",
       "      <td>0</td>\n",
       "      <td>1</td>\n",
       "      <td>...</td>\n",
       "      <td>0.033333</td>\n",
       "      <td>0.0</td>\n",
       "      <td>0.0</td>\n",
       "      <td>2087</td>\n",
       "      <td>0</td>\n",
       "      <td>0</td>\n",
       "      <td>1.260266</td>\n",
       "      <td>0.0</td>\n",
       "      <td>0.0</td>\n",
       "      <td>0.0</td>\n",
       "    </tr>\n",
       "    <tr>\n",
       "      <th>0</th>\n",
       "      <th>2</th>\n",
       "      <td>0</td>\n",
       "      <td>2</td>\n",
       "      <td>1</td>\n",
       "      <td>0.033333</td>\n",
       "      <td>888</td>\n",
       "      <td>0.536232</td>\n",
       "      <td>0</td>\n",
       "      <td>0</td>\n",
       "      <td>0</td>\n",
       "      <td>0</td>\n",
       "      <td>...</td>\n",
       "      <td>0.000000</td>\n",
       "      <td>0.0</td>\n",
       "      <td>0.0</td>\n",
       "      <td>0</td>\n",
       "      <td>0</td>\n",
       "      <td>0</td>\n",
       "      <td>0.000000</td>\n",
       "      <td>0.0</td>\n",
       "      <td>0.0</td>\n",
       "      <td>0.0</td>\n",
       "    </tr>\n",
       "    <tr>\n",
       "      <th>1</th>\n",
       "      <th>2</th>\n",
       "      <td>2</td>\n",
       "      <td>1</td>\n",
       "      <td>5</td>\n",
       "      <td>0.166667</td>\n",
       "      <td>888</td>\n",
       "      <td>0.536232</td>\n",
       "      <td>0</td>\n",
       "      <td>0</td>\n",
       "      <td>0</td>\n",
       "      <td>1</td>\n",
       "      <td>...</td>\n",
       "      <td>0.033333</td>\n",
       "      <td>0.0</td>\n",
       "      <td>0.0</td>\n",
       "      <td>888</td>\n",
       "      <td>0</td>\n",
       "      <td>0</td>\n",
       "      <td>0.536232</td>\n",
       "      <td>0.0</td>\n",
       "      <td>0.0</td>\n",
       "      <td>0.0</td>\n",
       "    </tr>\n",
       "    <tr>\n",
       "      <th>0</th>\n",
       "      <th>3</th>\n",
       "      <td>0</td>\n",
       "      <td>1</td>\n",
       "      <td>1</td>\n",
       "      <td>0.033333</td>\n",
       "      <td>1636</td>\n",
       "      <td>0.987923</td>\n",
       "      <td>0</td>\n",
       "      <td>0</td>\n",
       "      <td>0</td>\n",
       "      <td>0</td>\n",
       "      <td>...</td>\n",
       "      <td>0.000000</td>\n",
       "      <td>0.0</td>\n",
       "      <td>0.0</td>\n",
       "      <td>0</td>\n",
       "      <td>0</td>\n",
       "      <td>0</td>\n",
       "      <td>0.000000</td>\n",
       "      <td>0.0</td>\n",
       "      <td>0.0</td>\n",
       "      <td>0.0</td>\n",
       "    </tr>\n",
       "  </tbody>\n",
       "</table>\n",
       "<p>5 rows × 22 columns</p>\n",
       "</div>"
      ],
      "text/plain": [
       "                      ventas_totales  y_ventas_siguiente_mes  \\\n",
       "pdv_id mes_id sku_id                                           \n",
       "1      0      1                    1                       1   \n",
       "       1      1                    1                       0   \n",
       "       0      2                    0                       2   \n",
       "       1      2                    2                       1   \n",
       "       0      3                    0                       1   \n",
       "\n",
       "                      ventas_totales_en_tienda_de_cada_mes  \\\n",
       "pdv_id mes_id sku_id                                         \n",
       "1      0      1                                          1   \n",
       "       1      1                                          5   \n",
       "       0      2                                          1   \n",
       "       1      2                                          5   \n",
       "       0      3                                          1   \n",
       "\n",
       "                      ventas_promedio_en_tienda_de_cada_mes  \\\n",
       "pdv_id mes_id sku_id                                          \n",
       "1      0      1                                    0.033333   \n",
       "       1      1                                    0.166667   \n",
       "       0      2                                    0.033333   \n",
       "       1      2                                    0.166667   \n",
       "       0      3                                    0.033333   \n",
       "\n",
       "                      ventas_totales_en_tienda_de_cada_sku  \\\n",
       "pdv_id mes_id sku_id                                         \n",
       "1      0      1                                       2087   \n",
       "       1      1                                       2106   \n",
       "       0      2                                        888   \n",
       "       1      2                                        888   \n",
       "       0      3                                       1636   \n",
       "\n",
       "                      ventas_promedio_en_tienda_de_cada_sku  \\\n",
       "pdv_id mes_id sku_id                                          \n",
       "1      0      1                                    1.260266   \n",
       "       1      1                                    1.271739   \n",
       "       0      2                                    0.536232   \n",
       "       1      2                                    0.536232   \n",
       "       0      3                                    0.987923   \n",
       "\n",
       "                      ventas_totales_1_mes_pasado  \\\n",
       "pdv_id mes_id sku_id                                \n",
       "1      0      1                                 0   \n",
       "       1      1                                 1   \n",
       "       0      2                                 0   \n",
       "       1      2                                 0   \n",
       "       0      3                                 0   \n",
       "\n",
       "                      ventas_totales_2_meses_pasados  \\\n",
       "pdv_id mes_id sku_id                                   \n",
       "1      0      1                                    0   \n",
       "       1      1                                    0   \n",
       "       0      2                                    0   \n",
       "       1      2                                    0   \n",
       "       0      3                                    0   \n",
       "\n",
       "                      ventas_totales_3_meses_pasados  \\\n",
       "pdv_id mes_id sku_id                                   \n",
       "1      0      1                                    0   \n",
       "       1      1                                    0   \n",
       "       0      2                                    0   \n",
       "       1      2                                    0   \n",
       "       0      3                                    0   \n",
       "\n",
       "                      ventas_totales_tienda_y_mes_del_mes_pasado  ...  \\\n",
       "pdv_id mes_id sku_id                                              ...   \n",
       "1      0      1                                                0  ...   \n",
       "       1      1                                                1  ...   \n",
       "       0      2                                                0  ...   \n",
       "       1      2                                                1  ...   \n",
       "       0      3                                                0  ...   \n",
       "\n",
       "                      ventas_promedio_tienda_y_mes_del_mes_pasado  \\\n",
       "pdv_id mes_id sku_id                                                \n",
       "1      0      1                                          0.000000   \n",
       "       1      1                                          0.033333   \n",
       "       0      2                                          0.000000   \n",
       "       1      2                                          0.033333   \n",
       "       0      3                                          0.000000   \n",
       "\n",
       "                      ventas_promedio_tienda_y_mes_2_pasado  \\\n",
       "pdv_id mes_id sku_id                                          \n",
       "1      0      1                                         0.0   \n",
       "       1      1                                         0.0   \n",
       "       0      2                                         0.0   \n",
       "       1      2                                         0.0   \n",
       "       0      3                                         0.0   \n",
       "\n",
       "                      ventas_promedio_tienda_y_mes_3_pasado  \\\n",
       "pdv_id mes_id sku_id                                          \n",
       "1      0      1                                         0.0   \n",
       "       1      1                                         0.0   \n",
       "       0      2                                         0.0   \n",
       "       1      2                                         0.0   \n",
       "       0      3                                         0.0   \n",
       "\n",
       "                      ventas_totales_tienda_y_sku_del_mes_pasado  \\\n",
       "pdv_id mes_id sku_id                                               \n",
       "1      0      1                                                0   \n",
       "       1      1                                             2087   \n",
       "       0      2                                                0   \n",
       "       1      2                                              888   \n",
       "       0      3                                                0   \n",
       "\n",
       "                      ventas_totales_tienda_y_sku_2_pasado  \\\n",
       "pdv_id mes_id sku_id                                         \n",
       "1      0      1                                          0   \n",
       "       1      1                                          0   \n",
       "       0      2                                          0   \n",
       "       1      2                                          0   \n",
       "       0      3                                          0   \n",
       "\n",
       "                      ventas_totales_tienda_y_sku_3_pasado  \\\n",
       "pdv_id mes_id sku_id                                         \n",
       "1      0      1                                          0   \n",
       "       1      1                                          0   \n",
       "       0      2                                          0   \n",
       "       1      2                                          0   \n",
       "       0      3                                          0   \n",
       "\n",
       "                      ventas_promedio_tienda_y_sku_del_mes_pasado  \\\n",
       "pdv_id mes_id sku_id                                                \n",
       "1      0      1                                          0.000000   \n",
       "       1      1                                          1.260266   \n",
       "       0      2                                          0.000000   \n",
       "       1      2                                          0.536232   \n",
       "       0      3                                          0.000000   \n",
       "\n",
       "                      ventas_promedio_tienda_y_sku_2_pasado  \\\n",
       "pdv_id mes_id sku_id                                          \n",
       "1      0      1                                         0.0   \n",
       "       1      1                                         0.0   \n",
       "       0      2                                         0.0   \n",
       "       1      2                                         0.0   \n",
       "       0      3                                         0.0   \n",
       "\n",
       "                      ventas_promedio_tienda_y_sku_3_pasado  \\\n",
       "pdv_id mes_id sku_id                                          \n",
       "1      0      1                                         0.0   \n",
       "       1      1                                         0.0   \n",
       "       0      2                                         0.0   \n",
       "       1      2                                         0.0   \n",
       "       0      3                                         0.0   \n",
       "\n",
       "                      ventas_por_mes_pred  \n",
       "pdv_id mes_id sku_id                       \n",
       "1      0      1                       0.0  \n",
       "       1      1                       0.0  \n",
       "       0      2                       0.0  \n",
       "       1      2                       0.0  \n",
       "       0      3                       0.0  \n",
       "\n",
       "[5 rows x 22 columns]"
      ]
     },
     "execution_count": 72,
     "metadata": {},
     "output_type": "execute_result"
    }
   ],
   "source": [
    "ent_2.head(5)"
   ]
  },
  {
   "cell_type": "code",
   "execution_count": 73,
   "id": "ba60f9bc",
   "metadata": {},
   "outputs": [
    {
     "name": "stdout",
     "output_type": "stream",
     "text": [
      "Mean Absolute Error: 0.202506\n",
      "Mean Squared Error: 0.502587\n",
      "R-squared scores: 0.504595\n"
     ]
    }
   ],
   "source": [
    "# Mean absolute error (MAE)\n",
    "ent2_mae = mean_absolute_error(ent_2.y_ventas_siguiente_mes, ent_2.ventas_por_mes_pred)\n",
    "\n",
    "# Mean squared error (MSE)\n",
    "ent2_mse = mean_squared_error(ent_2.y_ventas_siguiente_mes, ent_2.ventas_por_mes_pred)\n",
    "\n",
    "# R-squared scores\n",
    "ent2_r2 = r2_score(ent_2.y_ventas_siguiente_mes, ent_2.ventas_por_mes_pred)\n",
    "\n",
    "\n",
    "# Print metrics\n",
    "print('Mean Absolute Error:', round(ent2_mae, 6))\n",
    "print('Mean Squared Error:', round(ent2_mse, 6))\n",
    "print('R-squared scores:', round(ent2_r2, 6))"
   ]
  },
  {
   "cell_type": "markdown",
   "id": "0c9f4e86",
   "metadata": {},
   "source": [
    "----------------------Tercera Partición-------------------------"
   ]
  },
  {
   "cell_type": "code",
   "execution_count": 74,
   "id": "81aa7fd2",
   "metadata": {},
   "outputs": [],
   "source": [
    "modelo_3 = tree.DecisionTreeRegressor(max_depth=4)"
   ]
  },
  {
   "cell_type": "code",
   "execution_count": 75,
   "id": "7f8d9548",
   "metadata": {},
   "outputs": [
    {
     "data": {
      "text/plain": [
       "DecisionTreeRegressor(max_depth=4)"
      ]
     },
     "execution_count": 75,
     "metadata": {},
     "output_type": "execute_result"
    }
   ],
   "source": [
    "modelo_3.fit(ent_x3, ent_y3)"
   ]
  },
  {
   "cell_type": "code",
   "execution_count": 76,
   "id": "21610bad",
   "metadata": {},
   "outputs": [
    {
     "data": {
      "text/plain": [
       "array([0.4218307 , 0.4218307 , 0.13944885, ..., 0.01003712, 0.01003712,\n",
       "       0.01003712])"
      ]
     },
     "execution_count": 76,
     "metadata": {},
     "output_type": "execute_result"
    }
   ],
   "source": [
    "pred3_ent = modelo_3.predict(ent_x3) \n",
    "pred3_ent"
   ]
  },
  {
   "cell_type": "code",
   "execution_count": 77,
   "id": "f16603fb",
   "metadata": {},
   "outputs": [
    {
     "data": {
      "text/plain": [
       "array([0., 0., 0., ..., 0., 0., 0.])"
      ]
     },
     "execution_count": 77,
     "metadata": {},
     "output_type": "execute_result"
    }
   ],
   "source": [
    "pred3_ent = np.clip(pred3_ent,0,20).round() #rango de valores \n",
    "pred3_ent"
   ]
  },
  {
   "cell_type": "code",
   "execution_count": 78,
   "id": "3b6b1f34",
   "metadata": {},
   "outputs": [],
   "source": [
    "ent_3['ventas_por_mes_pred'] = pred3_ent"
   ]
  },
  {
   "cell_type": "code",
   "execution_count": 79,
   "id": "4bb373d5",
   "metadata": {},
   "outputs": [
    {
     "name": "stdout",
     "output_type": "stream",
     "text": [
      "Mean Absolute Error: 0.196384\n",
      "Mean Squared Error: 0.465238\n",
      "R-squared scores: 0.454731\n"
     ]
    }
   ],
   "source": [
    "# Mean absolute error (MAE)\n",
    "ent3_mae = mean_absolute_error(ent_3.y_ventas_siguiente_mes, ent_3.ventas_por_mes_pred)\n",
    "\n",
    "# Mean squared error (MSE)\n",
    "ent3_mse = mean_squared_error(ent_3.y_ventas_siguiente_mes, ent_3.ventas_por_mes_pred)\n",
    "\n",
    "# R-squared scores\n",
    "ent3_r2 = r2_score(ent_3.y_ventas_siguiente_mes, ent_3.ventas_por_mes_pred)\n",
    "\n",
    "\n",
    "# Print metrics\n",
    "print('Mean Absolute Error:', round(ent3_mae, 6))\n",
    "print('Mean Squared Error:', round(ent3_mse, 6))\n",
    "print('R-squared scores:', round(ent3_r2, 6))"
   ]
  },
  {
   "cell_type": "markdown",
   "id": "18bcbbc4",
   "metadata": {},
   "source": [
    "----------------------Cuarta Partición-------------------------"
   ]
  },
  {
   "cell_type": "code",
   "execution_count": 80,
   "id": "9d17a243",
   "metadata": {},
   "outputs": [],
   "source": [
    "modelo_4 = tree.DecisionTreeRegressor(max_depth=4)"
   ]
  },
  {
   "cell_type": "code",
   "execution_count": 81,
   "id": "f0a4c0e4",
   "metadata": {},
   "outputs": [
    {
     "data": {
      "text/plain": [
       "DecisionTreeRegressor(max_depth=4)"
      ]
     },
     "execution_count": 81,
     "metadata": {},
     "output_type": "execute_result"
    }
   ],
   "source": [
    "modelo_4.fit(ent_x4, ent_y4)"
   ]
  },
  {
   "cell_type": "code",
   "execution_count": 82,
   "id": "4ba5cce7",
   "metadata": {},
   "outputs": [
    {
     "data": {
      "text/plain": [
       "array([0.39597315, 0.39597315, 0.17311631, ..., 0.01726811, 0.01726811,\n",
       "       0.01726811])"
      ]
     },
     "execution_count": 82,
     "metadata": {},
     "output_type": "execute_result"
    }
   ],
   "source": [
    "pred4_ent = modelo_4.predict(ent_x4) \n",
    "pred4_ent"
   ]
  },
  {
   "cell_type": "code",
   "execution_count": 83,
   "id": "ed1648d4",
   "metadata": {},
   "outputs": [
    {
     "data": {
      "text/plain": [
       "array([0., 0., 0., ..., 0., 0., 0.])"
      ]
     },
     "execution_count": 83,
     "metadata": {},
     "output_type": "execute_result"
    }
   ],
   "source": [
    "pred4_ent = np.clip(pred4_ent,0,20).round() #rango de valores \n",
    "pred4_ent"
   ]
  },
  {
   "cell_type": "code",
   "execution_count": 84,
   "id": "6afd4ab8",
   "metadata": {},
   "outputs": [],
   "source": [
    "ent_4['ventas_por_mes_pred'] = pred4_ent"
   ]
  },
  {
   "cell_type": "code",
   "execution_count": 85,
   "id": "c69b4b90",
   "metadata": {},
   "outputs": [
    {
     "name": "stdout",
     "output_type": "stream",
     "text": [
      "Mean Absolute Error: 0.195401\n",
      "Mean Squared Error: 0.452677\n",
      "R-squared scores: 0.410709\n"
     ]
    }
   ],
   "source": [
    "# Mean absolute error (MAE)\n",
    "ent4_mae = mean_absolute_error(ent_4.y_ventas_siguiente_mes, ent_4.ventas_por_mes_pred)\n",
    "\n",
    "# Mean squared error (MSE)\n",
    "ent4_mse = mean_squared_error(ent_4.y_ventas_siguiente_mes, ent_4.ventas_por_mes_pred)\n",
    "\n",
    "# R-squared scores\n",
    "ent4_r2 = r2_score(ent_4.y_ventas_siguiente_mes, ent_4.ventas_por_mes_pred)\n",
    "\n",
    "\n",
    "# Print metrics\n",
    "print('Mean Absolute Error:', round(ent4_mae, 6))\n",
    "print('Mean Squared Error:', round(ent4_mse, 6))\n",
    "print('R-squared scores:', round(ent4_r2, 6))"
   ]
  },
  {
   "cell_type": "markdown",
   "id": "a6f2e29a",
   "metadata": {},
   "source": [
    "----------------------Quinta Partición-------------------------"
   ]
  },
  {
   "cell_type": "code",
   "execution_count": 86,
   "id": "7a4d38c6",
   "metadata": {},
   "outputs": [],
   "source": [
    "modelo_5 = tree.DecisionTreeRegressor(max_depth=4)"
   ]
  },
  {
   "cell_type": "code",
   "execution_count": 87,
   "id": "a711794e",
   "metadata": {},
   "outputs": [
    {
     "data": {
      "text/plain": [
       "DecisionTreeRegressor(max_depth=4)"
      ]
     },
     "execution_count": 87,
     "metadata": {},
     "output_type": "execute_result"
    }
   ],
   "source": [
    "modelo_5.fit(ent_x5, ent_y5)"
   ]
  },
  {
   "cell_type": "code",
   "execution_count": 88,
   "id": "6edb4eb7",
   "metadata": {},
   "outputs": [
    {
     "data": {
      "text/plain": [
       "array([0.2705347 , 0.54559337, 0.16139551, ..., 0.02228079, 0.02228079,\n",
       "       0.16139551])"
      ]
     },
     "execution_count": 88,
     "metadata": {},
     "output_type": "execute_result"
    }
   ],
   "source": [
    "pred5_ent = modelo_5.predict(ent_x5) \n",
    "pred5_ent"
   ]
  },
  {
   "cell_type": "code",
   "execution_count": 89,
   "id": "760a77ff",
   "metadata": {},
   "outputs": [
    {
     "data": {
      "text/plain": [
       "array([0., 1., 0., ..., 0., 0., 0.])"
      ]
     },
     "execution_count": 89,
     "metadata": {},
     "output_type": "execute_result"
    }
   ],
   "source": [
    "pred5_ent = np.clip(pred5_ent,0,20).round() #rango de valores \n",
    "pred5_ent"
   ]
  },
  {
   "cell_type": "code",
   "execution_count": 90,
   "id": "ac2bcd49",
   "metadata": {},
   "outputs": [],
   "source": [
    "ent_5['ventas_por_mes_pred'] = pred5_ent"
   ]
  },
  {
   "cell_type": "code",
   "execution_count": 91,
   "id": "e1ab69a0",
   "metadata": {},
   "outputs": [
    {
     "name": "stdout",
     "output_type": "stream",
     "text": [
      "Mean Absolute Error: 0.203297\n",
      "Mean Squared Error: 0.464134\n",
      "R-squared scores: 0.364973\n"
     ]
    }
   ],
   "source": [
    "# Mean absolute error (MAE)\n",
    "ent5_mae = mean_absolute_error(ent_5.y_ventas_siguiente_mes, ent_5.ventas_por_mes_pred)\n",
    "\n",
    "# Mean squared error (MSE)\n",
    "ent5_mse = mean_squared_error(ent_5.y_ventas_siguiente_mes, ent_5.ventas_por_mes_pred)\n",
    "\n",
    "# R-squared scores\n",
    "ent5_r2 = r2_score(ent_5.y_ventas_siguiente_mes, ent_5.ventas_por_mes_pred)\n",
    "\n",
    "\n",
    "# Print metrics\n",
    "print('Mean Absolute Error:', round(ent5_mae, 6))\n",
    "print('Mean Squared Error:', round(ent5_mse, 6))\n",
    "print('R-squared scores:', round(ent5_r2, 6))"
   ]
  },
  {
   "cell_type": "markdown",
   "id": "90b27f5b",
   "metadata": {},
   "source": [
    "----------------------Sexta Partición-------------------------"
   ]
  },
  {
   "cell_type": "code",
   "execution_count": 92,
   "id": "6eb770b1",
   "metadata": {},
   "outputs": [],
   "source": [
    "modelo_6 = tree.DecisionTreeRegressor(max_depth=4)"
   ]
  },
  {
   "cell_type": "code",
   "execution_count": 93,
   "id": "9ee1242d",
   "metadata": {},
   "outputs": [
    {
     "data": {
      "text/plain": [
       "DecisionTreeRegressor(max_depth=4)"
      ]
     },
     "execution_count": 93,
     "metadata": {},
     "output_type": "execute_result"
    }
   ],
   "source": [
    "modelo_6.fit(ent_x6, ent_y6)"
   ]
  },
  {
   "cell_type": "code",
   "execution_count": 94,
   "id": "9936b1b5",
   "metadata": {},
   "outputs": [
    {
     "data": {
      "text/plain": [
       "array([0.3075551 , 0.3075551 , 0.15746236, ..., 0.02568647, 0.15746236,\n",
       "       0.15746236])"
      ]
     },
     "execution_count": 94,
     "metadata": {},
     "output_type": "execute_result"
    }
   ],
   "source": [
    "pred6_ent = modelo_6.predict(ent_x6) \n",
    "pred6_ent"
   ]
  },
  {
   "cell_type": "code",
   "execution_count": 95,
   "id": "a8455bb8",
   "metadata": {},
   "outputs": [
    {
     "data": {
      "text/plain": [
       "array([0., 0., 0., ..., 0., 0., 0.])"
      ]
     },
     "execution_count": 95,
     "metadata": {},
     "output_type": "execute_result"
    }
   ],
   "source": [
    "pred6_ent = np.clip(pred6_ent,0,20).round() #rango de valores \n",
    "pred6_ent"
   ]
  },
  {
   "cell_type": "code",
   "execution_count": 96,
   "id": "814ec5b3",
   "metadata": {},
   "outputs": [],
   "source": [
    "ent_6['ventas_por_mes_pred'] = pred6_ent"
   ]
  },
  {
   "cell_type": "code",
   "execution_count": 97,
   "id": "d5bdcd58",
   "metadata": {},
   "outputs": [
    {
     "name": "stdout",
     "output_type": "stream",
     "text": [
      "Mean Absolute Error: 0.208273\n",
      "Mean Squared Error: 0.457978\n",
      "R-squared scores: 0.355827\n"
     ]
    }
   ],
   "source": [
    "# Mean absolute error (MAE)\n",
    "ent6_mae = mean_absolute_error(ent_6.y_ventas_siguiente_mes, ent_6.ventas_por_mes_pred)\n",
    "\n",
    "# Mean squared error (MSE)\n",
    "ent6_mse = mean_squared_error(ent_6.y_ventas_siguiente_mes, ent_6.ventas_por_mes_pred)\n",
    "\n",
    "# R-squared scores\n",
    "ent6_r2 = r2_score(ent_6.y_ventas_siguiente_mes, ent_6.ventas_por_mes_pred)\n",
    "\n",
    "\n",
    "# Print metrics\n",
    "print('Mean Absolute Error:', round(ent6_mae, 6))\n",
    "print('Mean Squared Error:', round(ent6_mse, 6))\n",
    "print('R-squared scores:', round(ent6_r2, 6))"
   ]
  },
  {
   "cell_type": "markdown",
   "id": "1f8aadac",
   "metadata": {},
   "source": [
    "----------------------Séptima Partición-------------------------"
   ]
  },
  {
   "cell_type": "code",
   "execution_count": 98,
   "id": "176e2c20",
   "metadata": {},
   "outputs": [],
   "source": [
    "modelo_7 = tree.DecisionTreeRegressor(max_depth=4)"
   ]
  },
  {
   "cell_type": "code",
   "execution_count": 99,
   "id": "65d1ff2e",
   "metadata": {},
   "outputs": [
    {
     "data": {
      "text/plain": [
       "DecisionTreeRegressor(max_depth=4)"
      ]
     },
     "execution_count": 99,
     "metadata": {},
     "output_type": "execute_result"
    }
   ],
   "source": [
    "modelo_7.fit(ent_x7, ent_y7)"
   ]
  },
  {
   "cell_type": "code",
   "execution_count": 100,
   "id": "34784261",
   "metadata": {},
   "outputs": [
    {
     "data": {
      "text/plain": [
       "array([0.2418393 , 0.47651775, 0.11794759, ..., 0.11794759, 0.11794759,\n",
       "       0.01983784])"
      ]
     },
     "execution_count": 100,
     "metadata": {},
     "output_type": "execute_result"
    }
   ],
   "source": [
    "pred7_ent = modelo_7.predict(ent_x7) \n",
    "pred7_ent"
   ]
  },
  {
   "cell_type": "code",
   "execution_count": 101,
   "id": "7f37fad0",
   "metadata": {},
   "outputs": [
    {
     "data": {
      "text/plain": [
       "array([0., 0., 0., ..., 0., 0., 0.])"
      ]
     },
     "execution_count": 101,
     "metadata": {},
     "output_type": "execute_result"
    }
   ],
   "source": [
    "pred7_ent = np.clip(pred7_ent,0,20).round() #rango de valores \n",
    "pred7_ent"
   ]
  },
  {
   "cell_type": "code",
   "execution_count": 102,
   "id": "89f17921",
   "metadata": {},
   "outputs": [],
   "source": [
    "ent_7['ventas_por_mes_pred'] = pred7_ent"
   ]
  },
  {
   "cell_type": "code",
   "execution_count": 103,
   "id": "1d967564",
   "metadata": {},
   "outputs": [
    {
     "name": "stdout",
     "output_type": "stream",
     "text": [
      "Mean Absolute Error: 0.217616\n",
      "Mean Squared Error: 0.434087\n",
      "R-squared scores: 0.348714\n"
     ]
    }
   ],
   "source": [
    "# Mean absolute error (MAE)\n",
    "ent7_mae = mean_absolute_error(ent_7.y_ventas_siguiente_mes, ent_7.ventas_por_mes_pred)\n",
    "\n",
    "# Mean squared error (MSE)\n",
    "ent7_mse = mean_squared_error(ent_7.y_ventas_siguiente_mes, ent_7.ventas_por_mes_pred)\n",
    "\n",
    "# R-squared scores\n",
    "ent7_r2 = r2_score(ent_7.y_ventas_siguiente_mes, ent_7.ventas_por_mes_pred)\n",
    "\n",
    "\n",
    "# Print metrics\n",
    "print('Mean Absolute Error:', round(ent7_mae, 6))\n",
    "print('Mean Squared Error:', round(ent7_mse, 6))\n",
    "print('R-squared scores:', round(ent7_r2, 6))"
   ]
  },
  {
   "cell_type": "markdown",
   "id": "c9dbc416",
   "metadata": {},
   "source": [
    "----------------------Octava Partición-------------------------"
   ]
  },
  {
   "cell_type": "code",
   "execution_count": 104,
   "id": "bbbeb2a5",
   "metadata": {},
   "outputs": [],
   "source": [
    "modelo_8 = tree.DecisionTreeRegressor(max_depth=4)"
   ]
  },
  {
   "cell_type": "code",
   "execution_count": 105,
   "id": "c7c13181",
   "metadata": {},
   "outputs": [
    {
     "data": {
      "text/plain": [
       "DecisionTreeRegressor(max_depth=4)"
      ]
     },
     "execution_count": 105,
     "metadata": {},
     "output_type": "execute_result"
    }
   ],
   "source": [
    "modelo_8.fit(ent_x8, ent_y8)"
   ]
  },
  {
   "cell_type": "code",
   "execution_count": 106,
   "id": "7ae7f43d",
   "metadata": {},
   "outputs": [
    {
     "data": {
      "text/plain": [
       "array([0.45360825, 0.45360825, 0.11278457, ..., 0.11278457, 0.02096559,\n",
       "       0.02096559])"
      ]
     },
     "execution_count": 106,
     "metadata": {},
     "output_type": "execute_result"
    }
   ],
   "source": [
    "pred8_ent = modelo_8.predict(ent_x8) \n",
    "pred8_ent"
   ]
  },
  {
   "cell_type": "code",
   "execution_count": 107,
   "id": "413763b7",
   "metadata": {},
   "outputs": [
    {
     "data": {
      "text/plain": [
       "array([0., 0., 0., ..., 0., 0., 0.])"
      ]
     },
     "execution_count": 107,
     "metadata": {},
     "output_type": "execute_result"
    }
   ],
   "source": [
    "pred8_ent = np.clip(pred8_ent,0,20).round() #rango de valores \n",
    "pred8_ent"
   ]
  },
  {
   "cell_type": "code",
   "execution_count": 108,
   "id": "08d75aff",
   "metadata": {},
   "outputs": [],
   "source": [
    "ent_8['ventas_por_mes_pred'] = pred8_ent"
   ]
  },
  {
   "cell_type": "code",
   "execution_count": 109,
   "id": "b73c126f",
   "metadata": {},
   "outputs": [
    {
     "name": "stdout",
     "output_type": "stream",
     "text": [
      "Mean Absolute Error: 0.21325\n",
      "Mean Squared Error: 0.409425\n",
      "R-squared scores: 0.333739\n"
     ]
    }
   ],
   "source": [
    "# Mean absolute error (MAE)\n",
    "ent8_mae = mean_absolute_error(ent_8.y_ventas_siguiente_mes, ent_8.ventas_por_mes_pred)\n",
    "\n",
    "# Mean squared error (MSE)\n",
    "ent8_mse = mean_squared_error(ent_8.y_ventas_siguiente_mes, ent_8.ventas_por_mes_pred)\n",
    "\n",
    "# R-squared scores\n",
    "ent8_r2 = r2_score(ent_8.y_ventas_siguiente_mes, ent_8.ventas_por_mes_pred)\n",
    "\n",
    "\n",
    "# Print metrics\n",
    "print('Mean Absolute Error:', round(ent8_mae, 6))\n",
    "print('Mean Squared Error:', round(ent8_mse, 6))\n",
    "print('R-squared scores:', round(ent8_r2, 6))"
   ]
  },
  {
   "cell_type": "markdown",
   "id": "3d9d15ea",
   "metadata": {},
   "source": [
    "# Prueba de Modelo"
   ]
  },
  {
   "cell_type": "code",
   "execution_count": 110,
   "id": "858dabf1",
   "metadata": {},
   "outputs": [
    {
     "data": {
      "text/plain": [
       "array([0.47356828, 0.47356828, 0.47356828, ..., 0.05436893, 0.        ,\n",
       "       0.        ])"
      ]
     },
     "execution_count": 110,
     "metadata": {},
     "output_type": "execute_result"
    }
   ],
   "source": [
    "# 1. HACER PREDICCIONES: CALCULAR ERROR DE PRUEBA\n",
    "pred1_prueba = modelo_1.predict(prueba_x1) \n",
    "pred1_prueba"
   ]
  },
  {
   "cell_type": "code",
   "execution_count": 111,
   "id": "6560f13f",
   "metadata": {},
   "outputs": [
    {
     "data": {
      "text/plain": [
       "array([0., 0., 0., ..., 0., 0., 0.])"
      ]
     },
     "execution_count": 111,
     "metadata": {},
     "output_type": "execute_result"
    }
   ],
   "source": [
    "# 2. REDONDEAR Y AJUSTAR VALORES\n",
    "pred1_prueba = np.clip(pred1_prueba,0,20).round() #rango de valores \n",
    "pred1_prueba"
   ]
  },
  {
   "cell_type": "code",
   "execution_count": 112,
   "id": "de16199b",
   "metadata": {},
   "outputs": [
    {
     "data": {
      "text/plain": [
       "10860.0"
      ]
     },
     "execution_count": 112,
     "metadata": {},
     "output_type": "execute_result"
    }
   ],
   "source": [
    "# ¿Cuántas unidades se van a vender (prediccoión) en ese mes de prueba (en todos los puntos de venta , considerando todos los productos)?\n",
    "pred1_prueba.sum()"
   ]
  },
  {
   "cell_type": "code",
   "execution_count": 113,
   "id": "7e221d4a",
   "metadata": {},
   "outputs": [],
   "source": [
    "# 3. JUNTAR DATOS PARA PODER CALCULAR ERROR\n",
    "prueba_1['ventas_por_mes_pred'] = pred1_prueba"
   ]
  },
  {
   "cell_type": "code",
   "execution_count": 114,
   "id": "aefc1a2f",
   "metadata": {},
   "outputs": [
    {
     "data": {
      "text/html": [
       "<div>\n",
       "<style scoped>\n",
       "    .dataframe tbody tr th:only-of-type {\n",
       "        vertical-align: middle;\n",
       "    }\n",
       "\n",
       "    .dataframe tbody tr th {\n",
       "        vertical-align: top;\n",
       "    }\n",
       "\n",
       "    .dataframe thead th {\n",
       "        text-align: right;\n",
       "    }\n",
       "</style>\n",
       "<table border=\"1\" class=\"dataframe\">\n",
       "  <thead>\n",
       "    <tr style=\"text-align: right;\">\n",
       "      <th></th>\n",
       "      <th></th>\n",
       "      <th></th>\n",
       "      <th>ventas_totales</th>\n",
       "      <th>y_ventas_siguiente_mes</th>\n",
       "      <th>ventas_totales_en_tienda_de_cada_mes</th>\n",
       "      <th>ventas_promedio_en_tienda_de_cada_mes</th>\n",
       "      <th>ventas_totales_en_tienda_de_cada_sku</th>\n",
       "      <th>ventas_promedio_en_tienda_de_cada_sku</th>\n",
       "      <th>ventas_totales_1_mes_pasado</th>\n",
       "      <th>ventas_totales_2_meses_pasados</th>\n",
       "      <th>ventas_totales_3_meses_pasados</th>\n",
       "      <th>ventas_totales_tienda_y_mes_del_mes_pasado</th>\n",
       "      <th>...</th>\n",
       "      <th>ventas_promedio_tienda_y_mes_del_mes_pasado</th>\n",
       "      <th>ventas_promedio_tienda_y_mes_2_pasado</th>\n",
       "      <th>ventas_promedio_tienda_y_mes_3_pasado</th>\n",
       "      <th>ventas_totales_tienda_y_sku_del_mes_pasado</th>\n",
       "      <th>ventas_totales_tienda_y_sku_2_pasado</th>\n",
       "      <th>ventas_totales_tienda_y_sku_3_pasado</th>\n",
       "      <th>ventas_promedio_tienda_y_sku_del_mes_pasado</th>\n",
       "      <th>ventas_promedio_tienda_y_sku_2_pasado</th>\n",
       "      <th>ventas_promedio_tienda_y_sku_3_pasado</th>\n",
       "      <th>ventas_por_mes_pred</th>\n",
       "    </tr>\n",
       "    <tr>\n",
       "      <th>pdv_id</th>\n",
       "      <th>mes_id</th>\n",
       "      <th>sku_id</th>\n",
       "      <th></th>\n",
       "      <th></th>\n",
       "      <th></th>\n",
       "      <th></th>\n",
       "      <th></th>\n",
       "      <th></th>\n",
       "      <th></th>\n",
       "      <th></th>\n",
       "      <th></th>\n",
       "      <th></th>\n",
       "      <th></th>\n",
       "      <th></th>\n",
       "      <th></th>\n",
       "      <th></th>\n",
       "      <th></th>\n",
       "      <th></th>\n",
       "      <th></th>\n",
       "      <th></th>\n",
       "      <th></th>\n",
       "      <th></th>\n",
       "      <th></th>\n",
       "    </tr>\n",
       "  </thead>\n",
       "  <tbody>\n",
       "    <tr>\n",
       "      <th rowspan=\"5\" valign=\"top\">1</th>\n",
       "      <th rowspan=\"5\" valign=\"top\">1</th>\n",
       "      <th>1</th>\n",
       "      <td>1</td>\n",
       "      <td>0</td>\n",
       "      <td>5</td>\n",
       "      <td>0.166667</td>\n",
       "      <td>2106</td>\n",
       "      <td>1.271739</td>\n",
       "      <td>1</td>\n",
       "      <td>0</td>\n",
       "      <td>0</td>\n",
       "      <td>1</td>\n",
       "      <td>...</td>\n",
       "      <td>0.033333</td>\n",
       "      <td>0.0</td>\n",
       "      <td>0.0</td>\n",
       "      <td>2087</td>\n",
       "      <td>0</td>\n",
       "      <td>0</td>\n",
       "      <td>1.260266</td>\n",
       "      <td>0.0</td>\n",
       "      <td>0.0</td>\n",
       "      <td>0.0</td>\n",
       "    </tr>\n",
       "    <tr>\n",
       "      <th>2</th>\n",
       "      <td>2</td>\n",
       "      <td>1</td>\n",
       "      <td>5</td>\n",
       "      <td>0.166667</td>\n",
       "      <td>888</td>\n",
       "      <td>0.536232</td>\n",
       "      <td>0</td>\n",
       "      <td>0</td>\n",
       "      <td>0</td>\n",
       "      <td>1</td>\n",
       "      <td>...</td>\n",
       "      <td>0.033333</td>\n",
       "      <td>0.0</td>\n",
       "      <td>0.0</td>\n",
       "      <td>888</td>\n",
       "      <td>0</td>\n",
       "      <td>0</td>\n",
       "      <td>0.536232</td>\n",
       "      <td>0.0</td>\n",
       "      <td>0.0</td>\n",
       "      <td>0.0</td>\n",
       "    </tr>\n",
       "    <tr>\n",
       "      <th>3</th>\n",
       "      <td>1</td>\n",
       "      <td>0</td>\n",
       "      <td>5</td>\n",
       "      <td>0.166667</td>\n",
       "      <td>1808</td>\n",
       "      <td>1.091787</td>\n",
       "      <td>0</td>\n",
       "      <td>0</td>\n",
       "      <td>0</td>\n",
       "      <td>1</td>\n",
       "      <td>...</td>\n",
       "      <td>0.033333</td>\n",
       "      <td>0.0</td>\n",
       "      <td>0.0</td>\n",
       "      <td>1636</td>\n",
       "      <td>0</td>\n",
       "      <td>0</td>\n",
       "      <td>0.987923</td>\n",
       "      <td>0.0</td>\n",
       "      <td>0.0</td>\n",
       "      <td>0.0</td>\n",
       "    </tr>\n",
       "    <tr>\n",
       "      <th>4</th>\n",
       "      <td>1</td>\n",
       "      <td>0</td>\n",
       "      <td>5</td>\n",
       "      <td>0.166667</td>\n",
       "      <td>1338</td>\n",
       "      <td>0.807971</td>\n",
       "      <td>0</td>\n",
       "      <td>0</td>\n",
       "      <td>0</td>\n",
       "      <td>1</td>\n",
       "      <td>...</td>\n",
       "      <td>0.033333</td>\n",
       "      <td>0.0</td>\n",
       "      <td>0.0</td>\n",
       "      <td>1250</td>\n",
       "      <td>0</td>\n",
       "      <td>0</td>\n",
       "      <td>0.754831</td>\n",
       "      <td>0.0</td>\n",
       "      <td>0.0</td>\n",
       "      <td>0.0</td>\n",
       "    </tr>\n",
       "    <tr>\n",
       "      <th>5</th>\n",
       "      <td>0</td>\n",
       "      <td>0</td>\n",
       "      <td>5</td>\n",
       "      <td>0.166667</td>\n",
       "      <td>689</td>\n",
       "      <td>0.416063</td>\n",
       "      <td>0</td>\n",
       "      <td>0</td>\n",
       "      <td>0</td>\n",
       "      <td>1</td>\n",
       "      <td>...</td>\n",
       "      <td>0.033333</td>\n",
       "      <td>0.0</td>\n",
       "      <td>0.0</td>\n",
       "      <td>607</td>\n",
       "      <td>0</td>\n",
       "      <td>0</td>\n",
       "      <td>0.366546</td>\n",
       "      <td>0.0</td>\n",
       "      <td>0.0</td>\n",
       "      <td>0.0</td>\n",
       "    </tr>\n",
       "  </tbody>\n",
       "</table>\n",
       "<p>5 rows × 22 columns</p>\n",
       "</div>"
      ],
      "text/plain": [
       "                      ventas_totales  y_ventas_siguiente_mes  \\\n",
       "pdv_id mes_id sku_id                                           \n",
       "1      1      1                    1                       0   \n",
       "              2                    2                       1   \n",
       "              3                    1                       0   \n",
       "              4                    1                       0   \n",
       "              5                    0                       0   \n",
       "\n",
       "                      ventas_totales_en_tienda_de_cada_mes  \\\n",
       "pdv_id mes_id sku_id                                         \n",
       "1      1      1                                          5   \n",
       "              2                                          5   \n",
       "              3                                          5   \n",
       "              4                                          5   \n",
       "              5                                          5   \n",
       "\n",
       "                      ventas_promedio_en_tienda_de_cada_mes  \\\n",
       "pdv_id mes_id sku_id                                          \n",
       "1      1      1                                    0.166667   \n",
       "              2                                    0.166667   \n",
       "              3                                    0.166667   \n",
       "              4                                    0.166667   \n",
       "              5                                    0.166667   \n",
       "\n",
       "                      ventas_totales_en_tienda_de_cada_sku  \\\n",
       "pdv_id mes_id sku_id                                         \n",
       "1      1      1                                       2106   \n",
       "              2                                        888   \n",
       "              3                                       1808   \n",
       "              4                                       1338   \n",
       "              5                                        689   \n",
       "\n",
       "                      ventas_promedio_en_tienda_de_cada_sku  \\\n",
       "pdv_id mes_id sku_id                                          \n",
       "1      1      1                                    1.271739   \n",
       "              2                                    0.536232   \n",
       "              3                                    1.091787   \n",
       "              4                                    0.807971   \n",
       "              5                                    0.416063   \n",
       "\n",
       "                      ventas_totales_1_mes_pasado  \\\n",
       "pdv_id mes_id sku_id                                \n",
       "1      1      1                                 1   \n",
       "              2                                 0   \n",
       "              3                                 0   \n",
       "              4                                 0   \n",
       "              5                                 0   \n",
       "\n",
       "                      ventas_totales_2_meses_pasados  \\\n",
       "pdv_id mes_id sku_id                                   \n",
       "1      1      1                                    0   \n",
       "              2                                    0   \n",
       "              3                                    0   \n",
       "              4                                    0   \n",
       "              5                                    0   \n",
       "\n",
       "                      ventas_totales_3_meses_pasados  \\\n",
       "pdv_id mes_id sku_id                                   \n",
       "1      1      1                                    0   \n",
       "              2                                    0   \n",
       "              3                                    0   \n",
       "              4                                    0   \n",
       "              5                                    0   \n",
       "\n",
       "                      ventas_totales_tienda_y_mes_del_mes_pasado  ...  \\\n",
       "pdv_id mes_id sku_id                                              ...   \n",
       "1      1      1                                                1  ...   \n",
       "              2                                                1  ...   \n",
       "              3                                                1  ...   \n",
       "              4                                                1  ...   \n",
       "              5                                                1  ...   \n",
       "\n",
       "                      ventas_promedio_tienda_y_mes_del_mes_pasado  \\\n",
       "pdv_id mes_id sku_id                                                \n",
       "1      1      1                                          0.033333   \n",
       "              2                                          0.033333   \n",
       "              3                                          0.033333   \n",
       "              4                                          0.033333   \n",
       "              5                                          0.033333   \n",
       "\n",
       "                      ventas_promedio_tienda_y_mes_2_pasado  \\\n",
       "pdv_id mes_id sku_id                                          \n",
       "1      1      1                                         0.0   \n",
       "              2                                         0.0   \n",
       "              3                                         0.0   \n",
       "              4                                         0.0   \n",
       "              5                                         0.0   \n",
       "\n",
       "                      ventas_promedio_tienda_y_mes_3_pasado  \\\n",
       "pdv_id mes_id sku_id                                          \n",
       "1      1      1                                         0.0   \n",
       "              2                                         0.0   \n",
       "              3                                         0.0   \n",
       "              4                                         0.0   \n",
       "              5                                         0.0   \n",
       "\n",
       "                      ventas_totales_tienda_y_sku_del_mes_pasado  \\\n",
       "pdv_id mes_id sku_id                                               \n",
       "1      1      1                                             2087   \n",
       "              2                                              888   \n",
       "              3                                             1636   \n",
       "              4                                             1250   \n",
       "              5                                              607   \n",
       "\n",
       "                      ventas_totales_tienda_y_sku_2_pasado  \\\n",
       "pdv_id mes_id sku_id                                         \n",
       "1      1      1                                          0   \n",
       "              2                                          0   \n",
       "              3                                          0   \n",
       "              4                                          0   \n",
       "              5                                          0   \n",
       "\n",
       "                      ventas_totales_tienda_y_sku_3_pasado  \\\n",
       "pdv_id mes_id sku_id                                         \n",
       "1      1      1                                          0   \n",
       "              2                                          0   \n",
       "              3                                          0   \n",
       "              4                                          0   \n",
       "              5                                          0   \n",
       "\n",
       "                      ventas_promedio_tienda_y_sku_del_mes_pasado  \\\n",
       "pdv_id mes_id sku_id                                                \n",
       "1      1      1                                          1.260266   \n",
       "              2                                          0.536232   \n",
       "              3                                          0.987923   \n",
       "              4                                          0.754831   \n",
       "              5                                          0.366546   \n",
       "\n",
       "                      ventas_promedio_tienda_y_sku_2_pasado  \\\n",
       "pdv_id mes_id sku_id                                          \n",
       "1      1      1                                         0.0   \n",
       "              2                                         0.0   \n",
       "              3                                         0.0   \n",
       "              4                                         0.0   \n",
       "              5                                         0.0   \n",
       "\n",
       "                      ventas_promedio_tienda_y_sku_3_pasado  \\\n",
       "pdv_id mes_id sku_id                                          \n",
       "1      1      1                                         0.0   \n",
       "              2                                         0.0   \n",
       "              3                                         0.0   \n",
       "              4                                         0.0   \n",
       "              5                                         0.0   \n",
       "\n",
       "                      ventas_por_mes_pred  \n",
       "pdv_id mes_id sku_id                       \n",
       "1      1      1                       0.0  \n",
       "              2                       0.0  \n",
       "              3                       0.0  \n",
       "              4                       0.0  \n",
       "              5                       0.0  \n",
       "\n",
       "[5 rows x 22 columns]"
      ]
     },
     "execution_count": 114,
     "metadata": {},
     "output_type": "execute_result"
    }
   ],
   "source": [
    "prueba_1.head(5)"
   ]
  },
  {
   "cell_type": "code",
   "execution_count": 115,
   "id": "c268874c",
   "metadata": {},
   "outputs": [
    {
     "name": "stdout",
     "output_type": "stream",
     "text": [
      "Mean Absolute Error: 0.199698\n",
      "Mean Squared Error: 0.539352\n",
      "R-squared scores: 0.4652\n"
     ]
    }
   ],
   "source": [
    "# 4. CALCULAR ERRORES CON FUNCIONES DE PAQUETERÍA\n",
    "\n",
    "# Mean absolute error (MAE)\n",
    "prueba1_mae = mean_absolute_error(prueba_1.y_ventas_siguiente_mes, prueba_1.ventas_por_mes_pred)\n",
    "\n",
    "# Mean squared error (MSE)\n",
    "prueba1_mse = mean_squared_error(prueba_1.y_ventas_siguiente_mes, prueba_1.ventas_por_mes_pred)\n",
    "\n",
    "# R-squared scores\n",
    "prueba1_r2 = r2_score(prueba_1.y_ventas_siguiente_mes, prueba_1.ventas_por_mes_pred)\n",
    "\n",
    "\n",
    "# Print metrics\n",
    "print('Mean Absolute Error:', round(prueba1_mae, 6))\n",
    "print('Mean Squared Error:', round(prueba1_mse, 6))\n",
    "print('R-squared scores:', round(prueba1_r2, 6))"
   ]
  },
  {
   "cell_type": "markdown",
   "id": "9bc6af16",
   "metadata": {},
   "source": [
    "----------------------Segunda Partición-------------------------"
   ]
  },
  {
   "cell_type": "code",
   "execution_count": 116,
   "id": "f52145a3",
   "metadata": {},
   "outputs": [
    {
     "data": {
      "text/plain": [
       "array([0.1526119 , 0.47293535, 0.1526119 , ..., 0.05125725, 0.        ,\n",
       "       0.        ])"
      ]
     },
     "execution_count": 116,
     "metadata": {},
     "output_type": "execute_result"
    }
   ],
   "source": [
    "pred2_prueba = modelo_2.predict(prueba_x2) \n",
    "pred2_prueba"
   ]
  },
  {
   "cell_type": "code",
   "execution_count": 117,
   "id": "754d7201",
   "metadata": {},
   "outputs": [
    {
     "data": {
      "text/plain": [
       "array([0., 0., 0., ..., 0., 0., 0.])"
      ]
     },
     "execution_count": 117,
     "metadata": {},
     "output_type": "execute_result"
    }
   ],
   "source": [
    "pred2_prueba = np.clip(pred2_prueba,0,20).round() #rango de valores \n",
    "pred2_prueba"
   ]
  },
  {
   "cell_type": "code",
   "execution_count": 118,
   "id": "096b1bed",
   "metadata": {},
   "outputs": [
    {
     "data": {
      "text/plain": [
       "9310.0"
      ]
     },
     "execution_count": 118,
     "metadata": {},
     "output_type": "execute_result"
    }
   ],
   "source": [
    "pred2_prueba.sum()"
   ]
  },
  {
   "cell_type": "code",
   "execution_count": 119,
   "id": "8a07abdc",
   "metadata": {},
   "outputs": [],
   "source": [
    "prueba_2['ventas_por_mes_pred'] = pred2_prueba"
   ]
  },
  {
   "cell_type": "code",
   "execution_count": 120,
   "id": "a91ff00e",
   "metadata": {},
   "outputs": [
    {
     "name": "stdout",
     "output_type": "stream",
     "text": [
      "Mean Absolute Error: 0.198168\n",
      "Mean Squared Error: 0.422766\n",
      "R-squared scores: 0.199825\n"
     ]
    }
   ],
   "source": [
    "# Mean absolute error (MAE)\n",
    "prueba2_mae = mean_absolute_error(prueba_2.y_ventas_siguiente_mes, prueba_2.ventas_por_mes_pred)\n",
    "\n",
    "# Mean squared error (MSE)\n",
    "prueba2_mse = mean_squared_error(prueba_2.y_ventas_siguiente_mes, prueba_2.ventas_por_mes_pred)\n",
    "\n",
    "# R-squared scores\n",
    "prueba2_r2 = r2_score(prueba_2.y_ventas_siguiente_mes, prueba_2.ventas_por_mes_pred)\n",
    "\n",
    "\n",
    "# Print metrics\n",
    "print('Mean Absolute Error:', round(prueba2_mae, 6))\n",
    "print('Mean Squared Error:', round(prueba2_mse, 6))\n",
    "print('R-squared scores:', round(prueba2_r2, 6))"
   ]
  },
  {
   "cell_type": "markdown",
   "id": "1281d111",
   "metadata": {},
   "source": [
    "----------------------Tercera Partición-------------------------"
   ]
  },
  {
   "cell_type": "code",
   "execution_count": 121,
   "id": "3d1a9848",
   "metadata": {},
   "outputs": [
    {
     "data": {
      "text/plain": [
       "array([0.13944885, 0.13944885, 0.4218307 , ..., 0.01003712, 0.01003712,\n",
       "       0.01003712])"
      ]
     },
     "execution_count": 121,
     "metadata": {},
     "output_type": "execute_result"
    }
   ],
   "source": [
    "pred3_prueba = modelo_3.predict(prueba_x3) \n",
    "pred3_prueba"
   ]
  },
  {
   "cell_type": "code",
   "execution_count": 122,
   "id": "fc007b57",
   "metadata": {},
   "outputs": [
    {
     "data": {
      "text/plain": [
       "array([0., 0., 0., ..., 0., 0., 0.])"
      ]
     },
     "execution_count": 122,
     "metadata": {},
     "output_type": "execute_result"
    }
   ],
   "source": [
    "pred3_prueba = np.clip(pred3_prueba,0,20).round() #rango de valores \n",
    "pred3_prueba"
   ]
  },
  {
   "cell_type": "code",
   "execution_count": 123,
   "id": "f059e6ae",
   "metadata": {},
   "outputs": [
    {
     "data": {
      "text/plain": [
       "6795.0"
      ]
     },
     "execution_count": 123,
     "metadata": {},
     "output_type": "execute_result"
    }
   ],
   "source": [
    "pred3_prueba.sum()"
   ]
  },
  {
   "cell_type": "code",
   "execution_count": 124,
   "id": "cf6d29f2",
   "metadata": {},
   "outputs": [],
   "source": [
    "prueba_3['ventas_por_mes_pred'] = pred3_prueba"
   ]
  },
  {
   "cell_type": "code",
   "execution_count": 125,
   "id": "9a4a2124",
   "metadata": {},
   "outputs": [
    {
     "name": "stdout",
     "output_type": "stream",
     "text": [
      "Mean Absolute Error: 0.201107\n",
      "Mean Squared Error: 0.410568\n",
      "R-squared scores: 0.199112\n"
     ]
    }
   ],
   "source": [
    "# Mean absolute error (MAE)\n",
    "prueba3_mae = mean_absolute_error(prueba_3.y_ventas_siguiente_mes, prueba_3.ventas_por_mes_pred)\n",
    "\n",
    "# Mean squared error (MSE)\n",
    "prueba3_mse = mean_squared_error(prueba_3.y_ventas_siguiente_mes, prueba_3.ventas_por_mes_pred)\n",
    "\n",
    "# R-squared scores\n",
    "prueba3_r2 = r2_score(prueba_3.y_ventas_siguiente_mes, prueba_3.ventas_por_mes_pred)\n",
    "\n",
    "\n",
    "# Print metrics\n",
    "print('Mean Absolute Error:', round(prueba3_mae, 6))\n",
    "print('Mean Squared Error:', round(prueba3_mse, 6))\n",
    "print('R-squared scores:', round(prueba3_r2, 6))"
   ]
  },
  {
   "cell_type": "markdown",
   "id": "fcfe0e91",
   "metadata": {},
   "source": [
    "----------------------Cuarta Partición-------------------------"
   ]
  },
  {
   "cell_type": "code",
   "execution_count": 126,
   "id": "4ae4a274",
   "metadata": {},
   "outputs": [
    {
     "data": {
      "text/plain": [
       "array([0.17311631, 0.17311631, 0.17311631, ..., 0.01726811, 0.01726811,\n",
       "       0.17311631])"
      ]
     },
     "execution_count": 126,
     "metadata": {},
     "output_type": "execute_result"
    }
   ],
   "source": [
    "pred4_prueba = modelo_4.predict(prueba_x4) \n",
    "pred4_prueba"
   ]
  },
  {
   "cell_type": "code",
   "execution_count": 127,
   "id": "e75be8d4",
   "metadata": {},
   "outputs": [
    {
     "data": {
      "text/plain": [
       "array([0., 0., 0., ..., 0., 0., 0.])"
      ]
     },
     "execution_count": 127,
     "metadata": {},
     "output_type": "execute_result"
    }
   ],
   "source": [
    "pred4_prueba = np.clip(pred4_prueba,0,20).round() #rango de valores \n",
    "pred4_prueba"
   ]
  },
  {
   "cell_type": "code",
   "execution_count": 128,
   "id": "5da00a20",
   "metadata": {},
   "outputs": [
    {
     "data": {
      "text/plain": [
       "9656.0"
      ]
     },
     "execution_count": 128,
     "metadata": {},
     "output_type": "execute_result"
    }
   ],
   "source": [
    "pred4_prueba.sum()"
   ]
  },
  {
   "cell_type": "code",
   "execution_count": 129,
   "id": "3991da68",
   "metadata": {},
   "outputs": [],
   "source": [
    "prueba_4['ventas_por_mes_pred'] = pred4_prueba"
   ]
  },
  {
   "cell_type": "code",
   "execution_count": 130,
   "id": "2064db7b",
   "metadata": {},
   "outputs": [
    {
     "name": "stdout",
     "output_type": "stream",
     "text": [
      "Mean Absolute Error: 0.248128\n",
      "Mean Squared Error: 0.463506\n",
      "R-squared scores: 0.202962\n"
     ]
    }
   ],
   "source": [
    "# Mean absolute error (MAE)\n",
    "prueba4_mae = mean_absolute_error(prueba_4.y_ventas_siguiente_mes, prueba_4.ventas_por_mes_pred)\n",
    "\n",
    "# Mean squared error (MSE)\n",
    "prueba4_mse = mean_squared_error(prueba_4.y_ventas_siguiente_mes, prueba_4.ventas_por_mes_pred)\n",
    "\n",
    "# R-squared scores\n",
    "prueba4_r2 = r2_score(prueba_4.y_ventas_siguiente_mes, prueba_4.ventas_por_mes_pred)\n",
    "\n",
    "\n",
    "# Print metrics\n",
    "print('Mean Absolute Error:', round(prueba4_mae, 6))\n",
    "print('Mean Squared Error:', round(prueba4_mse, 6))\n",
    "print('R-squared scores:', round(prueba4_r2, 6))"
   ]
  },
  {
   "cell_type": "markdown",
   "id": "b50a5169",
   "metadata": {},
   "source": [
    "----------------------Quinta Partición-------------------------"
   ]
  },
  {
   "cell_type": "code",
   "execution_count": 131,
   "id": "7ecad41e",
   "metadata": {},
   "outputs": [
    {
     "data": {
      "text/plain": [
       "array([0.16139551, 0.2705347 , 0.16139551, ..., 0.02228079, 0.02228079,\n",
       "       0.16139551])"
      ]
     },
     "execution_count": 131,
     "metadata": {},
     "output_type": "execute_result"
    }
   ],
   "source": [
    "pred5_prueba = modelo_5.predict(prueba_x5) \n",
    "pred5_prueba"
   ]
  },
  {
   "cell_type": "code",
   "execution_count": 132,
   "id": "d7c20897",
   "metadata": {},
   "outputs": [
    {
     "data": {
      "text/plain": [
       "array([0., 0., 0., ..., 0., 0., 0.])"
      ]
     },
     "execution_count": 132,
     "metadata": {},
     "output_type": "execute_result"
    }
   ],
   "source": [
    "pred5_prueba = np.clip(pred5_prueba,0,20).round() #rango de valores \n",
    "pred5_prueba"
   ]
  },
  {
   "cell_type": "code",
   "execution_count": 133,
   "id": "79d7a142",
   "metadata": {},
   "outputs": [
    {
     "data": {
      "text/plain": [
       "8760.0"
      ]
     },
     "execution_count": 133,
     "metadata": {},
     "output_type": "execute_result"
    }
   ],
   "source": [
    "pred5_prueba.sum()"
   ]
  },
  {
   "cell_type": "code",
   "execution_count": 134,
   "id": "fa530ef5",
   "metadata": {},
   "outputs": [],
   "source": [
    "prueba_5['ventas_por_mes_pred'] = pred5_prueba"
   ]
  },
  {
   "cell_type": "code",
   "execution_count": 135,
   "id": "e563e867",
   "metadata": {},
   "outputs": [
    {
     "name": "stdout",
     "output_type": "stream",
     "text": [
      "Mean Absolute Error: 0.249457\n",
      "Mean Squared Error: 0.447202\n",
      "R-squared scores: 0.26707\n"
     ]
    }
   ],
   "source": [
    "# Mean absolute error (MAE)\n",
    "prueba5_mae = mean_absolute_error(prueba_5.y_ventas_siguiente_mes, prueba_5.ventas_por_mes_pred)\n",
    "\n",
    "# Mean squared error (MSE)\n",
    "prueba5_mse = mean_squared_error(prueba_5.y_ventas_siguiente_mes, prueba_5.ventas_por_mes_pred)\n",
    "\n",
    "# R-squared scores\n",
    "prueba5_r2 = r2_score(prueba_5.y_ventas_siguiente_mes, prueba_5.ventas_por_mes_pred)\n",
    "\n",
    "\n",
    "# Print metrics\n",
    "print('Mean Absolute Error:', round(prueba5_mae, 6))\n",
    "print('Mean Squared Error:', round(prueba5_mse, 6))\n",
    "print('R-squared scores:', round(prueba5_r2, 6))"
   ]
  },
  {
   "cell_type": "markdown",
   "id": "cb5c4dc2",
   "metadata": {},
   "source": [
    "----------------------Sexta Partición-------------------------"
   ]
  },
  {
   "cell_type": "code",
   "execution_count": 136,
   "id": "a1927eb8",
   "metadata": {},
   "outputs": [
    {
     "data": {
      "text/plain": [
       "array([0.15746236, 0.02568647, 0.15746236, ..., 0.02568647, 0.02568647,\n",
       "       0.02568647])"
      ]
     },
     "execution_count": 136,
     "metadata": {},
     "output_type": "execute_result"
    }
   ],
   "source": [
    "pred6_prueba = modelo_6.predict(prueba_x6) \n",
    "pred6_prueba"
   ]
  },
  {
   "cell_type": "code",
   "execution_count": 137,
   "id": "eb2526fe",
   "metadata": {},
   "outputs": [
    {
     "data": {
      "text/plain": [
       "array([0., 0., 0., ..., 0., 0., 0.])"
      ]
     },
     "execution_count": 137,
     "metadata": {},
     "output_type": "execute_result"
    }
   ],
   "source": [
    "pred6_prueba = np.clip(pred6_prueba,0,20).round() #rango de valores \n",
    "pred6_prueba"
   ]
  },
  {
   "cell_type": "code",
   "execution_count": 138,
   "id": "1c0f76f6",
   "metadata": {},
   "outputs": [
    {
     "data": {
      "text/plain": [
       "9684.0"
      ]
     },
     "execution_count": 138,
     "metadata": {},
     "output_type": "execute_result"
    }
   ],
   "source": [
    "pred6_prueba.sum()"
   ]
  },
  {
   "cell_type": "code",
   "execution_count": 139,
   "id": "33cccc95",
   "metadata": {},
   "outputs": [],
   "source": [
    "prueba_6['ventas_por_mes_pred'] = pred6_prueba"
   ]
  },
  {
   "cell_type": "code",
   "execution_count": 140,
   "id": "51d33a8a",
   "metadata": {},
   "outputs": [
    {
     "name": "stdout",
     "output_type": "stream",
     "text": [
      "Mean Absolute Error: 0.216848\n",
      "Mean Squared Error: 0.351751\n",
      "R-squared scores: 0.116742\n"
     ]
    }
   ],
   "source": [
    "# Mean absolute error (MAE)\n",
    "prueba6_mae = mean_absolute_error(prueba_6.y_ventas_siguiente_mes, prueba_6.ventas_por_mes_pred)\n",
    "\n",
    "# Mean squared error (MSE)\n",
    "prueba6_mse = mean_squared_error(prueba_6.y_ventas_siguiente_mes, prueba_6.ventas_por_mes_pred)\n",
    "\n",
    "# R-squared scores\n",
    "prueba6_r2 = r2_score(prueba_6.y_ventas_siguiente_mes, prueba_6.ventas_por_mes_pred)\n",
    "\n",
    "\n",
    "# Print metrics\n",
    "print('Mean Absolute Error:', round(prueba6_mae, 6))\n",
    "print('Mean Squared Error:', round(prueba6_mse, 6))\n",
    "print('R-squared scores:', round(prueba6_r2, 6))"
   ]
  },
  {
   "cell_type": "markdown",
   "id": "a6776386",
   "metadata": {},
   "source": [
    "----------------------Séptima Partición-------------------------"
   ]
  },
  {
   "cell_type": "code",
   "execution_count": 141,
   "id": "f9f31a9b",
   "metadata": {},
   "outputs": [
    {
     "data": {
      "text/plain": [
       "array([0.11794759, 0.01983784, 0.01983784, ..., 0.01983784, 0.01983784,\n",
       "       0.01983784])"
      ]
     },
     "execution_count": 141,
     "metadata": {},
     "output_type": "execute_result"
    }
   ],
   "source": [
    "pred7_prueba = modelo_7.predict(prueba_x7) \n",
    "pred7_prueba"
   ]
  },
  {
   "cell_type": "code",
   "execution_count": 142,
   "id": "6c020246",
   "metadata": {},
   "outputs": [
    {
     "data": {
      "text/plain": [
       "array([0., 0., 0., ..., 0., 0., 0.])"
      ]
     },
     "execution_count": 142,
     "metadata": {},
     "output_type": "execute_result"
    }
   ],
   "source": [
    "pred7_prueba = np.clip(pred7_prueba,0,20).round() #rango de valores \n",
    "pred7_prueba"
   ]
  },
  {
   "cell_type": "code",
   "execution_count": 143,
   "id": "88255fdd",
   "metadata": {},
   "outputs": [
    {
     "data": {
      "text/plain": [
       "7849.0"
      ]
     },
     "execution_count": 143,
     "metadata": {},
     "output_type": "execute_result"
    }
   ],
   "source": [
    "pred7_prueba.sum()"
   ]
  },
  {
   "cell_type": "code",
   "execution_count": 144,
   "id": "81577d8c",
   "metadata": {},
   "outputs": [],
   "source": [
    "prueba_7['ventas_por_mes_pred'] = pred7_prueba"
   ]
  },
  {
   "cell_type": "code",
   "execution_count": 145,
   "id": "6c33af0f",
   "metadata": {},
   "outputs": [
    {
     "name": "stdout",
     "output_type": "stream",
     "text": [
      "Mean Absolute Error: 0.176228\n",
      "Mean Squared Error: 0.23903\n",
      "R-squared scores: 0.016368\n"
     ]
    }
   ],
   "source": [
    "# Mean absolute error (MAE)\n",
    "prueba7_mae = mean_absolute_error(prueba_7.y_ventas_siguiente_mes, prueba_7.ventas_por_mes_pred)\n",
    "\n",
    "# Mean squared error (MSE)\n",
    "prueba7_mse = mean_squared_error(prueba_7.y_ventas_siguiente_mes, prueba_7.ventas_por_mes_pred)\n",
    "\n",
    "# R-squared scores\n",
    "prueba7_r2 = r2_score(prueba_7.y_ventas_siguiente_mes, prueba_7.ventas_por_mes_pred)\n",
    "\n",
    "\n",
    "# Print metrics\n",
    "print('Mean Absolute Error:', round(prueba7_mae, 6))\n",
    "print('Mean Squared Error:', round(prueba7_mse, 6))\n",
    "print('R-squared scores:', round(prueba7_r2, 6))"
   ]
  },
  {
   "cell_type": "markdown",
   "id": "ec6d0930",
   "metadata": {},
   "source": [
    "----------------------Octava Partición-------------------------"
   ]
  },
  {
   "cell_type": "code",
   "execution_count": 146,
   "id": "6d12b720",
   "metadata": {},
   "outputs": [
    {
     "data": {
      "text/plain": [
       "array([0.02096559, 0.02096559, 0.02096559, ..., 0.02096559, 0.02096559,\n",
       "       0.02096559])"
      ]
     },
     "execution_count": 146,
     "metadata": {},
     "output_type": "execute_result"
    }
   ],
   "source": [
    "pred8_prueba = modelo_8.predict(prueba_x8) \n",
    "pred8_prueba"
   ]
  },
  {
   "cell_type": "code",
   "execution_count": 147,
   "id": "4a820ffb",
   "metadata": {},
   "outputs": [
    {
     "data": {
      "text/plain": [
       "array([0., 0., 0., ..., 0., 0., 0.])"
      ]
     },
     "execution_count": 147,
     "metadata": {},
     "output_type": "execute_result"
    }
   ],
   "source": [
    "pred8_prueba = np.clip(pred8_prueba,0,20).round() #rango de valores \n",
    "pred8_prueba"
   ]
  },
  {
   "cell_type": "code",
   "execution_count": 148,
   "id": "627a8584",
   "metadata": {},
   "outputs": [
    {
     "data": {
      "text/plain": [
       "5427.0"
      ]
     },
     "execution_count": 148,
     "metadata": {},
     "output_type": "execute_result"
    }
   ],
   "source": [
    "pred8_prueba.sum()"
   ]
  },
  {
   "cell_type": "code",
   "execution_count": 149,
   "id": "d68df3fd",
   "metadata": {},
   "outputs": [],
   "source": [
    "prueba_8['ventas_por_mes_pred'] = pred8_prueba"
   ]
  },
  {
   "cell_type": "code",
   "execution_count": 150,
   "id": "555ec1be",
   "metadata": {},
   "outputs": [
    {
     "name": "stdout",
     "output_type": "stream",
     "text": [
      "Mean Absolute Error: 0.126107\n",
      "Mean Squared Error: 0.156139\n",
      "R-squared scores: -0.609415\n"
     ]
    }
   ],
   "source": [
    "# Mean absolute error (MAE)\n",
    "prueba8_mae = mean_absolute_error(prueba_8.y_ventas_siguiente_mes, prueba_8.ventas_por_mes_pred)\n",
    "\n",
    "# Mean squared error (MSE)\n",
    "prueba8_mse = mean_squared_error(prueba_8.y_ventas_siguiente_mes, prueba_8.ventas_por_mes_pred)\n",
    "\n",
    "# R-squared scores\n",
    "prueba8_r2 = r2_score(prueba_8.y_ventas_siguiente_mes, prueba_8.ventas_por_mes_pred)\n",
    "\n",
    "\n",
    "# Print metrics\n",
    "print('Mean Absolute Error:', round(prueba8_mae, 6))\n",
    "print('Mean Squared Error:', round(prueba8_mse, 6))\n",
    "print('R-squared scores:', round(prueba8_r2, 6))"
   ]
  },
  {
   "cell_type": "markdown",
   "id": "3047fcda",
   "metadata": {},
   "source": [
    "# Resultados"
   ]
  },
  {
   "cell_type": "code",
   "execution_count": 151,
   "id": "e2cbbd2d",
   "metadata": {},
   "outputs": [],
   "source": [
    "# Leer los datos \n",
    "errores = pd.read_csv('Resultados_finales_metricas.csv')"
   ]
  },
  {
   "cell_type": "code",
   "execution_count": 152,
   "id": "7779b1ed",
   "metadata": {},
   "outputs": [
    {
     "data": {
      "text/html": [
       "<div>\n",
       "<style scoped>\n",
       "    .dataframe tbody tr th:only-of-type {\n",
       "        vertical-align: middle;\n",
       "    }\n",
       "\n",
       "    .dataframe tbody tr th {\n",
       "        vertical-align: top;\n",
       "    }\n",
       "\n",
       "    .dataframe thead th {\n",
       "        text-align: right;\n",
       "    }\n",
       "</style>\n",
       "<table border=\"1\" class=\"dataframe\">\n",
       "  <thead>\n",
       "    <tr style=\"text-align: right;\">\n",
       "      <th></th>\n",
       "      <th>Metrica</th>\n",
       "      <th>Conjunto</th>\n",
       "      <th>Mes</th>\n",
       "      <th>Modelo_Base</th>\n",
       "      <th>dt_1_profundidad</th>\n",
       "      <th>dt_4_profundidad</th>\n",
       "    </tr>\n",
       "  </thead>\n",
       "  <tbody>\n",
       "    <tr>\n",
       "      <th>0</th>\n",
       "      <td>MAE</td>\n",
       "      <td>Entrenamiento</td>\n",
       "      <td>Julio</td>\n",
       "      <td>NaN</td>\n",
       "      <td>0.229267</td>\n",
       "      <td>0.200705</td>\n",
       "    </tr>\n",
       "    <tr>\n",
       "      <th>1</th>\n",
       "      <td>MAE</td>\n",
       "      <td>Entrenamiento</td>\n",
       "      <td>Agosto</td>\n",
       "      <td>NaN</td>\n",
       "      <td>0.220179</td>\n",
       "      <td>0.202506</td>\n",
       "    </tr>\n",
       "    <tr>\n",
       "      <th>2</th>\n",
       "      <td>MAE</td>\n",
       "      <td>Entrenamiento</td>\n",
       "      <td>Septiembre</td>\n",
       "      <td>NaN</td>\n",
       "      <td>0.207931</td>\n",
       "      <td>0.196384</td>\n",
       "    </tr>\n",
       "    <tr>\n",
       "      <th>3</th>\n",
       "      <td>MAE</td>\n",
       "      <td>Entrenamiento</td>\n",
       "      <td>Octubre</td>\n",
       "      <td>NaN</td>\n",
       "      <td>0.207614</td>\n",
       "      <td>0.195401</td>\n",
       "    </tr>\n",
       "    <tr>\n",
       "      <th>4</th>\n",
       "      <td>MAE</td>\n",
       "      <td>Entrenamiento</td>\n",
       "      <td>Noviembre</td>\n",
       "      <td>NaN</td>\n",
       "      <td>0.214251</td>\n",
       "      <td>0.203297</td>\n",
       "    </tr>\n",
       "    <tr>\n",
       "      <th>5</th>\n",
       "      <td>MAE</td>\n",
       "      <td>Entrenamiento</td>\n",
       "      <td>Diciembre</td>\n",
       "      <td>NaN</td>\n",
       "      <td>0.221045</td>\n",
       "      <td>0.208273</td>\n",
       "    </tr>\n",
       "    <tr>\n",
       "      <th>6</th>\n",
       "      <td>MAE</td>\n",
       "      <td>Entrenamiento</td>\n",
       "      <td>Enero</td>\n",
       "      <td>NaN</td>\n",
       "      <td>0.218933</td>\n",
       "      <td>0.217616</td>\n",
       "    </tr>\n",
       "    <tr>\n",
       "      <th>7</th>\n",
       "      <td>MAE</td>\n",
       "      <td>Entrenamiento</td>\n",
       "      <td>Febrero</td>\n",
       "      <td>NaN</td>\n",
       "      <td>0.211171</td>\n",
       "      <td>0.213250</td>\n",
       "    </tr>\n",
       "    <tr>\n",
       "      <th>8</th>\n",
       "      <td>MAE</td>\n",
       "      <td>Prueba</td>\n",
       "      <td>Agosto</td>\n",
       "      <td>0.222132</td>\n",
       "      <td>0.211091</td>\n",
       "      <td>0.199680</td>\n",
       "    </tr>\n",
       "    <tr>\n",
       "      <th>9</th>\n",
       "      <td>MAE</td>\n",
       "      <td>Prueba</td>\n",
       "      <td>Septiembre</td>\n",
       "      <td>0.237923</td>\n",
       "      <td>0.183434</td>\n",
       "      <td>0.198168</td>\n",
       "    </tr>\n",
       "    <tr>\n",
       "      <th>10</th>\n",
       "      <td>MAE</td>\n",
       "      <td>Prueba</td>\n",
       "      <td>Octubre</td>\n",
       "      <td>0.258192</td>\n",
       "      <td>0.206663</td>\n",
       "      <td>0.201107</td>\n",
       "    </tr>\n",
       "    <tr>\n",
       "      <th>11</th>\n",
       "      <td>MAE</td>\n",
       "      <td>Prueba</td>\n",
       "      <td>Noviembre</td>\n",
       "      <td>0.266375</td>\n",
       "      <td>0.244887</td>\n",
       "      <td>0.248128</td>\n",
       "    </tr>\n",
       "    <tr>\n",
       "      <th>12</th>\n",
       "      <td>MAE</td>\n",
       "      <td>Prueba</td>\n",
       "      <td>Diciembre</td>\n",
       "      <td>0.274789</td>\n",
       "      <td>0.255012</td>\n",
       "      <td>0.249457</td>\n",
       "    </tr>\n",
       "    <tr>\n",
       "      <th>13</th>\n",
       "      <td>MAE</td>\n",
       "      <td>Prueba</td>\n",
       "      <td>Enero</td>\n",
       "      <td>0.258756</td>\n",
       "      <td>0.206260</td>\n",
       "      <td>0.216848</td>\n",
       "    </tr>\n",
       "    <tr>\n",
       "      <th>14</th>\n",
       "      <td>MAE</td>\n",
       "      <td>Prueba</td>\n",
       "      <td>Febrero</td>\n",
       "      <td>0.226208</td>\n",
       "      <td>0.156844</td>\n",
       "      <td>0.176228</td>\n",
       "    </tr>\n",
       "    <tr>\n",
       "      <th>15</th>\n",
       "      <td>MAE</td>\n",
       "      <td>Prueba</td>\n",
       "      <td>Marzo</td>\n",
       "      <td>0.174386</td>\n",
       "      <td>0.094082</td>\n",
       "      <td>0.126107</td>\n",
       "    </tr>\n",
       "  </tbody>\n",
       "</table>\n",
       "</div>"
      ],
      "text/plain": [
       "   Metrica       Conjunto         Mes  Modelo_Base  dt_1_profundidad  \\\n",
       "0      MAE  Entrenamiento       Julio          NaN          0.229267   \n",
       "1      MAE  Entrenamiento      Agosto          NaN          0.220179   \n",
       "2      MAE  Entrenamiento  Septiembre          NaN          0.207931   \n",
       "3      MAE  Entrenamiento    Octubre           NaN          0.207614   \n",
       "4      MAE  Entrenamiento   Noviembre          NaN          0.214251   \n",
       "5      MAE  Entrenamiento  Diciembre           NaN          0.221045   \n",
       "6      MAE  Entrenamiento       Enero          NaN          0.218933   \n",
       "7      MAE  Entrenamiento     Febrero          NaN          0.211171   \n",
       "8      MAE         Prueba      Agosto     0.222132          0.211091   \n",
       "9      MAE         Prueba  Septiembre     0.237923          0.183434   \n",
       "10     MAE         Prueba    Octubre      0.258192          0.206663   \n",
       "11     MAE         Prueba   Noviembre     0.266375          0.244887   \n",
       "12     MAE         Prueba  Diciembre      0.274789          0.255012   \n",
       "13     MAE         Prueba       Enero     0.258756          0.206260   \n",
       "14     MAE         Prueba     Febrero     0.226208          0.156844   \n",
       "15     MAE         Prueba       Marzo     0.174386          0.094082   \n",
       "\n",
       "    dt_4_profundidad  \n",
       "0           0.200705  \n",
       "1           0.202506  \n",
       "2           0.196384  \n",
       "3           0.195401  \n",
       "4           0.203297  \n",
       "5           0.208273  \n",
       "6           0.217616  \n",
       "7           0.213250  \n",
       "8           0.199680  \n",
       "9           0.198168  \n",
       "10          0.201107  \n",
       "11          0.248128  \n",
       "12          0.249457  \n",
       "13          0.216848  \n",
       "14          0.176228  \n",
       "15          0.126107  "
      ]
     },
     "execution_count": 152,
     "metadata": {},
     "output_type": "execute_result"
    }
   ],
   "source": [
    "errores"
   ]
  },
  {
   "cell_type": "code",
   "execution_count": 153,
   "id": "3a0224f5",
   "metadata": {},
   "outputs": [],
   "source": [
    "errores_ent= errores[errores['Conjunto']=='Entrenamiento']\n",
    "errores_prueba= errores[errores['Conjunto']=='Prueba']"
   ]
  },
  {
   "cell_type": "code",
   "execution_count": 154,
   "id": "8642f9dc",
   "metadata": {},
   "outputs": [],
   "source": [
    "#Filtrar los conjuntos anteriores por métrica \n",
    "errores_ent_mae= errores_ent[errores_ent['Metrica']=='MAE']\n",
    "errores_prueba_mae= errores_prueba[errores_prueba['Metrica']=='MAE']"
   ]
  },
  {
   "cell_type": "code",
   "execution_count": 157,
   "id": "5c249cc9",
   "metadata": {},
   "outputs": [
    {
     "data": {
      "image/png": "[encoded data removed]",
      "text/plain": [
       "<Figure size 1080x720 with 1 Axes>"
      ]
     },
     "metadata": {
      "needs_background": "light"
     },
     "output_type": "display_data"
    }
   ],
   "source": [
    "# Gráfica de errores de ENTRENAMIENTO \n",
    "plt.figure(figsize=(15,10))\n",
    "plt.subplot(3, 1, 1)\n",
    "plt.plot(errores_ent_mae.Mes, errores_ent_mae.Modelo_Base,'o-',color=\"red\") #no aplica para entrenamiento\n",
    "plt.plot(errores_ent_mae.Mes, errores_ent_mae.dt_1_profundidad,'o-', color=\"darkgreen\")\n",
    "plt.plot(errores_ent_mae.Mes, errores_ent_mae.dt_4_profundidad,'o-', color=\"orange\")\n",
    "plt.legend(['MAE modelo base - Pedir el promedio de 2 meses','MAE Árbol de Decisión - 1 profundidad','MAE Árbol de Decisión - 4 profundidad'])\n",
    "plt.ylim(0.001, 0.3)\n",
    "plt.ylabel('Mae')\n",
    "plt.title('Error Absoluto Medio de todos los Modelos')\n",
    "\n",
    "plt.show()"
   ]
  },
  {
   "cell_type": "code",
   "execution_count": 159,
   "id": "445d6e12",
   "metadata": {},
   "outputs": [
    {
     "data": {
      "image/png": "[encoded data removed]",
      "text/plain": [
       "<Figure size 1080x720 with 1 Axes>"
      ]
     },
     "metadata": {
      "needs_background": "light"
     },
     "output_type": "display_data"
    }
   ],
   "source": [
    "# Gráfica de errores de PRUEBA \n",
    "plt.figure(figsize=(15,10))\n",
    "plt.subplot(3, 1, 1)\n",
    "plt.plot(errores_prueba_mae.Mes, errores_prueba_mae.Modelo_Base,'o-',color=\"red\") #SI aplica para entrenamiento\n",
    "plt.plot(errores_prueba_mae.Mes, errores_prueba_mae.dt_1_profundidad,'o-', color=\"darkgreen\")\n",
    "plt.plot(errores_prueba_mae.Mes, errores_prueba_mae.dt_4_profundidad,'o-', color=\"orange\")\n",
    "plt.legend(['MAE modelo base - Pedir el promedio de 2 meses','MAE Árbol de Decisión - 1 profundidad','MAE Árbol de Decisión - 4 profundidad'])\n",
    "plt.ylim(0.001, 0.4)\n",
    "plt.ylabel('Mae')\n",
    "plt.title('Error Absoluto Medio de todos los Modelos')\n",
    "\n",
    "plt.show()"
   ]
  },
  {
   "cell_type": "code",
   "execution_count": null,
   "id": "33cfb4f6",
   "metadata": {},
   "outputs": [],
   "source": []
  }
 ],
 "metadata": {
  "kernelspec": {
   "display_name": "Python 3",
   "language": "python",
   "name": "python3"
  },
  "language_info": {
   "codemirror_mode": {
    "name": "ipython",
    "version": 3
   },
   "file_extension": ".py",
   "mimetype": "text/x-python",
   "name": "python",
   "nbconvert_exporter": "python",
   "pygments_lexer": "ipython3",
   "version": "3.8.8"
  }
 },
 "nbformat": 4,
 "nbformat_minor": 5
}
