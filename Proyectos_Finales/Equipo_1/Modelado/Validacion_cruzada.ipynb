{
 "cells": [
  {
   "cell_type": "markdown",
   "metadata": {},
   "source": [
    "# MODELADO"
   ]
  },
  {
   "cell_type": "code",
   "execution_count": 1,
   "metadata": {},
   "outputs": [],
   "source": [
    "## Parte 1: Lectura de los datos"
   ]
  },
  {
   "cell_type": "code",
   "execution_count": 2,
   "metadata": {},
   "outputs": [],
   "source": [
    "# Paqueterias \n",
    "import pandas as pd\n",
    "import matplotlib.pyplot as plt"
   ]
  },
  {
   "cell_type": "code",
   "execution_count": 3,
   "metadata": {},
   "outputs": [],
   "source": [
    "# Leer los datos \n",
    "datos_modelo = pd.read_csv('datos_completos.csv')"
   ]
  },
  {
   "cell_type": "code",
   "execution_count": 4,
   "metadata": {},
   "outputs": [
    {
     "data": {
      "text/html": [
       "<div>\n",
       "<style scoped>\n",
       "    .dataframe tbody tr th:only-of-type {\n",
       "        vertical-align: middle;\n",
       "    }\n",
       "\n",
       "    .dataframe tbody tr th {\n",
       "        vertical-align: top;\n",
       "    }\n",
       "\n",
       "    .dataframe thead th {\n",
       "        text-align: right;\n",
       "    }\n",
       "</style>\n",
       "<table border=\"1\" class=\"dataframe\">\n",
       "  <thead>\n",
       "    <tr style=\"text-align: right;\">\n",
       "      <th></th>\n",
       "      <th>pdv_id</th>\n",
       "      <th>mes_id</th>\n",
       "      <th>sku_id</th>\n",
       "      <th>ventas_totales</th>\n",
       "      <th>y_ventas_siguiente_mes</th>\n",
       "      <th>ventas_totales_en_tienda_de_cada_mes</th>\n",
       "      <th>ventas_promedio_en_tienda_de_cada_mes</th>\n",
       "      <th>ventas_totales_en_tienda_de_cada_sku</th>\n",
       "      <th>ventas_promedio_en_tienda_de_cada_sku</th>\n",
       "      <th>ventas_totales_1_mes_pasado</th>\n",
       "      <th>...</th>\n",
       "      <th>ventas_totales_tienda_y_mes_3_pasado</th>\n",
       "      <th>ventas_promedio_tienda_y_mes_del_mes_pasado</th>\n",
       "      <th>ventas_promedio_tienda_y_mes_2_pasado</th>\n",
       "      <th>ventas_promedio_tienda_y_mes_3_pasado</th>\n",
       "      <th>ventas_totales_tienda_y_sku_del_mes_pasado</th>\n",
       "      <th>ventas_totales_tienda_y_sku_2_pasado</th>\n",
       "      <th>ventas_totales_tienda_y_sku_3_pasado</th>\n",
       "      <th>ventas_promedio_tienda_y_sku_del_mes_pasado</th>\n",
       "      <th>ventas_promedio_tienda_y_sku_2_pasado</th>\n",
       "      <th>ventas_promedio_tienda_y_sku_3_pasado</th>\n",
       "    </tr>\n",
       "  </thead>\n",
       "  <tbody>\n",
       "    <tr>\n",
       "      <th>0</th>\n",
       "      <td>1</td>\n",
       "      <td>0</td>\n",
       "      <td>1</td>\n",
       "      <td>1</td>\n",
       "      <td>0</td>\n",
       "      <td>2</td>\n",
       "      <td>0.055556</td>\n",
       "      <td>741</td>\n",
       "      <td>0.413504</td>\n",
       "      <td>1</td>\n",
       "      <td>...</td>\n",
       "      <td>2</td>\n",
       "      <td>0.055556</td>\n",
       "      <td>0.055556</td>\n",
       "      <td>0.055556</td>\n",
       "      <td>741</td>\n",
       "      <td>741</td>\n",
       "      <td>741</td>\n",
       "      <td>0.413504</td>\n",
       "      <td>0.413504</td>\n",
       "      <td>0.413504</td>\n",
       "    </tr>\n",
       "    <tr>\n",
       "      <th>1</th>\n",
       "      <td>1</td>\n",
       "      <td>1</td>\n",
       "      <td>1</td>\n",
       "      <td>0</td>\n",
       "      <td>0</td>\n",
       "      <td>1</td>\n",
       "      <td>0.027778</td>\n",
       "      <td>714</td>\n",
       "      <td>0.398438</td>\n",
       "      <td>1</td>\n",
       "      <td>...</td>\n",
       "      <td>2</td>\n",
       "      <td>0.055556</td>\n",
       "      <td>0.055556</td>\n",
       "      <td>0.055556</td>\n",
       "      <td>741</td>\n",
       "      <td>741</td>\n",
       "      <td>741</td>\n",
       "      <td>0.413504</td>\n",
       "      <td>0.413504</td>\n",
       "      <td>0.413504</td>\n",
       "    </tr>\n",
       "    <tr>\n",
       "      <th>2</th>\n",
       "      <td>1</td>\n",
       "      <td>2</td>\n",
       "      <td>1</td>\n",
       "      <td>0</td>\n",
       "      <td>0</td>\n",
       "      <td>7</td>\n",
       "      <td>0.194444</td>\n",
       "      <td>239</td>\n",
       "      <td>0.133371</td>\n",
       "      <td>0</td>\n",
       "      <td>...</td>\n",
       "      <td>2</td>\n",
       "      <td>0.027778</td>\n",
       "      <td>0.055556</td>\n",
       "      <td>0.055556</td>\n",
       "      <td>714</td>\n",
       "      <td>741</td>\n",
       "      <td>741</td>\n",
       "      <td>0.398438</td>\n",
       "      <td>0.413504</td>\n",
       "      <td>0.413504</td>\n",
       "    </tr>\n",
       "    <tr>\n",
       "      <th>3</th>\n",
       "      <td>1</td>\n",
       "      <td>3</td>\n",
       "      <td>1</td>\n",
       "      <td>0</td>\n",
       "      <td>0</td>\n",
       "      <td>7</td>\n",
       "      <td>0.194444</td>\n",
       "      <td>110</td>\n",
       "      <td>0.061384</td>\n",
       "      <td>0</td>\n",
       "      <td>...</td>\n",
       "      <td>2</td>\n",
       "      <td>0.194444</td>\n",
       "      <td>0.027778</td>\n",
       "      <td>0.055556</td>\n",
       "      <td>239</td>\n",
       "      <td>714</td>\n",
       "      <td>741</td>\n",
       "      <td>0.133371</td>\n",
       "      <td>0.398438</td>\n",
       "      <td>0.413504</td>\n",
       "    </tr>\n",
       "    <tr>\n",
       "      <th>4</th>\n",
       "      <td>1</td>\n",
       "      <td>4</td>\n",
       "      <td>1</td>\n",
       "      <td>0</td>\n",
       "      <td>0</td>\n",
       "      <td>12</td>\n",
       "      <td>0.333333</td>\n",
       "      <td>58</td>\n",
       "      <td>0.032366</td>\n",
       "      <td>0</td>\n",
       "      <td>...</td>\n",
       "      <td>1</td>\n",
       "      <td>0.194444</td>\n",
       "      <td>0.194444</td>\n",
       "      <td>0.027778</td>\n",
       "      <td>110</td>\n",
       "      <td>239</td>\n",
       "      <td>714</td>\n",
       "      <td>0.061384</td>\n",
       "      <td>0.133371</td>\n",
       "      <td>0.398438</td>\n",
       "    </tr>\n",
       "  </tbody>\n",
       "</table>\n",
       "<p>5 rows × 24 columns</p>\n",
       "</div>"
      ],
      "text/plain": [
       "   pdv_id  mes_id  sku_id  ventas_totales  y_ventas_siguiente_mes  \\\n",
       "0       1       0       1               1                       0   \n",
       "1       1       1       1               0                       0   \n",
       "2       1       2       1               0                       0   \n",
       "3       1       3       1               0                       0   \n",
       "4       1       4       1               0                       0   \n",
       "\n",
       "   ventas_totales_en_tienda_de_cada_mes  \\\n",
       "0                                     2   \n",
       "1                                     1   \n",
       "2                                     7   \n",
       "3                                     7   \n",
       "4                                    12   \n",
       "\n",
       "   ventas_promedio_en_tienda_de_cada_mes  \\\n",
       "0                               0.055556   \n",
       "1                               0.027778   \n",
       "2                               0.194444   \n",
       "3                               0.194444   \n",
       "4                               0.333333   \n",
       "\n",
       "   ventas_totales_en_tienda_de_cada_sku  \\\n",
       "0                                   741   \n",
       "1                                   714   \n",
       "2                                   239   \n",
       "3                                   110   \n",
       "4                                    58   \n",
       "\n",
       "   ventas_promedio_en_tienda_de_cada_sku  ventas_totales_1_mes_pasado  ...  \\\n",
       "0                               0.413504                            1  ...   \n",
       "1                               0.398438                            1  ...   \n",
       "2                               0.133371                            0  ...   \n",
       "3                               0.061384                            0  ...   \n",
       "4                               0.032366                            0  ...   \n",
       "\n",
       "   ventas_totales_tienda_y_mes_3_pasado  \\\n",
       "0                                     2   \n",
       "1                                     2   \n",
       "2                                     2   \n",
       "3                                     2   \n",
       "4                                     1   \n",
       "\n",
       "   ventas_promedio_tienda_y_mes_del_mes_pasado  \\\n",
       "0                                     0.055556   \n",
       "1                                     0.055556   \n",
       "2                                     0.027778   \n",
       "3                                     0.194444   \n",
       "4                                     0.194444   \n",
       "\n",
       "   ventas_promedio_tienda_y_mes_2_pasado  \\\n",
       "0                               0.055556   \n",
       "1                               0.055556   \n",
       "2                               0.055556   \n",
       "3                               0.027778   \n",
       "4                               0.194444   \n",
       "\n",
       "   ventas_promedio_tienda_y_mes_3_pasado  \\\n",
       "0                               0.055556   \n",
       "1                               0.055556   \n",
       "2                               0.055556   \n",
       "3                               0.055556   \n",
       "4                               0.027778   \n",
       "\n",
       "   ventas_totales_tienda_y_sku_del_mes_pasado  \\\n",
       "0                                         741   \n",
       "1                                         741   \n",
       "2                                         714   \n",
       "3                                         239   \n",
       "4                                         110   \n",
       "\n",
       "   ventas_totales_tienda_y_sku_2_pasado  ventas_totales_tienda_y_sku_3_pasado  \\\n",
       "0                                   741                                   741   \n",
       "1                                   741                                   741   \n",
       "2                                   741                                   741   \n",
       "3                                   714                                   741   \n",
       "4                                   239                                   714   \n",
       "\n",
       "   ventas_promedio_tienda_y_sku_del_mes_pasado  \\\n",
       "0                                     0.413504   \n",
       "1                                     0.413504   \n",
       "2                                     0.398438   \n",
       "3                                     0.133371   \n",
       "4                                     0.061384   \n",
       "\n",
       "   ventas_promedio_tienda_y_sku_2_pasado  \\\n",
       "0                               0.413504   \n",
       "1                               0.413504   \n",
       "2                               0.413504   \n",
       "3                               0.398438   \n",
       "4                               0.133371   \n",
       "\n",
       "   ventas_promedio_tienda_y_sku_3_pasado  \n",
       "0                               0.413504  \n",
       "1                               0.413504  \n",
       "2                               0.413504  \n",
       "3                               0.413504  \n",
       "4                               0.398438  \n",
       "\n",
       "[5 rows x 24 columns]"
      ]
     },
     "execution_count": 4,
     "metadata": {},
     "output_type": "execute_result"
    }
   ],
   "source": [
    "datos_modelo.head(5)"
   ]
  },
  {
   "cell_type": "code",
   "execution_count": 5,
   "metadata": {},
   "outputs": [
    {
     "data": {
      "text/plain": [
       "(580608, 24)"
      ]
     },
     "execution_count": 5,
     "metadata": {},
     "output_type": "execute_result"
    }
   ],
   "source": [
    "datos_modelo.shape"
   ]
  },
  {
   "cell_type": "code",
   "execution_count": 6,
   "metadata": {},
   "outputs": [
    {
     "data": {
      "text/plain": [
       "Index(['pdv_id', 'mes_id', 'sku_id', 'ventas_totales',\n",
       "       'y_ventas_siguiente_mes', 'ventas_totales_en_tienda_de_cada_mes',\n",
       "       'ventas_promedio_en_tienda_de_cada_mes',\n",
       "       'ventas_totales_en_tienda_de_cada_sku',\n",
       "       'ventas_promedio_en_tienda_de_cada_sku', 'ventas_totales_1_mes_pasado',\n",
       "       'ventas_totales_2_meses_pasados', 'ventas_totales_3_meses_pasados',\n",
       "       'ventas_totales_tienda_y_mes_del_mes_pasado',\n",
       "       'ventas_totales_tienda_y_mes_2_pasado',\n",
       "       'ventas_totales_tienda_y_mes_3_pasado',\n",
       "       'ventas_promedio_tienda_y_mes_del_mes_pasado',\n",
       "       'ventas_promedio_tienda_y_mes_2_pasado',\n",
       "       'ventas_promedio_tienda_y_mes_3_pasado',\n",
       "       'ventas_totales_tienda_y_sku_del_mes_pasado',\n",
       "       'ventas_totales_tienda_y_sku_2_pasado',\n",
       "       'ventas_totales_tienda_y_sku_3_pasado',\n",
       "       'ventas_promedio_tienda_y_sku_del_mes_pasado',\n",
       "       'ventas_promedio_tienda_y_sku_2_pasado',\n",
       "       'ventas_promedio_tienda_y_sku_3_pasado'],\n",
       "      dtype='object')"
      ]
     },
     "execution_count": 6,
     "metadata": {},
     "output_type": "execute_result"
    }
   ],
   "source": [
    "datos_modelo.columns"
   ]
  },
  {
   "cell_type": "code",
   "execution_count": 7,
   "metadata": {},
   "outputs": [
    {
     "data": {
      "text/html": [
       "<div>\n",
       "<style scoped>\n",
       "    .dataframe tbody tr th:only-of-type {\n",
       "        vertical-align: middle;\n",
       "    }\n",
       "\n",
       "    .dataframe tbody tr th {\n",
       "        vertical-align: top;\n",
       "    }\n",
       "\n",
       "    .dataframe thead th {\n",
       "        text-align: right;\n",
       "    }\n",
       "</style>\n",
       "<table border=\"1\" class=\"dataframe\">\n",
       "  <thead>\n",
       "    <tr style=\"text-align: right;\">\n",
       "      <th></th>\n",
       "      <th>pdv_id</th>\n",
       "      <th>mes_id</th>\n",
       "      <th>sku_id</th>\n",
       "      <th>ventas_totales</th>\n",
       "      <th>y_ventas_siguiente_mes</th>\n",
       "      <th>ventas_totales_en_tienda_de_cada_mes</th>\n",
       "      <th>ventas_promedio_en_tienda_de_cada_mes</th>\n",
       "      <th>ventas_totales_en_tienda_de_cada_sku</th>\n",
       "      <th>ventas_promedio_en_tienda_de_cada_sku</th>\n",
       "      <th>ventas_totales_1_mes_pasado</th>\n",
       "      <th>...</th>\n",
       "      <th>ventas_totales_tienda_y_mes_3_pasado</th>\n",
       "      <th>ventas_promedio_tienda_y_mes_del_mes_pasado</th>\n",
       "      <th>ventas_promedio_tienda_y_mes_2_pasado</th>\n",
       "      <th>ventas_promedio_tienda_y_mes_3_pasado</th>\n",
       "      <th>ventas_totales_tienda_y_sku_del_mes_pasado</th>\n",
       "      <th>ventas_totales_tienda_y_sku_2_pasado</th>\n",
       "      <th>ventas_totales_tienda_y_sku_3_pasado</th>\n",
       "      <th>ventas_promedio_tienda_y_sku_del_mes_pasado</th>\n",
       "      <th>ventas_promedio_tienda_y_sku_2_pasado</th>\n",
       "      <th>ventas_promedio_tienda_y_sku_3_pasado</th>\n",
       "    </tr>\n",
       "  </thead>\n",
       "  <tbody>\n",
       "    <tr>\n",
       "      <th>0</th>\n",
       "      <td>1</td>\n",
       "      <td>0</td>\n",
       "      <td>1</td>\n",
       "      <td>1</td>\n",
       "      <td>0</td>\n",
       "      <td>2</td>\n",
       "      <td>0.055556</td>\n",
       "      <td>741</td>\n",
       "      <td>0.413504</td>\n",
       "      <td>1</td>\n",
       "      <td>...</td>\n",
       "      <td>2</td>\n",
       "      <td>0.055556</td>\n",
       "      <td>0.055556</td>\n",
       "      <td>0.055556</td>\n",
       "      <td>741</td>\n",
       "      <td>741</td>\n",
       "      <td>741</td>\n",
       "      <td>0.413504</td>\n",
       "      <td>0.413504</td>\n",
       "      <td>0.413504</td>\n",
       "    </tr>\n",
       "  </tbody>\n",
       "</table>\n",
       "<p>1 rows × 24 columns</p>\n",
       "</div>"
      ],
      "text/plain": [
       "   pdv_id  mes_id  sku_id  ventas_totales  y_ventas_siguiente_mes  \\\n",
       "0       1       0       1               1                       0   \n",
       "\n",
       "   ventas_totales_en_tienda_de_cada_mes  \\\n",
       "0                                     2   \n",
       "\n",
       "   ventas_promedio_en_tienda_de_cada_mes  \\\n",
       "0                               0.055556   \n",
       "\n",
       "   ventas_totales_en_tienda_de_cada_sku  \\\n",
       "0                                   741   \n",
       "\n",
       "   ventas_promedio_en_tienda_de_cada_sku  ventas_totales_1_mes_pasado  ...  \\\n",
       "0                               0.413504                            1  ...   \n",
       "\n",
       "   ventas_totales_tienda_y_mes_3_pasado  \\\n",
       "0                                     2   \n",
       "\n",
       "   ventas_promedio_tienda_y_mes_del_mes_pasado  \\\n",
       "0                                     0.055556   \n",
       "\n",
       "   ventas_promedio_tienda_y_mes_2_pasado  \\\n",
       "0                               0.055556   \n",
       "\n",
       "   ventas_promedio_tienda_y_mes_3_pasado  \\\n",
       "0                               0.055556   \n",
       "\n",
       "   ventas_totales_tienda_y_sku_del_mes_pasado  \\\n",
       "0                                         741   \n",
       "\n",
       "   ventas_totales_tienda_y_sku_2_pasado  ventas_totales_tienda_y_sku_3_pasado  \\\n",
       "0                                   741                                   741   \n",
       "\n",
       "   ventas_promedio_tienda_y_sku_del_mes_pasado  \\\n",
       "0                                     0.413504   \n",
       "\n",
       "   ventas_promedio_tienda_y_sku_2_pasado  \\\n",
       "0                               0.413504   \n",
       "\n",
       "   ventas_promedio_tienda_y_sku_3_pasado  \n",
       "0                               0.413504  \n",
       "\n",
       "[1 rows x 24 columns]"
      ]
     },
     "execution_count": 7,
     "metadata": {},
     "output_type": "execute_result"
    }
   ],
   "source": [
    "datos_modelo.head(1)"
   ]
  },
  {
   "cell_type": "markdown",
   "metadata": {},
   "source": [
    "Recordar como leer los datos: \n",
    "\n",
    "    * En el punto de venta __1 (pdv_id = 1)__ , en el mes de __junio (mes_id = 0)__, el producto __1 (sku_id = 1)__, tuvo 2 ventas (ventas_totales = 2). \n",
    "    \n",
    "    * El pronóstico para el siguiente mes (julio - 1) tiene que ser lo más cercano a __0 (y_ventas_siguiente_mes = 0)__. \n",
    "    \n",
    "    * Las demás variables se leen de manera similar: El punto de venta __1 (pdv_id = 1)__ tuvo un total 23 ventas (ventas_totales_en_tienda_de_cada_mes = 23) en todo el mes de junio (sku_id = 1). \n",
    "    \n",
    "    * El 0 es un dato real, nosotros ya conocemos cuáles son las ventas para el siguiente mes porque contamos con históricos - nosotros construimos nuestra variable __Y__. \n",
    "    \n",
    "    * Ahora queremos contruir un modelo que nos permita estimar el valor de esta Y ->  __Y^__)"
   ]
  },
  {
   "cell_type": "code",
   "execution_count": null,
   "metadata": {},
   "outputs": [],
   "source": []
  },
  {
   "cell_type": "markdown",
   "metadata": {},
   "source": [
    "## Parte 2: Validación Cruzada - Preparación de los datos"
   ]
  },
  {
   "attachments": {
    "im10.png": {
     "image/png": "[encoded data removed]"
    }
   },
   "cell_type": "markdown",
   "metadata": {},
   "source": [
    "![im10.png](attachment:im10.png)"
   ]
  },
  {
   "cell_type": "markdown",
   "metadata": {},
   "source": [
    "._._  ._._  ._._  ._._  ._._  ._._  ._._  ._._  ._._  ._._  ._._  ._._ Primera Partición ._._  ._._  ._._  ._._  ._._  ._._  ._._  ._._  ._._  ._._  ._._  ._._"
   ]
  },
  {
   "cell_type": "markdown",
   "metadata": {},
   "source": [
    "* Entrenamiento_1: Entrenamos con datos (ent_x1) de junio para predecir julio (ent_y1)\n",
    "* Prueba_1: Probamos con datos de julio (prueba_x1) para predecir agosto (prueba_y1)"
   ]
  },
  {
   "cell_type": "code",
   "execution_count": 8,
   "metadata": {},
   "outputs": [],
   "source": [
    "#1. DIVIR DATOS EN ENTRENAMIENTO Y PRUEBA\n",
    "ent_1 = datos_modelo[datos_modelo['mes_id']==0] #filtrar junio\n",
    "prueba_1 = datos_modelo[datos_modelo['mes_id']==1] #filtrar julio"
   ]
  },
  {
   "cell_type": "code",
   "execution_count": 9,
   "metadata": {},
   "outputs": [
    {
     "data": {
      "text/plain": [
       "(64512, 24)"
      ]
     },
     "execution_count": 9,
     "metadata": {},
     "output_type": "execute_result"
    }
   ],
   "source": [
    "ent_1.shape"
   ]
  },
  {
   "cell_type": "code",
   "execution_count": 10,
   "metadata": {},
   "outputs": [
    {
     "data": {
      "text/plain": [
       "(64512, 24)"
      ]
     },
     "execution_count": 10,
     "metadata": {},
     "output_type": "execute_result"
    }
   ],
   "source": [
    "prueba_1.shape"
   ]
  },
  {
   "cell_type": "code",
   "execution_count": 11,
   "metadata": {},
   "outputs": [],
   "source": [
    "#2. GENERAR ÍNDICES EN PYTHON \n",
    "ent_1.set_index(['pdv_id', 'mes_id','sku_id'], inplace=True)\n",
    "prueba_1.set_index(['pdv_id', 'mes_id','sku_id'], inplace=True)"
   ]
  },
  {
   "cell_type": "code",
   "execution_count": 12,
   "metadata": {},
   "outputs": [
    {
     "data": {
      "text/html": [
       "<div>\n",
       "<style scoped>\n",
       "    .dataframe tbody tr th:only-of-type {\n",
       "        vertical-align: middle;\n",
       "    }\n",
       "\n",
       "    .dataframe tbody tr th {\n",
       "        vertical-align: top;\n",
       "    }\n",
       "\n",
       "    .dataframe thead th {\n",
       "        text-align: right;\n",
       "    }\n",
       "</style>\n",
       "<table border=\"1\" class=\"dataframe\">\n",
       "  <thead>\n",
       "    <tr style=\"text-align: right;\">\n",
       "      <th></th>\n",
       "      <th></th>\n",
       "      <th></th>\n",
       "      <th>ventas_totales</th>\n",
       "      <th>y_ventas_siguiente_mes</th>\n",
       "      <th>ventas_totales_en_tienda_de_cada_mes</th>\n",
       "      <th>ventas_promedio_en_tienda_de_cada_mes</th>\n",
       "      <th>ventas_totales_en_tienda_de_cada_sku</th>\n",
       "      <th>ventas_promedio_en_tienda_de_cada_sku</th>\n",
       "      <th>ventas_totales_1_mes_pasado</th>\n",
       "      <th>ventas_totales_2_meses_pasados</th>\n",
       "      <th>ventas_totales_3_meses_pasados</th>\n",
       "      <th>ventas_totales_tienda_y_mes_del_mes_pasado</th>\n",
       "      <th>...</th>\n",
       "      <th>ventas_totales_tienda_y_mes_3_pasado</th>\n",
       "      <th>ventas_promedio_tienda_y_mes_del_mes_pasado</th>\n",
       "      <th>ventas_promedio_tienda_y_mes_2_pasado</th>\n",
       "      <th>ventas_promedio_tienda_y_mes_3_pasado</th>\n",
       "      <th>ventas_totales_tienda_y_sku_del_mes_pasado</th>\n",
       "      <th>ventas_totales_tienda_y_sku_2_pasado</th>\n",
       "      <th>ventas_totales_tienda_y_sku_3_pasado</th>\n",
       "      <th>ventas_promedio_tienda_y_sku_del_mes_pasado</th>\n",
       "      <th>ventas_promedio_tienda_y_sku_2_pasado</th>\n",
       "      <th>ventas_promedio_tienda_y_sku_3_pasado</th>\n",
       "    </tr>\n",
       "    <tr>\n",
       "      <th>pdv_id</th>\n",
       "      <th>mes_id</th>\n",
       "      <th>sku_id</th>\n",
       "      <th></th>\n",
       "      <th></th>\n",
       "      <th></th>\n",
       "      <th></th>\n",
       "      <th></th>\n",
       "      <th></th>\n",
       "      <th></th>\n",
       "      <th></th>\n",
       "      <th></th>\n",
       "      <th></th>\n",
       "      <th></th>\n",
       "      <th></th>\n",
       "      <th></th>\n",
       "      <th></th>\n",
       "      <th></th>\n",
       "      <th></th>\n",
       "      <th></th>\n",
       "      <th></th>\n",
       "      <th></th>\n",
       "      <th></th>\n",
       "      <th></th>\n",
       "    </tr>\n",
       "  </thead>\n",
       "  <tbody>\n",
       "    <tr>\n",
       "      <th rowspan=\"4\" valign=\"top\">1</th>\n",
       "      <th rowspan=\"4\" valign=\"top\">0</th>\n",
       "      <th>1</th>\n",
       "      <td>1</td>\n",
       "      <td>0</td>\n",
       "      <td>2</td>\n",
       "      <td>0.055556</td>\n",
       "      <td>741</td>\n",
       "      <td>0.413504</td>\n",
       "      <td>1</td>\n",
       "      <td>1</td>\n",
       "      <td>1</td>\n",
       "      <td>2</td>\n",
       "      <td>...</td>\n",
       "      <td>2</td>\n",
       "      <td>0.055556</td>\n",
       "      <td>0.055556</td>\n",
       "      <td>0.055556</td>\n",
       "      <td>741</td>\n",
       "      <td>741</td>\n",
       "      <td>741</td>\n",
       "      <td>0.413504</td>\n",
       "      <td>0.413504</td>\n",
       "      <td>0.413504</td>\n",
       "    </tr>\n",
       "    <tr>\n",
       "      <th>2</th>\n",
       "      <td>1</td>\n",
       "      <td>0</td>\n",
       "      <td>2</td>\n",
       "      <td>0.055556</td>\n",
       "      <td>1208</td>\n",
       "      <td>0.674107</td>\n",
       "      <td>1</td>\n",
       "      <td>1</td>\n",
       "      <td>1</td>\n",
       "      <td>2</td>\n",
       "      <td>...</td>\n",
       "      <td>2</td>\n",
       "      <td>0.055556</td>\n",
       "      <td>0.055556</td>\n",
       "      <td>0.055556</td>\n",
       "      <td>1208</td>\n",
       "      <td>1208</td>\n",
       "      <td>1208</td>\n",
       "      <td>0.674107</td>\n",
       "      <td>0.674107</td>\n",
       "      <td>0.674107</td>\n",
       "    </tr>\n",
       "    <tr>\n",
       "      <th>3</th>\n",
       "      <td>0</td>\n",
       "      <td>1</td>\n",
       "      <td>2</td>\n",
       "      <td>0.055556</td>\n",
       "      <td>0</td>\n",
       "      <td>0.000000</td>\n",
       "      <td>0</td>\n",
       "      <td>0</td>\n",
       "      <td>0</td>\n",
       "      <td>2</td>\n",
       "      <td>...</td>\n",
       "      <td>2</td>\n",
       "      <td>0.055556</td>\n",
       "      <td>0.055556</td>\n",
       "      <td>0.055556</td>\n",
       "      <td>0</td>\n",
       "      <td>0</td>\n",
       "      <td>0</td>\n",
       "      <td>0.000000</td>\n",
       "      <td>0.000000</td>\n",
       "      <td>0.000000</td>\n",
       "    </tr>\n",
       "    <tr>\n",
       "      <th>4</th>\n",
       "      <td>0</td>\n",
       "      <td>0</td>\n",
       "      <td>2</td>\n",
       "      <td>0.055556</td>\n",
       "      <td>0</td>\n",
       "      <td>0.000000</td>\n",
       "      <td>0</td>\n",
       "      <td>0</td>\n",
       "      <td>0</td>\n",
       "      <td>2</td>\n",
       "      <td>...</td>\n",
       "      <td>2</td>\n",
       "      <td>0.055556</td>\n",
       "      <td>0.055556</td>\n",
       "      <td>0.055556</td>\n",
       "      <td>0</td>\n",
       "      <td>0</td>\n",
       "      <td>0</td>\n",
       "      <td>0.000000</td>\n",
       "      <td>0.000000</td>\n",
       "      <td>0.000000</td>\n",
       "    </tr>\n",
       "  </tbody>\n",
       "</table>\n",
       "<p>4 rows × 21 columns</p>\n",
       "</div>"
      ],
      "text/plain": [
       "                      ventas_totales  y_ventas_siguiente_mes  \\\n",
       "pdv_id mes_id sku_id                                           \n",
       "1      0      1                    1                       0   \n",
       "              2                    1                       0   \n",
       "              3                    0                       1   \n",
       "              4                    0                       0   \n",
       "\n",
       "                      ventas_totales_en_tienda_de_cada_mes  \\\n",
       "pdv_id mes_id sku_id                                         \n",
       "1      0      1                                          2   \n",
       "              2                                          2   \n",
       "              3                                          2   \n",
       "              4                                          2   \n",
       "\n",
       "                      ventas_promedio_en_tienda_de_cada_mes  \\\n",
       "pdv_id mes_id sku_id                                          \n",
       "1      0      1                                    0.055556   \n",
       "              2                                    0.055556   \n",
       "              3                                    0.055556   \n",
       "              4                                    0.055556   \n",
       "\n",
       "                      ventas_totales_en_tienda_de_cada_sku  \\\n",
       "pdv_id mes_id sku_id                                         \n",
       "1      0      1                                        741   \n",
       "              2                                       1208   \n",
       "              3                                          0   \n",
       "              4                                          0   \n",
       "\n",
       "                      ventas_promedio_en_tienda_de_cada_sku  \\\n",
       "pdv_id mes_id sku_id                                          \n",
       "1      0      1                                    0.413504   \n",
       "              2                                    0.674107   \n",
       "              3                                    0.000000   \n",
       "              4                                    0.000000   \n",
       "\n",
       "                      ventas_totales_1_mes_pasado  \\\n",
       "pdv_id mes_id sku_id                                \n",
       "1      0      1                                 1   \n",
       "              2                                 1   \n",
       "              3                                 0   \n",
       "              4                                 0   \n",
       "\n",
       "                      ventas_totales_2_meses_pasados  \\\n",
       "pdv_id mes_id sku_id                                   \n",
       "1      0      1                                    1   \n",
       "              2                                    1   \n",
       "              3                                    0   \n",
       "              4                                    0   \n",
       "\n",
       "                      ventas_totales_3_meses_pasados  \\\n",
       "pdv_id mes_id sku_id                                   \n",
       "1      0      1                                    1   \n",
       "              2                                    1   \n",
       "              3                                    0   \n",
       "              4                                    0   \n",
       "\n",
       "                      ventas_totales_tienda_y_mes_del_mes_pasado  ...  \\\n",
       "pdv_id mes_id sku_id                                              ...   \n",
       "1      0      1                                                2  ...   \n",
       "              2                                                2  ...   \n",
       "              3                                                2  ...   \n",
       "              4                                                2  ...   \n",
       "\n",
       "                      ventas_totales_tienda_y_mes_3_pasado  \\\n",
       "pdv_id mes_id sku_id                                         \n",
       "1      0      1                                          2   \n",
       "              2                                          2   \n",
       "              3                                          2   \n",
       "              4                                          2   \n",
       "\n",
       "                      ventas_promedio_tienda_y_mes_del_mes_pasado  \\\n",
       "pdv_id mes_id sku_id                                                \n",
       "1      0      1                                          0.055556   \n",
       "              2                                          0.055556   \n",
       "              3                                          0.055556   \n",
       "              4                                          0.055556   \n",
       "\n",
       "                      ventas_promedio_tienda_y_mes_2_pasado  \\\n",
       "pdv_id mes_id sku_id                                          \n",
       "1      0      1                                    0.055556   \n",
       "              2                                    0.055556   \n",
       "              3                                    0.055556   \n",
       "              4                                    0.055556   \n",
       "\n",
       "                      ventas_promedio_tienda_y_mes_3_pasado  \\\n",
       "pdv_id mes_id sku_id                                          \n",
       "1      0      1                                    0.055556   \n",
       "              2                                    0.055556   \n",
       "              3                                    0.055556   \n",
       "              4                                    0.055556   \n",
       "\n",
       "                      ventas_totales_tienda_y_sku_del_mes_pasado  \\\n",
       "pdv_id mes_id sku_id                                               \n",
       "1      0      1                                              741   \n",
       "              2                                             1208   \n",
       "              3                                                0   \n",
       "              4                                                0   \n",
       "\n",
       "                      ventas_totales_tienda_y_sku_2_pasado  \\\n",
       "pdv_id mes_id sku_id                                         \n",
       "1      0      1                                        741   \n",
       "              2                                       1208   \n",
       "              3                                          0   \n",
       "              4                                          0   \n",
       "\n",
       "                      ventas_totales_tienda_y_sku_3_pasado  \\\n",
       "pdv_id mes_id sku_id                                         \n",
       "1      0      1                                        741   \n",
       "              2                                       1208   \n",
       "              3                                          0   \n",
       "              4                                          0   \n",
       "\n",
       "                      ventas_promedio_tienda_y_sku_del_mes_pasado  \\\n",
       "pdv_id mes_id sku_id                                                \n",
       "1      0      1                                          0.413504   \n",
       "              2                                          0.674107   \n",
       "              3                                          0.000000   \n",
       "              4                                          0.000000   \n",
       "\n",
       "                      ventas_promedio_tienda_y_sku_2_pasado  \\\n",
       "pdv_id mes_id sku_id                                          \n",
       "1      0      1                                    0.413504   \n",
       "              2                                    0.674107   \n",
       "              3                                    0.000000   \n",
       "              4                                    0.000000   \n",
       "\n",
       "                      ventas_promedio_tienda_y_sku_3_pasado  \n",
       "pdv_id mes_id sku_id                                         \n",
       "1      0      1                                    0.413504  \n",
       "              2                                    0.674107  \n",
       "              3                                    0.000000  \n",
       "              4                                    0.000000  \n",
       "\n",
       "[4 rows x 21 columns]"
      ]
     },
     "execution_count": 12,
     "metadata": {},
     "output_type": "execute_result"
    }
   ],
   "source": [
    "#head para ver datos de entrenamiento y prueba con índices \n",
    "ent_1.head(4)\n"
   ]
  },
  {
   "cell_type": "code",
   "execution_count": 13,
   "metadata": {},
   "outputs": [],
   "source": [
    "#3. DIVIDIR AMBOS CONJUNTOS (ENTRENAMIENTO Y PRUEBA) EN VARIABLES DE ENTRADA (X) Y VARIABLE REPSUESTA (Y)\n",
    "ent_x1 = ent_1.iloc[:, ent_1.columns != 'y_ventas_siguiente_mes']\n",
    "ent_y1 = ent_1.iloc[:, ent_1.columns == 'y_ventas_siguiente_mes']\n",
    "\n",
    "prueba_x1= prueba_1.iloc[:, prueba_1.columns != 'y_ventas_siguiente_mes']\n",
    "prueba_y1= prueba_1.iloc[:, prueba_1.columns == 'y_ventas_siguiente_mes']"
   ]
  },
  {
   "cell_type": "code",
   "execution_count": 14,
   "metadata": {},
   "outputs": [
    {
     "data": {
      "text/html": [
       "<div>\n",
       "<style scoped>\n",
       "    .dataframe tbody tr th:only-of-type {\n",
       "        vertical-align: middle;\n",
       "    }\n",
       "\n",
       "    .dataframe tbody tr th {\n",
       "        vertical-align: top;\n",
       "    }\n",
       "\n",
       "    .dataframe thead th {\n",
       "        text-align: right;\n",
       "    }\n",
       "</style>\n",
       "<table border=\"1\" class=\"dataframe\">\n",
       "  <thead>\n",
       "    <tr style=\"text-align: right;\">\n",
       "      <th></th>\n",
       "      <th></th>\n",
       "      <th></th>\n",
       "      <th>y_ventas_siguiente_mes</th>\n",
       "    </tr>\n",
       "    <tr>\n",
       "      <th>pdv_id</th>\n",
       "      <th>mes_id</th>\n",
       "      <th>sku_id</th>\n",
       "      <th></th>\n",
       "    </tr>\n",
       "  </thead>\n",
       "  <tbody>\n",
       "    <tr>\n",
       "      <th rowspan=\"4\" valign=\"top\">1</th>\n",
       "      <th rowspan=\"4\" valign=\"top\">0</th>\n",
       "      <th>1</th>\n",
       "      <td>0</td>\n",
       "    </tr>\n",
       "    <tr>\n",
       "      <th>2</th>\n",
       "      <td>0</td>\n",
       "    </tr>\n",
       "    <tr>\n",
       "      <th>3</th>\n",
       "      <td>1</td>\n",
       "    </tr>\n",
       "    <tr>\n",
       "      <th>4</th>\n",
       "      <td>0</td>\n",
       "    </tr>\n",
       "  </tbody>\n",
       "</table>\n",
       "</div>"
      ],
      "text/plain": [
       "                      y_ventas_siguiente_mes\n",
       "pdv_id mes_id sku_id                        \n",
       "1      0      1                            0\n",
       "              2                            0\n",
       "              3                            1\n",
       "              4                            0"
      ]
     },
     "execution_count": 14,
     "metadata": {},
     "output_type": "execute_result"
    }
   ],
   "source": [
    "#visualizar lo que hicimos anteriormente \n",
    "ent_y1.head(4)\n"
   ]
  },
  {
   "cell_type": "markdown",
   "metadata": {},
   "source": [
    ".. .. .. .. .. .. .. .. .. .. .. .. Segunda Partición .. .. .. .. .. .. .. .. .. .. .. .."
   ]
  },
  {
   "cell_type": "code",
   "execution_count": 15,
   "metadata": {},
   "outputs": [],
   "source": [
    "#1. DIVIR DATOS EN ENTRENAMIENTO Y PRUEBA\n",
    "ent_2 = datos_modelo[datos_modelo['mes_id']<=1]\n",
    "prueba_2 = datos_modelo[datos_modelo['mes_id']==2]"
   ]
  },
  {
   "cell_type": "code",
   "execution_count": 16,
   "metadata": {},
   "outputs": [],
   "source": [
    "#2. GENERAR ÍNDICES EN PYTHON \n",
    "ent_2.set_index(['pdv_id', 'mes_id','sku_id'], inplace=True)\n",
    "prueba_2.set_index(['pdv_id', 'mes_id','sku_id'], inplace=True)"
   ]
  },
  {
   "cell_type": "code",
   "execution_count": 17,
   "metadata": {},
   "outputs": [],
   "source": [
    "#3. DIVIDIR AMBOS CONJUNTOS (ENTRENAMIENTO Y PRUEBA) EN VARIABLES DE ENTRADA (X) Y VARIABLE REPSUESTA (Y)\n",
    "ent_x2 = ent_2.iloc[:, ent_2.columns != 'y_ventas_siguiente_mes']\n",
    "ent_y2 = ent_2.iloc[:, ent_2.columns == 'y_ventas_siguiente_mes']\n",
    "\n",
    "prueba_x2= prueba_2.iloc[:, prueba_2.columns != 'y_ventas_siguiente_mes']\n",
    "prueba_y2= prueba_2.iloc[:, prueba_2.columns == 'y_ventas_siguiente_mes']"
   ]
  },
  {
   "cell_type": "code",
   "execution_count": 18,
   "metadata": {},
   "outputs": [
    {
     "data": {
      "text/html": [
       "<div>\n",
       "<style scoped>\n",
       "    .dataframe tbody tr th:only-of-type {\n",
       "        vertical-align: middle;\n",
       "    }\n",
       "\n",
       "    .dataframe tbody tr th {\n",
       "        vertical-align: top;\n",
       "    }\n",
       "\n",
       "    .dataframe thead th {\n",
       "        text-align: right;\n",
       "    }\n",
       "</style>\n",
       "<table border=\"1\" class=\"dataframe\">\n",
       "  <thead>\n",
       "    <tr style=\"text-align: right;\">\n",
       "      <th></th>\n",
       "      <th></th>\n",
       "      <th></th>\n",
       "      <th>ventas_totales</th>\n",
       "      <th>y_ventas_siguiente_mes</th>\n",
       "      <th>ventas_totales_en_tienda_de_cada_mes</th>\n",
       "      <th>ventas_promedio_en_tienda_de_cada_mes</th>\n",
       "      <th>ventas_totales_en_tienda_de_cada_sku</th>\n",
       "      <th>ventas_promedio_en_tienda_de_cada_sku</th>\n",
       "      <th>ventas_totales_1_mes_pasado</th>\n",
       "      <th>ventas_totales_2_meses_pasados</th>\n",
       "      <th>ventas_totales_3_meses_pasados</th>\n",
       "      <th>ventas_totales_tienda_y_mes_del_mes_pasado</th>\n",
       "      <th>...</th>\n",
       "      <th>ventas_totales_tienda_y_mes_3_pasado</th>\n",
       "      <th>ventas_promedio_tienda_y_mes_del_mes_pasado</th>\n",
       "      <th>ventas_promedio_tienda_y_mes_2_pasado</th>\n",
       "      <th>ventas_promedio_tienda_y_mes_3_pasado</th>\n",
       "      <th>ventas_totales_tienda_y_sku_del_mes_pasado</th>\n",
       "      <th>ventas_totales_tienda_y_sku_2_pasado</th>\n",
       "      <th>ventas_totales_tienda_y_sku_3_pasado</th>\n",
       "      <th>ventas_promedio_tienda_y_sku_del_mes_pasado</th>\n",
       "      <th>ventas_promedio_tienda_y_sku_2_pasado</th>\n",
       "      <th>ventas_promedio_tienda_y_sku_3_pasado</th>\n",
       "    </tr>\n",
       "    <tr>\n",
       "      <th>pdv_id</th>\n",
       "      <th>mes_id</th>\n",
       "      <th>sku_id</th>\n",
       "      <th></th>\n",
       "      <th></th>\n",
       "      <th></th>\n",
       "      <th></th>\n",
       "      <th></th>\n",
       "      <th></th>\n",
       "      <th></th>\n",
       "      <th></th>\n",
       "      <th></th>\n",
       "      <th></th>\n",
       "      <th></th>\n",
       "      <th></th>\n",
       "      <th></th>\n",
       "      <th></th>\n",
       "      <th></th>\n",
       "      <th></th>\n",
       "      <th></th>\n",
       "      <th></th>\n",
       "      <th></th>\n",
       "      <th></th>\n",
       "      <th></th>\n",
       "    </tr>\n",
       "  </thead>\n",
       "  <tbody>\n",
       "    <tr>\n",
       "      <th rowspan=\"5\" valign=\"top\">1</th>\n",
       "      <th>0</th>\n",
       "      <th>1</th>\n",
       "      <td>1</td>\n",
       "      <td>0</td>\n",
       "      <td>2</td>\n",
       "      <td>0.055556</td>\n",
       "      <td>741</td>\n",
       "      <td>0.413504</td>\n",
       "      <td>1</td>\n",
       "      <td>1</td>\n",
       "      <td>1</td>\n",
       "      <td>2</td>\n",
       "      <td>...</td>\n",
       "      <td>2</td>\n",
       "      <td>0.055556</td>\n",
       "      <td>0.055556</td>\n",
       "      <td>0.055556</td>\n",
       "      <td>741</td>\n",
       "      <td>741</td>\n",
       "      <td>741</td>\n",
       "      <td>0.413504</td>\n",
       "      <td>0.413504</td>\n",
       "      <td>0.413504</td>\n",
       "    </tr>\n",
       "    <tr>\n",
       "      <th>1</th>\n",
       "      <th>1</th>\n",
       "      <td>0</td>\n",
       "      <td>0</td>\n",
       "      <td>1</td>\n",
       "      <td>0.027778</td>\n",
       "      <td>714</td>\n",
       "      <td>0.398438</td>\n",
       "      <td>1</td>\n",
       "      <td>1</td>\n",
       "      <td>1</td>\n",
       "      <td>2</td>\n",
       "      <td>...</td>\n",
       "      <td>2</td>\n",
       "      <td>0.055556</td>\n",
       "      <td>0.055556</td>\n",
       "      <td>0.055556</td>\n",
       "      <td>741</td>\n",
       "      <td>741</td>\n",
       "      <td>741</td>\n",
       "      <td>0.413504</td>\n",
       "      <td>0.413504</td>\n",
       "      <td>0.413504</td>\n",
       "    </tr>\n",
       "    <tr>\n",
       "      <th>0</th>\n",
       "      <th>2</th>\n",
       "      <td>1</td>\n",
       "      <td>0</td>\n",
       "      <td>2</td>\n",
       "      <td>0.055556</td>\n",
       "      <td>1208</td>\n",
       "      <td>0.674107</td>\n",
       "      <td>1</td>\n",
       "      <td>1</td>\n",
       "      <td>1</td>\n",
       "      <td>2</td>\n",
       "      <td>...</td>\n",
       "      <td>2</td>\n",
       "      <td>0.055556</td>\n",
       "      <td>0.055556</td>\n",
       "      <td>0.055556</td>\n",
       "      <td>1208</td>\n",
       "      <td>1208</td>\n",
       "      <td>1208</td>\n",
       "      <td>0.674107</td>\n",
       "      <td>0.674107</td>\n",
       "      <td>0.674107</td>\n",
       "    </tr>\n",
       "    <tr>\n",
       "      <th>1</th>\n",
       "      <th>2</th>\n",
       "      <td>0</td>\n",
       "      <td>0</td>\n",
       "      <td>1</td>\n",
       "      <td>0.027778</td>\n",
       "      <td>864</td>\n",
       "      <td>0.482143</td>\n",
       "      <td>1</td>\n",
       "      <td>1</td>\n",
       "      <td>1</td>\n",
       "      <td>2</td>\n",
       "      <td>...</td>\n",
       "      <td>2</td>\n",
       "      <td>0.055556</td>\n",
       "      <td>0.055556</td>\n",
       "      <td>0.055556</td>\n",
       "      <td>1208</td>\n",
       "      <td>1208</td>\n",
       "      <td>1208</td>\n",
       "      <td>0.674107</td>\n",
       "      <td>0.674107</td>\n",
       "      <td>0.674107</td>\n",
       "    </tr>\n",
       "    <tr>\n",
       "      <th>0</th>\n",
       "      <th>3</th>\n",
       "      <td>0</td>\n",
       "      <td>1</td>\n",
       "      <td>2</td>\n",
       "      <td>0.055556</td>\n",
       "      <td>0</td>\n",
       "      <td>0.000000</td>\n",
       "      <td>0</td>\n",
       "      <td>0</td>\n",
       "      <td>0</td>\n",
       "      <td>2</td>\n",
       "      <td>...</td>\n",
       "      <td>2</td>\n",
       "      <td>0.055556</td>\n",
       "      <td>0.055556</td>\n",
       "      <td>0.055556</td>\n",
       "      <td>0</td>\n",
       "      <td>0</td>\n",
       "      <td>0</td>\n",
       "      <td>0.000000</td>\n",
       "      <td>0.000000</td>\n",
       "      <td>0.000000</td>\n",
       "    </tr>\n",
       "    <tr>\n",
       "      <th>...</th>\n",
       "      <th>...</th>\n",
       "      <th>...</th>\n",
       "      <td>...</td>\n",
       "      <td>...</td>\n",
       "      <td>...</td>\n",
       "      <td>...</td>\n",
       "      <td>...</td>\n",
       "      <td>...</td>\n",
       "      <td>...</td>\n",
       "      <td>...</td>\n",
       "      <td>...</td>\n",
       "      <td>...</td>\n",
       "      <td>...</td>\n",
       "      <td>...</td>\n",
       "      <td>...</td>\n",
       "      <td>...</td>\n",
       "      <td>...</td>\n",
       "      <td>...</td>\n",
       "      <td>...</td>\n",
       "      <td>...</td>\n",
       "      <td>...</td>\n",
       "      <td>...</td>\n",
       "      <td>...</td>\n",
       "    </tr>\n",
       "    <tr>\n",
       "      <th rowspan=\"5\" valign=\"top\">1792</th>\n",
       "      <th>1</th>\n",
       "      <th>34</th>\n",
       "      <td>0</td>\n",
       "      <td>0</td>\n",
       "      <td>0</td>\n",
       "      <td>0.000000</td>\n",
       "      <td>0</td>\n",
       "      <td>0.000000</td>\n",
       "      <td>0</td>\n",
       "      <td>0</td>\n",
       "      <td>0</td>\n",
       "      <td>0</td>\n",
       "      <td>...</td>\n",
       "      <td>0</td>\n",
       "      <td>0.000000</td>\n",
       "      <td>0.000000</td>\n",
       "      <td>0.000000</td>\n",
       "      <td>165</td>\n",
       "      <td>165</td>\n",
       "      <td>165</td>\n",
       "      <td>0.092076</td>\n",
       "      <td>0.092076</td>\n",
       "      <td>0.092076</td>\n",
       "    </tr>\n",
       "    <tr>\n",
       "      <th>0</th>\n",
       "      <th>35</th>\n",
       "      <td>0</td>\n",
       "      <td>0</td>\n",
       "      <td>0</td>\n",
       "      <td>0.000000</td>\n",
       "      <td>0</td>\n",
       "      <td>0.000000</td>\n",
       "      <td>0</td>\n",
       "      <td>0</td>\n",
       "      <td>0</td>\n",
       "      <td>0</td>\n",
       "      <td>...</td>\n",
       "      <td>0</td>\n",
       "      <td>0.000000</td>\n",
       "      <td>0.000000</td>\n",
       "      <td>0.000000</td>\n",
       "      <td>0</td>\n",
       "      <td>0</td>\n",
       "      <td>0</td>\n",
       "      <td>0.000000</td>\n",
       "      <td>0.000000</td>\n",
       "      <td>0.000000</td>\n",
       "    </tr>\n",
       "    <tr>\n",
       "      <th>1</th>\n",
       "      <th>35</th>\n",
       "      <td>0</td>\n",
       "      <td>0</td>\n",
       "      <td>0</td>\n",
       "      <td>0.000000</td>\n",
       "      <td>0</td>\n",
       "      <td>0.000000</td>\n",
       "      <td>0</td>\n",
       "      <td>0</td>\n",
       "      <td>0</td>\n",
       "      <td>0</td>\n",
       "      <td>...</td>\n",
       "      <td>0</td>\n",
       "      <td>0.000000</td>\n",
       "      <td>0.000000</td>\n",
       "      <td>0.000000</td>\n",
       "      <td>0</td>\n",
       "      <td>0</td>\n",
       "      <td>0</td>\n",
       "      <td>0.000000</td>\n",
       "      <td>0.000000</td>\n",
       "      <td>0.000000</td>\n",
       "    </tr>\n",
       "    <tr>\n",
       "      <th>0</th>\n",
       "      <th>36</th>\n",
       "      <td>0</td>\n",
       "      <td>0</td>\n",
       "      <td>0</td>\n",
       "      <td>0.000000</td>\n",
       "      <td>0</td>\n",
       "      <td>0.000000</td>\n",
       "      <td>0</td>\n",
       "      <td>0</td>\n",
       "      <td>0</td>\n",
       "      <td>0</td>\n",
       "      <td>...</td>\n",
       "      <td>0</td>\n",
       "      <td>0.000000</td>\n",
       "      <td>0.000000</td>\n",
       "      <td>0.000000</td>\n",
       "      <td>0</td>\n",
       "      <td>0</td>\n",
       "      <td>0</td>\n",
       "      <td>0.000000</td>\n",
       "      <td>0.000000</td>\n",
       "      <td>0.000000</td>\n",
       "    </tr>\n",
       "    <tr>\n",
       "      <th>1</th>\n",
       "      <th>36</th>\n",
       "      <td>0</td>\n",
       "      <td>0</td>\n",
       "      <td>0</td>\n",
       "      <td>0.000000</td>\n",
       "      <td>0</td>\n",
       "      <td>0.000000</td>\n",
       "      <td>0</td>\n",
       "      <td>0</td>\n",
       "      <td>0</td>\n",
       "      <td>0</td>\n",
       "      <td>...</td>\n",
       "      <td>0</td>\n",
       "      <td>0.000000</td>\n",
       "      <td>0.000000</td>\n",
       "      <td>0.000000</td>\n",
       "      <td>0</td>\n",
       "      <td>0</td>\n",
       "      <td>0</td>\n",
       "      <td>0.000000</td>\n",
       "      <td>0.000000</td>\n",
       "      <td>0.000000</td>\n",
       "    </tr>\n",
       "  </tbody>\n",
       "</table>\n",
       "<p>129024 rows × 21 columns</p>\n",
       "</div>"
      ],
      "text/plain": [
       "                      ventas_totales  y_ventas_siguiente_mes  \\\n",
       "pdv_id mes_id sku_id                                           \n",
       "1      0      1                    1                       0   \n",
       "       1      1                    0                       0   \n",
       "       0      2                    1                       0   \n",
       "       1      2                    0                       0   \n",
       "       0      3                    0                       1   \n",
       "...                              ...                     ...   \n",
       "1792   1      34                   0                       0   \n",
       "       0      35                   0                       0   \n",
       "       1      35                   0                       0   \n",
       "       0      36                   0                       0   \n",
       "       1      36                   0                       0   \n",
       "\n",
       "                      ventas_totales_en_tienda_de_cada_mes  \\\n",
       "pdv_id mes_id sku_id                                         \n",
       "1      0      1                                          2   \n",
       "       1      1                                          1   \n",
       "       0      2                                          2   \n",
       "       1      2                                          1   \n",
       "       0      3                                          2   \n",
       "...                                                    ...   \n",
       "1792   1      34                                         0   \n",
       "       0      35                                         0   \n",
       "       1      35                                         0   \n",
       "       0      36                                         0   \n",
       "       1      36                                         0   \n",
       "\n",
       "                      ventas_promedio_en_tienda_de_cada_mes  \\\n",
       "pdv_id mes_id sku_id                                          \n",
       "1      0      1                                    0.055556   \n",
       "       1      1                                    0.027778   \n",
       "       0      2                                    0.055556   \n",
       "       1      2                                    0.027778   \n",
       "       0      3                                    0.055556   \n",
       "...                                                     ...   \n",
       "1792   1      34                                   0.000000   \n",
       "       0      35                                   0.000000   \n",
       "       1      35                                   0.000000   \n",
       "       0      36                                   0.000000   \n",
       "       1      36                                   0.000000   \n",
       "\n",
       "                      ventas_totales_en_tienda_de_cada_sku  \\\n",
       "pdv_id mes_id sku_id                                         \n",
       "1      0      1                                        741   \n",
       "       1      1                                        714   \n",
       "       0      2                                       1208   \n",
       "       1      2                                        864   \n",
       "       0      3                                          0   \n",
       "...                                                    ...   \n",
       "1792   1      34                                         0   \n",
       "       0      35                                         0   \n",
       "       1      35                                         0   \n",
       "       0      36                                         0   \n",
       "       1      36                                         0   \n",
       "\n",
       "                      ventas_promedio_en_tienda_de_cada_sku  \\\n",
       "pdv_id mes_id sku_id                                          \n",
       "1      0      1                                    0.413504   \n",
       "       1      1                                    0.398438   \n",
       "       0      2                                    0.674107   \n",
       "       1      2                                    0.482143   \n",
       "       0      3                                    0.000000   \n",
       "...                                                     ...   \n",
       "1792   1      34                                   0.000000   \n",
       "       0      35                                   0.000000   \n",
       "       1      35                                   0.000000   \n",
       "       0      36                                   0.000000   \n",
       "       1      36                                   0.000000   \n",
       "\n",
       "                      ventas_totales_1_mes_pasado  \\\n",
       "pdv_id mes_id sku_id                                \n",
       "1      0      1                                 1   \n",
       "       1      1                                 1   \n",
       "       0      2                                 1   \n",
       "       1      2                                 1   \n",
       "       0      3                                 0   \n",
       "...                                           ...   \n",
       "1792   1      34                                0   \n",
       "       0      35                                0   \n",
       "       1      35                                0   \n",
       "       0      36                                0   \n",
       "       1      36                                0   \n",
       "\n",
       "                      ventas_totales_2_meses_pasados  \\\n",
       "pdv_id mes_id sku_id                                   \n",
       "1      0      1                                    1   \n",
       "       1      1                                    1   \n",
       "       0      2                                    1   \n",
       "       1      2                                    1   \n",
       "       0      3                                    0   \n",
       "...                                              ...   \n",
       "1792   1      34                                   0   \n",
       "       0      35                                   0   \n",
       "       1      35                                   0   \n",
       "       0      36                                   0   \n",
       "       1      36                                   0   \n",
       "\n",
       "                      ventas_totales_3_meses_pasados  \\\n",
       "pdv_id mes_id sku_id                                   \n",
       "1      0      1                                    1   \n",
       "       1      1                                    1   \n",
       "       0      2                                    1   \n",
       "       1      2                                    1   \n",
       "       0      3                                    0   \n",
       "...                                              ...   \n",
       "1792   1      34                                   0   \n",
       "       0      35                                   0   \n",
       "       1      35                                   0   \n",
       "       0      36                                   0   \n",
       "       1      36                                   0   \n",
       "\n",
       "                      ventas_totales_tienda_y_mes_del_mes_pasado  ...  \\\n",
       "pdv_id mes_id sku_id                                              ...   \n",
       "1      0      1                                                2  ...   \n",
       "       1      1                                                2  ...   \n",
       "       0      2                                                2  ...   \n",
       "       1      2                                                2  ...   \n",
       "       0      3                                                2  ...   \n",
       "...                                                          ...  ...   \n",
       "1792   1      34                                               0  ...   \n",
       "       0      35                                               0  ...   \n",
       "       1      35                                               0  ...   \n",
       "       0      36                                               0  ...   \n",
       "       1      36                                               0  ...   \n",
       "\n",
       "                      ventas_totales_tienda_y_mes_3_pasado  \\\n",
       "pdv_id mes_id sku_id                                         \n",
       "1      0      1                                          2   \n",
       "       1      1                                          2   \n",
       "       0      2                                          2   \n",
       "       1      2                                          2   \n",
       "       0      3                                          2   \n",
       "...                                                    ...   \n",
       "1792   1      34                                         0   \n",
       "       0      35                                         0   \n",
       "       1      35                                         0   \n",
       "       0      36                                         0   \n",
       "       1      36                                         0   \n",
       "\n",
       "                      ventas_promedio_tienda_y_mes_del_mes_pasado  \\\n",
       "pdv_id mes_id sku_id                                                \n",
       "1      0      1                                          0.055556   \n",
       "       1      1                                          0.055556   \n",
       "       0      2                                          0.055556   \n",
       "       1      2                                          0.055556   \n",
       "       0      3                                          0.055556   \n",
       "...                                                           ...   \n",
       "1792   1      34                                         0.000000   \n",
       "       0      35                                         0.000000   \n",
       "       1      35                                         0.000000   \n",
       "       0      36                                         0.000000   \n",
       "       1      36                                         0.000000   \n",
       "\n",
       "                      ventas_promedio_tienda_y_mes_2_pasado  \\\n",
       "pdv_id mes_id sku_id                                          \n",
       "1      0      1                                    0.055556   \n",
       "       1      1                                    0.055556   \n",
       "       0      2                                    0.055556   \n",
       "       1      2                                    0.055556   \n",
       "       0      3                                    0.055556   \n",
       "...                                                     ...   \n",
       "1792   1      34                                   0.000000   \n",
       "       0      35                                   0.000000   \n",
       "       1      35                                   0.000000   \n",
       "       0      36                                   0.000000   \n",
       "       1      36                                   0.000000   \n",
       "\n",
       "                      ventas_promedio_tienda_y_mes_3_pasado  \\\n",
       "pdv_id mes_id sku_id                                          \n",
       "1      0      1                                    0.055556   \n",
       "       1      1                                    0.055556   \n",
       "       0      2                                    0.055556   \n",
       "       1      2                                    0.055556   \n",
       "       0      3                                    0.055556   \n",
       "...                                                     ...   \n",
       "1792   1      34                                   0.000000   \n",
       "       0      35                                   0.000000   \n",
       "       1      35                                   0.000000   \n",
       "       0      36                                   0.000000   \n",
       "       1      36                                   0.000000   \n",
       "\n",
       "                      ventas_totales_tienda_y_sku_del_mes_pasado  \\\n",
       "pdv_id mes_id sku_id                                               \n",
       "1      0      1                                              741   \n",
       "       1      1                                              741   \n",
       "       0      2                                             1208   \n",
       "       1      2                                             1208   \n",
       "       0      3                                                0   \n",
       "...                                                          ...   \n",
       "1792   1      34                                             165   \n",
       "       0      35                                               0   \n",
       "       1      35                                               0   \n",
       "       0      36                                               0   \n",
       "       1      36                                               0   \n",
       "\n",
       "                      ventas_totales_tienda_y_sku_2_pasado  \\\n",
       "pdv_id mes_id sku_id                                         \n",
       "1      0      1                                        741   \n",
       "       1      1                                        741   \n",
       "       0      2                                       1208   \n",
       "       1      2                                       1208   \n",
       "       0      3                                          0   \n",
       "...                                                    ...   \n",
       "1792   1      34                                       165   \n",
       "       0      35                                         0   \n",
       "       1      35                                         0   \n",
       "       0      36                                         0   \n",
       "       1      36                                         0   \n",
       "\n",
       "                      ventas_totales_tienda_y_sku_3_pasado  \\\n",
       "pdv_id mes_id sku_id                                         \n",
       "1      0      1                                        741   \n",
       "       1      1                                        741   \n",
       "       0      2                                       1208   \n",
       "       1      2                                       1208   \n",
       "       0      3                                          0   \n",
       "...                                                    ...   \n",
       "1792   1      34                                       165   \n",
       "       0      35                                         0   \n",
       "       1      35                                         0   \n",
       "       0      36                                         0   \n",
       "       1      36                                         0   \n",
       "\n",
       "                      ventas_promedio_tienda_y_sku_del_mes_pasado  \\\n",
       "pdv_id mes_id sku_id                                                \n",
       "1      0      1                                          0.413504   \n",
       "       1      1                                          0.413504   \n",
       "       0      2                                          0.674107   \n",
       "       1      2                                          0.674107   \n",
       "       0      3                                          0.000000   \n",
       "...                                                           ...   \n",
       "1792   1      34                                         0.092076   \n",
       "       0      35                                         0.000000   \n",
       "       1      35                                         0.000000   \n",
       "       0      36                                         0.000000   \n",
       "       1      36                                         0.000000   \n",
       "\n",
       "                      ventas_promedio_tienda_y_sku_2_pasado  \\\n",
       "pdv_id mes_id sku_id                                          \n",
       "1      0      1                                    0.413504   \n",
       "       1      1                                    0.413504   \n",
       "       0      2                                    0.674107   \n",
       "       1      2                                    0.674107   \n",
       "       0      3                                    0.000000   \n",
       "...                                                     ...   \n",
       "1792   1      34                                   0.092076   \n",
       "       0      35                                   0.000000   \n",
       "       1      35                                   0.000000   \n",
       "       0      36                                   0.000000   \n",
       "       1      36                                   0.000000   \n",
       "\n",
       "                      ventas_promedio_tienda_y_sku_3_pasado  \n",
       "pdv_id mes_id sku_id                                         \n",
       "1      0      1                                    0.413504  \n",
       "       1      1                                    0.413504  \n",
       "       0      2                                    0.674107  \n",
       "       1      2                                    0.674107  \n",
       "       0      3                                    0.000000  \n",
       "...                                                     ...  \n",
       "1792   1      34                                   0.092076  \n",
       "       0      35                                   0.000000  \n",
       "       1      35                                   0.000000  \n",
       "       0      36                                   0.000000  \n",
       "       1      36                                   0.000000  \n",
       "\n",
       "[129024 rows x 21 columns]"
      ]
     },
     "execution_count": 18,
     "metadata": {},
     "output_type": "execute_result"
    }
   ],
   "source": [
    "ent_2"
   ]
  },
  {
   "cell_type": "code",
   "execution_count": null,
   "metadata": {},
   "outputs": [],
   "source": []
  },
  {
   "cell_type": "code",
   "execution_count": null,
   "metadata": {},
   "outputs": [],
   "source": []
  },
  {
   "cell_type": "code",
   "execution_count": null,
   "metadata": {},
   "outputs": [],
   "source": []
  },
  {
   "cell_type": "code",
   "execution_count": null,
   "metadata": {},
   "outputs": [],
   "source": []
  },
  {
   "cell_type": "markdown",
   "metadata": {},
   "source": [
    ".. .. .. .. .. .. .. .. .. .. .. .. Tercera Partición .. .. .. .. .. .. .. .. .. .. .. .."
   ]
  },
  {
   "cell_type": "code",
   "execution_count": 19,
   "metadata": {},
   "outputs": [],
   "source": [
    "ent_3 = datos_modelo[datos_modelo['mes_id']<=2]\n",
    "prueba_3 = datos_modelo[datos_modelo['mes_id']==3]\n",
    "ent_3.set_index(['pdv_id', 'mes_id','sku_id'], inplace=True)\n",
    "prueba_3.set_index(['pdv_id', 'mes_id','sku_id'], inplace=True)\n",
    "ent_x3 = ent_3.iloc[:, ent_3.columns != 'y_ventas_siguiente_mes']\n",
    "ent_y3 = ent_3.iloc[:, ent_3.columns == 'y_ventas_siguiente_mes']\n",
    "\n",
    "prueba_x3= prueba_3.iloc[:, prueba_3.columns != 'y_ventas_siguiente_mes']\n",
    "prueba_y3= prueba_3.iloc[:, prueba_3.columns == 'y_ventas_siguiente_mes']"
   ]
  },
  {
   "cell_type": "code",
   "execution_count": 20,
   "metadata": {},
   "outputs": [
    {
     "data": {
      "text/html": [
       "<div>\n",
       "<style scoped>\n",
       "    .dataframe tbody tr th:only-of-type {\n",
       "        vertical-align: middle;\n",
       "    }\n",
       "\n",
       "    .dataframe tbody tr th {\n",
       "        vertical-align: top;\n",
       "    }\n",
       "\n",
       "    .dataframe thead th {\n",
       "        text-align: right;\n",
       "    }\n",
       "</style>\n",
       "<table border=\"1\" class=\"dataframe\">\n",
       "  <thead>\n",
       "    <tr style=\"text-align: right;\">\n",
       "      <th></th>\n",
       "      <th></th>\n",
       "      <th></th>\n",
       "      <th>y_ventas_siguiente_mes</th>\n",
       "    </tr>\n",
       "    <tr>\n",
       "      <th>pdv_id</th>\n",
       "      <th>mes_id</th>\n",
       "      <th>sku_id</th>\n",
       "      <th></th>\n",
       "    </tr>\n",
       "  </thead>\n",
       "  <tbody>\n",
       "    <tr>\n",
       "      <th rowspan=\"4\" valign=\"top\">1</th>\n",
       "      <th>0</th>\n",
       "      <th>1</th>\n",
       "      <td>0</td>\n",
       "    </tr>\n",
       "    <tr>\n",
       "      <th>1</th>\n",
       "      <th>1</th>\n",
       "      <td>0</td>\n",
       "    </tr>\n",
       "    <tr>\n",
       "      <th>2</th>\n",
       "      <th>1</th>\n",
       "      <td>0</td>\n",
       "    </tr>\n",
       "    <tr>\n",
       "      <th>0</th>\n",
       "      <th>2</th>\n",
       "      <td>0</td>\n",
       "    </tr>\n",
       "  </tbody>\n",
       "</table>\n",
       "</div>"
      ],
      "text/plain": [
       "                      y_ventas_siguiente_mes\n",
       "pdv_id mes_id sku_id                        \n",
       "1      0      1                            0\n",
       "       1      1                            0\n",
       "       2      1                            0\n",
       "       0      2                            0"
      ]
     },
     "execution_count": 20,
     "metadata": {},
     "output_type": "execute_result"
    }
   ],
   "source": [
    "ent_y3.head(4)"
   ]
  },
  {
   "cell_type": "code",
   "execution_count": null,
   "metadata": {},
   "outputs": [],
   "source": []
  },
  {
   "cell_type": "code",
   "execution_count": null,
   "metadata": {},
   "outputs": [],
   "source": []
  },
  {
   "cell_type": "code",
   "execution_count": null,
   "metadata": {},
   "outputs": [],
   "source": []
  },
  {
   "cell_type": "code",
   "execution_count": null,
   "metadata": {},
   "outputs": [],
   "source": []
  },
  {
   "cell_type": "code",
   "execution_count": null,
   "metadata": {},
   "outputs": [],
   "source": []
  },
  {
   "cell_type": "code",
   "execution_count": null,
   "metadata": {},
   "outputs": [],
   "source": []
  },
  {
   "cell_type": "markdown",
   "metadata": {},
   "source": [
    ".. .. .. .. .. .. .. .. .. .. .. .. Cuarta Partición .. .. .. .. .. .. .. .. .. .. .. .."
   ]
  },
  {
   "cell_type": "code",
   "execution_count": 21,
   "metadata": {},
   "outputs": [],
   "source": [
    "ent_4= datos_modelo[datos_modelo['mes_id']<=3]\n",
    "prueba_4 = datos_modelo[datos_modelo['mes_id']==4]\n",
    "ent_4.set_index(['pdv_id', 'mes_id','sku_id'], inplace=True)\n",
    "prueba_4.set_index(['pdv_id', 'mes_id','sku_id'], inplace=True)\n",
    "ent_x4 = ent_4.iloc[:, ent_4.columns != 'y_ventas_siguiente_mes']\n",
    "ent_y4 = ent_4.iloc[:, ent_4.columns == 'y_ventas_siguiente_mes']\n",
    "\n",
    "prueba_x4= prueba_4.iloc[:, prueba_4.columns != 'y_ventas_siguiente_mes']\n",
    "prueba_y4= prueba_4.iloc[:, prueba_4.columns == 'y_ventas_siguiente_mes']"
   ]
  },
  {
   "cell_type": "code",
   "execution_count": null,
   "metadata": {},
   "outputs": [],
   "source": []
  },
  {
   "cell_type": "code",
   "execution_count": null,
   "metadata": {},
   "outputs": [],
   "source": []
  },
  {
   "cell_type": "code",
   "execution_count": null,
   "metadata": {},
   "outputs": [],
   "source": []
  },
  {
   "cell_type": "code",
   "execution_count": null,
   "metadata": {},
   "outputs": [],
   "source": []
  },
  {
   "cell_type": "code",
   "execution_count": null,
   "metadata": {},
   "outputs": [],
   "source": []
  },
  {
   "cell_type": "code",
   "execution_count": null,
   "metadata": {},
   "outputs": [],
   "source": []
  },
  {
   "cell_type": "code",
   "execution_count": null,
   "metadata": {},
   "outputs": [],
   "source": []
  },
  {
   "cell_type": "markdown",
   "metadata": {},
   "source": [
    ".. .. .. .. .. .. .. .. .. .. .. .. Quinta Partición .. .. .. .. .. .. .. .. .. .. .. .."
   ]
  },
  {
   "cell_type": "code",
   "execution_count": 22,
   "metadata": {},
   "outputs": [],
   "source": [
    "ent_5= datos_modelo[datos_modelo['mes_id']<=4]\n",
    "prueba_5 = datos_modelo[datos_modelo['mes_id']==5]\n",
    "ent_5.set_index(['pdv_id', 'mes_id','sku_id'], inplace=True)\n",
    "prueba_5.set_index(['pdv_id', 'mes_id','sku_id'], inplace=True)\n",
    "ent_x5 = ent_5.iloc[:, ent_5.columns != 'y_ventas_siguiente_mes']\n",
    "ent_y5 = ent_5.iloc[:, ent_5.columns == 'y_ventas_siguiente_mes']\n",
    "\n",
    "prueba_x5= prueba_5.iloc[:, prueba_5.columns != 'y_ventas_siguiente_mes']\n",
    "prueba_y5= prueba_5.iloc[:, prueba_5.columns == 'y_ventas_siguiente_mes']"
   ]
  },
  {
   "cell_type": "code",
   "execution_count": null,
   "metadata": {},
   "outputs": [],
   "source": []
  },
  {
   "cell_type": "code",
   "execution_count": null,
   "metadata": {},
   "outputs": [],
   "source": []
  },
  {
   "cell_type": "code",
   "execution_count": null,
   "metadata": {},
   "outputs": [],
   "source": []
  },
  {
   "cell_type": "code",
   "execution_count": null,
   "metadata": {},
   "outputs": [],
   "source": []
  },
  {
   "cell_type": "code",
   "execution_count": null,
   "metadata": {},
   "outputs": [],
   "source": []
  },
  {
   "cell_type": "code",
   "execution_count": null,
   "metadata": {},
   "outputs": [],
   "source": []
  },
  {
   "cell_type": "code",
   "execution_count": null,
   "metadata": {},
   "outputs": [],
   "source": []
  },
  {
   "cell_type": "markdown",
   "metadata": {},
   "source": [
    ".. .. .. .. .. .. .. .. .. .. .. .. Sexta Partición .. .. .. .. .. .. .. .. .. .. .. .."
   ]
  },
  {
   "cell_type": "code",
   "execution_count": 23,
   "metadata": {},
   "outputs": [],
   "source": [
    "ent_6= datos_modelo[datos_modelo['mes_id']<=5]\n",
    "prueba_6 = datos_modelo[datos_modelo['mes_id']==6]\n",
    "ent_6.set_index(['pdv_id', 'mes_id','sku_id'], inplace=True)\n",
    "prueba_6.set_index(['pdv_id', 'mes_id','sku_id'], inplace=True)\n",
    "ent_x6 = ent_6.iloc[:, ent_6.columns != 'y_ventas_siguiente_mes']\n",
    "ent_y6 = ent_6.iloc[:, ent_6.columns == 'y_ventas_siguiente_mes']\n",
    "\n",
    "prueba_x6= prueba_6.iloc[:, prueba_6.columns != 'y_ventas_siguiente_mes']\n",
    "prueba_y6= prueba_6.iloc[:, prueba_6.columns == 'y_ventas_siguiente_mes']"
   ]
  },
  {
   "cell_type": "code",
   "execution_count": null,
   "metadata": {},
   "outputs": [],
   "source": []
  },
  {
   "cell_type": "code",
   "execution_count": null,
   "metadata": {},
   "outputs": [],
   "source": []
  },
  {
   "cell_type": "code",
   "execution_count": null,
   "metadata": {},
   "outputs": [],
   "source": []
  },
  {
   "cell_type": "code",
   "execution_count": null,
   "metadata": {},
   "outputs": [],
   "source": []
  },
  {
   "cell_type": "code",
   "execution_count": null,
   "metadata": {},
   "outputs": [],
   "source": []
  },
  {
   "cell_type": "code",
   "execution_count": null,
   "metadata": {},
   "outputs": [],
   "source": []
  },
  {
   "cell_type": "code",
   "execution_count": null,
   "metadata": {},
   "outputs": [],
   "source": []
  },
  {
   "cell_type": "markdown",
   "metadata": {},
   "source": [
    ".. .. .. .. .. .. .. .. .. .. .. .. Séptima Partición .. .. .. .. .. .. .. .. .. .. .. .."
   ]
  },
  {
   "cell_type": "code",
   "execution_count": 24,
   "metadata": {},
   "outputs": [],
   "source": [
    "ent_7= datos_modelo[datos_modelo['mes_id']<=6]\n",
    "prueba_7 = datos_modelo[datos_modelo['mes_id']==7]\n",
    "ent_7.set_index(['pdv_id', 'mes_id','sku_id'], inplace=True)\n",
    "prueba_7.set_index(['pdv_id', 'mes_id','sku_id'], inplace=True)\n",
    "ent_x7 = ent_7.iloc[:, ent_7.columns != 'y_ventas_siguiente_mes']\n",
    "ent_y7 = ent_7.iloc[:, ent_7.columns == 'y_ventas_siguiente_mes']\n",
    "\n",
    "prueba_x7= prueba_7.iloc[:, prueba_7.columns != 'y_ventas_siguiente_mes']\n",
    "prueba_y7= prueba_7.iloc[:, prueba_7.columns == 'y_ventas_siguiente_mes']"
   ]
  },
  {
   "cell_type": "code",
   "execution_count": null,
   "metadata": {},
   "outputs": [],
   "source": []
  },
  {
   "cell_type": "code",
   "execution_count": null,
   "metadata": {},
   "outputs": [],
   "source": []
  },
  {
   "cell_type": "code",
   "execution_count": null,
   "metadata": {},
   "outputs": [],
   "source": []
  },
  {
   "cell_type": "code",
   "execution_count": null,
   "metadata": {},
   "outputs": [],
   "source": []
  },
  {
   "cell_type": "code",
   "execution_count": null,
   "metadata": {},
   "outputs": [],
   "source": []
  },
  {
   "cell_type": "code",
   "execution_count": null,
   "metadata": {},
   "outputs": [],
   "source": []
  },
  {
   "cell_type": "code",
   "execution_count": null,
   "metadata": {},
   "outputs": [],
   "source": []
  },
  {
   "cell_type": "markdown",
   "metadata": {},
   "source": [
    ".. .. .. .. .. .. .. .. .. .. .. .. Octava Partición .. .. .. .. .. .. .. .. .. .. .. .."
   ]
  },
  {
   "cell_type": "code",
   "execution_count": 25,
   "metadata": {},
   "outputs": [],
   "source": [
    "ent_8= datos_modelo[datos_modelo['mes_id']<=7]\n",
    "prueba_8 = datos_modelo[datos_modelo['mes_id']==8]\n",
    "ent_8.set_index(['pdv_id', 'mes_id','sku_id'], inplace=True)\n",
    "prueba_8.set_index(['pdv_id', 'mes_id','sku_id'], inplace=True)\n",
    "ent_x8 = ent_8.iloc[:, ent_8.columns != 'y_ventas_siguiente_mes']\n",
    "ent_y8 = ent_8.iloc[:, ent_8.columns == 'y_ventas_siguiente_mes']\n",
    "\n",
    "prueba_x8= prueba_8.iloc[:, prueba_8.columns != 'y_ventas_siguiente_mes']\n",
    "prueba_y8= prueba_8.iloc[:, prueba_8.columns == 'y_ventas_siguiente_mes']"
   ]
  },
  {
   "cell_type": "code",
   "execution_count": null,
   "metadata": {},
   "outputs": [],
   "source": []
  },
  {
   "cell_type": "code",
   "execution_count": null,
   "metadata": {},
   "outputs": [],
   "source": []
  },
  {
   "cell_type": "code",
   "execution_count": null,
   "metadata": {},
   "outputs": [],
   "source": []
  },
  {
   "cell_type": "code",
   "execution_count": null,
   "metadata": {},
   "outputs": [],
   "source": []
  },
  {
   "cell_type": "code",
   "execution_count": null,
   "metadata": {},
   "outputs": [],
   "source": []
  },
  {
   "cell_type": "code",
   "execution_count": null,
   "metadata": {},
   "outputs": [],
   "source": []
  },
  {
   "cell_type": "code",
   "execution_count": null,
   "metadata": {},
   "outputs": [],
   "source": []
  },
  {
   "cell_type": "markdown",
   "metadata": {},
   "source": [
    "# Parte 3: Modelado"
   ]
  },
  {
   "cell_type": "code",
   "execution_count": 26,
   "metadata": {},
   "outputs": [],
   "source": [
    "import numpy as np #determinar un rango de valores \"clip\"\n",
    "from sklearn import tree #importar función para construir árboles\n",
    "from sklearn.metrics import mean_squared_error, r2_score, mean_absolute_error #errores que queremos calcular \n",
    "#from scipy.stats import sem\n",
    "import warnings; warnings.simplefilter('ignore')#WARNING EN 3.3"
   ]
  },
  {
   "cell_type": "markdown",
   "metadata": {},
   "source": [
    "### Parte 3.1: Entrenar Modelo (8 modelos en total - Validación Cruzada)"
   ]
  },
  {
   "cell_type": "markdown",
   "metadata": {},
   "source": [
    "._._  ._._  ._._  ._._  ._._  ._._  ._._  ._._  ._._  ._._  ._._  ._._ Primera Partición ._._  ._._  ._._  ._._  ._._  ._._  ._._  ._._  ._._  ._._  ._._  ._._"
   ]
  },
  {
   "cell_type": "code",
   "execution_count": 27,
   "metadata": {},
   "outputs": [],
   "source": [
    "# 1. CONSTRUIR MODELO\n",
    "modelo_1 = tree.DecisionTreeRegressor(max_depth=1)"
   ]
  },
  {
   "cell_type": "code",
   "execution_count": 28,
   "metadata": {},
   "outputs": [
    {
     "data": {
      "text/plain": [
       "DecisionTreeRegressor(max_depth=1)"
      ]
     },
     "execution_count": 28,
     "metadata": {},
     "output_type": "execute_result"
    }
   ],
   "source": [
    "# 2. ENTRENAMOS EL MODELO (.FIT)\n",
    "modelo_1.fit(ent_x1, ent_y1)"
   ]
  },
  {
   "cell_type": "code",
   "execution_count": 29,
   "metadata": {},
   "outputs": [
    {
     "data": {
      "text/plain": [
       "array([0.11121361, 0.11121361, 0.11121361, ..., 0.11121361, 0.11121361,\n",
       "       0.11121361])"
      ]
     },
     "execution_count": 29,
     "metadata": {},
     "output_type": "execute_result"
    }
   ],
   "source": [
    "# 3. HACER PREDICCIONES: CALCULAR ERROR DE ENTRENAMIENTO \n",
    "pred1_ent = modelo_1.predict(ent_x1) \n",
    "pred1_ent"
   ]
  },
  {
   "cell_type": "code",
   "execution_count": 30,
   "metadata": {},
   "outputs": [
    {
     "data": {
      "text/plain": [
       "0.11121361213612137"
      ]
     },
     "execution_count": 30,
     "metadata": {},
     "output_type": "execute_result"
    }
   ],
   "source": [
    "# 3.1 CALCULAR MÁXIMOS Y MÍNIMOS DE PREDICCIÓN (PARA VER RANGO DE PREDICCIÓN) - max() - min()\n",
    "min(pred1_ent)"
   ]
  },
  {
   "cell_type": "code",
   "execution_count": 31,
   "metadata": {},
   "outputs": [
    {
     "data": {
      "text/plain": [
       "array([0., 0., 0., ..., 0., 0., 0.])"
      ]
     },
     "execution_count": 31,
     "metadata": {},
     "output_type": "execute_result"
    }
   ],
   "source": [
    "# 3.2 REDONDEAR Y AJUSTAR VALORES\n",
    "pred1_ent = np.clip(pred1_ent,0,20).round() #rango de valores \n",
    "pred1_ent"
   ]
  },
  {
   "cell_type": "code",
   "execution_count": 32,
   "metadata": {},
   "outputs": [],
   "source": [
    "# 3.3 JUNTAR DATOS PARA PODER CALCULAR ERROR\n",
    "ent_1['ventas_por_mes_pred'] = pred1_ent"
   ]
  },
  {
   "cell_type": "code",
   "execution_count": 33,
   "metadata": {},
   "outputs": [
    {
     "data": {
      "text/html": [
       "<div>\n",
       "<style scoped>\n",
       "    .dataframe tbody tr th:only-of-type {\n",
       "        vertical-align: middle;\n",
       "    }\n",
       "\n",
       "    .dataframe tbody tr th {\n",
       "        vertical-align: top;\n",
       "    }\n",
       "\n",
       "    .dataframe thead th {\n",
       "        text-align: right;\n",
       "    }\n",
       "</style>\n",
       "<table border=\"1\" class=\"dataframe\">\n",
       "  <thead>\n",
       "    <tr style=\"text-align: right;\">\n",
       "      <th></th>\n",
       "      <th></th>\n",
       "      <th></th>\n",
       "      <th>ventas_totales</th>\n",
       "      <th>y_ventas_siguiente_mes</th>\n",
       "      <th>ventas_totales_en_tienda_de_cada_mes</th>\n",
       "      <th>ventas_promedio_en_tienda_de_cada_mes</th>\n",
       "      <th>ventas_totales_en_tienda_de_cada_sku</th>\n",
       "      <th>ventas_promedio_en_tienda_de_cada_sku</th>\n",
       "      <th>ventas_totales_1_mes_pasado</th>\n",
       "      <th>ventas_totales_2_meses_pasados</th>\n",
       "      <th>ventas_totales_3_meses_pasados</th>\n",
       "      <th>ventas_totales_tienda_y_mes_del_mes_pasado</th>\n",
       "      <th>...</th>\n",
       "      <th>ventas_promedio_tienda_y_mes_del_mes_pasado</th>\n",
       "      <th>ventas_promedio_tienda_y_mes_2_pasado</th>\n",
       "      <th>ventas_promedio_tienda_y_mes_3_pasado</th>\n",
       "      <th>ventas_totales_tienda_y_sku_del_mes_pasado</th>\n",
       "      <th>ventas_totales_tienda_y_sku_2_pasado</th>\n",
       "      <th>ventas_totales_tienda_y_sku_3_pasado</th>\n",
       "      <th>ventas_promedio_tienda_y_sku_del_mes_pasado</th>\n",
       "      <th>ventas_promedio_tienda_y_sku_2_pasado</th>\n",
       "      <th>ventas_promedio_tienda_y_sku_3_pasado</th>\n",
       "      <th>ventas_por_mes_pred</th>\n",
       "    </tr>\n",
       "    <tr>\n",
       "      <th>pdv_id</th>\n",
       "      <th>mes_id</th>\n",
       "      <th>sku_id</th>\n",
       "      <th></th>\n",
       "      <th></th>\n",
       "      <th></th>\n",
       "      <th></th>\n",
       "      <th></th>\n",
       "      <th></th>\n",
       "      <th></th>\n",
       "      <th></th>\n",
       "      <th></th>\n",
       "      <th></th>\n",
       "      <th></th>\n",
       "      <th></th>\n",
       "      <th></th>\n",
       "      <th></th>\n",
       "      <th></th>\n",
       "      <th></th>\n",
       "      <th></th>\n",
       "      <th></th>\n",
       "      <th></th>\n",
       "      <th></th>\n",
       "      <th></th>\n",
       "    </tr>\n",
       "  </thead>\n",
       "  <tbody>\n",
       "    <tr>\n",
       "      <th rowspan=\"5\" valign=\"top\">1</th>\n",
       "      <th rowspan=\"5\" valign=\"top\">0</th>\n",
       "      <th>1</th>\n",
       "      <td>1</td>\n",
       "      <td>0</td>\n",
       "      <td>2</td>\n",
       "      <td>0.055556</td>\n",
       "      <td>741</td>\n",
       "      <td>0.413504</td>\n",
       "      <td>1</td>\n",
       "      <td>1</td>\n",
       "      <td>1</td>\n",
       "      <td>2</td>\n",
       "      <td>...</td>\n",
       "      <td>0.055556</td>\n",
       "      <td>0.055556</td>\n",
       "      <td>0.055556</td>\n",
       "      <td>741</td>\n",
       "      <td>741</td>\n",
       "      <td>741</td>\n",
       "      <td>0.413504</td>\n",
       "      <td>0.413504</td>\n",
       "      <td>0.413504</td>\n",
       "      <td>0.0</td>\n",
       "    </tr>\n",
       "    <tr>\n",
       "      <th>2</th>\n",
       "      <td>1</td>\n",
       "      <td>0</td>\n",
       "      <td>2</td>\n",
       "      <td>0.055556</td>\n",
       "      <td>1208</td>\n",
       "      <td>0.674107</td>\n",
       "      <td>1</td>\n",
       "      <td>1</td>\n",
       "      <td>1</td>\n",
       "      <td>2</td>\n",
       "      <td>...</td>\n",
       "      <td>0.055556</td>\n",
       "      <td>0.055556</td>\n",
       "      <td>0.055556</td>\n",
       "      <td>1208</td>\n",
       "      <td>1208</td>\n",
       "      <td>1208</td>\n",
       "      <td>0.674107</td>\n",
       "      <td>0.674107</td>\n",
       "      <td>0.674107</td>\n",
       "      <td>0.0</td>\n",
       "    </tr>\n",
       "    <tr>\n",
       "      <th>3</th>\n",
       "      <td>0</td>\n",
       "      <td>1</td>\n",
       "      <td>2</td>\n",
       "      <td>0.055556</td>\n",
       "      <td>0</td>\n",
       "      <td>0.000000</td>\n",
       "      <td>0</td>\n",
       "      <td>0</td>\n",
       "      <td>0</td>\n",
       "      <td>2</td>\n",
       "      <td>...</td>\n",
       "      <td>0.055556</td>\n",
       "      <td>0.055556</td>\n",
       "      <td>0.055556</td>\n",
       "      <td>0</td>\n",
       "      <td>0</td>\n",
       "      <td>0</td>\n",
       "      <td>0.000000</td>\n",
       "      <td>0.000000</td>\n",
       "      <td>0.000000</td>\n",
       "      <td>0.0</td>\n",
       "    </tr>\n",
       "    <tr>\n",
       "      <th>4</th>\n",
       "      <td>0</td>\n",
       "      <td>0</td>\n",
       "      <td>2</td>\n",
       "      <td>0.055556</td>\n",
       "      <td>0</td>\n",
       "      <td>0.000000</td>\n",
       "      <td>0</td>\n",
       "      <td>0</td>\n",
       "      <td>0</td>\n",
       "      <td>2</td>\n",
       "      <td>...</td>\n",
       "      <td>0.055556</td>\n",
       "      <td>0.055556</td>\n",
       "      <td>0.055556</td>\n",
       "      <td>0</td>\n",
       "      <td>0</td>\n",
       "      <td>0</td>\n",
       "      <td>0.000000</td>\n",
       "      <td>0.000000</td>\n",
       "      <td>0.000000</td>\n",
       "      <td>0.0</td>\n",
       "    </tr>\n",
       "    <tr>\n",
       "      <th>5</th>\n",
       "      <td>0</td>\n",
       "      <td>0</td>\n",
       "      <td>2</td>\n",
       "      <td>0.055556</td>\n",
       "      <td>0</td>\n",
       "      <td>0.000000</td>\n",
       "      <td>0</td>\n",
       "      <td>0</td>\n",
       "      <td>0</td>\n",
       "      <td>2</td>\n",
       "      <td>...</td>\n",
       "      <td>0.055556</td>\n",
       "      <td>0.055556</td>\n",
       "      <td>0.055556</td>\n",
       "      <td>0</td>\n",
       "      <td>0</td>\n",
       "      <td>0</td>\n",
       "      <td>0.000000</td>\n",
       "      <td>0.000000</td>\n",
       "      <td>0.000000</td>\n",
       "      <td>0.0</td>\n",
       "    </tr>\n",
       "  </tbody>\n",
       "</table>\n",
       "<p>5 rows × 22 columns</p>\n",
       "</div>"
      ],
      "text/plain": [
       "                      ventas_totales  y_ventas_siguiente_mes  \\\n",
       "pdv_id mes_id sku_id                                           \n",
       "1      0      1                    1                       0   \n",
       "              2                    1                       0   \n",
       "              3                    0                       1   \n",
       "              4                    0                       0   \n",
       "              5                    0                       0   \n",
       "\n",
       "                      ventas_totales_en_tienda_de_cada_mes  \\\n",
       "pdv_id mes_id sku_id                                         \n",
       "1      0      1                                          2   \n",
       "              2                                          2   \n",
       "              3                                          2   \n",
       "              4                                          2   \n",
       "              5                                          2   \n",
       "\n",
       "                      ventas_promedio_en_tienda_de_cada_mes  \\\n",
       "pdv_id mes_id sku_id                                          \n",
       "1      0      1                                    0.055556   \n",
       "              2                                    0.055556   \n",
       "              3                                    0.055556   \n",
       "              4                                    0.055556   \n",
       "              5                                    0.055556   \n",
       "\n",
       "                      ventas_totales_en_tienda_de_cada_sku  \\\n",
       "pdv_id mes_id sku_id                                         \n",
       "1      0      1                                        741   \n",
       "              2                                       1208   \n",
       "              3                                          0   \n",
       "              4                                          0   \n",
       "              5                                          0   \n",
       "\n",
       "                      ventas_promedio_en_tienda_de_cada_sku  \\\n",
       "pdv_id mes_id sku_id                                          \n",
       "1      0      1                                    0.413504   \n",
       "              2                                    0.674107   \n",
       "              3                                    0.000000   \n",
       "              4                                    0.000000   \n",
       "              5                                    0.000000   \n",
       "\n",
       "                      ventas_totales_1_mes_pasado  \\\n",
       "pdv_id mes_id sku_id                                \n",
       "1      0      1                                 1   \n",
       "              2                                 1   \n",
       "              3                                 0   \n",
       "              4                                 0   \n",
       "              5                                 0   \n",
       "\n",
       "                      ventas_totales_2_meses_pasados  \\\n",
       "pdv_id mes_id sku_id                                   \n",
       "1      0      1                                    1   \n",
       "              2                                    1   \n",
       "              3                                    0   \n",
       "              4                                    0   \n",
       "              5                                    0   \n",
       "\n",
       "                      ventas_totales_3_meses_pasados  \\\n",
       "pdv_id mes_id sku_id                                   \n",
       "1      0      1                                    1   \n",
       "              2                                    1   \n",
       "              3                                    0   \n",
       "              4                                    0   \n",
       "              5                                    0   \n",
       "\n",
       "                      ventas_totales_tienda_y_mes_del_mes_pasado  ...  \\\n",
       "pdv_id mes_id sku_id                                              ...   \n",
       "1      0      1                                                2  ...   \n",
       "              2                                                2  ...   \n",
       "              3                                                2  ...   \n",
       "              4                                                2  ...   \n",
       "              5                                                2  ...   \n",
       "\n",
       "                      ventas_promedio_tienda_y_mes_del_mes_pasado  \\\n",
       "pdv_id mes_id sku_id                                                \n",
       "1      0      1                                          0.055556   \n",
       "              2                                          0.055556   \n",
       "              3                                          0.055556   \n",
       "              4                                          0.055556   \n",
       "              5                                          0.055556   \n",
       "\n",
       "                      ventas_promedio_tienda_y_mes_2_pasado  \\\n",
       "pdv_id mes_id sku_id                                          \n",
       "1      0      1                                    0.055556   \n",
       "              2                                    0.055556   \n",
       "              3                                    0.055556   \n",
       "              4                                    0.055556   \n",
       "              5                                    0.055556   \n",
       "\n",
       "                      ventas_promedio_tienda_y_mes_3_pasado  \\\n",
       "pdv_id mes_id sku_id                                          \n",
       "1      0      1                                    0.055556   \n",
       "              2                                    0.055556   \n",
       "              3                                    0.055556   \n",
       "              4                                    0.055556   \n",
       "              5                                    0.055556   \n",
       "\n",
       "                      ventas_totales_tienda_y_sku_del_mes_pasado  \\\n",
       "pdv_id mes_id sku_id                                               \n",
       "1      0      1                                              741   \n",
       "              2                                             1208   \n",
       "              3                                                0   \n",
       "              4                                                0   \n",
       "              5                                                0   \n",
       "\n",
       "                      ventas_totales_tienda_y_sku_2_pasado  \\\n",
       "pdv_id mes_id sku_id                                         \n",
       "1      0      1                                        741   \n",
       "              2                                       1208   \n",
       "              3                                          0   \n",
       "              4                                          0   \n",
       "              5                                          0   \n",
       "\n",
       "                      ventas_totales_tienda_y_sku_3_pasado  \\\n",
       "pdv_id mes_id sku_id                                         \n",
       "1      0      1                                        741   \n",
       "              2                                       1208   \n",
       "              3                                          0   \n",
       "              4                                          0   \n",
       "              5                                          0   \n",
       "\n",
       "                      ventas_promedio_tienda_y_sku_del_mes_pasado  \\\n",
       "pdv_id mes_id sku_id                                                \n",
       "1      0      1                                          0.413504   \n",
       "              2                                          0.674107   \n",
       "              3                                          0.000000   \n",
       "              4                                          0.000000   \n",
       "              5                                          0.000000   \n",
       "\n",
       "                      ventas_promedio_tienda_y_sku_2_pasado  \\\n",
       "pdv_id mes_id sku_id                                          \n",
       "1      0      1                                    0.413504   \n",
       "              2                                    0.674107   \n",
       "              3                                    0.000000   \n",
       "              4                                    0.000000   \n",
       "              5                                    0.000000   \n",
       "\n",
       "                      ventas_promedio_tienda_y_sku_3_pasado  \\\n",
       "pdv_id mes_id sku_id                                          \n",
       "1      0      1                                    0.413504   \n",
       "              2                                    0.674107   \n",
       "              3                                    0.000000   \n",
       "              4                                    0.000000   \n",
       "              5                                    0.000000   \n",
       "\n",
       "                      ventas_por_mes_pred  \n",
       "pdv_id mes_id sku_id                       \n",
       "1      0      1                       0.0  \n",
       "              2                       0.0  \n",
       "              3                       0.0  \n",
       "              4                       0.0  \n",
       "              5                       0.0  \n",
       "\n",
       "[5 rows x 22 columns]"
      ]
     },
     "execution_count": 33,
     "metadata": {},
     "output_type": "execute_result"
    }
   ],
   "source": [
    "ent_1.head(5)"
   ]
  },
  {
   "cell_type": "code",
   "execution_count": 34,
   "metadata": {},
   "outputs": [
    {
     "name": "stdout",
     "output_type": "stream",
     "text": [
      "Mean Absolute Error: 0.201776\n",
      "Mean Squared Error: 0.37455\n",
      "R-squared scores: 0.033631\n"
     ]
    }
   ],
   "source": [
    "# 3.4 CALCULAR ERRORES CON FUNCIONES DE PAQUETERÍA \n",
    "\n",
    "# Mean absolute error (MAE)\n",
    "ent1_mae = mean_absolute_error(ent_1.y_ventas_siguiente_mes, ent_1.ventas_por_mes_pred)\n",
    "\n",
    "# Mean squared error (MSE)\n",
    "ent1_mse = mean_squared_error(ent_1.y_ventas_siguiente_mes, ent_1.ventas_por_mes_pred)\n",
    "\n",
    "# R-squared scores\n",
    "ent1_r2 = r2_score(ent_1.y_ventas_siguiente_mes, ent_1.ventas_por_mes_pred)\n",
    "\n",
    "\n",
    "# Print metrics\n",
    "print('Mean Absolute Error:', round(ent1_mae, 6))\n",
    "print('Mean Squared Error:', round(ent1_mse, 6))\n",
    "print('R-squared scores:', round(ent1_r2, 6))"
   ]
  },
  {
   "cell_type": "markdown",
   "metadata": {},
   "source": [
    ".. .. .. .. .. .. .. .. .. .. .. .. Segunda Partición .. .. .. .. .. .. .. .. .. .. .. ..\n"
   ]
  },
  {
   "cell_type": "code",
   "execution_count": 35,
   "metadata": {},
   "outputs": [
    {
     "data": {
      "text/plain": [
       "array([0.14418906, 0.14418906, 0.14418906, ..., 0.14418906, 0.14418906,\n",
       "       0.14418906])"
      ]
     },
     "execution_count": 35,
     "metadata": {},
     "output_type": "execute_result"
    }
   ],
   "source": [
    "modelo_2 = tree.DecisionTreeRegressor(max_depth=1)\n",
    "modelo_2.fit(ent_x2, ent_y2)\n",
    "pred2_ent = modelo_2.predict(ent_x2) \n",
    "pred2_ent\n"
   ]
  },
  {
   "cell_type": "code",
   "execution_count": 36,
   "metadata": {},
   "outputs": [
    {
     "data": {
      "text/plain": [
       "0.14418905639575294"
      ]
     },
     "execution_count": 36,
     "metadata": {},
     "output_type": "execute_result"
    }
   ],
   "source": [
    "min(pred2_ent)"
   ]
  },
  {
   "cell_type": "code",
   "execution_count": 37,
   "metadata": {},
   "outputs": [
    {
     "data": {
      "text/plain": [
       "array([0., 0., 0., ..., 0., 0., 0.])"
      ]
     },
     "execution_count": 37,
     "metadata": {},
     "output_type": "execute_result"
    }
   ],
   "source": [
    "pred2_ent = np.clip(pred2_ent,0,20).round() #rango de valores \n",
    "pred2_ent"
   ]
  },
  {
   "cell_type": "code",
   "execution_count": 38,
   "metadata": {},
   "outputs": [],
   "source": [
    "ent_2['ventas_por_mes_pred'] = pred2_ent\n"
   ]
  },
  {
   "cell_type": "code",
   "execution_count": 39,
   "metadata": {},
   "outputs": [
    {
     "name": "stdout",
     "output_type": "stream",
     "text": [
      "Mean Absolute Error: 0.194739\n",
      "Mean Squared Error: 0.544751\n",
      "R-squared scores: 0.108263\n"
     ]
    }
   ],
   "source": [
    "# 3.4 CALCULAR ERRORES CON FUNCIONES DE PAQUETERÍA \n",
    "\n",
    "# Mean absolute error (MAE)\n",
    "ent2_mae = mean_absolute_error(ent_2.y_ventas_siguiente_mes, ent_2.ventas_por_mes_pred)\n",
    "\n",
    "# Mean squared error (MSE)\n",
    "ent2_mse = mean_squared_error(ent_2.y_ventas_siguiente_mes, ent_2.ventas_por_mes_pred)\n",
    "\n",
    "# R-squared scores\n",
    "ent2_r2 = r2_score(ent_2.y_ventas_siguiente_mes, ent_2.ventas_por_mes_pred)\n",
    "\n",
    "\n",
    "# Print metrics\n",
    "print('Mean Absolute Error:', round(ent2_mae, 6))\n",
    "print('Mean Squared Error:', round(ent2_mse, 6))\n",
    "print('R-squared scores:', round(ent2_r2, 6))"
   ]
  },
  {
   "cell_type": "code",
   "execution_count": null,
   "metadata": {},
   "outputs": [],
   "source": []
  },
  {
   "cell_type": "code",
   "execution_count": null,
   "metadata": {},
   "outputs": [],
   "source": []
  },
  {
   "cell_type": "code",
   "execution_count": null,
   "metadata": {},
   "outputs": [],
   "source": []
  },
  {
   "cell_type": "markdown",
   "metadata": {},
   "source": [
    ".. .. .. .. .. .. .. .. .. .. .. .. Tercera Partición .. .. .. .. .. .. .. .. .. .. .. ..\n"
   ]
  },
  {
   "cell_type": "code",
   "execution_count": 40,
   "metadata": {},
   "outputs": [
    {
     "data": {
      "text/plain": [
       "array([0.16949206, 0.16949206, 0.16949206, ..., 0.16949206, 0.16949206,\n",
       "       0.16949206])"
      ]
     },
     "execution_count": 40,
     "metadata": {},
     "output_type": "execute_result"
    }
   ],
   "source": [
    "modelo_3 = tree.DecisionTreeRegressor(max_depth=1)\n",
    "modelo_3.fit(ent_x3, ent_y3)\n",
    "pred3_ent = modelo_3.predict(ent_x3) \n",
    "pred3_ent\n"
   ]
  },
  {
   "cell_type": "code",
   "execution_count": 41,
   "metadata": {},
   "outputs": [
    {
     "data": {
      "text/plain": [
       "0.1694920594907991"
      ]
     },
     "execution_count": 41,
     "metadata": {},
     "output_type": "execute_result"
    }
   ],
   "source": [
    "min(pred3_ent)"
   ]
  },
  {
   "cell_type": "code",
   "execution_count": 42,
   "metadata": {},
   "outputs": [
    {
     "data": {
      "text/plain": [
       "array([0., 0., 0., ..., 0., 0., 0.])"
      ]
     },
     "execution_count": 42,
     "metadata": {},
     "output_type": "execute_result"
    }
   ],
   "source": [
    "pred3_ent = np.clip(pred3_ent,0,20).round() #rango de valores \n",
    "pred3_ent"
   ]
  },
  {
   "cell_type": "code",
   "execution_count": 43,
   "metadata": {},
   "outputs": [],
   "source": [
    "ent_3['ventas_por_mes_pred'] = pred3_ent"
   ]
  },
  {
   "cell_type": "code",
   "execution_count": 44,
   "metadata": {},
   "outputs": [
    {
     "name": "stdout",
     "output_type": "stream",
     "text": [
      "Mean Absolute Error: 0.206256\n",
      "Mean Squared Error: 0.625868\n",
      "R-squared scores: 0.137585\n"
     ]
    }
   ],
   "source": [
    "# 3.4 CALCULAR ERRORES CON FUNCIONES DE PAQUETERÍA \n",
    "\n",
    "# Mean absolute error (MAE)\n",
    "ent3_mae = mean_absolute_error(ent_3.y_ventas_siguiente_mes, ent_3.ventas_por_mes_pred)\n",
    "\n",
    "# Mean squared error (MSE)\n",
    "ent3_mse = mean_squared_error(ent_3.y_ventas_siguiente_mes, ent_3.ventas_por_mes_pred)\n",
    "\n",
    "# R-squared scores\n",
    "ent3_r3 = r2_score(ent_3.y_ventas_siguiente_mes, ent_3.ventas_por_mes_pred)\n",
    "\n",
    "\n",
    "# Print metrics\n",
    "print('Mean Absolute Error:', round(ent3_mae, 6))\n",
    "print('Mean Squared Error:', round(ent3_mse, 6))\n",
    "print('R-squared scores:', round(ent3_r3, 6))"
   ]
  },
  {
   "cell_type": "code",
   "execution_count": null,
   "metadata": {},
   "outputs": [],
   "source": []
  },
  {
   "cell_type": "code",
   "execution_count": null,
   "metadata": {},
   "outputs": [],
   "source": []
  },
  {
   "cell_type": "code",
   "execution_count": null,
   "metadata": {},
   "outputs": [],
   "source": []
  },
  {
   "cell_type": "code",
   "execution_count": null,
   "metadata": {},
   "outputs": [],
   "source": []
  },
  {
   "cell_type": "markdown",
   "metadata": {},
   "source": [
    ".. .. .. .. .. .. .. .. .. .. .. .. Cuarta Partición .. .. .. .. .. .. .. .. .. .. .. .."
   ]
  },
  {
   "cell_type": "code",
   "execution_count": 45,
   "metadata": {},
   "outputs": [
    {
     "data": {
      "text/plain": [
       "array([0.16303961, 0.16303961, 0.16303961, ..., 0.16303961, 0.16303961,\n",
       "       0.16303961])"
      ]
     },
     "execution_count": 45,
     "metadata": {},
     "output_type": "execute_result"
    }
   ],
   "source": [
    "modelo_4 = tree.DecisionTreeRegressor(max_depth=1)\n",
    "modelo_4.fit(ent_x4, ent_y4)\n",
    "pred4_ent = modelo_4.predict(ent_x4) \n",
    "pred4_ent"
   ]
  },
  {
   "cell_type": "code",
   "execution_count": 46,
   "metadata": {},
   "outputs": [
    {
     "data": {
      "text/plain": [
       "0.16303961451874086"
      ]
     },
     "execution_count": 46,
     "metadata": {},
     "output_type": "execute_result"
    }
   ],
   "source": [
    "min(pred4_ent)"
   ]
  },
  {
   "cell_type": "code",
   "execution_count": 47,
   "metadata": {},
   "outputs": [
    {
     "data": {
      "text/plain": [
       "array([0., 0., 0., ..., 0., 0., 0.])"
      ]
     },
     "execution_count": 47,
     "metadata": {},
     "output_type": "execute_result"
    }
   ],
   "source": [
    "pred4_ent = np.clip(pred4_ent,0,20).round() #rango de valores \n",
    "pred4_ent"
   ]
  },
  {
   "cell_type": "code",
   "execution_count": 48,
   "metadata": {},
   "outputs": [],
   "source": [
    "ent_4['ventas_por_mes_pred'] = pred4_ent"
   ]
  },
  {
   "cell_type": "code",
   "execution_count": 49,
   "metadata": {},
   "outputs": [
    {
     "name": "stdout",
     "output_type": "stream",
     "text": [
      "Mean Absolute Error: 0.208248\n",
      "Mean Squared Error: 0.691871\n",
      "R-squared scores: 0.174968\n"
     ]
    }
   ],
   "source": [
    "# 3.4 CALCULAR ERRORES CON FUNCIONES DE PAQUETERÍA \n",
    "\n",
    "# Mean absolute error (MAE)\n",
    "ent4_mae = mean_absolute_error(ent_4.y_ventas_siguiente_mes, ent_4.ventas_por_mes_pred)\n",
    "\n",
    "# Mean squared error (MSE)\n",
    "ent4_mse = mean_squared_error(ent_4.y_ventas_siguiente_mes, ent_4.ventas_por_mes_pred)\n",
    "\n",
    "# R-squared scores\n",
    "ent4_r4 = r2_score(ent_4.y_ventas_siguiente_mes, ent_4.ventas_por_mes_pred)\n",
    "\n",
    "\n",
    "# Print metrics\n",
    "print('Mean Absolute Error:', round(ent4_mae, 6))\n",
    "print('Mean Squared Error:', round(ent4_mse, 6))\n",
    "print('R-squared scores:', round(ent4_r4, 6))"
   ]
  },
  {
   "cell_type": "code",
   "execution_count": null,
   "metadata": {},
   "outputs": [],
   "source": []
  },
  {
   "cell_type": "code",
   "execution_count": null,
   "metadata": {},
   "outputs": [],
   "source": []
  },
  {
   "cell_type": "code",
   "execution_count": null,
   "metadata": {},
   "outputs": [],
   "source": []
  },
  {
   "cell_type": "markdown",
   "metadata": {},
   "source": [
    ".. .. .. .. .. .. .. .. .. .. .. .. Quinta Partición .. .. .. .. .. .. .. .. .. .. .. .."
   ]
  },
  {
   "cell_type": "code",
   "execution_count": 50,
   "metadata": {},
   "outputs": [
    {
     "data": {
      "text/plain": [
       "array([0.19266345, 0.19266345, 0.19266345, ..., 0.19266345, 0.19266345,\n",
       "       0.19266345])"
      ]
     },
     "execution_count": 50,
     "metadata": {},
     "output_type": "execute_result"
    }
   ],
   "source": [
    "modelo_5 = tree.DecisionTreeRegressor(max_depth=1)\n",
    "modelo_5.fit(ent_x5, ent_y5)\n",
    "pred5_ent = modelo_5.predict(ent_x5) \n",
    "pred5_ent"
   ]
  },
  {
   "cell_type": "code",
   "execution_count": 51,
   "metadata": {},
   "outputs": [
    {
     "data": {
      "text/plain": [
       "0.19266345487770858"
      ]
     },
     "execution_count": 51,
     "metadata": {},
     "output_type": "execute_result"
    }
   ],
   "source": [
    "min(pred5_ent)"
   ]
  },
  {
   "cell_type": "code",
   "execution_count": 52,
   "metadata": {},
   "outputs": [
    {
     "data": {
      "text/plain": [
       "array([0., 0., 0., ..., 0., 0., 0.])"
      ]
     },
     "execution_count": 52,
     "metadata": {},
     "output_type": "execute_result"
    }
   ],
   "source": [
    "pred5_ent = np.clip(pred5_ent,0,20).round() #rango de valores \n",
    "pred5_ent"
   ]
  },
  {
   "cell_type": "code",
   "execution_count": 53,
   "metadata": {},
   "outputs": [],
   "source": [
    "ent_5['ventas_por_mes_pred'] = pred5_ent"
   ]
  },
  {
   "cell_type": "code",
   "execution_count": 54,
   "metadata": {},
   "outputs": [
    {
     "name": "stdout",
     "output_type": "stream",
     "text": [
      "Mean Absolute Error: 0.23036\n",
      "Mean Squared Error: 0.825952\n",
      "R-squared scores: 0.196545\n"
     ]
    }
   ],
   "source": [
    "# 3.4 CALCULAR ERRORES CON FUNCIONES DE PAQUETERÍA \n",
    "\n",
    "# Mean absolute error (MAE)\n",
    "ent5_mae = mean_absolute_error(ent_5.y_ventas_siguiente_mes, ent_5.ventas_por_mes_pred)\n",
    "\n",
    "# Mean squared error (MSE)\n",
    "ent5_mse = mean_squared_error(ent_5.y_ventas_siguiente_mes, ent_5.ventas_por_mes_pred)\n",
    "\n",
    "# R-squared scores\n",
    "ent5_r5 = r2_score(ent_5.y_ventas_siguiente_mes, ent_5.ventas_por_mes_pred)\n",
    "\n",
    "\n",
    "# Print metrics\n",
    "print('Mean Absolute Error:', round(ent5_mae, 6))\n",
    "print('Mean Squared Error:', round(ent5_mse, 6))\n",
    "print('R-squared scores:', round(ent5_r5, 6))"
   ]
  },
  {
   "cell_type": "code",
   "execution_count": null,
   "metadata": {},
   "outputs": [],
   "source": []
  },
  {
   "cell_type": "code",
   "execution_count": null,
   "metadata": {},
   "outputs": [],
   "source": []
  },
  {
   "cell_type": "code",
   "execution_count": null,
   "metadata": {},
   "outputs": [],
   "source": []
  },
  {
   "cell_type": "markdown",
   "metadata": {},
   "source": [
    ".. .. .. .. .. .. .. .. .. .. .. .. Sexta Partición .. .. .. .. .. .. .. .. .. .. .. .."
   ]
  },
  {
   "cell_type": "code",
   "execution_count": 55,
   "metadata": {},
   "outputs": [
    {
     "data": {
      "text/plain": [
       "array([0.23022018, 0.23022018, 0.23022018, ..., 0.23022018, 0.23022018,\n",
       "       0.23022018])"
      ]
     },
     "execution_count": 55,
     "metadata": {},
     "output_type": "execute_result"
    }
   ],
   "source": [
    "modelo_6= tree.DecisionTreeRegressor(max_depth=1)\n",
    "modelo_6.fit(ent_x6, ent_y6)\n",
    "pred6_ent = modelo_6.predict(ent_x6) \n",
    "pred6_ent"
   ]
  },
  {
   "cell_type": "code",
   "execution_count": 56,
   "metadata": {},
   "outputs": [
    {
     "data": {
      "text/plain": [
       "0.2302201771468057"
      ]
     },
     "execution_count": 56,
     "metadata": {},
     "output_type": "execute_result"
    }
   ],
   "source": [
    "min(pred6_ent)"
   ]
  },
  {
   "cell_type": "code",
   "execution_count": 57,
   "metadata": {},
   "outputs": [
    {
     "data": {
      "text/plain": [
       "array([0., 0., 0., ..., 0., 0., 0.])"
      ]
     },
     "execution_count": 57,
     "metadata": {},
     "output_type": "execute_result"
    }
   ],
   "source": [
    "pred6_ent = np.clip(pred6_ent,0,20).round() #rango de valores \n",
    "pred6_ent"
   ]
  },
  {
   "cell_type": "code",
   "execution_count": 58,
   "metadata": {},
   "outputs": [],
   "source": [
    "ent_6['ventas_por_mes_pred'] = pred6_ent"
   ]
  },
  {
   "cell_type": "code",
   "execution_count": 59,
   "metadata": {},
   "outputs": [
    {
     "name": "stdout",
     "output_type": "stream",
     "text": [
      "Mean Absolute Error: 0.276251\n",
      "Mean Squared Error: 1.137068\n",
      "R-squared scores: 0.164931\n"
     ]
    }
   ],
   "source": [
    "# 3.4 CALCULAR ERRORES CON FUNCIONES DE PAQUETERÍA \n",
    "\n",
    "# Mean absolute error (MAE)\n",
    "ent6_mae = mean_absolute_error(ent_6.y_ventas_siguiente_mes, ent_6.ventas_por_mes_pred)\n",
    "\n",
    "# Mean squared error (MSE)\n",
    "ent6_mse = mean_squared_error(ent_6.y_ventas_siguiente_mes, ent_6.ventas_por_mes_pred)\n",
    "\n",
    "# R-squared scores\n",
    "ent6_r6 = r2_score(ent_6.y_ventas_siguiente_mes, ent_6.ventas_por_mes_pred)\n",
    "\n",
    "\n",
    "# Print metrics\n",
    "print('Mean Absolute Error:', round(ent6_mae, 6))\n",
    "print('Mean Squared Error:', round(ent6_mse, 6))\n",
    "print('R-squared scores:', round(ent6_r6, 6))"
   ]
  },
  {
   "cell_type": "code",
   "execution_count": null,
   "metadata": {},
   "outputs": [],
   "source": []
  },
  {
   "cell_type": "code",
   "execution_count": null,
   "metadata": {},
   "outputs": [],
   "source": []
  },
  {
   "cell_type": "code",
   "execution_count": null,
   "metadata": {},
   "outputs": [],
   "source": []
  },
  {
   "cell_type": "markdown",
   "metadata": {},
   "source": [
    ".. .. .. .. .. .. .. .. .. .. .. .. Séptima Partición .. .. .. .. .. .. .. .. .. .. .. .."
   ]
  },
  {
   "cell_type": "code",
   "execution_count": 60,
   "metadata": {},
   "outputs": [
    {
     "data": {
      "text/plain": [
       "array([0.20470923, 0.20470923, 0.20470923, ..., 0.20470923, 0.20470923,\n",
       "       0.20470923])"
      ]
     },
     "execution_count": 60,
     "metadata": {},
     "output_type": "execute_result"
    }
   ],
   "source": [
    "modelo_7= tree.DecisionTreeRegressor(max_depth=1)\n",
    "modelo_7.fit(ent_x7, ent_y7)\n",
    "pred7_ent = modelo_7.predict(ent_x7) \n",
    "pred7_ent"
   ]
  },
  {
   "cell_type": "code",
   "execution_count": 61,
   "metadata": {},
   "outputs": [
    {
     "data": {
      "text/plain": [
       "0.2047092327846443"
      ]
     },
     "execution_count": 61,
     "metadata": {},
     "output_type": "execute_result"
    }
   ],
   "source": [
    "min(pred7_ent)"
   ]
  },
  {
   "cell_type": "code",
   "execution_count": 62,
   "metadata": {},
   "outputs": [
    {
     "data": {
      "text/plain": [
       "array([0., 0., 0., ..., 0., 0., 0.])"
      ]
     },
     "execution_count": 62,
     "metadata": {},
     "output_type": "execute_result"
    }
   ],
   "source": [
    "pred7_ent = np.clip(pred7_ent,0,20).round() #rango de valores \n",
    "pred7_ent"
   ]
  },
  {
   "cell_type": "code",
   "execution_count": 63,
   "metadata": {},
   "outputs": [],
   "source": [
    "ent_7['ventas_por_mes_pred'] = pred7_ent"
   ]
  },
  {
   "cell_type": "code",
   "execution_count": 64,
   "metadata": {},
   "outputs": [
    {
     "name": "stdout",
     "output_type": "stream",
     "text": [
      "Mean Absolute Error: 0.276183\n",
      "Mean Squared Error: 1.096996\n",
      "R-squared scores: 0.140767\n"
     ]
    }
   ],
   "source": [
    "ent7_mae = mean_absolute_error(ent_7.y_ventas_siguiente_mes, ent_7.ventas_por_mes_pred)\n",
    "\n",
    "# Mean squared error (MSE)\n",
    "ent7_mse = mean_squared_error(ent_7.y_ventas_siguiente_mes, ent_7.ventas_por_mes_pred)\n",
    "\n",
    "# R-squared scores\n",
    "ent7_r7 = r2_score(ent_7.y_ventas_siguiente_mes, ent_7.ventas_por_mes_pred)\n",
    "\n",
    "\n",
    "# Print metrics\n",
    "print('Mean Absolute Error:', round(ent7_mae, 6))\n",
    "print('Mean Squared Error:', round(ent7_mse, 6))\n",
    "print('R-squared scores:', round(ent7_r7, 6))"
   ]
  },
  {
   "cell_type": "code",
   "execution_count": null,
   "metadata": {},
   "outputs": [],
   "source": []
  },
  {
   "cell_type": "code",
   "execution_count": null,
   "metadata": {},
   "outputs": [],
   "source": []
  },
  {
   "cell_type": "code",
   "execution_count": null,
   "metadata": {},
   "outputs": [],
   "source": []
  },
  {
   "cell_type": "markdown",
   "metadata": {},
   "source": [
    ".. .. .. .. .. .. .. .. .. .. .. .. Octava Partición .. .. .. .. .. .. .. .. .. .. .. .."
   ]
  },
  {
   "cell_type": "code",
   "execution_count": 65,
   "metadata": {},
   "outputs": [
    {
     "data": {
      "text/plain": [
       "array([0.19245822, 0.19245822, 0.19245822, ..., 0.19245822, 0.19245822,\n",
       "       0.19245822])"
      ]
     },
     "execution_count": 65,
     "metadata": {},
     "output_type": "execute_result"
    }
   ],
   "source": [
    "modelo_8= tree.DecisionTreeRegressor(max_depth=1)\n",
    "modelo_8.fit(ent_x8, ent_y8)\n",
    "pred8_ent = modelo_8.predict(ent_x8) \n",
    "pred8_ent"
   ]
  },
  {
   "cell_type": "code",
   "execution_count": 66,
   "metadata": {},
   "outputs": [
    {
     "data": {
      "text/plain": [
       "0.19245822190515285"
      ]
     },
     "execution_count": 66,
     "metadata": {},
     "output_type": "execute_result"
    }
   ],
   "source": [
    "min(pred8_ent)"
   ]
  },
  {
   "cell_type": "code",
   "execution_count": 67,
   "metadata": {},
   "outputs": [
    {
     "data": {
      "text/plain": [
       "array([0., 0., 0., ..., 0., 0., 0.])"
      ]
     },
     "execution_count": 67,
     "metadata": {},
     "output_type": "execute_result"
    }
   ],
   "source": [
    "pred8_ent = np.clip(pred8_ent,0,20).round() #rango de valores \n",
    "pred8_ent"
   ]
  },
  {
   "cell_type": "code",
   "execution_count": 68,
   "metadata": {},
   "outputs": [],
   "source": [
    "ent_8['ventas_por_mes_pred'] = pred8_ent"
   ]
  },
  {
   "cell_type": "code",
   "execution_count": 69,
   "metadata": {},
   "outputs": [
    {
     "name": "stdout",
     "output_type": "stream",
     "text": [
      "Mean Absolute Error: 0.262277\n",
      "Mean Squared Error: 1.008487\n",
      "R-squared scores: 0.130102\n"
     ]
    }
   ],
   "source": [
    "ent8_mae = mean_absolute_error(ent_8.y_ventas_siguiente_mes, ent_8.ventas_por_mes_pred)\n",
    "\n",
    "# Mean squared error (MSE)\n",
    "ent8_mse = mean_squared_error(ent_8.y_ventas_siguiente_mes, ent_8.ventas_por_mes_pred)\n",
    "\n",
    "# R-squared scores\n",
    "ent8_r8 = r2_score(ent_8.y_ventas_siguiente_mes, ent_8.ventas_por_mes_pred)\n",
    "\n",
    "\n",
    "# Print metrics\n",
    "print('Mean Absolute Error:', round(ent8_mae, 6))\n",
    "print('Mean Squared Error:', round(ent8_mse, 6))\n",
    "print('R-squared scores:', round(ent8_r8, 6))"
   ]
  },
  {
   "cell_type": "code",
   "execution_count": null,
   "metadata": {},
   "outputs": [],
   "source": []
  },
  {
   "cell_type": "code",
   "execution_count": null,
   "metadata": {},
   "outputs": [],
   "source": []
  },
  {
   "cell_type": "code",
   "execution_count": null,
   "metadata": {},
   "outputs": [],
   "source": []
  },
  {
   "cell_type": "markdown",
   "metadata": {},
   "source": [
    "### Parte 3.1: Probar Modelo (8 modelos en total - Validación Cruzada)"
   ]
  },
  {
   "cell_type": "markdown",
   "metadata": {},
   "source": [
    ".. .. .. .. .. .. .. .. .. .. .. .. Primera Partición .. .. .. .. .. .. .. .. .. .. .. .."
   ]
  },
  {
   "cell_type": "code",
   "execution_count": 70,
   "metadata": {},
   "outputs": [
    {
     "data": {
      "text/plain": [
       "array([0.11121361, 0.11121361, 0.11121361, ..., 0.11121361, 0.11121361,\n",
       "       0.11121361])"
      ]
     },
     "execution_count": 70,
     "metadata": {},
     "output_type": "execute_result"
    }
   ],
   "source": [
    "# 1. HACER PREDICCIONES: CALCULAR ERROR DE PRUEBA\n",
    "pred1_prueba = modelo_1.predict(prueba_x1) \n",
    "pred1_prueba"
   ]
  },
  {
   "cell_type": "code",
   "execution_count": 71,
   "metadata": {},
   "outputs": [],
   "source": [
    "# Calcular máximo y mínimo \n"
   ]
  },
  {
   "cell_type": "code",
   "execution_count": 72,
   "metadata": {},
   "outputs": [
    {
     "data": {
      "text/plain": [
       "array([0., 0., 0., ..., 0., 0., 0.])"
      ]
     },
     "execution_count": 72,
     "metadata": {},
     "output_type": "execute_result"
    }
   ],
   "source": [
    "# 2. REDONDEAR Y AJUSTAR VALORES\n",
    "pred1_prueba = np.clip(pred1_prueba,0,20).round() #rango de valores \n",
    "pred1_prueba"
   ]
  },
  {
   "cell_type": "code",
   "execution_count": 73,
   "metadata": {},
   "outputs": [
    {
     "data": {
      "text/plain": [
       "5976.0"
      ]
     },
     "execution_count": 73,
     "metadata": {},
     "output_type": "execute_result"
    }
   ],
   "source": [
    "# ¿Cuántas unidades se van a vender (prediccoión) en ese mes de prueba (en todos los puntos de venta , considerando todos los productos)?\n",
    "pred1_prueba.sum()"
   ]
  },
  {
   "cell_type": "code",
   "execution_count": 74,
   "metadata": {},
   "outputs": [],
   "source": [
    "# 3. JUNTAR DATOS PARA PODER CALCULAR ERROR\n",
    "prueba_1['ventas_por_mes_pred'] = pred1_prueba"
   ]
  },
  {
   "cell_type": "code",
   "execution_count": 75,
   "metadata": {},
   "outputs": [
    {
     "data": {
      "text/html": [
       "<div>\n",
       "<style scoped>\n",
       "    .dataframe tbody tr th:only-of-type {\n",
       "        vertical-align: middle;\n",
       "    }\n",
       "\n",
       "    .dataframe tbody tr th {\n",
       "        vertical-align: top;\n",
       "    }\n",
       "\n",
       "    .dataframe thead th {\n",
       "        text-align: right;\n",
       "    }\n",
       "</style>\n",
       "<table border=\"1\" class=\"dataframe\">\n",
       "  <thead>\n",
       "    <tr style=\"text-align: right;\">\n",
       "      <th></th>\n",
       "      <th></th>\n",
       "      <th></th>\n",
       "      <th>ventas_totales</th>\n",
       "      <th>y_ventas_siguiente_mes</th>\n",
       "      <th>ventas_totales_en_tienda_de_cada_mes</th>\n",
       "      <th>ventas_promedio_en_tienda_de_cada_mes</th>\n",
       "      <th>ventas_totales_en_tienda_de_cada_sku</th>\n",
       "      <th>ventas_promedio_en_tienda_de_cada_sku</th>\n",
       "      <th>ventas_totales_1_mes_pasado</th>\n",
       "      <th>ventas_totales_2_meses_pasados</th>\n",
       "      <th>ventas_totales_3_meses_pasados</th>\n",
       "      <th>ventas_totales_tienda_y_mes_del_mes_pasado</th>\n",
       "      <th>...</th>\n",
       "      <th>ventas_promedio_tienda_y_mes_del_mes_pasado</th>\n",
       "      <th>ventas_promedio_tienda_y_mes_2_pasado</th>\n",
       "      <th>ventas_promedio_tienda_y_mes_3_pasado</th>\n",
       "      <th>ventas_totales_tienda_y_sku_del_mes_pasado</th>\n",
       "      <th>ventas_totales_tienda_y_sku_2_pasado</th>\n",
       "      <th>ventas_totales_tienda_y_sku_3_pasado</th>\n",
       "      <th>ventas_promedio_tienda_y_sku_del_mes_pasado</th>\n",
       "      <th>ventas_promedio_tienda_y_sku_2_pasado</th>\n",
       "      <th>ventas_promedio_tienda_y_sku_3_pasado</th>\n",
       "      <th>ventas_por_mes_pred</th>\n",
       "    </tr>\n",
       "    <tr>\n",
       "      <th>pdv_id</th>\n",
       "      <th>mes_id</th>\n",
       "      <th>sku_id</th>\n",
       "      <th></th>\n",
       "      <th></th>\n",
       "      <th></th>\n",
       "      <th></th>\n",
       "      <th></th>\n",
       "      <th></th>\n",
       "      <th></th>\n",
       "      <th></th>\n",
       "      <th></th>\n",
       "      <th></th>\n",
       "      <th></th>\n",
       "      <th></th>\n",
       "      <th></th>\n",
       "      <th></th>\n",
       "      <th></th>\n",
       "      <th></th>\n",
       "      <th></th>\n",
       "      <th></th>\n",
       "      <th></th>\n",
       "      <th></th>\n",
       "      <th></th>\n",
       "    </tr>\n",
       "  </thead>\n",
       "  <tbody>\n",
       "    <tr>\n",
       "      <th rowspan=\"5\" valign=\"top\">1</th>\n",
       "      <th rowspan=\"5\" valign=\"top\">1</th>\n",
       "      <th>1</th>\n",
       "      <td>0</td>\n",
       "      <td>0</td>\n",
       "      <td>1</td>\n",
       "      <td>0.027778</td>\n",
       "      <td>714</td>\n",
       "      <td>0.398438</td>\n",
       "      <td>1</td>\n",
       "      <td>1</td>\n",
       "      <td>1</td>\n",
       "      <td>2</td>\n",
       "      <td>...</td>\n",
       "      <td>0.055556</td>\n",
       "      <td>0.055556</td>\n",
       "      <td>0.055556</td>\n",
       "      <td>741</td>\n",
       "      <td>741</td>\n",
       "      <td>741</td>\n",
       "      <td>0.413504</td>\n",
       "      <td>0.413504</td>\n",
       "      <td>0.413504</td>\n",
       "      <td>0.0</td>\n",
       "    </tr>\n",
       "    <tr>\n",
       "      <th>2</th>\n",
       "      <td>0</td>\n",
       "      <td>0</td>\n",
       "      <td>1</td>\n",
       "      <td>0.027778</td>\n",
       "      <td>864</td>\n",
       "      <td>0.482143</td>\n",
       "      <td>1</td>\n",
       "      <td>1</td>\n",
       "      <td>1</td>\n",
       "      <td>2</td>\n",
       "      <td>...</td>\n",
       "      <td>0.055556</td>\n",
       "      <td>0.055556</td>\n",
       "      <td>0.055556</td>\n",
       "      <td>1208</td>\n",
       "      <td>1208</td>\n",
       "      <td>1208</td>\n",
       "      <td>0.674107</td>\n",
       "      <td>0.674107</td>\n",
       "      <td>0.674107</td>\n",
       "      <td>0.0</td>\n",
       "    </tr>\n",
       "    <tr>\n",
       "      <th>3</th>\n",
       "      <td>1</td>\n",
       "      <td>0</td>\n",
       "      <td>1</td>\n",
       "      <td>0.027778</td>\n",
       "      <td>862</td>\n",
       "      <td>0.481027</td>\n",
       "      <td>0</td>\n",
       "      <td>0</td>\n",
       "      <td>0</td>\n",
       "      <td>2</td>\n",
       "      <td>...</td>\n",
       "      <td>0.055556</td>\n",
       "      <td>0.055556</td>\n",
       "      <td>0.055556</td>\n",
       "      <td>0</td>\n",
       "      <td>0</td>\n",
       "      <td>0</td>\n",
       "      <td>0.000000</td>\n",
       "      <td>0.000000</td>\n",
       "      <td>0.000000</td>\n",
       "      <td>0.0</td>\n",
       "    </tr>\n",
       "    <tr>\n",
       "      <th>4</th>\n",
       "      <td>0</td>\n",
       "      <td>4</td>\n",
       "      <td>1</td>\n",
       "      <td>0.027778</td>\n",
       "      <td>694</td>\n",
       "      <td>0.387277</td>\n",
       "      <td>0</td>\n",
       "      <td>0</td>\n",
       "      <td>0</td>\n",
       "      <td>2</td>\n",
       "      <td>...</td>\n",
       "      <td>0.055556</td>\n",
       "      <td>0.055556</td>\n",
       "      <td>0.055556</td>\n",
       "      <td>0</td>\n",
       "      <td>0</td>\n",
       "      <td>0</td>\n",
       "      <td>0.000000</td>\n",
       "      <td>0.000000</td>\n",
       "      <td>0.000000</td>\n",
       "      <td>0.0</td>\n",
       "    </tr>\n",
       "    <tr>\n",
       "      <th>5</th>\n",
       "      <td>0</td>\n",
       "      <td>1</td>\n",
       "      <td>1</td>\n",
       "      <td>0.027778</td>\n",
       "      <td>1084</td>\n",
       "      <td>0.604911</td>\n",
       "      <td>0</td>\n",
       "      <td>0</td>\n",
       "      <td>0</td>\n",
       "      <td>2</td>\n",
       "      <td>...</td>\n",
       "      <td>0.055556</td>\n",
       "      <td>0.055556</td>\n",
       "      <td>0.055556</td>\n",
       "      <td>0</td>\n",
       "      <td>0</td>\n",
       "      <td>0</td>\n",
       "      <td>0.000000</td>\n",
       "      <td>0.000000</td>\n",
       "      <td>0.000000</td>\n",
       "      <td>0.0</td>\n",
       "    </tr>\n",
       "  </tbody>\n",
       "</table>\n",
       "<p>5 rows × 22 columns</p>\n",
       "</div>"
      ],
      "text/plain": [
       "                      ventas_totales  y_ventas_siguiente_mes  \\\n",
       "pdv_id mes_id sku_id                                           \n",
       "1      1      1                    0                       0   \n",
       "              2                    0                       0   \n",
       "              3                    1                       0   \n",
       "              4                    0                       4   \n",
       "              5                    0                       1   \n",
       "\n",
       "                      ventas_totales_en_tienda_de_cada_mes  \\\n",
       "pdv_id mes_id sku_id                                         \n",
       "1      1      1                                          1   \n",
       "              2                                          1   \n",
       "              3                                          1   \n",
       "              4                                          1   \n",
       "              5                                          1   \n",
       "\n",
       "                      ventas_promedio_en_tienda_de_cada_mes  \\\n",
       "pdv_id mes_id sku_id                                          \n",
       "1      1      1                                    0.027778   \n",
       "              2                                    0.027778   \n",
       "              3                                    0.027778   \n",
       "              4                                    0.027778   \n",
       "              5                                    0.027778   \n",
       "\n",
       "                      ventas_totales_en_tienda_de_cada_sku  \\\n",
       "pdv_id mes_id sku_id                                         \n",
       "1      1      1                                        714   \n",
       "              2                                        864   \n",
       "              3                                        862   \n",
       "              4                                        694   \n",
       "              5                                       1084   \n",
       "\n",
       "                      ventas_promedio_en_tienda_de_cada_sku  \\\n",
       "pdv_id mes_id sku_id                                          \n",
       "1      1      1                                    0.398438   \n",
       "              2                                    0.482143   \n",
       "              3                                    0.481027   \n",
       "              4                                    0.387277   \n",
       "              5                                    0.604911   \n",
       "\n",
       "                      ventas_totales_1_mes_pasado  \\\n",
       "pdv_id mes_id sku_id                                \n",
       "1      1      1                                 1   \n",
       "              2                                 1   \n",
       "              3                                 0   \n",
       "              4                                 0   \n",
       "              5                                 0   \n",
       "\n",
       "                      ventas_totales_2_meses_pasados  \\\n",
       "pdv_id mes_id sku_id                                   \n",
       "1      1      1                                    1   \n",
       "              2                                    1   \n",
       "              3                                    0   \n",
       "              4                                    0   \n",
       "              5                                    0   \n",
       "\n",
       "                      ventas_totales_3_meses_pasados  \\\n",
       "pdv_id mes_id sku_id                                   \n",
       "1      1      1                                    1   \n",
       "              2                                    1   \n",
       "              3                                    0   \n",
       "              4                                    0   \n",
       "              5                                    0   \n",
       "\n",
       "                      ventas_totales_tienda_y_mes_del_mes_pasado  ...  \\\n",
       "pdv_id mes_id sku_id                                              ...   \n",
       "1      1      1                                                2  ...   \n",
       "              2                                                2  ...   \n",
       "              3                                                2  ...   \n",
       "              4                                                2  ...   \n",
       "              5                                                2  ...   \n",
       "\n",
       "                      ventas_promedio_tienda_y_mes_del_mes_pasado  \\\n",
       "pdv_id mes_id sku_id                                                \n",
       "1      1      1                                          0.055556   \n",
       "              2                                          0.055556   \n",
       "              3                                          0.055556   \n",
       "              4                                          0.055556   \n",
       "              5                                          0.055556   \n",
       "\n",
       "                      ventas_promedio_tienda_y_mes_2_pasado  \\\n",
       "pdv_id mes_id sku_id                                          \n",
       "1      1      1                                    0.055556   \n",
       "              2                                    0.055556   \n",
       "              3                                    0.055556   \n",
       "              4                                    0.055556   \n",
       "              5                                    0.055556   \n",
       "\n",
       "                      ventas_promedio_tienda_y_mes_3_pasado  \\\n",
       "pdv_id mes_id sku_id                                          \n",
       "1      1      1                                    0.055556   \n",
       "              2                                    0.055556   \n",
       "              3                                    0.055556   \n",
       "              4                                    0.055556   \n",
       "              5                                    0.055556   \n",
       "\n",
       "                      ventas_totales_tienda_y_sku_del_mes_pasado  \\\n",
       "pdv_id mes_id sku_id                                               \n",
       "1      1      1                                              741   \n",
       "              2                                             1208   \n",
       "              3                                                0   \n",
       "              4                                                0   \n",
       "              5                                                0   \n",
       "\n",
       "                      ventas_totales_tienda_y_sku_2_pasado  \\\n",
       "pdv_id mes_id sku_id                                         \n",
       "1      1      1                                        741   \n",
       "              2                                       1208   \n",
       "              3                                          0   \n",
       "              4                                          0   \n",
       "              5                                          0   \n",
       "\n",
       "                      ventas_totales_tienda_y_sku_3_pasado  \\\n",
       "pdv_id mes_id sku_id                                         \n",
       "1      1      1                                        741   \n",
       "              2                                       1208   \n",
       "              3                                          0   \n",
       "              4                                          0   \n",
       "              5                                          0   \n",
       "\n",
       "                      ventas_promedio_tienda_y_sku_del_mes_pasado  \\\n",
       "pdv_id mes_id sku_id                                                \n",
       "1      1      1                                          0.413504   \n",
       "              2                                          0.674107   \n",
       "              3                                          0.000000   \n",
       "              4                                          0.000000   \n",
       "              5                                          0.000000   \n",
       "\n",
       "                      ventas_promedio_tienda_y_sku_2_pasado  \\\n",
       "pdv_id mes_id sku_id                                          \n",
       "1      1      1                                    0.413504   \n",
       "              2                                    0.674107   \n",
       "              3                                    0.000000   \n",
       "              4                                    0.000000   \n",
       "              5                                    0.000000   \n",
       "\n",
       "                      ventas_promedio_tienda_y_sku_3_pasado  \\\n",
       "pdv_id mes_id sku_id                                          \n",
       "1      1      1                                    0.413504   \n",
       "              2                                    0.674107   \n",
       "              3                                    0.000000   \n",
       "              4                                    0.000000   \n",
       "              5                                    0.000000   \n",
       "\n",
       "                      ventas_por_mes_pred  \n",
       "pdv_id mes_id sku_id                       \n",
       "1      1      1                       0.0  \n",
       "              2                       0.0  \n",
       "              3                       0.0  \n",
       "              4                       0.0  \n",
       "              5                       0.0  \n",
       "\n",
       "[5 rows x 22 columns]"
      ]
     },
     "execution_count": 75,
     "metadata": {},
     "output_type": "execute_result"
    }
   ],
   "source": [
    "prueba_1.head(5)"
   ]
  },
  {
   "cell_type": "code",
   "execution_count": 76,
   "metadata": {},
   "outputs": [
    {
     "name": "stdout",
     "output_type": "stream",
     "text": [
      "Mean Absolute Error: 0.260432\n",
      "Mean Squared Error: 0.810035\n",
      "R-squared scores: 0.02712\n"
     ]
    }
   ],
   "source": [
    "# 4. CALCULAR ERRORES CON FUNCIONES DE PAQUETERÍA\n",
    "\n",
    "# Mean absolute error (MAE)\n",
    "prueba1_mae = mean_absolute_error(prueba_1.y_ventas_siguiente_mes, prueba_1.ventas_por_mes_pred)\n",
    "\n",
    "# Mean squared error (MSE)\n",
    "prueba1_mse = mean_squared_error(prueba_1.y_ventas_siguiente_mes, prueba_1.ventas_por_mes_pred)\n",
    "\n",
    "# R-squared scores\n",
    "prueba1_r2 = r2_score(prueba_1.y_ventas_siguiente_mes, prueba_1.ventas_por_mes_pred)\n",
    "\n",
    "\n",
    "# Print metrics\n",
    "print('Mean Absolute Error:', round(prueba1_mae, 6))\n",
    "print('Mean Squared Error:', round(prueba1_mse, 6))\n",
    "print('R-squared scores:', round(prueba1_r2, 6))"
   ]
  },
  {
   "cell_type": "markdown",
   "metadata": {},
   "source": [
    ".. .. .. .. .. .. .. .. .. .. .. .. Segunda Partición .. .. .. .. .. .. .. .. .. .. .. .."
   ]
  },
  {
   "cell_type": "code",
   "execution_count": 77,
   "metadata": {},
   "outputs": [
    {
     "data": {
      "text/plain": [
       "array([0.14418906, 0.14418906, 0.14418906, ..., 0.14418906, 0.14418906,\n",
       "       0.14418906])"
      ]
     },
     "execution_count": 77,
     "metadata": {},
     "output_type": "execute_result"
    }
   ],
   "source": [
    "# 1. HACER PREDICCIONES: CALCULAR ERROR DE PRUEBA\n",
    "pred2_prueba = modelo_2.predict(prueba_x2) \n",
    "pred2_prueba"
   ]
  },
  {
   "cell_type": "code",
   "execution_count": 78,
   "metadata": {},
   "outputs": [
    {
     "data": {
      "text/plain": [
       "array([0., 0., 0., ..., 0., 0., 0.])"
      ]
     },
     "execution_count": 78,
     "metadata": {},
     "output_type": "execute_result"
    }
   ],
   "source": [
    "pred2_prueba = np.clip(pred2_prueba,0,20).round() #rango de valores \n",
    "pred2_prueba"
   ]
  },
  {
   "cell_type": "code",
   "execution_count": 79,
   "metadata": {},
   "outputs": [
    {
     "data": {
      "text/plain": [
       "6088.0"
      ]
     },
     "execution_count": 79,
     "metadata": {},
     "output_type": "execute_result"
    }
   ],
   "source": [
    "pred2_prueba.sum()"
   ]
  },
  {
   "cell_type": "code",
   "execution_count": 80,
   "metadata": {},
   "outputs": [],
   "source": [
    "prueba_2['ventas_por_mes_pred'] = pred2_prueba"
   ]
  },
  {
   "cell_type": "code",
   "execution_count": 81,
   "metadata": {},
   "outputs": [
    {
     "name": "stdout",
     "output_type": "stream",
     "text": [
      "Mean Absolute Error: 0.236886\n",
      "Mean Squared Error: 0.778181\n",
      "R-squared scores: 0.183533\n"
     ]
    }
   ],
   "source": [
    "# 4. CALCULAR ERRORES CON FUNCIONES DE PAQUETERÍA\n",
    "\n",
    "# Mean absolute error (MAE)\n",
    "prueba2_mae = mean_absolute_error(prueba_2.y_ventas_siguiente_mes, prueba_2.ventas_por_mes_pred)\n",
    "\n",
    "# Mean squared error (MSE)\n",
    "prueba2_mse = mean_squared_error(prueba_2.y_ventas_siguiente_mes, prueba_2.ventas_por_mes_pred)\n",
    "\n",
    "# R-squared scores\n",
    "prueba2_r2 = r2_score(prueba_2.y_ventas_siguiente_mes, prueba_2.ventas_por_mes_pred)\n",
    "\n",
    "\n",
    "# Print metrics\n",
    "print('Mean Absolute Error:', round(prueba2_mae, 6))\n",
    "print('Mean Squared Error:', round(prueba2_mse, 6))\n",
    "print('R-squared scores:', round(prueba2_r2, 6))"
   ]
  },
  {
   "cell_type": "code",
   "execution_count": null,
   "metadata": {},
   "outputs": [],
   "source": []
  },
  {
   "cell_type": "code",
   "execution_count": null,
   "metadata": {},
   "outputs": [],
   "source": []
  },
  {
   "cell_type": "markdown",
   "metadata": {},
   "source": [
    ".. .. .. .. .. .. .. .. .. .. .. .. Tercera Partición .. .. .. .. .. .. .. .. .. .. .. .."
   ]
  },
  {
   "cell_type": "code",
   "execution_count": 82,
   "metadata": {},
   "outputs": [
    {
     "data": {
      "text/plain": [
       "array([0.14418906, 0.14418906, 0.14418906, ..., 0.14418906, 0.14418906,\n",
       "       0.14418906])"
      ]
     },
     "execution_count": 82,
     "metadata": {},
     "output_type": "execute_result"
    }
   ],
   "source": [
    "pred3_prueba = modelo_2.predict(prueba_x3) \n",
    "pred3_prueba"
   ]
  },
  {
   "cell_type": "code",
   "execution_count": 83,
   "metadata": {},
   "outputs": [
    {
     "data": {
      "text/plain": [
       "array([0., 0., 0., ..., 0., 0., 0.])"
      ]
     },
     "execution_count": 83,
     "metadata": {},
     "output_type": "execute_result"
    }
   ],
   "source": [
    "pred3_prueba = np.clip(pred3_prueba,0,20).round() #rango de valores \n",
    "pred3_prueba"
   ]
  },
  {
   "cell_type": "code",
   "execution_count": 84,
   "metadata": {},
   "outputs": [
    {
     "data": {
      "text/plain": [
       "6944.0"
      ]
     },
     "execution_count": 84,
     "metadata": {},
     "output_type": "execute_result"
    }
   ],
   "source": [
    "pred3_prueba.sum()"
   ]
  },
  {
   "cell_type": "code",
   "execution_count": 85,
   "metadata": {},
   "outputs": [],
   "source": [
    "prueba_3['ventas_por_mes_pred'] = pred3_prueba"
   ]
  },
  {
   "cell_type": "code",
   "execution_count": 113,
   "metadata": {},
   "outputs": [
    {
     "name": "stdout",
     "output_type": "stream",
     "text": [
      "Mean Absolute Error: 0.217324\n",
      "Mean Squared Error: 0.926122\n",
      "R-squared scores: 0.213076\n"
     ]
    }
   ],
   "source": [
    "# 4. CALCULAR ERRORES CON FUNCIONES DE PAQUETERÍA\n",
    "\n",
    "# Mean absolute error (MAE)\n",
    "prueba3_mae = mean_absolute_error(prueba_3.y_ventas_siguiente_mes, prueba_3.ventas_por_mes_pred)\n",
    "\n",
    "# Mean squared error (MSE)\n",
    "prueba3_mse = mean_squared_error(prueba_3.y_ventas_siguiente_mes, prueba_3.ventas_por_mes_pred)\n",
    "\n",
    "# R-squared scores\n",
    "prueba3_r2 = r2_score(prueba_3.y_ventas_siguiente_mes, prueba_3.ventas_por_mes_pred)\n",
    "\n",
    "\n",
    "# Print metrics\n",
    "print('Mean Absolute Error:', round(prueba3_mae, 6))\n",
    "print('Mean Squared Error:', round(prueba3_mse, 6))\n",
    "print('R-squared scores:', round(prueba3_r2, 6))"
   ]
  },
  {
   "cell_type": "code",
   "execution_count": null,
   "metadata": {},
   "outputs": [],
   "source": []
  },
  {
   "cell_type": "code",
   "execution_count": null,
   "metadata": {},
   "outputs": [],
   "source": []
  },
  {
   "cell_type": "markdown",
   "metadata": {},
   "source": [
    ".. .. .. .. .. .. .. .. .. .. .. .. Cuarta Partición .. .. .. .. .. .. .. .. .. .. .. .."
   ]
  },
  {
   "cell_type": "code",
   "execution_count": 87,
   "metadata": {},
   "outputs": [
    {
     "data": {
      "text/plain": [
       "array([0.16303961, 0.16303961, 0.16303961, ..., 0.16303961, 0.16303961,\n",
       "       0.16303961])"
      ]
     },
     "execution_count": 87,
     "metadata": {},
     "output_type": "execute_result"
    }
   ],
   "source": [
    "pred4_prueba = modelo_4.predict(prueba_x4) \n",
    "pred4_prueba"
   ]
  },
  {
   "cell_type": "code",
   "execution_count": 88,
   "metadata": {},
   "outputs": [
    {
     "data": {
      "text/plain": [
       "array([0., 0., 0., ..., 0., 0., 0.])"
      ]
     },
     "execution_count": 88,
     "metadata": {},
     "output_type": "execute_result"
    }
   ],
   "source": [
    "pred4_prueba = np.clip(pred2_prueba,0,20).round() #rango de valores \n",
    "pred4_prueba"
   ]
  },
  {
   "cell_type": "code",
   "execution_count": 89,
   "metadata": {},
   "outputs": [
    {
     "data": {
      "text/plain": [
       "6088.0"
      ]
     },
     "execution_count": 89,
     "metadata": {},
     "output_type": "execute_result"
    }
   ],
   "source": [
    "pred4_prueba.sum()"
   ]
  },
  {
   "cell_type": "code",
   "execution_count": 90,
   "metadata": {},
   "outputs": [],
   "source": [
    "prueba_4['ventas_por_mes_pred'] = pred4_prueba"
   ]
  },
  {
   "cell_type": "code",
   "execution_count": 91,
   "metadata": {},
   "outputs": [
    {
     "name": "stdout",
     "output_type": "stream",
     "text": [
      "Mean Absolute Error: 0.327753\n",
      "Mean Squared Error: 1.563213\n",
      "R-squared scores: 0.119206\n"
     ]
    }
   ],
   "source": [
    "# 4. CALCULAR ERRORES CON FUNCIONES DE PAQUETERÍA\n",
    "\n",
    "# Mean absolute error (MAE)\n",
    "prueba4_mae = mean_absolute_error(prueba_4.y_ventas_siguiente_mes, prueba_4.ventas_por_mes_pred)\n",
    "\n",
    "# Mean squared error (MSE)\n",
    "prueba4_mse = mean_squared_error(prueba_4.y_ventas_siguiente_mes, prueba_4.ventas_por_mes_pred)\n",
    "\n",
    "# R-squared scores\n",
    "prueba4_r4 = r2_score(prueba_4.y_ventas_siguiente_mes, prueba_4.ventas_por_mes_pred)\n",
    "\n",
    "\n",
    "# Print metrics\n",
    "print('Mean Absolute Error:', round(prueba4_mae, 6))\n",
    "print('Mean Squared Error:', round(prueba4_mse, 6))\n",
    "print('R-squared scores:', round(prueba4_r4, 6))"
   ]
  },
  {
   "cell_type": "code",
   "execution_count": null,
   "metadata": {},
   "outputs": [],
   "source": []
  },
  {
   "cell_type": "code",
   "execution_count": null,
   "metadata": {},
   "outputs": [],
   "source": []
  },
  {
   "cell_type": "markdown",
   "metadata": {},
   "source": [
    ".. .. .. .. .. .. .. .. .. .. .. .. Quinta Partición .. .. .. .. .. .. .. .. .. .. .. .."
   ]
  },
  {
   "cell_type": "code",
   "execution_count": 92,
   "metadata": {},
   "outputs": [
    {
     "data": {
      "text/plain": [
       "array([0.19266345, 0.19266345, 0.19266345, ..., 0.19266345, 0.19266345,\n",
       "       0.19266345])"
      ]
     },
     "execution_count": 92,
     "metadata": {},
     "output_type": "execute_result"
    }
   ],
   "source": [
    "pred5_prueba = modelo_5.predict(prueba_x5) \n",
    "pred5_prueba"
   ]
  },
  {
   "cell_type": "code",
   "execution_count": 93,
   "metadata": {},
   "outputs": [
    {
     "data": {
      "text/plain": [
       "array([0., 0., 0., ..., 0., 0., 0.])"
      ]
     },
     "execution_count": 93,
     "metadata": {},
     "output_type": "execute_result"
    }
   ],
   "source": [
    "pred5_prueba = np.clip(pred5_prueba,0,20).round() #rango de valores \n",
    "pred5_prueba"
   ]
  },
  {
   "cell_type": "code",
   "execution_count": 94,
   "metadata": {},
   "outputs": [
    {
     "data": {
      "text/plain": [
       "7445.0"
      ]
     },
     "execution_count": 94,
     "metadata": {},
     "output_type": "execute_result"
    }
   ],
   "source": [
    "pred5_prueba.sum()"
   ]
  },
  {
   "cell_type": "code",
   "execution_count": 95,
   "metadata": {},
   "outputs": [],
   "source": [
    "prueba_5['ventas_por_mes_pred'] = pred5_prueba"
   ]
  },
  {
   "cell_type": "code",
   "execution_count": 96,
   "metadata": {},
   "outputs": [
    {
     "name": "stdout",
     "output_type": "stream",
     "text": [
      "Mean Absolute Error: 0.505704\n",
      "Mean Squared Error: 2.692646\n",
      "R-squared scores: 0.091875\n"
     ]
    }
   ],
   "source": [
    "# 4. CALCULAR ERRORES CON FUNCIONES DE PAQUETERÍA\n",
    "\n",
    "# Mean absolute error (MAE)\n",
    "prueba5_mae = mean_absolute_error(prueba_5.y_ventas_siguiente_mes, prueba_5.ventas_por_mes_pred)\n",
    "\n",
    "# Mean squared error (MSE)\n",
    "prueba5_mse = mean_squared_error(prueba_5.y_ventas_siguiente_mes, prueba_5.ventas_por_mes_pred)\n",
    "\n",
    "# R-squared scores\n",
    "prueba5_r5 = r2_score(prueba_5.y_ventas_siguiente_mes, prueba_5.ventas_por_mes_pred)\n",
    "\n",
    "\n",
    "# Print metrics\n",
    "print('Mean Absolute Error:', round(prueba5_mae, 6))\n",
    "print('Mean Squared Error:', round(prueba5_mse, 6))\n",
    "print('R-squared scores:', round(prueba5_r5, 6))"
   ]
  },
  {
   "cell_type": "code",
   "execution_count": null,
   "metadata": {},
   "outputs": [],
   "source": []
  },
  {
   "cell_type": "code",
   "execution_count": null,
   "metadata": {},
   "outputs": [],
   "source": []
  },
  {
   "cell_type": "markdown",
   "metadata": {},
   "source": [
    ".. .. .. .. .. .. .. .. .. .. .. .. Sexta Partición .. .. .. .. .. .. .. .. .. .. .. .."
   ]
  },
  {
   "cell_type": "code",
   "execution_count": 97,
   "metadata": {},
   "outputs": [
    {
     "data": {
      "text/plain": [
       "array([0.23022018, 0.23022018, 0.23022018, ..., 0.23022018, 0.23022018,\n",
       "       0.23022018])"
      ]
     },
     "execution_count": 97,
     "metadata": {},
     "output_type": "execute_result"
    }
   ],
   "source": [
    "pred6_prueba = modelo_6.predict(prueba_x6) \n",
    "pred6_prueba"
   ]
  },
  {
   "cell_type": "code",
   "execution_count": 98,
   "metadata": {},
   "outputs": [
    {
     "data": {
      "text/plain": [
       "array([0., 0., 0., ..., 0., 0., 0.])"
      ]
     },
     "execution_count": 98,
     "metadata": {},
     "output_type": "execute_result"
    }
   ],
   "source": [
    "pred6_prueba = np.clip(pred6_prueba,0,20).round() #rango de valores \n",
    "pred6_prueba"
   ]
  },
  {
   "cell_type": "code",
   "execution_count": 99,
   "metadata": {},
   "outputs": [
    {
     "data": {
      "text/plain": [
       "13170.0"
      ]
     },
     "execution_count": 99,
     "metadata": {},
     "output_type": "execute_result"
    }
   ],
   "source": [
    "pred6_prueba.sum()"
   ]
  },
  {
   "cell_type": "code",
   "execution_count": 100,
   "metadata": {},
   "outputs": [],
   "source": [
    "\n",
    "prueba_6['ventas_por_mes_pred'] = pred6_prueba"
   ]
  },
  {
   "cell_type": "code",
   "execution_count": 101,
   "metadata": {},
   "outputs": [
    {
     "name": "stdout",
     "output_type": "stream",
     "text": [
      "Mean Absolute Error: 0.334418\n",
      "Mean Squared Error: 1.143322\n",
      "R-squared scores: -0.493387\n"
     ]
    }
   ],
   "source": [
    "# 4. CALCULAR ERRORES CON FUNCIONES DE PAQUETERÍA\n",
    "\n",
    "# Mean absolute error (MAE)\n",
    "prueba6_mae = mean_absolute_error(prueba_6.y_ventas_siguiente_mes, prueba_6.ventas_por_mes_pred)\n",
    "\n",
    "# Mean squared error (MSE)\n",
    "prueba6_mse = mean_squared_error(prueba_6.y_ventas_siguiente_mes, prueba_6.ventas_por_mes_pred)\n",
    "\n",
    "# R-squared scores\n",
    "prueba6_r6 = r2_score(prueba_6.y_ventas_siguiente_mes, prueba_6.ventas_por_mes_pred)\n",
    "\n",
    "\n",
    "# Print metrics\n",
    "print('Mean Absolute Error:', round(prueba6_mae, 6))\n",
    "print('Mean Squared Error:', round(prueba6_mse, 6))\n",
    "print('R-squared scores:', round(prueba6_r6, 6))"
   ]
  },
  {
   "cell_type": "code",
   "execution_count": null,
   "metadata": {},
   "outputs": [],
   "source": []
  },
  {
   "cell_type": "code",
   "execution_count": null,
   "metadata": {},
   "outputs": [],
   "source": []
  },
  {
   "cell_type": "markdown",
   "metadata": {},
   "source": [
    ".. .. .. .. .. .. .. .. .. .. .. .. Séptima Partición .. .. .. .. .. .. .. .. .. .. .. .."
   ]
  },
  {
   "cell_type": "code",
   "execution_count": 102,
   "metadata": {},
   "outputs": [
    {
     "data": {
      "text/plain": [
       "array([0.20470923, 0.20470923, 0.20470923, ..., 0.20470923, 0.20470923,\n",
       "       0.20470923])"
      ]
     },
     "execution_count": 102,
     "metadata": {},
     "output_type": "execute_result"
    }
   ],
   "source": [
    "pred7_prueba = modelo_7.predict(prueba_x7) \n",
    "pred7_prueba"
   ]
  },
  {
   "cell_type": "code",
   "execution_count": 103,
   "metadata": {},
   "outputs": [
    {
     "data": {
      "text/plain": [
       "array([0., 0., 0., ..., 0., 0., 0.])"
      ]
     },
     "execution_count": 103,
     "metadata": {},
     "output_type": "execute_result"
    }
   ],
   "source": [
    "pred7_prueba = np.clip(pred7_prueba,0,20).round() #rango de valores \n",
    "pred7_prueba"
   ]
  },
  {
   "cell_type": "code",
   "execution_count": 104,
   "metadata": {},
   "outputs": [
    {
     "data": {
      "text/plain": [
       "4857.0"
      ]
     },
     "execution_count": 104,
     "metadata": {},
     "output_type": "execute_result"
    }
   ],
   "source": [
    "pred7_prueba.sum()"
   ]
  },
  {
   "cell_type": "code",
   "execution_count": 105,
   "metadata": {},
   "outputs": [],
   "source": [
    "prueba_7['ventas_por_mes_pred'] = pred7_prueba"
   ]
  },
  {
   "cell_type": "code",
   "execution_count": 106,
   "metadata": {},
   "outputs": [
    {
     "name": "stdout",
     "output_type": "stream",
     "text": [
      "Mean Absolute Error: 0.164931\n",
      "Mean Squared Error: 0.38892\n",
      "R-squared scores: -0.225177\n"
     ]
    }
   ],
   "source": [
    "# 4. CALCULAR ERRORES CON FUNCIONES DE PAQUETERÍA\n",
    "\n",
    "# Mean absolute error (MAE)\n",
    "prueba7_mae = mean_absolute_error(prueba_7.y_ventas_siguiente_mes, prueba_7.ventas_por_mes_pred)\n",
    "\n",
    "# Mean squared error (MSE)\n",
    "prueba7_mse = mean_squared_error(prueba_7.y_ventas_siguiente_mes, prueba_7.ventas_por_mes_pred)\n",
    "\n",
    "# R-squared scores\n",
    "prueba7_r7 = r2_score(prueba_7.y_ventas_siguiente_mes, prueba_7.ventas_por_mes_pred)\n",
    "\n",
    "\n",
    "# Print metrics\n",
    "print('Mean Absolute Error:', round(prueba7_mae, 6))\n",
    "print('Mean Squared Error:', round(prueba7_mse, 6))\n",
    "print('R-squared scores:', round(prueba7_r7, 6))"
   ]
  },
  {
   "cell_type": "code",
   "execution_count": null,
   "metadata": {},
   "outputs": [],
   "source": []
  },
  {
   "cell_type": "code",
   "execution_count": null,
   "metadata": {},
   "outputs": [],
   "source": []
  },
  {
   "cell_type": "markdown",
   "metadata": {},
   "source": [
    ".. .. .. .. .. .. .. .. .. .. .. .. Octava Partición .. .. .. .. .. .. .. .. .. .. .. .."
   ]
  },
  {
   "cell_type": "code",
   "execution_count": 107,
   "metadata": {},
   "outputs": [
    {
     "data": {
      "text/plain": [
       "array([0.19245822, 0.19245822, 0.19245822, ..., 0.19245822, 0.19245822,\n",
       "       0.19245822])"
      ]
     },
     "execution_count": 107,
     "metadata": {},
     "output_type": "execute_result"
    }
   ],
   "source": [
    "pred8_prueba = modelo_8.predict(prueba_x7) \n",
    "pred8_prueba"
   ]
  },
  {
   "cell_type": "code",
   "execution_count": 108,
   "metadata": {},
   "outputs": [
    {
     "data": {
      "text/plain": [
       "array([0., 0., 0., ..., 0., 0., 0.])"
      ]
     },
     "execution_count": 108,
     "metadata": {},
     "output_type": "execute_result"
    }
   ],
   "source": [
    "pred8_prueba = np.clip(pred8_prueba,0,20).round() #rango de valores \n",
    "pred8_prueba"
   ]
  },
  {
   "cell_type": "code",
   "execution_count": 109,
   "metadata": {},
   "outputs": [
    {
     "data": {
      "text/plain": [
       "4857.0"
      ]
     },
     "execution_count": 109,
     "metadata": {},
     "output_type": "execute_result"
    }
   ],
   "source": [
    "pred8_prueba.sum()"
   ]
  },
  {
   "cell_type": "code",
   "execution_count": 110,
   "metadata": {},
   "outputs": [],
   "source": [
    "prueba_8['ventas_por_mes_pred'] = pred8_prueba"
   ]
  },
  {
   "cell_type": "code",
   "execution_count": 111,
   "metadata": {},
   "outputs": [
    {
     "name": "stdout",
     "output_type": "stream",
     "text": [
      "Mean Absolute Error: 0.115978\n",
      "Mean Squared Error: 0.278522\n",
      "R-squared scores: -0.879687\n"
     ]
    }
   ],
   "source": [
    "# 4. CALCULAR ERRORES CON FUNCIONES DE PAQUETERÍA\n",
    "\n",
    "# Mean absolute error (MAE)\n",
    "prueba8_mae = mean_absolute_error(prueba_8.y_ventas_siguiente_mes, prueba_8.ventas_por_mes_pred)\n",
    "\n",
    "# Mean squared error (MSE)\n",
    "prueba8_mse = mean_squared_error(prueba_8.y_ventas_siguiente_mes, prueba_8.ventas_por_mes_pred)\n",
    "\n",
    "# R-squared scores\n",
    "prueba8_r8 = r2_score(prueba_8.y_ventas_siguiente_mes, prueba_8.ventas_por_mes_pred)\n",
    "\n",
    "\n",
    "# Print metrics\n",
    "print('Mean Absolute Error:', round(prueba8_mae, 6))\n",
    "print('Mean Squared Error:', round(prueba8_mse, 6))\n",
    "print('R-squared scores:', round(prueba8_r8, 6))"
   ]
  },
  {
   "cell_type": "code",
   "execution_count": null,
   "metadata": {},
   "outputs": [],
   "source": []
  },
  {
   "cell_type": "code",
   "execution_count": null,
   "metadata": {},
   "outputs": [],
   "source": []
  },
  {
   "cell_type": "markdown",
   "metadata": {},
   "source": [
    "# PARTE 4. RESULTADOS"
   ]
  },
  {
   "cell_type": "markdown",
   "metadata": {},
   "source": [
    "__Este es solo un ejemplo__"
   ]
  },
  {
   "cell_type": "markdown",
   "metadata": {},
   "source": [
    "1. Registrar los datos manualmente en un excel y tomar en consideración las observaciones en azul (el renglón azul no se copia en el registro)"
   ]
  },
  {
   "attachments": {
    "ejemplo_resultados_finales.PNG": {
     "image/png": "[encoded data removed]"
    }
   },
   "cell_type": "markdown",
   "metadata": {},
   "source": [
    "![ejemplo_resultados_finales.PNG](attachment:ejemplo_resultados_finales.PNG)"
   ]
  },
  {
   "cell_type": "markdown",
   "metadata": {},
   "source": [
    "2. En un script NUEVO de python se lee el archivo con los registros de errores"
   ]
  },
  {
   "cell_type": "code",
   "execution_count": 167,
   "metadata": {},
   "outputs": [],
   "source": [
    "# Leer los datos \n",
    "errores = pd.read_csv('resultados_finales_metricas.csv')"
   ]
  },
  {
   "cell_type": "code",
   "execution_count": 168,
   "metadata": {},
   "outputs": [
    {
     "data": {
      "text/html": [
       "<div>\n",
       "<style scoped>\n",
       "    .dataframe tbody tr th:only-of-type {\n",
       "        vertical-align: middle;\n",
       "    }\n",
       "\n",
       "    .dataframe tbody tr th {\n",
       "        vertical-align: top;\n",
       "    }\n",
       "\n",
       "    .dataframe thead th {\n",
       "        text-align: right;\n",
       "    }\n",
       "</style>\n",
       "<table border=\"1\" class=\"dataframe\">\n",
       "  <thead>\n",
       "    <tr style=\"text-align: right;\">\n",
       "      <th></th>\n",
       "      <th>Metrica</th>\n",
       "      <th>Conjunto</th>\n",
       "      <th>Mes</th>\n",
       "      <th>Modelo_base</th>\n",
       "      <th>dt_1_profundidad</th>\n",
       "      <th>dt_3_profundidad</th>\n",
       "    </tr>\n",
       "  </thead>\n",
       "  <tbody>\n",
       "    <tr>\n",
       "      <th>0</th>\n",
       "      <td>mae</td>\n",
       "      <td>entrenamiento</td>\n",
       "      <td>Julio</td>\n",
       "      <td>0.00</td>\n",
       "      <td>0.201776</td>\n",
       "      <td>0.201497</td>\n",
       "    </tr>\n",
       "    <tr>\n",
       "      <th>1</th>\n",
       "      <td>mae</td>\n",
       "      <td>entrenamiento</td>\n",
       "      <td>Agosto</td>\n",
       "      <td>0.00</td>\n",
       "      <td>0.194739</td>\n",
       "      <td>0.184803</td>\n",
       "    </tr>\n",
       "    <tr>\n",
       "      <th>2</th>\n",
       "      <td>mae</td>\n",
       "      <td>entrenamiento</td>\n",
       "      <td>Septiembre</td>\n",
       "      <td>0.00</td>\n",
       "      <td>0.206256</td>\n",
       "      <td>0.195333</td>\n",
       "    </tr>\n",
       "    <tr>\n",
       "      <th>3</th>\n",
       "      <td>mae</td>\n",
       "      <td>entrenamiento</td>\n",
       "      <td>Octubre</td>\n",
       "      <td>0.00</td>\n",
       "      <td>0.208248</td>\n",
       "      <td>0.197940</td>\n",
       "    </tr>\n",
       "    <tr>\n",
       "      <th>4</th>\n",
       "      <td>mae</td>\n",
       "      <td>entrenamiento</td>\n",
       "      <td>Noviembre</td>\n",
       "      <td>0.00</td>\n",
       "      <td>0.230360</td>\n",
       "      <td>0.236703</td>\n",
       "    </tr>\n",
       "    <tr>\n",
       "      <th>5</th>\n",
       "      <td>mae</td>\n",
       "      <td>entrenamiento</td>\n",
       "      <td>Diciembre</td>\n",
       "      <td>0.00</td>\n",
       "      <td>0.276251</td>\n",
       "      <td>0.279987</td>\n",
       "    </tr>\n",
       "    <tr>\n",
       "      <th>6</th>\n",
       "      <td>mae</td>\n",
       "      <td>entrenamiento</td>\n",
       "      <td>Enero</td>\n",
       "      <td>0.00</td>\n",
       "      <td>0.276183</td>\n",
       "      <td>0.285721</td>\n",
       "    </tr>\n",
       "    <tr>\n",
       "      <th>7</th>\n",
       "      <td>mae</td>\n",
       "      <td>entrenamiento</td>\n",
       "      <td>Febrero</td>\n",
       "      <td>0.00</td>\n",
       "      <td>0.262277</td>\n",
       "      <td>0.274972</td>\n",
       "    </tr>\n",
       "    <tr>\n",
       "      <th>8</th>\n",
       "      <td>mae</td>\n",
       "      <td>prueba</td>\n",
       "      <td>Agosto</td>\n",
       "      <td>0.24</td>\n",
       "      <td>0.260432</td>\n",
       "      <td>0.269485</td>\n",
       "    </tr>\n",
       "    <tr>\n",
       "      <th>9</th>\n",
       "      <td>mae</td>\n",
       "      <td>prueba</td>\n",
       "      <td>Septiembre</td>\n",
       "      <td>0.25</td>\n",
       "      <td>0.236886</td>\n",
       "      <td>0.233321</td>\n",
       "    </tr>\n",
       "    <tr>\n",
       "      <th>10</th>\n",
       "      <td>mae</td>\n",
       "      <td>prueba</td>\n",
       "      <td>Octubre</td>\n",
       "      <td>0.24</td>\n",
       "      <td>0.217324</td>\n",
       "      <td>0.233321</td>\n",
       "    </tr>\n",
       "    <tr>\n",
       "      <th>11</th>\n",
       "      <td>mae</td>\n",
       "      <td>prueba</td>\n",
       "      <td>Noviembre</td>\n",
       "      <td>0.29</td>\n",
       "      <td>0.327753</td>\n",
       "      <td>0.328807</td>\n",
       "    </tr>\n",
       "    <tr>\n",
       "      <th>12</th>\n",
       "      <td>mae</td>\n",
       "      <td>prueba</td>\n",
       "      <td>Diciembre</td>\n",
       "      <td>0.53</td>\n",
       "      <td>0.505704</td>\n",
       "      <td>0.510913</td>\n",
       "    </tr>\n",
       "    <tr>\n",
       "      <th>13</th>\n",
       "      <td>mae</td>\n",
       "      <td>prueba</td>\n",
       "      <td>Enero</td>\n",
       "      <td>0.51</td>\n",
       "      <td>0.334418</td>\n",
       "      <td>0.457062</td>\n",
       "    </tr>\n",
       "    <tr>\n",
       "      <th>14</th>\n",
       "      <td>mae</td>\n",
       "      <td>prueba</td>\n",
       "      <td>Febrero</td>\n",
       "      <td>0.27</td>\n",
       "      <td>0.164931</td>\n",
       "      <td>0.233476</td>\n",
       "    </tr>\n",
       "    <tr>\n",
       "      <th>15</th>\n",
       "      <td>mae</td>\n",
       "      <td>prueba</td>\n",
       "      <td>Marzo</td>\n",
       "      <td>0.15</td>\n",
       "      <td>0.115978</td>\n",
       "      <td>0.193096</td>\n",
       "    </tr>\n",
       "  </tbody>\n",
       "</table>\n",
       "</div>"
      ],
      "text/plain": [
       "   Metrica       Conjunto         Mes  Modelo_base  dt_1_profundidad  \\\n",
       "0      mae  entrenamiento       Julio         0.00          0.201776   \n",
       "1      mae  entrenamiento      Agosto         0.00          0.194739   \n",
       "2      mae  entrenamiento  Septiembre         0.00          0.206256   \n",
       "3      mae  entrenamiento     Octubre         0.00          0.208248   \n",
       "4      mae  entrenamiento   Noviembre         0.00          0.230360   \n",
       "5      mae  entrenamiento   Diciembre         0.00          0.276251   \n",
       "6      mae  entrenamiento       Enero         0.00          0.276183   \n",
       "7      mae  entrenamiento     Febrero         0.00          0.262277   \n",
       "8      mae         prueba      Agosto         0.24          0.260432   \n",
       "9      mae         prueba  Septiembre         0.25          0.236886   \n",
       "10     mae         prueba     Octubre         0.24          0.217324   \n",
       "11     mae         prueba   Noviembre         0.29          0.327753   \n",
       "12     mae         prueba   Diciembre         0.53          0.505704   \n",
       "13     mae         prueba       Enero         0.51          0.334418   \n",
       "14     mae         prueba     Febrero         0.27          0.164931   \n",
       "15     mae         prueba       Marzo         0.15          0.115978   \n",
       "\n",
       "    dt_3_profundidad  \n",
       "0           0.201497  \n",
       "1           0.184803  \n",
       "2           0.195333  \n",
       "3           0.197940  \n",
       "4           0.236703  \n",
       "5           0.279987  \n",
       "6           0.285721  \n",
       "7           0.274972  \n",
       "8           0.269485  \n",
       "9           0.233321  \n",
       "10          0.233321  \n",
       "11          0.328807  \n",
       "12          0.510913  \n",
       "13          0.457062  \n",
       "14          0.233476  \n",
       "15          0.193096  "
      ]
     },
     "execution_count": 168,
     "metadata": {},
     "output_type": "execute_result"
    }
   ],
   "source": [
    "errores['Modelo_base'] = pd.to_numeric(errores['Modelo_base'])\n",
    "\n",
    "errores"
   ]
  },
  {
   "cell_type": "code",
   "execution_count": 169,
   "metadata": {},
   "outputs": [
    {
     "data": {
      "text/plain": [
       "Metrica              object\n",
       "Conjunto             object\n",
       "Mes                  object\n",
       "Modelo_base         float64\n",
       "dt_1_profundidad    float64\n",
       "dt_3_profundidad    float64\n",
       "dtype: object"
      ]
     },
     "execution_count": 169,
     "metadata": {},
     "output_type": "execute_result"
    }
   ],
   "source": [
    "errores.dtypes"
   ]
  },
  {
   "cell_type": "code",
   "execution_count": 170,
   "metadata": {},
   "outputs": [],
   "source": [
    "#Filtrar por entrenamiento y prueba\n",
    "errores_ent= errores[errores['Conjunto']=='entrenamiento']\n",
    "errores_prueba= errores[errores['Conjunto']=='prueba']"
   ]
  },
  {
   "cell_type": "code",
   "execution_count": 171,
   "metadata": {},
   "outputs": [],
   "source": [
    "#Filtrar los conjuntos anteriores por métrica \n",
    "errores_ent_mae= errores_ent[errores_ent['Metrica']=='mae']\n",
    "\n",
    "errores_prueba_mae= errores_prueba[errores_prueba['Metrica']=='mae']\n",
    "\n"
   ]
  },
  {
   "cell_type": "code",
   "execution_count": 172,
   "metadata": {},
   "outputs": [],
   "source": [
    "errores_ent_mae['Modelo_base'] = pd.to_numeric(errores_ent_mae['Modelo_base'])\n",
    "\n",
    "errores_prueba_mae['Modelo_base'] = pd.to_numeric(errores_prueba_mae['Modelo_base'])"
   ]
  },
  {
   "cell_type": "code",
   "execution_count": 173,
   "metadata": {},
   "outputs": [
    {
     "data": {
      "image/png": "[encoded data removed]",
      "text/plain": [
       "<Figure size 1080x720 with 1 Axes>"
      ]
     },
     "metadata": {
      "needs_background": "light"
     },
     "output_type": "display_data"
    }
   ],
   "source": [
    "# Gráfica de errores de ENTRENAMIENTO \n",
    "plt.figure(figsize=(15,10))\n",
    "plt.subplot(3, 1, 1)\n",
    "plt.plot(errores_ent_mae.Mes, errores_ent_mae.Modelo_base,'o-',color=\"red\") #no aplica para entrenamiento\n",
    "plt.plot(errores_ent_mae.Mes, errores_ent_mae.dt_1_profundidad,'o-', color=\"darkgreen\")\n",
    "plt.plot(errores_ent_mae.Mes, errores_ent_mae.dt_3_profundidad,'o-', color=\"orange\")\n",
    "plt.legend(['MAE modelo base - Pedir el promedio de 2 meses','MAE Árbol de Decisión - 1 profundidad','MAE Árbol de Decisión - 3 profundidad'])\n",
    "plt.ylim(0.010, 0.30)\n",
    "plt.ylabel('Mae')\n",
    "plt.title('Error Absoluto Medio de todos los Modelos')\n",
    "\n",
    "\n",
    "plt.show()"
   ]
  },
  {
   "cell_type": "code",
   "execution_count": 174,
   "metadata": {},
   "outputs": [
    {
     "data": {
      "image/png": "[encoded data removed]",
      "text/plain": [
       "<Figure size 1080x720 with 1 Axes>"
      ]
     },
     "metadata": {
      "needs_background": "light"
     },
     "output_type": "display_data"
    }
   ],
   "source": [
    "# Gráfica de errores de PRUEBA \n",
    "plt.figure(figsize=(15,10))\n",
    "plt.subplot(3, 1, 1)\n",
    "plt.plot(errores_prueba_mae.Mes, errores_prueba_mae.Modelo_base,'o-',color=\"red\") #SI aplica para entrenamiento\n",
    "plt.plot(errores_prueba_mae.Mes, errores_prueba_mae.dt_1_profundidad,'o-', color=\"darkgreen\")\n",
    "plt.plot(errores_prueba_mae.Mes, errores_prueba_mae.dt_3_profundidad,'o-', color=\"orange\")\n",
    "plt.legend(['MAE modelo base - Pedir el promedio de 2 meses','MAE Árbol de Decisión - 1 profundidad','MAE Árbol de Decisión - 3 profundidad'])\n",
    "#plt.ylim(0.10, 0.7)\n",
    "plt.ylabel('Mae')\n",
    "plt.title('Error Absoluto Medio de todos los Modelos')\n",
    "\n",
    "\n",
    "\n",
    "plt.show()"
   ]
  },
  {
   "cell_type": "code",
   "execution_count": 165,
   "metadata": {},
   "outputs": [
    {
     "data": {
      "text/plain": [
       "Metrica              object\n",
       "Conjunto             object\n",
       "Mes                  object\n",
       "Modelo_base          object\n",
       "dt_1_profundidad    float64\n",
       "dt_3_profundidad    float64\n",
       "dtype: object"
      ]
     },
     "execution_count": 165,
     "metadata": {},
     "output_type": "execute_result"
    }
   ],
   "source": [
    "errores_prueba_mae.dtypes"
   ]
  },
  {
   "cell_type": "code",
   "execution_count": null,
   "metadata": {},
   "outputs": [],
   "source": []
  }
 ],
 "metadata": {
  "kernelspec": {
   "display_name": "Python 3",
   "language": "python",
   "name": "python3"
  },
  "language_info": {
   "codemirror_mode": {
    "name": "ipython",
    "version": 3
   },
   "file_extension": ".py",
   "mimetype": "text/x-python",
   "name": "python",
   "nbconvert_exporter": "python",
   "pygments_lexer": "ipython3",
   "version": "3.8.8"
  }
 },
 "nbformat": 4,
 "nbformat_minor": 2
}
